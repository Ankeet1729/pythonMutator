{
 "cells": [
  {
   "cell_type": "code",
   "execution_count": 1096,
   "metadata": {},
   "outputs": [],
   "source": [
    "import ast\n",
    "def print_ast(src):\n",
    "    print(ast.dump(src, indent=4))\n",
    "def print_code(src):\n",
    "    print(ast.unparse(ast.fix_missing_locations(src)))"
   ]
  },
  {
   "cell_type": "code",
   "execution_count": 1097,
   "metadata": {},
   "outputs": [],
   "source": [
    "def simple_function(x):\n",
    "    y = 3 * x\n",
    "    print(y)"
   ]
  },
  {
   "cell_type": "code",
   "execution_count": 1098,
   "metadata": {},
   "outputs": [],
   "source": [
    "import inspect"
   ]
  },
  {
   "cell_type": "code",
   "execution_count": 1099,
   "metadata": {},
   "outputs": [],
   "source": [
    "tree = ast.parse(inspect.getsource(simple_function))"
   ]
  },
  {
   "cell_type": "code",
   "execution_count": 1100,
   "metadata": {},
   "outputs": [
    {
     "name": "stdout",
     "output_type": "stream",
     "text": [
      "Module(\n",
      "    body=[\n",
      "        FunctionDef(\n",
      "            name='simple_function',\n",
      "            args=arguments(\n",
      "                posonlyargs=[],\n",
      "                args=[\n",
      "                    arg(arg='x')],\n",
      "                kwonlyargs=[],\n",
      "                kw_defaults=[],\n",
      "                defaults=[]),\n",
      "            body=[\n",
      "                Assign(\n",
      "                    targets=[\n",
      "                        Name(id='y', ctx=Store())],\n",
      "                    value=BinOp(\n",
      "                        left=Constant(value=3),\n",
      "                        op=Mult(),\n",
      "                        right=Name(id='x', ctx=Load()))),\n",
      "                Expr(\n",
      "                    value=Call(\n",
      "                        func=Name(id='print', ctx=Load()),\n",
      "                        args=[\n",
      "                            Name(id='y', ctx=Load())],\n",
      "                        keywords=[]))],\n",
      "            decorator_list=[])],\n",
      "    type_ignores=[])\n"
     ]
    }
   ],
   "source": [
    "print_ast(tree)"
   ]
  },
  {
   "cell_type": "code",
   "execution_count": 1101,
   "metadata": {},
   "outputs": [
    {
     "name": "stdout",
     "output_type": "stream",
     "text": [
      "FunctionDef(\n",
      "    name='simple_function',\n",
      "    args=arguments(\n",
      "        posonlyargs=[],\n",
      "        args=[\n",
      "            arg(arg='x')],\n",
      "        kwonlyargs=[],\n",
      "        kw_defaults=[],\n",
      "        defaults=[]),\n",
      "    body=[\n",
      "        Assign(\n",
      "            targets=[\n",
      "                Name(id='y', ctx=Store())],\n",
      "            value=BinOp(\n",
      "                left=Constant(value=3),\n",
      "                op=Mult(),\n",
      "                right=Name(id='x', ctx=Load()))),\n",
      "        Expr(\n",
      "            value=Call(\n",
      "                func=Name(id='print', ctx=Load()),\n",
      "                args=[\n",
      "                    Name(id='y', ctx=Load())],\n",
      "                keywords=[]))],\n",
      "    decorator_list=[])\n"
     ]
    }
   ],
   "source": [
    "print_ast(tree.body[0])"
   ]
  },
  {
   "cell_type": "code",
   "execution_count": 1102,
   "metadata": {},
   "outputs": [],
   "source": [
    "import random"
   ]
  },
  {
   "cell_type": "markdown",
   "metadata": {},
   "source": [
    "We create a PythonMutator class that links to other Mutator classes, the PythonMutator class tying all of them together with helper functions to call those class' methods. We can later use it to add probabilities etc. to each mutation."
   ]
  },
  {
   "cell_type": "code",
   "execution_count": 1103,
   "metadata": {},
   "outputs": [],
   "source": [
    "class PythonMutator(ast.NodeTransformer):\n",
    "    def __init__(self):\n",
    "        self.reverse = None\n",
    "        self.mutations = []        \n",
    "    \n",
    "    # def visit_Module(self, src):\n",
    "    #     return self.generic_visit(src)\n",
    "    \n",
    "    # def visit_FunctionDef(self, src):\n",
    "    #     return self.generic_visit(src)\n",
    "    \n",
    "    # def visit_BinOp(self, src):\n",
    "    #     return self.generic_visit(src)\n",
    "    \n",
    "    # def visit_Assign(self, src):\n",
    "    #     return self.generic_visit(src)\n",
    "    \n",
    "    # def visit_Call(self, src):\n",
    "    #     return self.generic_visit(src)\n",
    "    \n",
    "    # def visit_Name(self, src):\n",
    "    #     return self.generic_visit(src)\n",
    "    \n",
    "    # def visit_Constant(self, src):\n",
    "    #     return self.generic_visit(src)\n",
    "\n",
    "    def expand_constants(self, src, trials=3):\n",
    "        node = ExprMutator().modify_value(src, trials)\n",
    "        self.mutations.extend(node[1])\n",
    "        return node[0]\n",
    "    \n",
    "    def swap_numbers(self, src):\n",
    "        node = ExprMutator().commute_value(src)\n",
    "        self.mutations.extend(node[1])\n",
    "        return node[0]"
   ]
  },
  {
   "cell_type": "markdown",
   "metadata": {},
   "source": [
    "Now we need to define modify_value that can replace a given constant with an equivalent arithmetic expression, and swap_numbers that will swap the children of a + or * node."
   ]
  },
  {
   "cell_type": "code",
   "execution_count": 1104,
   "metadata": {},
   "outputs": [],
   "source": [
    "op_map_int = [(\"+\", ast.Add()), (\"*\", ast.Mult()), (\"//\", ast.FloorDiv()), (\"-\", ast.Sub())]\n",
    "op_map_float = [(\"+\", ast.Add()), (\"*\", ast.Mult()), (\"/\", ast.Div()), (\"-\", ast.Sub())]"
   ]
  },
  {
   "cell_type": "code",
   "execution_count": 1105,
   "metadata": {},
   "outputs": [],
   "source": [
    "class ExprMutator(ast.NodeTransformer):\n",
    "    EXPAND = 1\n",
    "    COMMUTE = 2\n",
    "\n",
    "    def __init__(self):\n",
    "        self.transform = False\n",
    "        self.trials = 0\n",
    "        self.mode = self.EXPAND\n",
    "        self.mutations = []\n",
    "\n",
    "    def modify_value(self, src, trials):\n",
    "        self.mode = self.EXPAND\n",
    "        self.trials = trials\n",
    "        node = self._modify_value(src)\n",
    "        return (node, self.mutations)\n",
    "    \n",
    "    def _modify_value(self, src):\n",
    "        if self.trials == 0: return src\n",
    "        self.transform = True\n",
    "        self.visit(random.choice(src.body))\n",
    "        return self._modify_value(src)"
   ]
  },
  {
   "cell_type": "markdown",
   "metadata": {},
   "source": [
    "We need the mode so we can swap between traversing a path and swapping children. Depth allows us to control how many numbers we want to go and replace with expressions."
   ]
  },
  {
   "cell_type": "code",
   "execution_count": 1106,
   "metadata": {},
   "outputs": [],
   "source": [
    "class ExprMutator(ExprMutator):    \n",
    "    def commute_value(self, n):\n",
    "        self.mode = self.COMMUTE\n",
    "        return (self.visit(n), self.mutations)"
   ]
  },
  {
   "cell_type": "markdown",
   "metadata": {},
   "source": [
    "Now come the real functions. The visits to Constant or BinOp nodes are what will truly handle the functionality."
   ]
  },
  {
   "cell_type": "code",
   "execution_count": 1107,
   "metadata": {},
   "outputs": [],
   "source": [
    "from copy import deepcopy"
   ]
  },
  {
   "cell_type": "code",
   "execution_count": 1108,
   "metadata": {},
   "outputs": [],
   "source": [
    "class ExprMutator(ExprMutator):\n",
    "    def visit_Constant(self, src):\n",
    "        if self.transform and self.mode and (isinstance(src.value, int) or isinstance(src.value, float)) == self.EXPAND:\n",
    "            op_map = {}\n",
    "            while True:\n",
    "                try:\n",
    "                    op = random.randint(0, 3)\n",
    "\n",
    "                    if isinstance(src.value, int): \n",
    "                        op_map = op_map_int\n",
    "                        other = random.randint(-10000, 10000)\n",
    "                    else: \n",
    "                        op_map = op_map_float\n",
    "                        other = 500 * random.randint(1, 10) * (random.random() + random.random()) * (1 - 2 * random.randint(0, 1))\n",
    "                    \n",
    "                    assert eval(\"(\" + str(src.value) + op_map[3-op][0] + str(other) + \")\" + op_map[op][0] + str(other)) == src.value\n",
    "                    break\n",
    "                except ZeroDivisionError: continue\n",
    "                except AssertionError: continue\n",
    "            self.trials -= 1\n",
    "            self.transform = False\n",
    "            node = ast.fix_missing_locations(ast.BinOp(left = ast.Constant(value=eval(\"(\" + str(src.value) + op_map[3-op][0] + str(other) + \")\")), op = op_map[op][1], right = ast.Constant(value=other)))\n",
    "            #self.mutations update\n",
    "            self.mutations.append(deepcopy((src, node)))\n",
    "            return node\n",
    "\n",
    "        return src\n",
    "\n",
    "    def visit_BinOp(self, src):\n",
    "        if self.mode == self.EXPAND:\n",
    "            if random.randint(1, 2) == 1:\n",
    "                src.left = self.visit(src.left)\n",
    "            else:\n",
    "                src.right = self.visit(src.right)\n",
    "            return src\n",
    "        \n",
    "        if self.mode == self.COMMUTE:\n",
    "            if isinstance(src.op, ast.Add) or isinstance(src.op, ast.Mult):\n",
    "                #self.mutations update\n",
    "                mut = deepcopy(src)\n",
    "                self.mutations.append((mut, ast.BinOp(left = mut.right, op = mut.op, right = mut.left)))\n",
    "                src.left, src.right = src.right, src.left\n",
    "                \n",
    "            return self.generic_visit(src)"
   ]
  },
  {
   "cell_type": "code",
   "execution_count": 1109,
   "metadata": {},
   "outputs": [
    {
     "name": "stdout",
     "output_type": "stream",
     "text": [
      "Module(\n",
      "    body=[\n",
      "        Expr(\n",
      "            value=BinOp(\n",
      "                left=BinOp(\n",
      "                    left=Constant(value=-3688),\n",
      "                    op=Add(),\n",
      "                    right=Constant(value=-1839)),\n",
      "                op=FloorDiv(),\n",
      "                right=Constant(value=-5527)))])\n"
     ]
    }
   ],
   "source": [
    "print_ast(ExprMutator().modify_value(ast.Module(body=[ast.Expr(value=ast.Constant(value=1))]), trials=2)[0])"
   ]
  },
  {
   "cell_type": "code",
   "execution_count": 1110,
   "metadata": {},
   "outputs": [
    {
     "name": "stdout",
     "output_type": "stream",
     "text": [
      "x + (-963 - 3589 + 5570 + -1017)\n"
     ]
    }
   ],
   "source": [
    "print_code(PythonMutator().expand_constants(ast.parse(\"x+1\")))"
   ]
  },
  {
   "cell_type": "code",
   "execution_count": 1111,
   "metadata": {},
   "outputs": [
    {
     "name": "stdout",
     "output_type": "stream",
     "text": [
      "(8885 + 1257 * -5.193317422434368) * 0.00042426813746287653 + x\n"
     ]
    }
   ],
   "source": [
    "print_code(PythonMutator().swap_numbers(ast.parse(\"x + 0.00042426813746287653 * (-5.193317422434368 * 1257 + 8885)\")))"
   ]
  },
  {
   "cell_type": "code",
   "execution_count": 1112,
   "metadata": {},
   "outputs": [
    {
     "name": "stdout",
     "output_type": "stream",
     "text": [
      "def simple_function(x):\n",
      "    y = x * (81366648 // (1867 + -5783) // (45777886 // 4774 + (-9217 + -7298)))\n",
      "    print(y)\n"
     ]
    }
   ],
   "source": [
    "tree_two = deepcopy(tree)\n",
    "for i in range(5):\n",
    "    if random.randint(1, 5) == 1: PythonMutator().swap_numbers(tree_two)\n",
    "    else: PythonMutator().expand_constants(tree_two)\n",
    "new_code = ast.unparse(tree_two)\n",
    "print(new_code)"
   ]
  },
  {
   "cell_type": "code",
   "execution_count": 1113,
   "metadata": {},
   "outputs": [
    {
     "name": "stdout",
     "output_type": "stream",
     "text": [
      "1368\n"
     ]
    }
   ],
   "source": [
    "simple_function(456)"
   ]
  },
  {
   "cell_type": "code",
   "execution_count": 1114,
   "metadata": {},
   "outputs": [],
   "source": [
    "exec(new_code)"
   ]
  },
  {
   "cell_type": "code",
   "execution_count": 1115,
   "metadata": {},
   "outputs": [
    {
     "name": "stdout",
     "output_type": "stream",
     "text": [
      "1368\n"
     ]
    }
   ],
   "source": [
    "simple_function(456)"
   ]
  },
  {
   "cell_type": "markdown",
   "metadata": {},
   "source": [
    "Clearly the output remains the same inspite of our changes. Next, we look into transforming range-based for loops into while loops."
   ]
  },
  {
   "cell_type": "code",
   "execution_count": 1116,
   "metadata": {},
   "outputs": [
    {
     "name": "stdout",
     "output_type": "stream",
     "text": [
      "Module(\n",
      "    body=[\n",
      "        For(\n",
      "            target=Name(id='i', ctx=Store()),\n",
      "            iter=Call(\n",
      "                func=Name(id='range', ctx=Load()),\n",
      "                args=[\n",
      "                    Constant(value=10),\n",
      "                    Constant(value=1),\n",
      "                    UnaryOp(\n",
      "                        op=USub(),\n",
      "                        operand=Constant(value=2))],\n",
      "                keywords=[]),\n",
      "            body=[\n",
      "                Expr(\n",
      "                    value=Call(\n",
      "                        func=Name(id='print', ctx=Load()),\n",
      "                        args=[\n",
      "                            Name(id='i', ctx=Load())],\n",
      "                        keywords=[]))],\n",
      "            orelse=[])],\n",
      "    type_ignores=[])\n"
     ]
    }
   ],
   "source": [
    "for_tree = ast.parse('''for i in range(10, 1, -2):\n",
    "                        print(i)''')\n",
    "print_ast(for_tree)"
   ]
  },
  {
   "cell_type": "code",
   "execution_count": 1117,
   "metadata": {},
   "outputs": [
    {
     "name": "stdout",
     "output_type": "stream",
     "text": [
      "Module(\n",
      "    body=[\n",
      "        Assign(\n",
      "            targets=[\n",
      "                Name(id='i', ctx=Store())],\n",
      "            value=Constant(value=10)),\n",
      "        While(\n",
      "            test=Compare(\n",
      "                left=Name(id='i', ctx=Load()),\n",
      "                ops=[\n",
      "                    Gt()],\n",
      "                comparators=[\n",
      "                    Constant(value=1)]),\n",
      "            body=[\n",
      "                Expr(\n",
      "                    value=Call(\n",
      "                        func=Name(id='print', ctx=Load()),\n",
      "                        args=[\n",
      "                            Name(id='i', ctx=Load())],\n",
      "                        keywords=[])),\n",
      "                AugAssign(\n",
      "                    target=Name(id='i', ctx=Store()),\n",
      "                    op=Add(),\n",
      "                    value=UnaryOp(\n",
      "                        op=USub(),\n",
      "                        operand=Constant(value=2)))],\n",
      "            orelse=[])],\n",
      "    type_ignores=[])\n"
     ]
    }
   ],
   "source": [
    "while_tree = ast.parse('''\n",
    "i = 10\n",
    "while i > 1:\n",
    "    print(i)\n",
    "    i += -2''')\n",
    "print_ast(while_tree)"
   ]
  },
  {
   "cell_type": "code",
   "execution_count": 1118,
   "metadata": {},
   "outputs": [
    {
     "name": "stdout",
     "output_type": "stream",
     "text": [
      "Assign(\n",
      "    targets=[\n",
      "        Name(id='i', ctx=Store())],\n",
      "    value=Constant(value=10))\n",
      "While(\n",
      "    test=Compare(\n",
      "        left=Name(id='i', ctx=Load()),\n",
      "        ops=[\n",
      "            Gt()],\n",
      "        comparators=[\n",
      "            Constant(value=1)]),\n",
      "    body=[\n",
      "        Expr(\n",
      "            value=Call(\n",
      "                func=Name(id='print', ctx=Load()),\n",
      "                args=[\n",
      "                    Name(id='i', ctx=Load())],\n",
      "                keywords=[])),\n",
      "        AugAssign(\n",
      "            target=Name(id='i', ctx=Store()),\n",
      "            op=Add(),\n",
      "            value=UnaryOp(\n",
      "                op=USub(),\n",
      "                operand=Constant(value=2)))],\n",
      "    orelse=[])\n"
     ]
    }
   ],
   "source": [
    "src = for_tree.body[0]\n",
    "def analyze_for(node):\n",
    "    args = node.iter.args\n",
    "    if len(args) == 1:\n",
    "        return [ast.Constant(value=0), ast.Lt(), args[0], ast.Constant(value=1)]\n",
    "    elif len(args) == 2:\n",
    "        return [args[0], ast.Lt(), args[1], ast.Constant(value=1)]\n",
    "    else:\n",
    "        step = eval(ast.unparse(args[2]))\n",
    "        if step < 0:\n",
    "            return [args[0], ast.Gt(), args[1], args[2]]\n",
    "        else:\n",
    "            return [args[0], ast.Lt(), args[1], args[2]]\n",
    "        \n",
    "while_args = analyze_for(src)\n",
    "print_ast(\n",
    "    ast.Assign(targets=[src.target], value=while_args[0])\n",
    "    ) \n",
    "print_ast(\n",
    "    ast.While(test=ast.Compare(left=ast.Name(id=src.target.id, ctx=ast.Load()), ops=[while_args[1]], comparators=[while_args[2]]), \\\n",
    "              body=src.body + [ast.AugAssign(target=src.target, op=ast.Add(), value=while_args[3])], orelse=src.orelse)\n",
    ")"
   ]
  },
  {
   "cell_type": "code",
   "execution_count": 1119,
   "metadata": {},
   "outputs": [],
   "source": [
    "class PythonMutator(PythonMutator):\n",
    "    def transform_for(self, src):\n",
    "        node = ForMutator().transform_for(src)\n",
    "        self.mutations.extend(node[1])\n",
    "        return node[0]"
   ]
  },
  {
   "cell_type": "code",
   "execution_count": 1120,
   "metadata": {},
   "outputs": [
    {
     "name": "stdout",
     "output_type": "stream",
     "text": [
      "Module(\n",
      "    body=[\n",
      "        For(\n",
      "            target=Name(id='i', ctx=Store()),\n",
      "            iter=Name(id='delays', ctx=Load()),\n",
      "            body=[\n",
      "                Expr(\n",
      "                    value=Call(\n",
      "                        func=Name(id='print', ctx=Load()),\n",
      "                        args=[\n",
      "                            Name(id='i', ctx=Load())],\n",
      "                        keywords=[]))],\n",
      "            orelse=[])],\n",
      "    type_ignores=[])\n",
      "Module(\n",
      "    body=[\n",
      "        For(\n",
      "            target=Name(id='i', ctx=Store()),\n",
      "            iter=Call(\n",
      "                func=Name(id='range', ctx=Load()),\n",
      "                args=[\n",
      "                    Constant(value=2)],\n",
      "                keywords=[]),\n",
      "            body=[\n",
      "                Expr(\n",
      "                    value=Call(\n",
      "                        func=Name(id='print', ctx=Load()),\n",
      "                        args=[\n",
      "                            Name(id='i', ctx=Load())],\n",
      "                        keywords=[]))],\n",
      "            orelse=[])],\n",
      "    type_ignores=[])\n"
     ]
    }
   ],
   "source": [
    "print_ast(ast.parse(\"for i in delays: print(i)\"))\n",
    "print_ast(ast.parse(\"for i in range(2): print(i)\"))"
   ]
  },
  {
   "cell_type": "code",
   "execution_count": 1121,
   "metadata": {},
   "outputs": [],
   "source": [
    "class ForMutator(ast.NodeTransformer):\n",
    "    def __init__(self):\n",
    "        self.mutations = []\n",
    "\n",
    "    def transform_for(self, src):\n",
    "        return (self.visit(src), self.mutations)\n",
    "\n",
    "    def visit_For(self, src):  \n",
    "        try: while_args = analyze_for(src)\n",
    "        except: return src\n",
    "        node = [ast.Assign(targets=[src.target], value=while_args[0]), \\\n",
    "                ast.While(test=ast.Compare(left=ast.Name(id=src.target.id, ctx=ast.Load()), ops=[while_args[1]], comparators=[while_args[2]]), \\\n",
    "                          body=src.body + [ast.AugAssign(target=src.target, op=ast.Add(), value=while_args[3])], orelse=src.orelse)]\n",
    "        #self.mutations update\n",
    "        self.mutations.append((deepcopy(src), deepcopy(node)))\n",
    "        return node"
   ]
  },
  {
   "cell_type": "code",
   "execution_count": 1122,
   "metadata": {},
   "outputs": [
    {
     "name": "stdout",
     "output_type": "stream",
     "text": [
      "for i in range(10, 1, -2):\n",
      "    print(i)\n",
      "====\n",
      "i = 10\n",
      "while i > 1:\n",
      "    print(i)\n",
      "    i += -2\n"
     ]
    }
   ],
   "source": [
    "for_tree_two = deepcopy(for_tree)\n",
    "print(ast.unparse(for_tree))\n",
    "print(\"====\")\n",
    "print_code(PythonMutator().transform_for(for_tree_two))"
   ]
  },
  {
   "cell_type": "markdown",
   "metadata": {},
   "source": [
    "That takes care of for-loops based on ranges. <b>What about iterators?</b>"
   ]
  },
  {
   "cell_type": "code",
   "execution_count": 1123,
   "metadata": {},
   "outputs": [
    {
     "name": "stdout",
     "output_type": "stream",
     "text": [
      "Module(\n",
      "    body=[\n",
      "        Assign(\n",
      "            targets=[\n",
      "                Name(id='L', ctx=Store())],\n",
      "            value=List(\n",
      "                elts=[\n",
      "                    Constant(value=1),\n",
      "                    Constant(value=4),\n",
      "                    Constant(value='hello')],\n",
      "                ctx=Load())),\n",
      "        For(\n",
      "            target=Name(id='i', ctx=Store()),\n",
      "            iter=ListComp(\n",
      "                elt=Call(\n",
      "                    func=Name(id='len', ctx=Load()),\n",
      "                    args=[\n",
      "                        Call(\n",
      "                            func=Name(id='str', ctx=Load()),\n",
      "                            args=[\n",
      "                                Name(id='x', ctx=Load())],\n",
      "                            keywords=[])],\n",
      "                    keywords=[]),\n",
      "                generators=[\n",
      "                    comprehension(\n",
      "                        target=Name(id='x', ctx=Store()),\n",
      "                        iter=Name(id='L', ctx=Load()),\n",
      "                        ifs=[],\n",
      "                        is_async=0)]),\n",
      "            body=[\n",
      "                Expr(\n",
      "                    value=Call(\n",
      "                        func=Name(id='print', ctx=Load()),\n",
      "                        args=[\n",
      "                            Name(id='i', ctx=Load())],\n",
      "                        keywords=[]))],\n",
      "            orelse=[])],\n",
      "    type_ignores=[])\n"
     ]
    }
   ],
   "source": [
    "print_ast(ast.parse(\n",
    "'''\n",
    "L = [1, 4, \"hello\"]\n",
    "for i in [len(str(x)) for x in L]:\n",
    "    print(i)\n",
    "'''\n",
    "))"
   ]
  },
  {
   "cell_type": "code",
   "execution_count": 1124,
   "metadata": {},
   "outputs": [
    {
     "name": "stdout",
     "output_type": "stream",
     "text": [
      "Module(\n",
      "    body=[\n",
      "        Assign(\n",
      "            targets=[\n",
      "                Tuple(\n",
      "                    elts=[\n",
      "                        Name(id='x', ctx=Store()),\n",
      "                        Name(id='y', ctx=Store())],\n",
      "                    ctx=Store())],\n",
      "            value=Tuple(\n",
      "                elts=[\n",
      "                    BinOp(\n",
      "                        left=Constant(value=3),\n",
      "                        op=Add(),\n",
      "                        right=Constant(value=5)),\n",
      "                    BinOp(\n",
      "                        left=Constant(value=3),\n",
      "                        op=Add(),\n",
      "                        right=Constant(value=5))],\n",
      "                ctx=Load()))],\n",
      "    type_ignores=[])\n"
     ]
    }
   ],
   "source": [
    "print_ast(ast.parse('x,y = 3 + 5, 3 + 5'))"
   ]
  },
  {
   "cell_type": "code",
   "execution_count": 1125,
   "metadata": {},
   "outputs": [
    {
     "name": "stdout",
     "output_type": "stream",
     "text": [
      "Module(\n",
      "    body=[\n",
      "        Assign(\n",
      "            targets=[\n",
      "                Tuple(\n",
      "                    elts=[\n",
      "                        Name(id='tmp1', ctx=Store()),\n",
      "                        Name(id='tmp2', ctx=Store())],\n",
      "                    ctx=Store())],\n",
      "            value=Tuple(\n",
      "                elts=[\n",
      "                    BinOp(\n",
      "                        left=Constant(value=3),\n",
      "                        op=Add(),\n",
      "                        right=Constant(value=5)),\n",
      "                    BinOp(\n",
      "                        left=Constant(value=3),\n",
      "                        op=Add(),\n",
      "                        right=Constant(value=5))],\n",
      "                ctx=Load())),\n",
      "        Assign(\n",
      "            targets=[\n",
      "                Tuple(\n",
      "                    elts=[\n",
      "                        Name(id='x', ctx=Store()),\n",
      "                        Name(id='y', ctx=Store())],\n",
      "                    ctx=Store())],\n",
      "            value=Tuple(\n",
      "                elts=[\n",
      "                    Name(id='tmp1', ctx=Load()),\n",
      "                    Name(id='tmp2', ctx=Load())],\n",
      "                ctx=Load()))],\n",
      "    type_ignores=[])\n"
     ]
    }
   ],
   "source": [
    "assgn_tree = ast.parse('''\n",
    "tmp1, tmp2 = 3 + 5, 3 + 5\n",
    "x, y = tmp1, tmp2''')\n",
    "\n",
    "print_ast(assgn_tree)"
   ]
  },
  {
   "cell_type": "code",
   "execution_count": 1126,
   "metadata": {},
   "outputs": [
    {
     "name": "stdout",
     "output_type": "stream",
     "text": [
      "BinOp(\n",
      "    left=Constant(value=3),\n",
      "    op=Add(),\n",
      "    right=Constant(value=5))\n",
      "BinOp(\n",
      "    left=Constant(value=3),\n",
      "    op=Add(),\n",
      "    right=Constant(value=5))\n"
     ]
    },
    {
     "data": {
      "text/plain": [
       "False"
      ]
     },
     "execution_count": 1126,
     "metadata": {},
     "output_type": "execute_result"
    }
   ],
   "source": [
    "a1 = assgn_tree.body[0].value.elts[0]\n",
    "a2 = assgn_tree.body[0].value.elts[1]\n",
    "print_ast(a1)\n",
    "print_ast(a2)\n",
    "a1 == a2"
   ]
  },
  {
   "cell_type": "code",
   "execution_count": 1127,
   "metadata": {},
   "outputs": [
    {
     "name": "stdout",
     "output_type": "stream",
     "text": [
      "[1, 3 + 4 * 5, 'hello']\n",
      "L = [1, 3 + 4 * 5, 'hello']\n"
     ]
    },
    {
     "data": {
      "text/plain": [
       "\"[1, 3 + 4 * 5, 'hello']\""
      ]
     },
     "execution_count": 1127,
     "metadata": {},
     "output_type": "execute_result"
    }
   ],
   "source": [
    "test_tree = ast.parse(\n",
    "'''\n",
    "def hello(x):\n",
    "    print(\"Hello\", x)\n",
    "L = [1, 3 + 4 * 5, \"hello\"]\n",
    "for i in [len(str(x)) for x in L]:\n",
    "    print(i)\n",
    "'''\n",
    ")\n",
    "\n",
    "def func(src):\n",
    "    while hasattr(src, \"body\"):\n",
    "        src = random.choice(src.body)\n",
    "        parent = src\n",
    "        if hasattr(src, \"value\"): src = src.value\n",
    "        if hasattr(src, \"left\"): \n",
    "            if random.randint(0, 1): src = src.left\n",
    "            else: src = src.right\n",
    "\n",
    "    print_code(src)\n",
    "    child = ast.Load()\n",
    "    while isinstance(child, (ast.Load, ast.Store, ast.Call)) or not ast.unparse(child) or child == parent:\n",
    "        child = random.choice(list(ast.walk(src)))\n",
    "\n",
    "    print_code(parent)\n",
    "    return ast.unparse(child)\n",
    "\n",
    "    \n",
    "func(test_tree)"
   ]
  },
  {
   "cell_type": "code",
   "execution_count": 1128,
   "metadata": {},
   "outputs": [],
   "source": [
    "import string"
   ]
  },
  {
   "cell_type": "code",
   "execution_count": 1129,
   "metadata": {},
   "outputs": [],
   "source": [
    "class AssignMutator(ast.NodeTransformer):\n",
    "    def __init__(self):\n",
    "        self.mutations = []\n",
    "        self.mode = 0\n",
    "        self.par = None\n",
    "        self.child = None\n",
    "        self.pair = None\n",
    "\n",
    "    def transform_assign(self, src):\n",
    "        while True:\n",
    "            node = src\n",
    "            parent = None\n",
    "            \n",
    "            while hasattr(node, \"body\"):\n",
    "                node = random.choice(node.body)\n",
    "                parent = node\n",
    "                if hasattr(node, \"value\"): node = node.value\n",
    "                if hasattr(node, \"left\"): \n",
    "                    if random.randint(0, 1): node = node.left\n",
    "                    else: node = node.right\n",
    "\n",
    "            child = ast.Load()\n",
    "            trials = 0\n",
    "            while trials < 10 and (isinstance(child, (ast.Load, ast.Store, ast.Call)) or not ast.unparse(child) or child == parent):\n",
    "                child = random.choice(list(ast.walk(node)))\n",
    "                trials += 1\n",
    "            if trials == 10: continue\n",
    "            break\n",
    "\n",
    "        self.par = deepcopy(parent)\n",
    "        self.child = deepcopy(child)\n",
    "\n",
    "        var = ''.join(random.choices(string.ascii_letters + string.digits, k=random.randint(10, 20)))\n",
    "        var = var if not var[0].isdigit() else '_' + var\n",
    "\n",
    "        new_target = ast.Name(id = var, ctx = ast.Store())\n",
    "        self.pair = (ast.Name(id=new_target.id, ctx=ast.Load()), child)\n",
    "        self.mode = 1\n",
    "        self.visit(src)\n",
    "        self.pair = (ast.Assign(targets = [new_target], value=self.child), parent)\n",
    "        self.mode = 2\n",
    "        self.visit(src)\n",
    "\n",
    "        return (src, self.mutations)\n",
    "    \n",
    "    def visit(self, src):\n",
    "        if self.mode == 1:\n",
    "            test = src == self.pair[1]\n",
    "            if test:\n",
    "                node = self.pair[0]\n",
    "                self.mode = 0\n",
    "                return node\n",
    "        if self.mode == 2:\n",
    "            test = src == self.pair[1]\n",
    "            if test:\n",
    "                node = list(self.pair)\n",
    "                self.mutations.append((self.par, deepcopy(node)))\n",
    "                return node\n",
    "        return self.generic_visit(src)"
   ]
  },
  {
   "cell_type": "code",
   "execution_count": 1130,
   "metadata": {},
   "outputs": [
    {
     "name": "stdout",
     "output_type": "stream",
     "text": [
      "def hello(x):\n",
      "    print('Hello', x)\n",
      "Ody2m0cxVURiJhbz0T = [1, 3 + 4 * 5, 'hello']\n",
      "L = Ody2m0cxVURiJhbz0T\n",
      "for i in [len(str(x)) for x in L]:\n",
      "    print(i)\n"
     ]
    }
   ],
   "source": [
    "test_tree = ast.parse(\n",
    "'''\n",
    "def hello(x):\n",
    "    print(\"Hello\", x)\n",
    "L = [1, 3 + 4 * 5, \"hello\"]\n",
    "for i in [len(str(x)) for x in L]:\n",
    "    print(i)\n",
    "'''\n",
    ")\n",
    "\n",
    "AssignMutator().transform_assign(test_tree)[0]\n",
    "print_code(test_tree)"
   ]
  },
  {
   "cell_type": "code",
   "execution_count": 1131,
   "metadata": {},
   "outputs": [
    {
     "name": "stdout",
     "output_type": "stream",
     "text": [
      "Module(\n",
      "    body=[\n",
      "        Assign(\n",
      "            targets=[\n",
      "                Tuple(\n",
      "                    elts=[\n",
      "                        Name(id='x', ctx=Store()),\n",
      "                        Name(id='y', ctx=Store())],\n",
      "                    ctx=Store())],\n",
      "            value=Tuple(\n",
      "                elts=[\n",
      "                    BinOp(\n",
      "                        left=Constant(value=3),\n",
      "                        op=Add(),\n",
      "                        right=Constant(value=5)),\n",
      "                    BinOp(\n",
      "                        left=Constant(value=5),\n",
      "                        op=Add(),\n",
      "                        right=Constant(value=3))],\n",
      "                ctx=Load()))],\n",
      "    type_ignores=[])\n"
     ]
    }
   ],
   "source": [
    "print_ast(ast.parse('x,y = 3 + 5, 5 + 3'))"
   ]
  },
  {
   "cell_type": "code",
   "execution_count": 1132,
   "metadata": {},
   "outputs": [
    {
     "name": "stdout",
     "output_type": "stream",
     "text": [
      "Module(\n",
      "    body=[\n",
      "        Assign(\n",
      "            targets=[\n",
      "                Name(id='GfZaLgpE2zzlZRlkWVZ', ctx=Store())],\n",
      "            value=Constant(value=5)),\n",
      "        Assign(\n",
      "            targets=[\n",
      "                Tuple(\n",
      "                    elts=[\n",
      "                        Name(id='x', ctx=Store()),\n",
      "                        Name(id='y', ctx=Store())],\n",
      "                    ctx=Store())],\n",
      "            value=Tuple(\n",
      "                elts=[\n",
      "                    BinOp(\n",
      "                        left=Constant(value=3),\n",
      "                        op=Add(),\n",
      "                        right=Name(id='GfZaLgpE2zzlZRlkWVZ', ctx=Load())),\n",
      "                    BinOp(\n",
      "                        left=Constant(value=5),\n",
      "                        op=Add(),\n",
      "                        right=Constant(value=3))],\n",
      "                ctx=Load()))],\n",
      "    type_ignores=[])\n"
     ]
    }
   ],
   "source": [
    "print_ast(AssignMutator().transform_assign(ast.parse('x,y = 3 + 5, 5 + 3'))[0])"
   ]
  },
  {
   "cell_type": "code",
   "execution_count": 1133,
   "metadata": {},
   "outputs": [
    {
     "name": "stdout",
     "output_type": "stream",
     "text": [
      "Module(\n",
      "    body=[\n",
      "        Assign(\n",
      "            targets=[\n",
      "                Name(id='x', ctx=Store()),\n",
      "                Name(id='y', ctx=Store())],\n",
      "            value=Constant(value=5))],\n",
      "    type_ignores=[])\n"
     ]
    }
   ],
   "source": [
    "print_ast(ast.parse('x=y=5'))"
   ]
  },
  {
   "cell_type": "code",
   "execution_count": 1134,
   "metadata": {},
   "outputs": [
    {
     "name": "stdout",
     "output_type": "stream",
     "text": [
      "Module(\n",
      "    body=[\n",
      "        Assign(\n",
      "            targets=[\n",
      "                Name(id='_7tMo7vthvG', ctx=Store())],\n",
      "            value=Constant(value=5)),\n",
      "        Assign(\n",
      "            targets=[\n",
      "                Name(id='x', ctx=Store()),\n",
      "                Name(id='y', ctx=Store())],\n",
      "            value=Name(id='_7tMo7vthvG', ctx=Load()))],\n",
      "    type_ignores=[])\n"
     ]
    }
   ],
   "source": [
    "print_ast(AssignMutator().transform_assign(ast.parse('x=y=5'))[0])"
   ]
  },
  {
   "cell_type": "code",
   "execution_count": 1135,
   "metadata": {},
   "outputs": [
    {
     "name": "stdout",
     "output_type": "stream",
     "text": [
      "_6YBxyouGE5ICiesX6Jv = 5 + 3\n",
      "x, y = (3 + 5, _6YBxyouGE5ICiesX6Jv)\n"
     ]
    }
   ],
   "source": [
    "print_code(AssignMutator().transform_assign(ast.parse('x,y = 3 + 5, 5 + 3'))[0])"
   ]
  },
  {
   "cell_type": "code",
   "execution_count": 1136,
   "metadata": {},
   "outputs": [
    {
     "name": "stdout",
     "output_type": "stream",
     "text": [
      "c6UVIiyPxx1D = 5\n",
      "x = y = c6UVIiyPxx1D\n"
     ]
    }
   ],
   "source": [
    "print_code(AssignMutator().transform_assign(ast.parse('x=y=5'))[0])"
   ]
  },
  {
   "cell_type": "code",
   "execution_count": 1137,
   "metadata": {},
   "outputs": [],
   "source": [
    "class PythonMutator(PythonMutator):\n",
    "    def transform_assign(self, src, trials=3):\n",
    "        for i in range(trials):\n",
    "            node = AssignMutator().transform_assign(src)\n",
    "            self.mutations.extend(node[1])\n",
    "        return src"
   ]
  },
  {
   "cell_type": "code",
   "execution_count": 1138,
   "metadata": {},
   "outputs": [
    {
     "name": "stdout",
     "output_type": "stream",
     "text": [
      "def hello(x):\n",
      "    print('Hello', x)\n",
      "dJQWZpui9lnQANORzLJ = 4\n",
      "luVcqqEygHcV = dJQWZpui9lnQANORzLJ\n",
      "AY4aLpFuwmOZnx5tKEZd = luVcqqEygHcV * 5\n",
      "L = [1, 3 + AY4aLpFuwmOZnx5tKEZd, 'hello']\n",
      "for i in [len(str(x)) for x in L]:\n",
      "    print(i)\n"
     ]
    }
   ],
   "source": [
    "test_tree = ast.parse(\n",
    "'''\n",
    "def hello(x):\n",
    "    print(\"Hello\", x)\n",
    "L = [1, 3 + 4 * 5, \"hello\"]\n",
    "for i in [len(str(x)) for x in L]:\n",
    "    print(i)\n",
    "'''\n",
    ")\n",
    "\n",
    "PythonMutator().transform_assign(test_tree)\n",
    "print_code(test_tree)"
   ]
  },
  {
   "cell_type": "code",
   "execution_count": 1139,
   "metadata": {},
   "outputs": [],
   "source": [
    "big_tree = ast.parse(r'''\n",
    "with open(\"circuit.txt\", \"r\") as F:\n",
    "    circuit = F.readlines() # read circuit file into a list\n",
    "with open(\"gate_delays.txt\", \"r\") as F:\n",
    "    delays = F.readlines() # read gate delays into a list\n",
    "\n",
    "gates = {-1: 0} # prepare dictionary to allow simpler access of gate delays\n",
    "nodes = {} # prepare dictionary to store node data\n",
    "out_nodes = [] # prepare list to store names of output nodes\n",
    "flag1 = flag2 = flag3 = False # prep for processing circuit later\n",
    "\n",
    "# loop to assign delay value to each kind of gate\n",
    "for i in delays:\n",
    "    x = i.strip() # ignore trailing whitespace\n",
    "    if x[:2] == \"//\": continue # ignoring whitespace followed by //\n",
    "    if len(x) == 0: continue # ignoring blank lines or whitespace-only lines\n",
    "    inps = x.split() # separate line into words\n",
    "    gates[inps[0]] = float(inps[1]) # assign corresponding delay values with key as gate name\n",
    "\n",
    "for i in circuit:\n",
    "    x = i.strip() # ignore trailing whitespace\n",
    "    if x[:2] == \"//\": continue # ignoring whitespace followed by //\n",
    "    if len(x) == 0: continue # ignoring blank lines or whitespace-only lines\n",
    "    inps = x.split() # separate line into words\n",
    "    if inps[0] == \"PRIMARY_INPUTS\": # handling input signal data\n",
    "        for j in inps[1:]:\n",
    "            nodes[j] = [0, [], -1] # initializing data with 0 value of delay, no nodes feeding in, associated with no gate  \n",
    "        flag1 = True # flag to say input signals have been read\n",
    "        continue\n",
    "    if inps[0] == \"INTERNAL_SIGNALS\": # handling internal signal data\n",
    "        for j in inps[1:]:\n",
    "            nodes[j] = [0, [], -1] # initializing data with 0 value of delay, no nodes feeding in, associated with no gate\n",
    "        flag2 = True # flag to say internal signals have been read\n",
    "        continue\n",
    "    if inps[0] == \"PRIMARY_OUTPUTS\": # handling output signal data\n",
    "        for j in inps[1:]:\n",
    "            nodes[j] = [0, [], -1] # initializing data with 0 value of delay, no nodes feeding in, associated with no gate\n",
    "        out_nodes.extend(inps[1:]) # list of output nodes\n",
    "        flag3 = True # flag to say output signals have been read\n",
    "        continue\n",
    "    if flag1 and flag2 and flag3: break # break the loop if all 3 conditions are met before loop termination\n",
    "\n",
    "for i in circuit: # processing the input and setting up input nodes and gates for each node\n",
    "    x = i.strip() # ignore trailing whitespace\n",
    "    if x[:2] == \"//\": continue # ignoring whitespace followed by //\n",
    "    if len(x) == 0: continue # ignoring blank lines or whitespace-only lines\n",
    "    inps = x.split() # separate line into words\n",
    "    if ((inps[0]==\"PRIMARY_INPUTS\") or (inps[0]==\"INTERNAL_SIGNALS\") or (inps[0]==\"PRIMARY_OUTPUTS\")): \n",
    "        continue # ignore signal lines\n",
    "    out = inps[-1]\n",
    "    nodes[out][1].extend(inps[1:-1]) # set up input nodes for each node\n",
    "    nodes[out][2] = inps[0] # set gate delay for relevant nodes\n",
    "\n",
    "def calcVal_A(x): # recursive function to calculate the delay at each node\n",
    "    # print(x, nodes) # debug line\n",
    "    if nodes[x][1] == []: return nodes[x][0] # skip recursive step if node already processed\n",
    "    s = 0\n",
    "    for i in nodes[x][1]: # find max delay time of each input node\n",
    "        nodes[i][0] = calcVal_A(i) # recursive call to function\n",
    "        s = max(nodes[i][0], s) # node delay that controls delay time of output\n",
    "    nodes[x][1] = [] # clear input nodes to indicate node delay is already calculated\n",
    "    return s + gates[nodes[x][2]] # gate delay compensation\n",
    "\n",
    "to_write = [] # initialize array of lines to be written to output\n",
    "\n",
    "for i in out_nodes:\n",
    "    nodes[i][0] = calcVal_A(i) # calculate delay for each output node using the recursive function\n",
    "    if nodes[i][0] == round(nodes[i][0]): nodes[i][0] = round(nodes[i][0])\n",
    "    to_write.append(i + \" \" + str(nodes[i][0]) + \"\\n\") # write delay at each output node to array\n",
    "\n",
    "with open(\"output_delays.txt\", \"w\") as F:\n",
    "    F.writelines(to_write) # write output array to file\n",
    "''')"
   ]
  },
  {
   "cell_type": "code",
   "execution_count": 1140,
   "metadata": {},
   "outputs": [
    {
     "name": "stdout",
     "output_type": "stream",
     "text": [
      "with open('circuit.txt', 'r') as F:\n",
      "    dx3BG9CyNiKJDO6Pwn3J = F.readlines\n",
      "    circuit = dx3BG9CyNiKJDO6Pwn3J()\n",
      "with open('gate_delays.txt', 'r') as F:\n",
      "    delays = F.readlines()\n",
      "gates = {-(7627 - 7626): 0}\n",
      "nodes = {}\n",
      "out_nodes = []\n",
      "flag1 = flag2 = flag3 = False\n",
      "for i in delays:\n",
      "    x = i.strip()\n",
      "    if x[:7664 + -7662] == '//':\n",
      "        continue\n",
      "    if len(x) == 0:\n",
      "        continue\n",
      "    inps = x.split()\n",
      "    gates[inps[0]] = float(inps[1])\n",
      "for i in circuit:\n",
      "    x = i.strip()\n",
      "    if x[:6390 // 3195] == '//':\n",
      "        continue\n",
      "    if len(x) == 0:\n",
      "        continue\n",
      "    inps = x.split()\n",
      "    if inps[0] == 'PRIMARY_INPUTS':\n",
      "        for j in inps[1:]:\n",
      "            nodes[j] = [0, [], -1]\n",
      "        flag1 = True\n",
      "        continue\n",
      "    if inps[0] == 'INTERNAL_SIGNALS':\n",
      "        for j in inps[1:]:\n",
      "            nodes[j] = [0, [], -1]\n",
      "        flag2 = True\n",
      "        continue\n",
      "    if inps[0] == 'PRIMARY_OUTPUTS':\n",
      "        for j in inps[1:]:\n",
      "            nodes[j] = [0, [], -1]\n",
      "        out_nodes.extend(inps[1:])\n",
      "        flag3 = True\n",
      "        continue\n",
      "    if flag1 and flag2 and flag3:\n",
      "        break\n",
      "for i in circuit:\n",
      "    x = i.strip()\n",
      "    if x[:2] == '//':\n",
      "        continue\n",
      "    if len(x) == 0:\n",
      "        continue\n",
      "    inps = x.split()\n",
      "    if inps[0] == 'PRIMARY_INPUTS' or inps[0] == 'INTERNAL_SIGNALS' or inps[0] == 'PRIMARY_OUTPUTS':\n",
      "        continue\n",
      "    out = inps[-1]\n",
      "    nodes[out][1].extend(inps[1:-1])\n",
      "    nodes[out][2] = inps[0]\n",
      "\n",
      "def calcVal_A(x):\n",
      "    if nodes[x][1] == []:\n",
      "        return nodes[x][0]\n",
      "    s = 0\n",
      "    for i in nodes[x][1]:\n",
      "        nodes[i][0] = calcVal_A(i)\n",
      "        s = max(nodes[i][0], s)\n",
      "    nodes[x][1] = []\n",
      "    return s + gates[nodes[x][2]]\n",
      "Bs40iFR1aYu8XlGdW = []\n",
      "_0C8UscEbU1dNb9yoL = Bs40iFR1aYu8XlGdW\n",
      "to_write = _0C8UscEbU1dNb9yoL\n",
      "for i in out_nodes:\n",
      "    aaL1MYhLAVRQ5HZBMY = i\n",
      "    nodes[i][0 * -8592 * -7107] = calcVal_A(aaL1MYhLAVRQ5HZBMY)\n",
      "    if nodes[i][0] == round(nodes[i][0]):\n",
      "        nodes[i][0] = round(nodes[i][0])\n",
      "    to_write.append(i + ' ' + str(nodes[i][0]) + '\\n')\n",
      "with open('output_delays.txt', 'w') as F:\n",
      "    mrkrgnt63BY = F.writelines\n",
      "    mrkrgnt63BY(to_write)\n"
     ]
    }
   ],
   "source": [
    "print_code(PythonMutator().expand_constants(PythonMutator().transform_assign(big_tree, 5), trials=5))"
   ]
  },
  {
   "cell_type": "code",
   "execution_count": 1141,
   "metadata": {},
   "outputs": [],
   "source": [
    "import trace\n",
    "import sys"
   ]
  },
  {
   "cell_type": "code",
   "execution_count": 1142,
   "metadata": {},
   "outputs": [],
   "source": [
    "def traceit(frame, event, arg):\n",
    "    \"\"\"Trace program execution. To be passed to sys.settrace().\"\"\"\n",
    "    if event == 'line':\n",
    "        global coverage\n",
    "        function_name = frame.f_code.co_name\n",
    "        lineno = frame.f_lineno\n",
    "        vars = dict(frame.f_locals)\n",
    "        coverage.append([function_name, lineno, vars])\n",
    "    return traceit\n",
    "\n",
    "def tracer(f):\n",
    "    global coverage\n",
    "    coverage = []\n",
    "    sys.settrace(traceit)  # Turn on\n",
    "    f()\n",
    "    sys.settrace(None)    # Turn off"
   ]
  },
  {
   "cell_type": "code",
   "execution_count": 1143,
   "metadata": {},
   "outputs": [],
   "source": [
    "def g():\n",
    "    def simple_function(x):\n",
    "        z = 2\n",
    "        y = 3 * x\n",
    "        return y\n",
    "    \n",
    "    a = simple_function(2)\n",
    "    b = 0\n",
    "    for _ in range(6):\n",
    "        b += 2 * a\n",
    "\n",
    "    print(\"The answer is\", b)"
   ]
  },
  {
   "cell_type": "code",
   "execution_count": 1144,
   "metadata": {},
   "outputs": [
    {
     "name": "stdout",
     "output_type": "stream",
     "text": [
      "The answer is 72\n"
     ]
    }
   ],
   "source": [
    "tracer(g)"
   ]
  },
  {
   "cell_type": "code",
   "execution_count": 1145,
   "metadata": {},
   "outputs": [
    {
     "name": "stdout",
     "output_type": "stream",
     "text": [
      "g 2 {}\n",
      "g 7 {'simple_function': <function g.<locals>.simple_function at 0x000002A802302020>}\n",
      "simple_function 3 {'x': 2}\n",
      "simple_function 4 {'x': 2, 'z': 2}\n",
      "simple_function 5 {'x': 2, 'z': 2, 'y': 6}\n",
      "g 8 {'simple_function': <function g.<locals>.simple_function at 0x000002A802302020>, 'a': 6}\n",
      "g 9 {'simple_function': <function g.<locals>.simple_function at 0x000002A802302020>, 'a': 6, 'b': 0}\n",
      "g 10 {'simple_function': <function g.<locals>.simple_function at 0x000002A802302020>, 'a': 6, 'b': 0, '_': 0}\n",
      "g 9 {'simple_function': <function g.<locals>.simple_function at 0x000002A802302020>, 'a': 6, 'b': 12, '_': 0}\n",
      "g 10 {'simple_function': <function g.<locals>.simple_function at 0x000002A802302020>, 'a': 6, 'b': 12, '_': 1}\n",
      "g 9 {'simple_function': <function g.<locals>.simple_function at 0x000002A802302020>, 'a': 6, 'b': 24, '_': 1}\n",
      "g 10 {'simple_function': <function g.<locals>.simple_function at 0x000002A802302020>, 'a': 6, 'b': 24, '_': 2}\n",
      "g 9 {'simple_function': <function g.<locals>.simple_function at 0x000002A802302020>, 'a': 6, 'b': 36, '_': 2}\n",
      "g 10 {'simple_function': <function g.<locals>.simple_function at 0x000002A802302020>, 'a': 6, 'b': 36, '_': 3}\n",
      "g 9 {'simple_function': <function g.<locals>.simple_function at 0x000002A802302020>, 'a': 6, 'b': 48, '_': 3}\n",
      "g 10 {'simple_function': <function g.<locals>.simple_function at 0x000002A802302020>, 'a': 6, 'b': 48, '_': 4}\n",
      "g 9 {'simple_function': <function g.<locals>.simple_function at 0x000002A802302020>, 'a': 6, 'b': 60, '_': 4}\n",
      "g 10 {'simple_function': <function g.<locals>.simple_function at 0x000002A802302020>, 'a': 6, 'b': 60, '_': 5}\n",
      "g 9 {'simple_function': <function g.<locals>.simple_function at 0x000002A802302020>, 'a': 6, 'b': 72, '_': 5}\n",
      "g 12 {'simple_function': <function g.<locals>.simple_function at 0x000002A802302020>, 'a': 6, 'b': 72, '_': 5}\n",
      "write 620 {'self': <ipykernel.iostream.OutStream object at 0x000002A83DBABAC0>, 'string': 'The answer is'}\n",
      "write 624 {'self': <ipykernel.iostream.OutStream object at 0x000002A83DBABAC0>, 'string': 'The answer is'}\n",
      "write 631 {'self': <ipykernel.iostream.OutStream object at 0x000002A83DBABAC0>, 'string': 'The answer is'}\n",
      "write 635 {'self': <ipykernel.iostream.OutStream object at 0x000002A83DBABAC0>, 'string': 'The answer is'}\n",
      "_is_master_process 506 {'self': <ipykernel.iostream.OutStream object at 0x000002A83DBABAC0>}\n",
      "write 637 {'self': <ipykernel.iostream.OutStream object at 0x000002A83DBABAC0>, 'string': 'The answer is', 'is_child': False}\n",
      "write 638 {'self': <ipykernel.iostream.OutStream object at 0x000002A83DBABAC0>, 'string': 'The answer is', 'is_child': False}\n",
      "write 637 {'self': <ipykernel.iostream.OutStream object at 0x000002A83DBABAC0>, 'string': 'The answer is', 'is_child': False}\n",
      "write 639 {'self': <ipykernel.iostream.OutStream object at 0x000002A83DBABAC0>, 'string': 'The answer is', 'is_child': False}\n",
      "write 648 {'self': <ipykernel.iostream.OutStream object at 0x000002A83DBABAC0>, 'string': 'The answer is', 'is_child': False}\n",
      "_schedule_flush 537 {'self': <ipykernel.iostream.OutStream object at 0x000002A83DBABAC0>}\n",
      "_schedule_flush 539 {'self': <ipykernel.iostream.OutStream object at 0x000002A83DBABAC0>}\n",
      "_schedule_flush 542 {'self': <ipykernel.iostream.OutStream object at 0x000002A83DBABAC0>}\n",
      "_schedule_flush 545 {'self': <ipykernel.iostream.OutStream object at 0x000002A83DBABAC0>, '_schedule_in_thread': <function OutStream._schedule_flush.<locals>._schedule_in_thread at 0x000002A840353600>}\n",
      "schedule 248 {'self': <ipykernel.iostream.IOPubThread object at 0x000002A83D2B6B10>, 'f': <function OutStream._schedule_flush.<locals>._schedule_in_thread at 0x000002A840353600>}\n",
      "is_alive 1200 {'self': <Thread(IOPub, started daemon 24508)>}\n",
      "is_alive 1201 {'self': <Thread(IOPub, started daemon 24508)>}\n",
      "is_set 577 {'self': <threading.Event at 0x2a83dc44e90: set>}\n",
      "is_alive 1203 {'self': <Thread(IOPub, started daemon 24508)>}\n",
      "_wait_for_tstate_lock 1132 {'self': <Thread(IOPub, started daemon 24508)>, 'block': False, 'timeout': -1}\n",
      "_wait_for_tstate_lock 1133 {'self': <Thread(IOPub, started daemon 24508)>, 'block': False, 'timeout': -1, 'lock': <locked _thread.lock object at 0x000002A83DC44D80>}\n",
      "_wait_for_tstate_lock 1138 {'self': <Thread(IOPub, started daemon 24508)>, 'block': False, 'timeout': -1, 'lock': <locked _thread.lock object at 0x000002A83DC44D80>}\n",
      "_wait_for_tstate_lock 1139 {'self': <Thread(IOPub, started daemon 24508)>, 'block': False, 'timeout': -1, 'lock': <locked _thread.lock object at 0x000002A83DC44D80>}\n",
      "is_alive 1204 {'self': <Thread(IOPub, started daemon 24508)>}\n",
      "schedule 249 {'self': <ipykernel.iostream.IOPubThread object at 0x000002A83D2B6B10>, 'f': <function OutStream._schedule_flush.<locals>._schedule_in_thread at 0x000002A840353600>}\n",
      "schedule 251 {'self': <ipykernel.iostream.IOPubThread object at 0x000002A83D2B6B10>, 'f': <function OutStream._schedule_flush.<locals>._schedule_in_thread at 0x000002A840353600>}\n",
      "_event_pipe 130 {'self': <ipykernel.iostream.IOPubThread object at 0x000002A83D2B6B10>}\n",
      "_event_pipe 131 {'self': <ipykernel.iostream.IOPubThread object at 0x000002A83D2B6B10>}\n",
      "_event_pipe 144 {'self': <ipykernel.iostream.IOPubThread object at 0x000002A83D2B6B10>, 'event_pipe': <zmq.Socket(zmq.PUSH) at 0x2a83dc17e00>}\n",
      "send 678 {'self': <zmq.Socket(zmq.PUSH) at 0x2a83dc17e00>, 'data': b'', 'flags': 0, 'copy': True, 'track': False, 'routing_id': None, 'group': None, '__class__': <class 'zmq.sugar.socket.Socket'>}\n",
      "send 687 {'self': <zmq.Socket(zmq.PUSH) at 0x2a83dc17e00>, 'data': b'', 'flags': 0, 'copy': True, 'track': False, 'routing_id': None, 'group': None, '__class__': <class 'zmq.sugar.socket.Socket'>}\n",
      "send 696 {'self': <zmq.Socket(zmq.PUSH) at 0x2a83dc17e00>, 'data': b'', 'flags': 0, 'copy': True, 'track': False, 'routing_id': None, 'group': None, '__class__': <class 'zmq.sugar.socket.Socket'>}\n",
      "write 650 {'self': <ipykernel.iostream.OutStream object at 0x000002A83DBABAC0>, 'string': 'The answer is', 'is_child': False}\n",
      "write 620 {'self': <ipykernel.iostream.OutStream object at 0x000002A83DBABAC0>, 'string': ' '}\n",
      "write 624 {'self': <ipykernel.iostream.OutStream object at 0x000002A83DBABAC0>, 'string': ' '}\n",
      "write 631 {'self': <ipykernel.iostream.OutStream object at 0x000002A83DBABAC0>, 'string': ' '}\n",
      "write 635 {'self': <ipykernel.iostream.OutStream object at 0x000002A83DBABAC0>, 'string': ' '}\n",
      "_is_master_process 506 {'self': <ipykernel.iostream.OutStream object at 0x000002A83DBABAC0>}\n",
      "write 637 {'self': <ipykernel.iostream.OutStream object at 0x000002A83DBABAC0>, 'string': ' ', 'is_child': False}\n",
      "write 638 {'self': <ipykernel.iostream.OutStream object at 0x000002A83DBABAC0>, 'string': ' ', 'is_child': False}\n",
      "write 637 {'self': <ipykernel.iostream.OutStream object at 0x000002A83DBABAC0>, 'string': ' ', 'is_child': False}\n",
      "write 639 {'self': <ipykernel.iostream.OutStream object at 0x000002A83DBABAC0>, 'string': ' ', 'is_child': False}\n",
      "write 648 {'self': <ipykernel.iostream.OutStream object at 0x000002A83DBABAC0>, 'string': ' ', 'is_child': False}\n",
      "_schedule_flush 537 {'self': <ipykernel.iostream.OutStream object at 0x000002A83DBABAC0>}\n",
      "_schedule_flush 538 {'self': <ipykernel.iostream.OutStream object at 0x000002A83DBABAC0>}\n",
      "write 650 {'self': <ipykernel.iostream.OutStream object at 0x000002A83DBABAC0>, 'string': ' ', 'is_child': False}\n",
      "write 620 {'self': <ipykernel.iostream.OutStream object at 0x000002A83DBABAC0>, 'string': '72'}\n",
      "write 624 {'self': <ipykernel.iostream.OutStream object at 0x000002A83DBABAC0>, 'string': '72'}\n",
      "write 631 {'self': <ipykernel.iostream.OutStream object at 0x000002A83DBABAC0>, 'string': '72'}\n",
      "write 635 {'self': <ipykernel.iostream.OutStream object at 0x000002A83DBABAC0>, 'string': '72'}\n",
      "_is_master_process 506 {'self': <ipykernel.iostream.OutStream object at 0x000002A83DBABAC0>}\n",
      "write 637 {'self': <ipykernel.iostream.OutStream object at 0x000002A83DBABAC0>, 'string': '72', 'is_child': False}\n",
      "write 638 {'self': <ipykernel.iostream.OutStream object at 0x000002A83DBABAC0>, 'string': '72', 'is_child': False}\n",
      "write 637 {'self': <ipykernel.iostream.OutStream object at 0x000002A83DBABAC0>, 'string': '72', 'is_child': False}\n",
      "write 639 {'self': <ipykernel.iostream.OutStream object at 0x000002A83DBABAC0>, 'string': '72', 'is_child': False}\n",
      "write 648 {'self': <ipykernel.iostream.OutStream object at 0x000002A83DBABAC0>, 'string': '72', 'is_child': False}\n",
      "_schedule_flush 537 {'self': <ipykernel.iostream.OutStream object at 0x000002A83DBABAC0>}\n",
      "_schedule_flush 538 {'self': <ipykernel.iostream.OutStream object at 0x000002A83DBABAC0>}\n",
      "write 650 {'self': <ipykernel.iostream.OutStream object at 0x000002A83DBABAC0>, 'string': '72', 'is_child': False}\n",
      "write 620 {'self': <ipykernel.iostream.OutStream object at 0x000002A83DBABAC0>, 'string': '\\n'}\n",
      "write 624 {'self': <ipykernel.iostream.OutStream object at 0x000002A83DBABAC0>, 'string': '\\n'}\n",
      "write 631 {'self': <ipykernel.iostream.OutStream object at 0x000002A83DBABAC0>, 'string': '\\n'}\n",
      "write 635 {'self': <ipykernel.iostream.OutStream object at 0x000002A83DBABAC0>, 'string': '\\n'}\n",
      "_is_master_process 506 {'self': <ipykernel.iostream.OutStream object at 0x000002A83DBABAC0>}\n",
      "write 637 {'self': <ipykernel.iostream.OutStream object at 0x000002A83DBABAC0>, 'string': '\\n', 'is_child': False}\n",
      "write 638 {'self': <ipykernel.iostream.OutStream object at 0x000002A83DBABAC0>, 'string': '\\n', 'is_child': False}\n",
      "write 637 {'self': <ipykernel.iostream.OutStream object at 0x000002A83DBABAC0>, 'string': '\\n', 'is_child': False}\n",
      "write 639 {'self': <ipykernel.iostream.OutStream object at 0x000002A83DBABAC0>, 'string': '\\n', 'is_child': False}\n",
      "write 648 {'self': <ipykernel.iostream.OutStream object at 0x000002A83DBABAC0>, 'string': '\\n', 'is_child': False}\n",
      "_schedule_flush 537 {'self': <ipykernel.iostream.OutStream object at 0x000002A83DBABAC0>}\n",
      "_schedule_flush 538 {'self': <ipykernel.iostream.OutStream object at 0x000002A83DBABAC0>}\n",
      "write 650 {'self': <ipykernel.iostream.OutStream object at 0x000002A83DBABAC0>, 'string': '\\n', 'is_child': False}\n"
     ]
    }
   ],
   "source": [
    "for i in coverage:\n",
    "    print(f\"{i[0]} {i[1]} {i[2]}\")"
   ]
  },
  {
   "cell_type": "code",
   "execution_count": 1146,
   "metadata": {},
   "outputs": [
    {
     "name": "stdout",
     "output_type": "stream",
     "text": [
      "FunctionDef(\n",
      "    name='g',\n",
      "    args=arguments(\n",
      "        posonlyargs=[],\n",
      "        args=[],\n",
      "        kwonlyargs=[],\n",
      "        kw_defaults=[],\n",
      "        defaults=[]),\n",
      "    body=[\n",
      "        FunctionDef(\n",
      "            name='simple_function',\n",
      "            args=arguments(\n",
      "                posonlyargs=[],\n",
      "                args=[\n",
      "                    arg(arg='x')],\n",
      "                kwonlyargs=[],\n",
      "                kw_defaults=[],\n",
      "                defaults=[]),\n",
      "            body=[\n",
      "                Assign(\n",
      "                    targets=[\n",
      "                        Name(id='z', ctx=Store())],\n",
      "                    value=Constant(value=2)),\n",
      "                Assign(\n",
      "                    targets=[\n",
      "                        Name(id='y', ctx=Store())],\n",
      "                    value=BinOp(\n",
      "                        left=Constant(value=3),\n",
      "                        op=Mult(),\n",
      "                        right=Name(id='x', ctx=Load()))),\n",
      "                Return(\n",
      "                    value=Name(id='y', ctx=Load()))],\n",
      "            decorator_list=[]),\n",
      "        Assign(\n",
      "            targets=[\n",
      "                Name(id='a', ctx=Store())],\n",
      "            value=Call(\n",
      "                func=Name(id='simple_function', ctx=Load()),\n",
      "                args=[\n",
      "                    Constant(value=2)],\n",
      "                keywords=[])),\n",
      "        Assign(\n",
      "            targets=[\n",
      "                Name(id='b', ctx=Store())],\n",
      "            value=Constant(value=0)),\n",
      "        For(\n",
      "            target=Name(id='_', ctx=Store()),\n",
      "            iter=Call(\n",
      "                func=Name(id='range', ctx=Load()),\n",
      "                args=[\n",
      "                    Constant(value=6)],\n",
      "                keywords=[]),\n",
      "            body=[\n",
      "                AugAssign(\n",
      "                    target=Name(id='b', ctx=Store()),\n",
      "                    op=Add(),\n",
      "                    value=BinOp(\n",
      "                        left=Constant(value=2),\n",
      "                        op=Mult(),\n",
      "                        right=Name(id='a', ctx=Load())))],\n",
      "            orelse=[]),\n",
      "        Expr(\n",
      "            value=Call(\n",
      "                func=Name(id='print', ctx=Load()),\n",
      "                args=[\n",
      "                    Constant(value='The answer is'),\n",
      "                    Name(id='b', ctx=Load())],\n",
      "                keywords=[]))],\n",
      "    decorator_list=[])\n"
     ]
    }
   ],
   "source": [
    "g_tree = ast.parse(inspect.getsource(g)).body[0]\n",
    "print_ast(g_tree)"
   ]
  },
  {
   "cell_type": "code",
   "execution_count": 1147,
   "metadata": {},
   "outputs": [
    {
     "name": "stdout",
     "output_type": "stream",
     "text": [
      "Module(\n",
      "    body=[\n",
      "        FunctionDef(\n",
      "            name='f',\n",
      "            args=arguments(\n",
      "                posonlyargs=[],\n",
      "                args=[\n",
      "                    arg(arg='x'),\n",
      "                    arg(arg='y')],\n",
      "                kwonlyargs=[\n",
      "                    arg(arg='z')],\n",
      "                kw_defaults=[\n",
      "                    Constant(value=3)],\n",
      "                defaults=[]),\n",
      "            body=[\n",
      "                Expr(\n",
      "                    value=Call(\n",
      "                        func=Name(id='print', ctx=Load()),\n",
      "                        args=[\n",
      "                            Name(id='x', ctx=Load())],\n",
      "                        keywords=[]))],\n",
      "            decorator_list=[])],\n",
      "    type_ignores=[])\n"
     ]
    }
   ],
   "source": [
    "print_ast(ast.parse('def f(x, y, *, z=3): print(x)'))"
   ]
  },
  {
   "cell_type": "code",
   "execution_count": 1148,
   "metadata": {},
   "outputs": [
    {
     "name": "stdout",
     "output_type": "stream",
     "text": [
      "2\n",
      "7\n",
      "8\n",
      "9\n",
      "12\n"
     ]
    }
   ],
   "source": [
    "for node in g_tree.body:\n",
    "    print(node.lineno)"
   ]
  },
  {
   "cell_type": "code",
   "execution_count": 1149,
   "metadata": {},
   "outputs": [],
   "source": [
    "def get_trace(src):\n",
    "    for node in src.body:\n",
    "        data = src.name, node.lineno\n",
    "        print(data)\n",
    "        if isinstance(node, ast.FunctionDef):\n",
    "            get_trace(node)"
   ]
  },
  {
   "cell_type": "code",
   "execution_count": 1150,
   "metadata": {},
   "outputs": [
    {
     "name": "stdout",
     "output_type": "stream",
     "text": [
      "('g', 2)\n",
      "('simple_function', 3)\n",
      "('simple_function', 4)\n",
      "('simple_function', 5)\n",
      "('g', 7)\n",
      "('g', 8)\n",
      "('g', 9)\n",
      "('g', 12)\n"
     ]
    }
   ],
   "source": [
    "get_trace(g_tree)"
   ]
  },
  {
   "cell_type": "markdown",
   "metadata": {},
   "source": [
    "Now that we can get the line data for each node in the AST, we can get the data of the local variables at a particular AST node and use it for substitutions."
   ]
  },
  {
   "cell_type": "code",
   "execution_count": 1151,
   "metadata": {},
   "outputs": [],
   "source": [
    "class VariableInjector(ast.NodeTransformer):  \n",
    "    def __init__(self):\n",
    "        self.mutations = []\n",
    "        self.fn = False\n",
    "        self.local_vars = {}\n",
    "          \n",
    "    def traceit(self, frame, event, arg):\n",
    "        if event == 'line':\n",
    "            function_name = frame.f_code.co_name\n",
    "            lineno = frame.f_lineno\n",
    "            vars = dict(frame.f_locals)\n",
    "            self.coverage.append([function_name, lineno, vars])\n",
    "        return self.traceit\n",
    "\n",
    "    def tracer(self, f):\n",
    "        self.coverage = []\n",
    "        sys.settrace(self.traceit)  # Turn on\n",
    "        f()\n",
    "        sys.settrace(None)    # Turn off\n",
    "\n",
    "    def profile_function(self, f, fn_tree = None):\n",
    "        self.fn = False\n",
    "\n",
    "        self.mutations = []\n",
    "        if fn_tree is None:\n",
    "            fn_tree = ast.parse(inspect.getsource(f)).body[0]\n",
    "        self.tracer(f)\n",
    "\n",
    "        self.seen = set()\n",
    "        self.unstable = set()\n",
    "        self.local_vars = set()\n",
    "        self.browsing = True        \n",
    "        self.visit(fn_tree)\n",
    "        \n",
    "        self.browsing = False\n",
    "        self.visit(fn_tree)\n",
    "            \n",
    "        return (fn_tree, self.mutations)\n",
    "    \n",
    "    def inject_functions(self, src, db):\n",
    "        self.fn = True\n",
    "        self.db = db\n",
    "        self.mutations = []\n",
    "\n",
    "        self.seen = set()\n",
    "        self.browsing = False\n",
    "        self.visit(src)\n",
    "        self.mutations = [(None, x) for x in self.seen] + self.mutations\n",
    "        self.browsing = True\n",
    "        self.visit(src)\n",
    "        \n",
    "        return (src, self.mutations)\n",
    "    \n",
    "                 "
   ]
  },
  {
   "cell_type": "markdown",
   "metadata": {},
   "source": [
    "Currenly our class simply combines our existing methods, and then visits the AST. Now what we have to do is, while visiting the AST, we need to find the in-scope variables and their values at every line of execution. Then, we need to look for constants and check if they can be replaced by some variable or some simple arithmetic expression involving a variable."
   ]
  },
  {
   "cell_type": "code",
   "execution_count": 1152,
   "metadata": {},
   "outputs": [],
   "source": [
    "class VariableInjector(VariableInjector):\n",
    "    def visit_Assign(self, src):\n",
    "        if self.browsing and not self.fn:\n",
    "            for v in src.targets:\n",
    "                self.check_seens(v)\n",
    "\n",
    "        return self.generic_visit(src)\n",
    "    \n",
    "    def visit_AugAssign(self, src):\n",
    "        if self.browsing and not self.fn:\n",
    "            v = src.target\n",
    "            self.check_seens(v)\n",
    "\n",
    "        return self.generic_visit(src)\n",
    "    \n",
    "    def visit_For(self, src):\n",
    "        if self.browsing and not self.fn:\n",
    "            v = src.target\n",
    "            self.check_seens(v, True)\n",
    "\n",
    "        return self.generic_visit(src)\n",
    "            \n",
    "    def check_seens(self, v, seen=False):\n",
    "        if isinstance(v, ast.Tuple):\n",
    "            for var in v.elts: self.check_seens(var, seen)\n",
    "        elif isinstance(v, ast.Subscript): self.check_seens(v.value, seen)\n",
    "        else: \n",
    "            if seen: self.seen.add(v.id)\n",
    "            if v.id in self.seen: self.unstable.add(v.id)\n",
    "            else: self.seen.add(v.id)\n",
    "    \n",
    "    def visit_FunctionDef(self, src):\n",
    "        if self.browsing and self.fn and src.name == \"pymutator_profile_function\":\n",
    "            return ast.FunctionDef(name=src.name, body=[*list(self.seen)] + src.body, decorator_list=src.decorator_list, args=src.args)\n",
    "        self.args = [x.arg for x in src.args.args + src.args.kwonlyargs]\n",
    "        for node in src.body:\n",
    "            if not self.browsing: self.get_locals(src.name, node.lineno)\n",
    "            self.visit(node)\n",
    "        return src\n",
    "        "
   ]
  },
  {
   "cell_type": "markdown",
   "metadata": {},
   "source": [
    "Moreover, we want that variables that are assigned lists to be usable by indexing the list. For this, we need to flatten the lists/dicts assigned in our code. This is much of the reason for the visit_Constant function's complexity; if we have a singular value we try substituting that, else we flatten the list and insert tuples of (node, node_value) that will be used for the substitution. "
   ]
  },
  {
   "cell_type": "code",
   "execution_count": 1153,
   "metadata": {},
   "outputs": [
    {
     "name": "stdout",
     "output_type": "stream",
     "text": [
      "Module(\n",
      "    body=[\n",
      "        Expr(\n",
      "            value=Subscript(\n",
      "                value=Name(id='L', ctx=Load()),\n",
      "                slice=Constant(value=1),\n",
      "                ctx=Load()))],\n",
      "    type_ignores=[])\n",
      "Module(\n",
      "    body=[\n",
      "        Expr(\n",
      "            value=List(\n",
      "                elts=[\n",
      "                    Constant(value=1),\n",
      "                    Constant(value=2),\n",
      "                    Constant(value=3)],\n",
      "                ctx=Load()))],\n",
      "    type_ignores=[])\n",
      "Module(\n",
      "    body=[\n",
      "        Expr(\n",
      "            value=Subscript(\n",
      "                value=Name(id='D', ctx=Load()),\n",
      "                slice=Constant(value='x'),\n",
      "                ctx=Load()))],\n",
      "    type_ignores=[])\n"
     ]
    }
   ],
   "source": [
    "print_ast(ast.parse(\"L[1]\"))\n",
    "print_ast(ast.parse(\"[1,2,3]\"))\n",
    "print_ast(ast.parse(\"D['x']\"))"
   ]
  },
  {
   "cell_type": "code",
   "execution_count": 1154,
   "metadata": {},
   "outputs": [],
   "source": [
    "class VariableInjector(VariableInjector):\n",
    "    def visit_Constant(self, src):\n",
    "        if len(self.local_vars) == 0 or self.browsing: return src\n",
    "\n",
    "        queue = list(self.local_vars.keys()).copy()\n",
    "        random.shuffle(queue)\n",
    "        while len(queue) != 0:\n",
    "            n = len(queue) - 1\n",
    "            if isinstance(queue[n], tuple):\n",
    "                val = queue[n][1]\n",
    "                node = queue[n][0]\n",
    "            else:\n",
    "                val = self.local_vars[queue[n]]\n",
    "                node = queue[n]\n",
    "\n",
    "            queue.pop()\n",
    "            new_node = None\n",
    "\n",
    "            if isinstance(val, list) or isinstance(val, tuple):\n",
    "                rand_val = list(enumerate(val)).copy()\n",
    "                random.shuffle(rand_val)\n",
    "                for i in range(len(rand_val)):\n",
    "                    queue.append((ast.Subscript(value=node, slice=ast.Constant(rand_val[i][0])), rand_val[i][1]))\n",
    "                \n",
    "            elif isinstance(val, dict):\n",
    "                rand_val = list(val.keys()).copy()\n",
    "                random.shuffle(rand_val)\n",
    "                for i in rand_val:\n",
    "                    queue.append((ast.Subscript(value=node, slice=ast.Constant(i)), val[i]))\n",
    "\n",
    "            else: new_node = self.unify_value(src, node, val)\n",
    "            \n",
    "            if new_node is not None: return new_node\n",
    "            \n",
    "        return src"
   ]
  },
  {
   "cell_type": "code",
   "execution_count": 1155,
   "metadata": {},
   "outputs": [
    {
     "name": "stdout",
     "output_type": "stream",
     "text": [
      "print((522 - 8630) // (-9039 - -4985))\n"
     ]
    }
   ],
   "source": [
    "tree = ast.parse(\"print(2)\")\n",
    "PythonMutator().expand_constants(tree)\n",
    "print_code(tree)"
   ]
  },
  {
   "cell_type": "markdown",
   "metadata": {},
   "source": [
    "Finally, we write the functions to set local_vars and replace basic types with appropriate variable calls.\n",
    "\n",
    "Note that we slightly modify local_vars to support function substitution by changing the local vars set returned by get_locals."
   ]
  },
  {
   "cell_type": "code",
   "execution_count": 1156,
   "metadata": {},
   "outputs": [],
   "source": [
    "class VariableInjector(VariableInjector):\n",
    "    def get_locals(self, fn, ln):\n",
    "        self.local_vars = {}\n",
    "        if self.fn:\n",
    "            for i in range(len(self.db.function_list)):\n",
    "                print_code(self.db.function_list[i]['source'])\n",
    "                fun = self.db.function_list[i]\n",
    "                types = fun['params']\n",
    "                kw = []\n",
    "                for j in types:\n",
    "                    gen_val = None\n",
    "                    if j[1] == 'int':\n",
    "                        gen_val = random.randint(-10000, 10000)\n",
    "                    \n",
    "                    if j[1] == 'str':\n",
    "                        gen_val = \"\".join(random.choices(\"abcdefghijklmnopqrstuvwxyz123456789\", k=random.randint(1, 15)))\n",
    "\n",
    "                    if j[1] == 'float':\n",
    "                        gen_val = 500 * random.randint(1, 10) * (random.random() + random.random()) * (1 - 2 * random.randint(0, 1))\n",
    "\n",
    "                    if [1] == 'bool':\n",
    "                        gen_val = True if random.randint(0, 1) else False\n",
    "                    kw.append(ast.keyword(arg=j[0], value=ast.Constant(value=gen_val)))\n",
    "                print(kw)\n",
    "                try:\n",
    "                    self.local_vars[ast.Call(func=ast.Name(id=fun['source'].name, ctx=ast.Load()), args=[], keywords=kw)] = self.db.simulate(i, [], kw)\n",
    "                    self.seen.add(fun['source'])\n",
    "                except Exception as e:\n",
    "                    print(repr(e))\n",
    "                    continue\n",
    "            return\n",
    "        \n",
    "        for i in self.coverage:\n",
    "            if i[0] == fn and i[1] == ln:\n",
    "                self.local_vars = {ast.parse(k).body[0].value: v for k, v in i[2].items() if k not in self.args and k not in self.unstable}\n",
    "                return\n",
    "        \n",
    "    def unify_value(self, src, var, val):\n",
    "        if src.value == val:\n",
    "            return var\n",
    "        elif isinstance(src.value, int) and isinstance(val, int) or isinstance(src.value, float) and (isinstance(val, int) or isinstance(val, float)):\n",
    "            op_map = {}\n",
    "            try:\n",
    "                op = random.randint(0, 3)\n",
    "                if isinstance(src.value, int): op_map = op_map_int\n",
    "                else: op_map = op_map_float\n",
    "                assert eval(\"(\" + str(src.value) + op_map[3-op][0] + str(val) + \")\" + op_map[op][0] + str(val)) == src.value\n",
    "                node = ast.BinOp(left = ast.Constant(value=eval(\"(\" + str(src.value) + op_map[3-op][0] + str(val) + \")\")), op = op_map[op][1], right = var) \n",
    "                #self.mutations update\n",
    "                self.mutations.append((deepcopy(src), deepcopy(node)))\n",
    "                return node\n",
    "            except ZeroDivisionError: return None\n",
    "            except AssertionError: return None\n",
    "        elif isinstance(src.value, str) and isinstance(val, str):\n",
    "            if src.value in val:\n",
    "                ind = val.find(src.value)\n",
    "                node = ast.Subscript(value = var, slice = ast.Slice(lower=ast.Constant(value=ind), upper=ast.Constant(value=ind+len(src.value))))\n",
    "                #self.mutations update\n",
    "                self.mutations.append((deepcopy(src), deepcopy(node)))\n",
    "                return node\n",
    "            elif val in src.value:\n",
    "                ind = src.value.find(val)\n",
    "                node = ast.BinOp(left = ast.BinOp(left = ast.Constant(value = src.value[:ind]), op = ast.Add(), right = var), op = ast.Add(), right = ast.Constant(value = src.value[ind + len(val):]))\n",
    "                #self.mutations update\n",
    "                self.mutations.append((deepcopy(src), deepcopy(node)))\n",
    "                return node\n",
    "        "
   ]
  },
  {
   "cell_type": "markdown",
   "metadata": {},
   "source": [
    "We have written the functions that traverse the tree and make appropriate calls to functions to get our local variables. Since we are running this entire thing on a function, the outermost scope will always be handled, and then similiarly inner scopes will get handled. One thing we should note is, when using get_locals, we should avoid substituting constants with arguments to the function, because it won't be consistent across function calls."
   ]
  },
  {
   "cell_type": "code",
   "execution_count": 1157,
   "metadata": {},
   "outputs": [
    {
     "name": "stdout",
     "output_type": "stream",
     "text": [
      "def g():\n",
      "\n",
      "    def simple_function(x):\n",
      "        z = 2\n",
      "        y = 3 * x\n",
      "        return y\n",
      "    a = simple_function(2)\n",
      "    b = 0\n",
      "    for _ in range(6):\n",
      "        b += 2 * a\n",
      "    print('The answer is', b)\n",
      "The answer is 72\n"
     ]
    }
   ],
   "source": [
    "print_code(ast.parse(inspect.getsource(g)))\n",
    "g()"
   ]
  },
  {
   "cell_type": "code",
   "execution_count": 1158,
   "metadata": {},
   "outputs": [
    {
     "name": "stdout",
     "output_type": "stream",
     "text": [
      "The answer is 72\n",
      "def g():\n",
      "\n",
      "    def simple_function(x):\n",
      "        z = 2\n",
      "        y = 6 // z * x\n",
      "        return y\n",
      "    a = simple_function(2)\n",
      "    b = 6 - a\n",
      "    for _ in range(a):\n",
      "        b += (8 - a) * a\n",
      "    print('The answer is', b)\n"
     ]
    }
   ],
   "source": [
    "new_g_code = ast.unparse(VariableInjector().profile_function(g)[0])\n",
    "print(new_g_code)"
   ]
  },
  {
   "cell_type": "code",
   "execution_count": 1159,
   "metadata": {},
   "outputs": [
    {
     "name": "stdout",
     "output_type": "stream",
     "text": [
      "The answer is 72\n"
     ]
    }
   ],
   "source": [
    "exec(new_g_code)\n",
    "g()"
   ]
  },
  {
   "cell_type": "markdown",
   "metadata": {},
   "source": [
    "Note that using exec to set the value of g currently breaks the VariableInjector because it is unable to find the source code of the function through inspect. Instead, we create a temporary function inside the PythonMutator class and modify that so any code can have variables injected."
   ]
  },
  {
   "cell_type": "code",
   "execution_count": 1160,
   "metadata": {},
   "outputs": [],
   "source": [
    "class PythonMutator(PythonMutator):\n",
    "    sample_tree = ast.parse('''\n",
    "def pymutator_profile_function():\n",
    "    pass\n",
    "''')\n",
    "\n",
    "    def inject_variables(self, src):\n",
    "        node = deepcopy(self.sample_tree)\n",
    "        node.body[0].body = src.body\n",
    "        node = ast.fix_missing_locations(node)\n",
    "\n",
    "        current_module = sys.modules[__name__]\n",
    "        code = compile(node, filename=\"<ast>\", mode=\"exec\")\n",
    "        exec(code, current_module.__dict__)\n",
    "\n",
    "        n = VariableInjector().profile_function(pymutator_profile_function, node.body[0])\n",
    "        self.mutations.extend(n[1])\n",
    "        \n",
    "        return src\n",
    "    \n",
    "class PythonMutator(PythonMutator):\n",
    "    def inject_functions(self, src, db):\n",
    "        node = deepcopy(self.sample_tree)\n",
    "        node.body[0].body = src.body\n",
    "        node = ast.fix_missing_locations(node)\n",
    "\n",
    "        current_module = sys.modules[__name__]\n",
    "        code = compile(node, filename=\"<ast>\", mode=\"exec\")\n",
    "        exec(code, current_module.__dict__)\n",
    "\n",
    "        n = VariableInjector().inject_functions(node, db)\n",
    "        self.mutations.extend(n[1])\n",
    "        \n",
    "        \n",
    "        return src        "
   ]
  },
  {
   "cell_type": "code",
   "execution_count": 1161,
   "metadata": {},
   "outputs": [
    {
     "name": "stdout",
     "output_type": "stream",
     "text": [
      "hello\n",
      "a = 'hello world'\n",
      "print(a[0:5])\n"
     ]
    }
   ],
   "source": [
    "test_str = ast.parse('''\n",
    "a = \"hello world\"\n",
    "print(\"hello\")                     \n",
    "''')\n",
    "print_code(PythonMutator().inject_variables(test_str))"
   ]
  },
  {
   "cell_type": "code",
   "execution_count": 1162,
   "metadata": {},
   "outputs": [
    {
     "name": "stdout",
     "output_type": "stream",
     "text": [
      "[2, 4, 6]\n",
      "[1, 2, 3]\n",
      "L = [1, 2, 3]\n",
      "a = [int(L[1]), int(12 // L[2]), int(5 + L[0])]\n",
      "print(a)\n",
      "print(L)\n"
     ]
    }
   ],
   "source": [
    "test_list = ast.parse('''\n",
    "L = [1,2,3]\n",
    "a=[int(2),int(4),int(6)]\n",
    "print(a)\n",
    "print(L)                    \n",
    "''')\n",
    "\n",
    "PythonMutator().inject_variables(test_list)\n",
    "print_code(test_list)"
   ]
  },
  {
   "cell_type": "code",
   "execution_count": 1163,
   "metadata": {},
   "outputs": [
    {
     "name": "stdout",
     "output_type": "stream",
     "text": [
      "def simple_function(x):\n",
      "    z = 2\n",
      "    y = 3 * x\n",
      "    return y\n",
      "s = 'Hello world!'\n",
      "a = simple_function(2)\n",
      "b = 0\n",
      "for _ in range(6):\n",
      "    b += 2 * a\n",
      "print('Hello!')\n",
      "=============\n",
      "Hello!\n",
      "Hello!\n",
      "=============\n",
      "def simple_function(x):\n",
      "    z = -45761036 // 2854 // (7553 + -15570)\n",
      "    QrejjR4d6JivawSkP3g = 3 - z\n",
      "    y = x * (z + QrejjR4d6JivawSkP3g)\n",
      "    return y\n",
      "s = 'Hello world!'\n",
      "a = simple_function(-6876204 // 2969 + (4578 + (6703 - 76015203 // 8481)))\n",
      "TLGN7Z8CBSkIet = 6\n",
      "b = (TLGN7Z8CBSkIet - a) // a\n",
      "_ = 0\n",
      "while _ < -54384 // a - a + 54456 // a:\n",
      "    xLuvXdVR8FuUKnJOipUb = a\n",
      "    b += xLuvXdVR8FuUKnJOipUb * (a + (a + -10))\n",
      "    _ += 1\n",
      "MtXw5gErinFa = print\n",
      "_6voSE3xP9Rh4af2x = MtXw5gErinFa\n",
      "_48vvrjrDEcB = _6voSE3xP9Rh4af2x\n",
      "_48vvrjrDEcB('Hello!')\n"
     ]
    }
   ],
   "source": [
    "g_code = ast.parse('''\n",
    "def simple_function(x):\n",
    "    z = 2\n",
    "    y = 3 * x\n",
    "    return y\n",
    "s = \"Hello world!\"\n",
    "a = simple_function(2)\n",
    "b = 0\n",
    "for _ in range(6):\n",
    "    b += 2 * a\n",
    "print(\"Hello!\")\n",
    "''')\n",
    "\n",
    "print_code(g_code)\n",
    "print(\"=============\")\n",
    "PythonMutator().expand_constants(g_code)\n",
    "PythonMutator().expand_constants(g_code)\n",
    "PythonMutator().inject_variables(g_code)\n",
    "PythonMutator().transform_assign(g_code)\n",
    "PythonMutator().expand_constants(g_code)\n",
    "PythonMutator().inject_variables(g_code)\n",
    "PythonMutator().transform_assign(g_code)\n",
    "PythonMutator().swap_numbers(g_code)\n",
    "PythonMutator().transform_for(g_code)\n",
    "print(\"=============\")\n",
    "print_code(g_code)"
   ]
  },
  {
   "cell_type": "markdown",
   "metadata": {},
   "source": [
    "Because the equality of python AST nodes is checked by reference address, we need to define a custom function to test equality of two AST nodes. Here it is:"
   ]
  },
  {
   "cell_type": "code",
   "execution_count": 1164,
   "metadata": {},
   "outputs": [],
   "source": [
    "from itertools import zip_longest\n",
    "from typing import Union\n",
    "\n",
    "\n",
    "def compare_ast(node1: Union[ast.expr, list[ast.expr]], node2: Union[ast.expr, list[ast.expr]]) -> bool:\n",
    "    if type(node1) is not type(node2):\n",
    "        return False\n",
    "\n",
    "    if isinstance(node1, ast.AST):\n",
    "        for k, v in vars(node1).items():\n",
    "            if k in {\"lineno\", \"end_lineno\", \"col_offset\", \"end_col_offset\", \"parent\"}:\n",
    "                continue\n",
    "            if not compare_ast(v, getattr(node2, k)):\n",
    "                return False\n",
    "        return True\n",
    "\n",
    "    elif isinstance(node1, list) and isinstance(node2, list):\n",
    "        return all(compare_ast(n1, n2) for n1, n2 in zip_longest(node1, node2))\n",
    "    else:\n",
    "        return node1 == node2"
   ]
  },
  {
   "cell_type": "code",
   "execution_count": 1165,
   "metadata": {},
   "outputs": [],
   "source": [
    "class PythonMutator(PythonMutator):\n",
    "    def reverse_mutation(self, src, log=False):\n",
    "        n = len(self.mutations)\n",
    "        self.reverse = self.mutations[n-1]\n",
    "        if log:\n",
    "            print_code(self.reverse[0])\n",
    "            print(\"<==\")\n",
    "            print_code(self.reverse[1])\n",
    "            print(\"==\")\n",
    "        self.compare = False\n",
    "        self.visit(src)\n",
    "        self.mutations.pop()\n",
    "        \n",
    "    def generic_visit(self, src):\n",
    "        if self.reverse is not None and not self.compare:\n",
    "            self.compare = True\n",
    "            test = compare_ast(src, self.reverse[1])\n",
    "            self.compare = False\n",
    "            if test:\n",
    "                src = self.reverse[0]\n",
    "                self.reverse = None\n",
    "                return src\n",
    "        return super().generic_visit(src)"
   ]
  },
  {
   "cell_type": "code",
   "execution_count": 1166,
   "metadata": {},
   "outputs": [
    {
     "name": "stdout",
     "output_type": "stream",
     "text": [
      "x = (-8974 - -1070 - -7907) * (16552 // 4138)\n"
     ]
    }
   ],
   "source": [
    "pm = PythonMutator()\n",
    "alg_tree = ast.parse(\"x = 3 * 4\")\n",
    "const_one = alg_tree.body[0].value.left\n",
    "print_code(pm.expand_constants(alg_tree))\n",
    "const_two = alg_tree.body[0].value.left"
   ]
  },
  {
   "cell_type": "code",
   "execution_count": 1167,
   "metadata": {},
   "outputs": [
    {
     "name": "stdout",
     "output_type": "stream",
     "text": [
      "Constant(value=3)\n",
      "BinOp(\n",
      "    left=BinOp(\n",
      "        left=Constant(value=-8974),\n",
      "        op=Sub(),\n",
      "        right=Constant(value=-1070)),\n",
      "    op=Sub(),\n",
      "    right=Constant(value=-7907))\n"
     ]
    }
   ],
   "source": [
    "print_ast(const_one)\n",
    "print_ast(const_two)"
   ]
  },
  {
   "cell_type": "code",
   "execution_count": 1168,
   "metadata": {},
   "outputs": [],
   "source": [
    "pm.mutations.append((const_one, const_two))"
   ]
  },
  {
   "cell_type": "code",
   "execution_count": 1169,
   "metadata": {},
   "outputs": [
    {
     "name": "stdout",
     "output_type": "stream",
     "text": [
      "x = 3 * (16552 // 4138)\n"
     ]
    }
   ],
   "source": [
    "pm.reverse_mutation(alg_tree)\n",
    "print_code(alg_tree)"
   ]
  },
  {
   "cell_type": "markdown",
   "metadata": {},
   "source": [
    "Now that we have found a way to reverse the mutations, all that remains is automatically updating self.mutations, which we have done in the classes."
   ]
  },
  {
   "cell_type": "code",
   "execution_count": 1170,
   "metadata": {},
   "outputs": [
    {
     "name": "stdout",
     "output_type": "stream",
     "text": [
      "x = (6730 + -1610 + -5117) * (8902 + -8898)\n",
      "Constant(value=3)\n",
      "==>\n",
      "BinOp(\n",
      "    left=Constant(value=5120),\n",
      "    op=Add(),\n",
      "    right=Constant(value=-5117))\n",
      "==\n",
      "Constant(value=4)\n",
      "==>\n",
      "BinOp(\n",
      "    left=Constant(value=8902),\n",
      "    op=Add(),\n",
      "    right=Constant(value=-8898))\n",
      "==\n",
      "Constant(value=5120)\n",
      "==>\n",
      "BinOp(\n",
      "    left=Constant(value=6730),\n",
      "    op=Add(),\n",
      "    right=Constant(value=-1610))\n",
      "==\n"
     ]
    }
   ],
   "source": [
    "pm = PythonMutator()\n",
    "alg_tree = ast.parse(\"x = 3 * 4\")\n",
    "pm.expand_constants(alg_tree)\n",
    "print_code(alg_tree)\n",
    "for i in range(len(pm.mutations)):\n",
    "    print_ast(pm.mutations[i][0])\n",
    "    print(\"==>\")\n",
    "    print_ast(pm.mutations[i][1])\n",
    "    print(\"==\")\n"
   ]
  },
  {
   "cell_type": "code",
   "execution_count": 1171,
   "metadata": {},
   "outputs": [
    {
     "name": "stdout",
     "output_type": "stream",
     "text": [
      "x = (5120 + -5117) * (8902 + -8898)\n",
      "x = (5120 + -5117) * 4\n",
      "x = 3 * 4\n"
     ]
    }
   ],
   "source": [
    "pm.reverse_mutation(alg_tree)\n",
    "print_code(alg_tree)\n",
    "pm.reverse_mutation(alg_tree)\n",
    "print_code(alg_tree)\n",
    "pm.reverse_mutation(alg_tree)\n",
    "print_code(alg_tree)"
   ]
  },
  {
   "cell_type": "code",
   "execution_count": 1172,
   "metadata": {},
   "outputs": [
    {
     "name": "stdout",
     "output_type": "stream",
     "text": [
      "6\n",
      "6\n",
      "===\n",
      "x = 5619 // 1873 * (-1383 - (-8015 + 6628))\n",
      "y = -997430616 // x // -8554 - x - (x + (235980 // x - 9978))\n",
      "print(y)\n",
      "===\n",
      "19665\n",
      "<==\n",
      "235980 // x\n",
      "==\n",
      "-83119218\n",
      "<==\n",
      "-997430616 // x\n",
      "==\n",
      "x = 5619 // 1873 * (-1383 - (-8015 + 6628))\n",
      "y = -83119218 // -8554 - x - (x + (19665 - 9978))\n",
      "print(y)\n",
      "===\n",
      "19665 - 9978 + x\n",
      "<==\n",
      "x + (19665 - 9978)\n",
      "==\n",
      "6628 + -8015\n",
      "<==\n",
      "-8015 + 6628\n",
      "==\n",
      "x = 5619 // 1873 * (-1383 - (6628 + -8015))\n",
      "y = -83119218 // -8554 - x - (19665 - 9978 + x)\n",
      "print(y)\n",
      "===\n",
      "(-1383 - (6628 + -8015)) * (5619 // 1873)\n",
      "<==\n",
      "5619 // 1873 * (-1383 - (6628 + -8015))\n",
      "==\n",
      "9717\n",
      "<==\n",
      "-83119218 // -8554\n",
      "==\n",
      "x = (-1383 - (6628 + -8015)) * (5619 // 1873)\n",
      "y = 9717 - x - (19665 - 9978 + x)\n",
      "print(y)\n",
      "===\n"
     ]
    }
   ],
   "source": [
    "pm = PythonMutator()\n",
    "alg_tree = ast.parse('''\n",
    "x = 3 * 4\n",
    "y = 6            \n",
    "print(y)                \n",
    "''')\n",
    "pm.expand_constants(alg_tree)\n",
    "pm.swap_numbers(alg_tree)\n",
    "pm.inject_variables(alg_tree)\n",
    "pm.expand_constants(alg_tree)\n",
    "pm.swap_numbers(alg_tree)\n",
    "pm.inject_variables(alg_tree)\n",
    "print(\"===\")\n",
    "print_code(alg_tree)\n",
    "print(\"===\")\n",
    "for _ in range(3):\n",
    "    pm.reverse_mutation(alg_tree, True)\n",
    "    pm.reverse_mutation(alg_tree, True)\n",
    "    print_code(alg_tree)\n",
    "    print(\"===\")"
   ]
  },
  {
   "cell_type": "code",
   "execution_count": 1173,
   "metadata": {},
   "outputs": [
    {
     "name": "stdout",
     "output_type": "stream",
     "text": [
      "9687\n",
      "<==\n",
      "19665 - 9978\n",
      "==\n",
      "x = (-1383 - (6628 + -8015)) * (5619 // 1873)\n",
      "y = 9717 - x - (9687 + x)\n",
      "print(y)\n",
      "-1387\n",
      "<==\n",
      "6628 + -8015\n",
      "==\n",
      "x = (-1383 - -1387) * (5619 // 1873)\n",
      "y = 9717 - x - (9687 + x)\n",
      "print(y)\n",
      "9699\n",
      "<==\n",
      "9687 + x\n",
      "==\n",
      "x = (-1383 - -1387) * (5619 // 1873)\n",
      "y = 9717 - x - 9699\n",
      "print(y)\n",
      "9705\n",
      "<==\n",
      "9717 - x\n",
      "==\n",
      "x = (-1383 - -1387) * (5619 // 1873)\n",
      "y = 9705 - 9699\n",
      "print(y)\n",
      "5619 // 1873 * (-1383 - -1387)\n",
      "<==\n",
      "(-1383 - -1387) * (5619 // 1873)\n",
      "==\n",
      "x = 5619 // 1873 * (-1383 - -1387)\n",
      "y = 9705 - 9699\n",
      "print(y)\n",
      "4\n",
      "<==\n",
      "-1383 - -1387\n",
      "==\n",
      "x = 5619 // 1873 * 4\n",
      "y = 9705 - 9699\n",
      "print(y)\n",
      "6\n",
      "<==\n",
      "9705 - 9699\n",
      "==\n",
      "x = 5619 // 1873 * 4\n",
      "y = 6\n",
      "print(y)\n",
      "3\n",
      "<==\n",
      "5619 // 1873\n",
      "==\n",
      "x = 3 * 4\n",
      "y = 6\n",
      "print(y)\n"
     ]
    }
   ],
   "source": [
    "while len(pm.mutations) > 0:\n",
    "    pm.reverse_mutation(alg_tree, True)\n",
    "    print_code(alg_tree)"
   ]
  },
  {
   "cell_type": "code",
   "execution_count": 1174,
   "metadata": {},
   "outputs": [
    {
     "data": {
      "text/plain": [
       "'\\nDrawbacks:\\n    1. The code currently works correctly only for those functions where the return type of the functions are annotated.\\n    2. If the -e flag is not provided, the parameters of the function also need to be annotated for the program to work correctly.\\n'"
      ]
     },
     "execution_count": 1174,
     "metadata": {},
     "output_type": "execute_result"
    }
   ],
   "source": [
    "import os\n",
    "import ast\n",
    "import random\n",
    "import builtins\n",
    "import datetime\n",
    "import collections\n",
    "import re\n",
    "import pathlib\n",
    "import decimal\n",
    "import fractions\n",
    "import functools\n",
    "\n",
    "sample_values = {\n",
    "    'int': 42,\n",
    "    'float': 3.14,\n",
    "    'str': 'example string',\n",
    "    'bool': True,\n",
    "    'NoneType': None,\n",
    "    'list': [1, 2, 3, 'a', 'b', 'c'],\n",
    "    'dict': {'key1': 'value1', 'key2': 42},\n",
    "    'set': {1, 2, 3, 'a', 'b', 'c'},\n",
    "    'tuple': (1, 2, 3, 'a', 'b', 'c'),\n",
    "    'bytes': b'example bytes',\n",
    "    'bytearray': bytearray(b'example bytearray'),\n",
    "    'range': range(5),\n",
    "    'complex': 1+2j,\n",
    "    'frozenset': frozenset([1, 2, 3, 'a', 'b', 'c']),\n",
    "    'datetime': datetime.datetime.now(),\n",
    "    'date': datetime.date.today(),\n",
    "    'time': datetime.datetime.now().time(),\n",
    "    'timedelta': datetime.timedelta(days=1),\n",
    "    'memoryview': memoryview(b'example memoryview'),\n",
    "    'deque': collections.deque([1, 2, 3, 'a', 'b', 'c']),\n",
    "    'namedtuple': collections.namedtuple('Point', ['x', 'y'])(1, 2),\n",
    "    'defaultdict': collections.defaultdict(int, {'key1': 1, 'key2': 2}),\n",
    "    'Counter': collections.Counter(['a', 'b', 'c', 'a', 'b', 'b']),\n",
    "    'OrderedDict': collections.OrderedDict([('key1', 'value1'), ('key2', 'value2')]),\n",
    "    'types.FunctionType': (lambda x: x + 1),\n",
    "    'types.LambdaType': (lambda x: x + 1),\n",
    "    'types.BuiltinFunctionType': abs,\n",
    "    'pattern': re.compile(r'\\d+'),\n",
    "    'match': re.match(r'\\d+', '123abc'),\n",
    "    'decimal.Decimal': decimal.Decimal('3.14'),\n",
    "    'fractions.Fraction': fractions.Fraction(3, 4),\n",
    "    'functools.partial': functools.partial(int, base=2),\n",
    "    'map': map(str, [1, 2, 3]),\n",
    "    'filter': filter(lambda x: x > 1, [0, 1, 2, 3]),\n",
    "    'zip': zip([1, 2, 3], ['a', 'b', 'c']),\n",
    "    'reversed': reversed([1, 2, 3]),\n",
    "    'enumerate': enumerate(['a', 'b', 'c']),\n",
    "    'generator': (x * x for x in range(10)),\n",
    "}\n",
    "\n",
    "\n",
    "class FunctionCallChecker(ast.NodeVisitor):\n",
    "    def __init__(self, function_return_types):\n",
    "        self.has_function_call = False\n",
    "        self.calls = []\n",
    "        self.imports = set()\n",
    "        self.function_return_types = function_return_types\n",
    "\n",
    "    def visit_Call(self, node):                             # stores the function name and the return type for each Call Node visited\n",
    "        self.has_function_call = True\n",
    "        func_name = None\n",
    "        if isinstance(node.func, ast.Name):\n",
    "            func_name = node.func.id\n",
    "        elif isinstance(node.func, ast.Attribute):\n",
    "            value = node.func.value\n",
    "            if isinstance(value, ast.Name):\n",
    "                func_name = f\"{value.id}.{node.func.attr}\"\n",
    "            else:\n",
    "                func_name = node.func.attr\n",
    "        \n",
    "        return_type = self.function_return_types.get(func_name, \"Unknown\")\n",
    "        self.calls.append((func_name, return_type))\n",
    "        self.generic_visit(node)\n",
    "\n",
    "class FunctionExtractor:\n",
    "    def __init__(self, exclude_integer_parameters=False):\n",
    "        self.exclude_integer_parameters = exclude_integer_parameters\n",
    "\n",
    "    def extract_python_files(self, folder_path):            # extracts python files from directory provided as argument\n",
    "        all_files = []\n",
    "        for root, dirs, files in os.walk(folder_path):\n",
    "            for file in files:\n",
    "                if file.endswith(\".py\"):\n",
    "                    file_path = os.path.join(root, file)\n",
    "                    all_files.append(file_path)\n",
    "        return all_files\n",
    "    \n",
    "    def extract_function_declarations(self, file_path):     # extracts the functions found from the python file and returns their ast node    \n",
    "        try:\n",
    "            with open(file_path, 'r', encoding=\"utf8\") as f: \n",
    "                code = f.read()\n",
    "            tree = ast.parse(code)\n",
    "        except Exception as e:\n",
    "            print(f\"Syntax error in file {file_path}: {e}\")\n",
    "            return []\n",
    "        self.functions = [node for node in ast.walk(tree) if isinstance(node, ast.FunctionDef)]\n",
    "        return self.functions\n",
    "    \n",
    "    def has_function_call(self, function_node, function_return_types):      # checks if the function has another function call within it\n",
    "        checker = FunctionCallChecker(function_return_types)\n",
    "        checker.visit(function_node)\n",
    "        return checker.has_function_call\n",
    "    \n",
    "    def return_function_calls(self, function_node, function_return_types):  # returns the function calls within a function\n",
    "        checker = FunctionCallChecker(function_return_types)\n",
    "        checker.visit(function_node)\n",
    "        return checker.calls\n",
    "    \n",
    "    def is_integer_function(self, function_node):           # checks if the function has integer arguments and integer return type -> right now works accurately for annotated functions only\n",
    "        flag = False\n",
    "        if not self.exclude_integer_parameters:\n",
    "            for arg in function_node.args.args:\n",
    "                if not arg.annotation:\n",
    "                    return False\n",
    "                \n",
    "        if not function_node.returns:\n",
    "            return False\n",
    "        \n",
    "        if not self.exclude_integer_parameters:\n",
    "            for arg in function_node.args.args:\n",
    "                if arg.annotation:\n",
    "                    if isinstance(arg.annotation, ast.Name) and arg.annotation.id == 'int':\n",
    "                        flag = True\n",
    "\n",
    "        if function_node.returns:\n",
    "            if isinstance(function_node.returns, ast.Name) and function_node.returns.id == 'int':\n",
    "                flag = True\n",
    "        return flag\n",
    "\n",
    "class CallReplacer(ast.NodeTransformer):\n",
    "    def __init__(self, function_return_types):\n",
    "        self.function_return_types = function_return_types\n",
    "\n",
    "    def visit_Call(self, node):                              # visits a Call node and changes the function call itself with a value from the dictionary mapping in sample_values\n",
    "        func_name = None\n",
    "        if isinstance(node.func, ast.Name):\n",
    "            func_name = node.func.id\n",
    "        elif isinstance(node.func, ast.Attribute):\n",
    "            value = node.func.value\n",
    "            if isinstance(value, ast.Name):\n",
    "                func_name = f\"{value.id}.{node.func.attr}\"\n",
    "            else:\n",
    "                func_name = node.func.attr\n",
    "        \n",
    "        return_type = self.function_return_types.get(func_name, \"Unknown\")\n",
    "        if return_type != \"Unknown\" and return_type in sample_values:\n",
    "            value_to_replace = sample_values[return_type]\n",
    "            return ast.copy_location(ast.Constant(value_to_replace), node)\n",
    "        return self.generic_visit(node)\n",
    "\n",
    "def extract_function_return_types(functions):                # returns the return type of the function node passed as an argument. If there is no annotation, then \"Unknown\" is returned\n",
    "    return_types = {}\n",
    "    for function in functions:\n",
    "        if function.returns and isinstance(function.returns, ast.Name):\n",
    "            return_types[function.name] = function.returns.id\n",
    "        else:\n",
    "            return_types[function.name] = \"Unknown\"\n",
    "    return return_types\n",
    "\n",
    "def extract_function_parameters(function_node):\n",
    "    parameters = []\n",
    "    \n",
    "    for arg in function_node.args.args:\n",
    "        param_name = arg.arg\n",
    "        param_type = ast.unparse(arg.annotation) if arg.annotation else None\n",
    "        parameters.append((param_name, param_type))\n",
    "    \n",
    "    if hasattr(function_node.args, 'kwonlyargs'):\n",
    "        for arg in function_node.args.kwonlyargs:\n",
    "            param_name = arg.arg\n",
    "            param_type = ast.unparse(arg.annotation) if arg.annotation else None\n",
    "            parameters.append((param_name, param_type))\n",
    "   \n",
    "    if function_node.args.vararg:\n",
    "        vararg_name = function_node.args.vararg.arg\n",
    "        vararg_type = ast.unparse(function_node.args.vararg.annotation) if function_node.args.vararg.annotation else None\n",
    "        parameters.append((vararg_name, vararg_type))\n",
    "\n",
    "    if function_node.args.kwarg:\n",
    "        kwarg_name = function_node.args.kwarg.arg\n",
    "        kwarg_type = ast.unparse(function_node.args.kwarg.annotation) if function_node.args.kwarg.annotation else None\n",
    "        parameters.append((kwarg_name, kwarg_type))\n",
    "    return parameters\n",
    "\n",
    "class FunctionDB:\n",
    "    def __init__(self, path):\n",
    "        self.extractor = FunctionExtractor(exclude_integer_parameters=False)\n",
    "\n",
    "        files = self.extractor.extract_python_files(path)\n",
    "        self.function_database = []\n",
    "\n",
    "        all_functions = []\n",
    "        for file in files:\n",
    "            functions = self.extractor.extract_function_declarations(file)\n",
    "            all_functions.extend(functions)\n",
    "\n",
    "        function_return_types = extract_function_return_types(all_functions)\n",
    "        builtins_set = set(dir(builtins))\n",
    "\n",
    "        for function in all_functions:\n",
    "            flag = True\n",
    "            if self.extractor.has_function_call(function, function_return_types):    # if function has function call within it\n",
    "                calls = self.extractor.return_function_calls(function, function_return_types)\n",
    "                for call, return_type in calls:\n",
    "                    if call not in builtins_set:                                # if the current call in question is not a builtin\n",
    "                        value_to_be_replaced = None\n",
    "                        if return_type != \"Unknown\":                            # if return type is not unknown then replace the call (if the datatype is in the sample_values dict)\n",
    "                            try:\n",
    "                                value_to_be_replaced = sample_values[return_type]\n",
    "                            except:\n",
    "                                flag = False\n",
    "                            # Replace the function call with the sample value\n",
    "                            replacer = CallReplacer(function_return_types)\n",
    "                            function = replacer.visit(function)\n",
    "                        else:                                                   # if not then this function is not included in the database\n",
    "                            flag = False\n",
    "            if flag:\n",
    "                self.function_database.append(function)\n",
    "\n",
    "        self.function_list = []\n",
    "\n",
    "        for function in self.function_database:\n",
    "            function_node = function\n",
    "            dictionary = dict()\n",
    "            dictionary[\"source\"] = function_node\n",
    "            dictionary[\"params\"] = extract_function_parameters(function_node)\n",
    "            self.function_list.append(dictionary)\n",
    "\n",
    "    def simulate(self, ind, args, keywords):\n",
    "        # index of function in function_list, args and kwargs\n",
    "        src = self.function_list[ind][\"source\"]\n",
    "        name = src.name\n",
    "        exec(ast.unparse(src))\n",
    "        print_code(ast.Expr(value=ast.Call(func=ast.Name(id=name, ctx=ast.Load()), args=args, keywords=keywords)))\n",
    "        return eval(ast.unparse(ast.Expr(value=ast.Call(func=ast.Name(id=name, ctx=ast.Load()), args=args, keywords=keywords))))\n",
    "\n",
    "\n",
    "# To access the source of a function --> function_list[<index>][\"source\"]\n",
    "# To access the parameters of a function --> function_list[<index>][\"params\"]\n",
    "\n",
    "\n",
    "\"\"\"\n",
    "Drawbacks:\n",
    "    1. The code currently works correctly only for those functions where the return type of the functions are annotated.\n",
    "    2. If the -e flag is not provided, the parameters of the function also need to be annotated for the program to work correctly.\n",
    "\"\"\""
   ]
  },
  {
   "cell_type": "code",
   "execution_count": 1175,
   "metadata": {},
   "outputs": [
    {
     "name": "stdout",
     "output_type": "stream",
     "text": [
      "Syntax error in file .\\potentialFunctionDatabaseProjects\\potentialFunctionDatabaseProjects\\ansible\\test\\integration\\targets\\ansible-doc\\broken-docs\\collections\\ansible_collections\\testns\\testcol\\plugins\\cache\\notjsonfile.py: [Errno 2] No such file or directory: '.\\\\potentialFunctionDatabaseProjects\\\\potentialFunctionDatabaseProjects\\\\ansible\\\\test\\\\integration\\\\targets\\\\ansible-doc\\\\broken-docs\\\\collections\\\\ansible_collections\\\\testns\\\\testcol\\\\plugins\\\\cache\\\\notjsonfile.py'\n",
      "Syntax error in file .\\potentialFunctionDatabaseProjects\\potentialFunctionDatabaseProjects\\ansible\\test\\integration\\targets\\ansible-doc\\broken-docs\\collections\\ansible_collections\\testns\\testcol\\plugins\\inventory\\statichost.py: [Errno 2] No such file or directory: '.\\\\potentialFunctionDatabaseProjects\\\\potentialFunctionDatabaseProjects\\\\ansible\\\\test\\\\integration\\\\targets\\\\ansible-doc\\\\broken-docs\\\\collections\\\\ansible_collections\\\\testns\\\\testcol\\\\plugins\\\\inventory\\\\statichost.py'\n",
      "Syntax error in file .\\potentialFunctionDatabaseProjects\\potentialFunctionDatabaseProjects\\ansible\\test\\integration\\targets\\ansible-doc\\broken-docs\\collections\\ansible_collections\\testns\\testcol\\plugins\\lookup\\noop.py: [Errno 2] No such file or directory: '.\\\\potentialFunctionDatabaseProjects\\\\potentialFunctionDatabaseProjects\\\\ansible\\\\test\\\\integration\\\\targets\\\\ansible-doc\\\\broken-docs\\\\collections\\\\ansible_collections\\\\testns\\\\testcol\\\\plugins\\\\lookup\\\\noop.py'\n",
      "Syntax error in file .\\potentialFunctionDatabaseProjects\\potentialFunctionDatabaseProjects\\ansible\\test\\integration\\targets\\ansible-doc\\broken-docs\\collections\\ansible_collections\\testns\\testcol\\plugins\\modules\\fakemodule.py: [Errno 2] No such file or directory: '.\\\\potentialFunctionDatabaseProjects\\\\potentialFunctionDatabaseProjects\\\\ansible\\\\test\\\\integration\\\\targets\\\\ansible-doc\\\\broken-docs\\\\collections\\\\ansible_collections\\\\testns\\\\testcol\\\\plugins\\\\modules\\\\fakemodule.py'\n",
      "Syntax error in file .\\potentialFunctionDatabaseProjects\\potentialFunctionDatabaseProjects\\ansible\\test\\integration\\targets\\ansible-doc\\broken-docs\\collections\\ansible_collections\\testns\\testcol\\plugins\\modules\\notrealmodule.py: [Errno 2] No such file or directory: '.\\\\potentialFunctionDatabaseProjects\\\\potentialFunctionDatabaseProjects\\\\ansible\\\\test\\\\integration\\\\targets\\\\ansible-doc\\\\broken-docs\\\\collections\\\\ansible_collections\\\\testns\\\\testcol\\\\plugins\\\\modules\\\\notrealmodule.py'\n",
      "Syntax error in file .\\potentialFunctionDatabaseProjects\\potentialFunctionDatabaseProjects\\ansible\\test\\integration\\targets\\ansible-doc\\broken-docs\\collections\\ansible_collections\\testns\\testcol\\plugins\\modules\\randommodule.py: [Errno 2] No such file or directory: '.\\\\potentialFunctionDatabaseProjects\\\\potentialFunctionDatabaseProjects\\\\ansible\\\\test\\\\integration\\\\targets\\\\ansible-doc\\\\broken-docs\\\\collections\\\\ansible_collections\\\\testns\\\\testcol\\\\plugins\\\\modules\\\\randommodule.py'\n",
      "Syntax error in file .\\potentialFunctionDatabaseProjects\\potentialFunctionDatabaseProjects\\ansible\\test\\integration\\targets\\ansible-doc\\broken-docs\\collections\\ansible_collections\\testns\\testcol\\plugins\\vars\\noop_vars_plugin.py: [Errno 2] No such file or directory: '.\\\\potentialFunctionDatabaseProjects\\\\potentialFunctionDatabaseProjects\\\\ansible\\\\test\\\\integration\\\\targets\\\\ansible-doc\\\\broken-docs\\\\collections\\\\ansible_collections\\\\testns\\\\testcol\\\\plugins\\\\vars\\\\noop_vars_plugin.py'\n",
      "Syntax error in file .\\potentialFunctionDatabaseProjects\\potentialFunctionDatabaseProjects\\ansible\\test\\integration\\targets\\ansible-doc\\collections\\ansible_collections\\testns\\testcol\\plugins\\filter\\filter_subdir\\in_subdir.py: [Errno 2] No such file or directory: '.\\\\potentialFunctionDatabaseProjects\\\\potentialFunctionDatabaseProjects\\\\ansible\\\\test\\\\integration\\\\targets\\\\ansible-doc\\\\collections\\\\ansible_collections\\\\testns\\\\testcol\\\\plugins\\\\filter\\\\filter_subdir\\\\in_subdir.py'\n",
      "Syntax error in file .\\potentialFunctionDatabaseProjects\\potentialFunctionDatabaseProjects\\ansible\\test\\integration\\targets\\ansible-doc\\collections\\ansible_collections\\testns\\testcol2\\plugins\\doc_fragments\\deprecation.py: [Errno 2] No such file or directory: '.\\\\potentialFunctionDatabaseProjects\\\\potentialFunctionDatabaseProjects\\\\ansible\\\\test\\\\integration\\\\targets\\\\ansible-doc\\\\collections\\\\ansible_collections\\\\testns\\\\testcol2\\\\plugins\\\\doc_fragments\\\\deprecation.py'\n",
      "Syntax error in file .\\potentialFunctionDatabaseProjects\\potentialFunctionDatabaseProjects\\ansible\\test\\integration\\targets\\ansible-doc\\collections\\ansible_collections\\testns\\testcol2\\plugins\\doc_fragments\\version_added.py: [Errno 2] No such file or directory: '.\\\\potentialFunctionDatabaseProjects\\\\potentialFunctionDatabaseProjects\\\\ansible\\\\test\\\\integration\\\\targets\\\\ansible-doc\\\\collections\\\\ansible_collections\\\\testns\\\\testcol2\\\\plugins\\\\doc_fragments\\\\version_added.py'\n",
      "Syntax error in file .\\potentialFunctionDatabaseProjects\\potentialFunctionDatabaseProjects\\ansible\\test\\integration\\targets\\ansible-test-config-invalid\\ansible_collections\\ns\\col\\tests\\unit\\plugins\\module_utils\\test_test.py: [Errno 2] No such file or directory: '.\\\\potentialFunctionDatabaseProjects\\\\potentialFunctionDatabaseProjects\\\\ansible\\\\test\\\\integration\\\\targets\\\\ansible-test-config-invalid\\\\ansible_collections\\\\ns\\\\col\\\\tests\\\\unit\\\\plugins\\\\module_utils\\\\test_test.py'\n",
      "Syntax error in file .\\potentialFunctionDatabaseProjects\\potentialFunctionDatabaseProjects\\ansible\\test\\integration\\targets\\ansible-test-docker\\ansible_collections\\ns\\col\\tests\\unit\\plugins\\module_utils\\test_my_util.py: [Errno 2] No such file or directory: '.\\\\potentialFunctionDatabaseProjects\\\\potentialFunctionDatabaseProjects\\\\ansible\\\\test\\\\integration\\\\targets\\\\ansible-test-docker\\\\ansible_collections\\\\ns\\\\col\\\\tests\\\\unit\\\\plugins\\\\module_utils\\\\test_my_util.py'\n",
      "Syntax error in file .\\potentialFunctionDatabaseProjects\\potentialFunctionDatabaseProjects\\ansible\\test\\integration\\targets\\ansible-test-no-tty\\ansible_collections\\ns\\col\\tests\\integration\\targets\\no-tty\\assert-no-tty.py: [Errno 2] No such file or directory: '.\\\\potentialFunctionDatabaseProjects\\\\potentialFunctionDatabaseProjects\\\\ansible\\\\test\\\\integration\\\\targets\\\\ansible-test-no-tty\\\\ansible_collections\\\\ns\\\\col\\\\tests\\\\integration\\\\targets\\\\no-tty\\\\assert-no-tty.py'\n",
      "Syntax error in file .\\potentialFunctionDatabaseProjects\\potentialFunctionDatabaseProjects\\ansible\\test\\integration\\targets\\ansible-test-sanity-shebang\\ansible_collections\\ns\\col\\tests\\integration\\targets\\valid\\env_python.py: [Errno 2] No such file or directory: '.\\\\potentialFunctionDatabaseProjects\\\\potentialFunctionDatabaseProjects\\\\ansible\\\\test\\\\integration\\\\targets\\\\ansible-test-sanity-shebang\\\\ansible_collections\\\\ns\\\\col\\\\tests\\\\integration\\\\targets\\\\valid\\\\env_python.py'\n",
      "Syntax error in file .\\potentialFunctionDatabaseProjects\\potentialFunctionDatabaseProjects\\ansible\\test\\integration\\targets\\ansible-test-sanity-validate-modules\\ansible_collections\\ns\\col\\plugins\\lookup\\import_order_lookup.py: [Errno 2] No such file or directory: '.\\\\potentialFunctionDatabaseProjects\\\\potentialFunctionDatabaseProjects\\\\ansible\\\\test\\\\integration\\\\targets\\\\ansible-test-sanity-validate-modules\\\\ansible_collections\\\\ns\\\\col\\\\plugins\\\\lookup\\\\import_order_lookup.py'\n",
      "Syntax error in file .\\potentialFunctionDatabaseProjects\\potentialFunctionDatabaseProjects\\ansible\\test\\integration\\targets\\ansible-test-sanity-validate-modules\\ansible_collections\\ns\\col\\plugins\\modules\\check_mode_attribute_1.py: [Errno 2] No such file or directory: '.\\\\potentialFunctionDatabaseProjects\\\\potentialFunctionDatabaseProjects\\\\ansible\\\\test\\\\integration\\\\targets\\\\ansible-test-sanity-validate-modules\\\\ansible_collections\\\\ns\\\\col\\\\plugins\\\\modules\\\\check_mode_attribute_1.py'\n",
      "Syntax error in file .\\potentialFunctionDatabaseProjects\\potentialFunctionDatabaseProjects\\ansible\\test\\integration\\targets\\ansible-test-sanity-validate-modules\\ansible_collections\\ns\\col\\plugins\\modules\\check_mode_attribute_2.py: [Errno 2] No such file or directory: '.\\\\potentialFunctionDatabaseProjects\\\\potentialFunctionDatabaseProjects\\\\ansible\\\\test\\\\integration\\\\targets\\\\ansible-test-sanity-validate-modules\\\\ansible_collections\\\\ns\\\\col\\\\plugins\\\\modules\\\\check_mode_attribute_2.py'\n",
      "Syntax error in file .\\potentialFunctionDatabaseProjects\\potentialFunctionDatabaseProjects\\ansible\\test\\integration\\targets\\ansible-test-sanity-validate-modules\\ansible_collections\\ns\\col\\plugins\\modules\\check_mode_attribute_3.py: [Errno 2] No such file or directory: '.\\\\potentialFunctionDatabaseProjects\\\\potentialFunctionDatabaseProjects\\\\ansible\\\\test\\\\integration\\\\targets\\\\ansible-test-sanity-validate-modules\\\\ansible_collections\\\\ns\\\\col\\\\plugins\\\\modules\\\\check_mode_attribute_3.py'\n",
      "Syntax error in file .\\potentialFunctionDatabaseProjects\\potentialFunctionDatabaseProjects\\ansible\\test\\integration\\targets\\ansible-test-sanity-validate-modules\\ansible_collections\\ns\\col\\plugins\\modules\\check_mode_attribute_4.py: [Errno 2] No such file or directory: '.\\\\potentialFunctionDatabaseProjects\\\\potentialFunctionDatabaseProjects\\\\ansible\\\\test\\\\integration\\\\targets\\\\ansible-test-sanity-validate-modules\\\\ansible_collections\\\\ns\\\\col\\\\plugins\\\\modules\\\\check_mode_attribute_4.py'\n",
      "Syntax error in file .\\potentialFunctionDatabaseProjects\\potentialFunctionDatabaseProjects\\ansible\\test\\integration\\targets\\ansible-test-sanity-validate-modules\\ansible_collections\\ns\\col\\plugins\\modules\\check_mode_attribute_5.py: [Errno 2] No such file or directory: '.\\\\potentialFunctionDatabaseProjects\\\\potentialFunctionDatabaseProjects\\\\ansible\\\\test\\\\integration\\\\targets\\\\ansible-test-sanity-validate-modules\\\\ansible_collections\\\\ns\\\\col\\\\plugins\\\\modules\\\\check_mode_attribute_5.py'\n",
      "Syntax error in file .\\potentialFunctionDatabaseProjects\\potentialFunctionDatabaseProjects\\ansible\\test\\integration\\targets\\ansible-test-sanity-validate-modules\\ansible_collections\\ns\\col\\plugins\\modules\\check_mode_attribute_6.py: [Errno 2] No such file or directory: '.\\\\potentialFunctionDatabaseProjects\\\\potentialFunctionDatabaseProjects\\\\ansible\\\\test\\\\integration\\\\targets\\\\ansible-test-sanity-validate-modules\\\\ansible_collections\\\\ns\\\\col\\\\plugins\\\\modules\\\\check_mode_attribute_6.py'\n",
      "Syntax error in file .\\potentialFunctionDatabaseProjects\\potentialFunctionDatabaseProjects\\ansible\\test\\integration\\targets\\ansible-test-sanity-validate-modules\\ansible_collections\\ns\\col\\plugins\\modules\\check_mode_attribute_7.py: [Errno 2] No such file or directory: '.\\\\potentialFunctionDatabaseProjects\\\\potentialFunctionDatabaseProjects\\\\ansible\\\\test\\\\integration\\\\targets\\\\ansible-test-sanity-validate-modules\\\\ansible_collections\\\\ns\\\\col\\\\plugins\\\\modules\\\\check_mode_attribute_7.py'\n",
      "Syntax error in file .\\potentialFunctionDatabaseProjects\\potentialFunctionDatabaseProjects\\ansible\\test\\integration\\targets\\ansible-test-sanity-validate-modules\\ansible_collections\\ns\\col\\plugins\\modules\\import_order.py: [Errno 2] No such file or directory: '.\\\\potentialFunctionDatabaseProjects\\\\potentialFunctionDatabaseProjects\\\\ansible\\\\test\\\\integration\\\\targets\\\\ansible-test-sanity-validate-modules\\\\ansible_collections\\\\ns\\\\col\\\\plugins\\\\modules\\\\import_order.py'\n",
      "Syntax error in file .\\potentialFunctionDatabaseProjects\\potentialFunctionDatabaseProjects\\ansible\\test\\integration\\targets\\ansible-test-sanity-validate-modules\\ansible_collections\\ns\\col\\plugins\\modules\\invalid_argument_spec_extra_key.py: [Errno 2] No such file or directory: '.\\\\potentialFunctionDatabaseProjects\\\\potentialFunctionDatabaseProjects\\\\ansible\\\\test\\\\integration\\\\targets\\\\ansible-test-sanity-validate-modules\\\\ansible_collections\\\\ns\\\\col\\\\plugins\\\\modules\\\\invalid_argument_spec_extra_key.py'\n",
      "Syntax error in file .\\potentialFunctionDatabaseProjects\\potentialFunctionDatabaseProjects\\ansible\\test\\integration\\targets\\ansible-test-sanity-validate-modules\\ansible_collections\\ns\\col\\plugins\\modules\\invalid_argument_spec_incorrect_context.py: [Errno 2] No such file or directory: '.\\\\potentialFunctionDatabaseProjects\\\\potentialFunctionDatabaseProjects\\\\ansible\\\\test\\\\integration\\\\targets\\\\ansible-test-sanity-validate-modules\\\\ansible_collections\\\\ns\\\\col\\\\plugins\\\\modules\\\\invalid_argument_spec_incorrect_context.py'\n",
      "Syntax error in file .\\potentialFunctionDatabaseProjects\\potentialFunctionDatabaseProjects\\ansible\\test\\integration\\targets\\ansible-test-sanity-validate-modules\\ansible_collections\\ns\\col\\plugins\\modules\\invalid_choice_value.py: [Errno 2] No such file or directory: '.\\\\potentialFunctionDatabaseProjects\\\\potentialFunctionDatabaseProjects\\\\ansible\\\\test\\\\integration\\\\targets\\\\ansible-test-sanity-validate-modules\\\\ansible_collections\\\\ns\\\\col\\\\plugins\\\\modules\\\\invalid_choice_value.py'\n",
      "Syntax error in file .\\potentialFunctionDatabaseProjects\\potentialFunctionDatabaseProjects\\ansible\\test\\integration\\targets\\ansible-test-sanity-validate-modules\\ansible_collections\\ns\\col\\plugins\\modules\\invalid_yaml_syntax.py: [Errno 2] No such file or directory: '.\\\\potentialFunctionDatabaseProjects\\\\potentialFunctionDatabaseProjects\\\\ansible\\\\test\\\\integration\\\\targets\\\\ansible-test-sanity-validate-modules\\\\ansible_collections\\\\ns\\\\col\\\\plugins\\\\modules\\\\invalid_yaml_syntax.py'\n",
      "Syntax error in file .\\potentialFunctionDatabaseProjects\\potentialFunctionDatabaseProjects\\ansible\\test\\integration\\targets\\ansible-test-sanity-validate-modules\\ansible_collections\\ns\\col\\plugins\\modules\\no_callable.py: [Errno 2] No such file or directory: '.\\\\potentialFunctionDatabaseProjects\\\\potentialFunctionDatabaseProjects\\\\ansible\\\\test\\\\integration\\\\targets\\\\ansible-test-sanity-validate-modules\\\\ansible_collections\\\\ns\\\\col\\\\plugins\\\\modules\\\\no_callable.py'\n",
      "Syntax error in file .\\potentialFunctionDatabaseProjects\\potentialFunctionDatabaseProjects\\ansible\\test\\integration\\targets\\ansible-test-sanity-validate-modules\\ansible_collections\\ns\\col\\plugins\\modules\\semantic_markup.py: [Errno 2] No such file or directory: '.\\\\potentialFunctionDatabaseProjects\\\\potentialFunctionDatabaseProjects\\\\ansible\\\\test\\\\integration\\\\targets\\\\ansible-test-sanity-validate-modules\\\\ansible_collections\\\\ns\\\\col\\\\plugins\\\\modules\\\\semantic_markup.py'\n",
      "Syntax error in file .\\potentialFunctionDatabaseProjects\\potentialFunctionDatabaseProjects\\ansible\\test\\integration\\targets\\ansible-test-sanity-validate-modules\\ansible_collections\\ns\\col\\plugins\\modules\\valid_argument_spec_context.py: [Errno 2] No such file or directory: '.\\\\potentialFunctionDatabaseProjects\\\\potentialFunctionDatabaseProjects\\\\ansible\\\\test\\\\integration\\\\targets\\\\ansible-test-sanity-validate-modules\\\\ansible_collections\\\\ns\\\\col\\\\plugins\\\\modules\\\\valid_argument_spec_context.py'\n",
      "Syntax error in file .\\potentialFunctionDatabaseProjects\\potentialFunctionDatabaseProjects\\ansible\\test\\integration\\targets\\ansible-test-sanity-validate-modules\\ansible_collections\\ns\\col\\plugins\\modules\\_not_deprecated.py: [Errno 2] No such file or directory: '.\\\\potentialFunctionDatabaseProjects\\\\potentialFunctionDatabaseProjects\\\\ansible\\\\test\\\\integration\\\\targets\\\\ansible-test-sanity-validate-modules\\\\ansible_collections\\\\ns\\\\col\\\\plugins\\\\modules\\\\_not_deprecated.py'\n",
      "Syntax error in file .\\potentialFunctionDatabaseProjects\\potentialFunctionDatabaseProjects\\ansible\\test\\integration\\targets\\ansible-test-sanity-validate-modules\\ansible_collections\\ns\\ps_only\\plugins\\modules\\validate.py: [Errno 2] No such file or directory: '.\\\\potentialFunctionDatabaseProjects\\\\potentialFunctionDatabaseProjects\\\\ansible\\\\test\\\\integration\\\\targets\\\\ansible-test-sanity-validate-modules\\\\ansible_collections\\\\ns\\\\ps_only\\\\plugins\\\\modules\\\\validate.py'\n",
      "Syntax error in file .\\potentialFunctionDatabaseProjects\\potentialFunctionDatabaseProjects\\ansible\\test\\integration\\targets\\ansible-test-units\\ansible_collections\\ns\\col\\tests\\unit\\plugins\\module_utils\\test_my_util.py: [Errno 2] No such file or directory: '.\\\\potentialFunctionDatabaseProjects\\\\potentialFunctionDatabaseProjects\\\\ansible\\\\test\\\\integration\\\\targets\\\\ansible-test-units\\\\ansible_collections\\\\ns\\\\col\\\\tests\\\\unit\\\\plugins\\\\module_utils\\\\test_my_util.py'\n",
      "Syntax error in file .\\potentialFunctionDatabaseProjects\\potentialFunctionDatabaseProjects\\ansible\\test\\integration\\targets\\ansible-test-units-assertions\\ansible_collections\\ns\\col\\tests\\unit\\plugins\\modules\\test_assertion.py: [Errno 2] No such file or directory: '.\\\\potentialFunctionDatabaseProjects\\\\potentialFunctionDatabaseProjects\\\\ansible\\\\test\\\\integration\\\\targets\\\\ansible-test-units-assertions\\\\ansible_collections\\\\ns\\\\col\\\\tests\\\\unit\\\\plugins\\\\modules\\\\test_assertion.py'\n",
      "Syntax error in file .\\potentialFunctionDatabaseProjects\\potentialFunctionDatabaseProjects\\ansible\\test\\integration\\targets\\ansible-test-units-constraints\\ansible_collections\\ns\\col\\tests\\unit\\plugins\\modules\\test_constraints.py: [Errno 2] No such file or directory: '.\\\\potentialFunctionDatabaseProjects\\\\potentialFunctionDatabaseProjects\\\\ansible\\\\test\\\\integration\\\\targets\\\\ansible-test-units-constraints\\\\ansible_collections\\\\ns\\\\col\\\\tests\\\\unit\\\\plugins\\\\modules\\\\test_constraints.py'\n",
      "Syntax error in file .\\potentialFunctionDatabaseProjects\\potentialFunctionDatabaseProjects\\ansible\\test\\integration\\targets\\ansible-test-units-forked\\ansible_collections\\ns\\col\\tests\\unit\\plugins\\modules\\test_ansible_forked.py: [Errno 2] No such file or directory: '.\\\\potentialFunctionDatabaseProjects\\\\potentialFunctionDatabaseProjects\\\\ansible\\\\test\\\\integration\\\\targets\\\\ansible-test-units-forked\\\\ansible_collections\\\\ns\\\\col\\\\tests\\\\unit\\\\plugins\\\\modules\\\\test_ansible_forked.py'\n",
      "Syntax error in file .\\potentialFunctionDatabaseProjects\\potentialFunctionDatabaseProjects\\ansible\\test\\integration\\targets\\collections\\collections\\ansible_collections\\testns\\content_adj\\plugins\\cache\\custom_jsonfile.py: [Errno 2] No such file or directory: '.\\\\potentialFunctionDatabaseProjects\\\\potentialFunctionDatabaseProjects\\\\ansible\\\\test\\\\integration\\\\targets\\\\collections\\\\collections\\\\ansible_collections\\\\testns\\\\content_adj\\\\plugins\\\\cache\\\\custom_jsonfile.py'\n",
      "Syntax error in file .\\potentialFunctionDatabaseProjects\\potentialFunctionDatabaseProjects\\ansible\\test\\integration\\targets\\collections\\collections\\ansible_collections\\testns\\content_adj\\plugins\\inventory\\statichost.py: [Errno 2] No such file or directory: '.\\\\potentialFunctionDatabaseProjects\\\\potentialFunctionDatabaseProjects\\\\ansible\\\\test\\\\integration\\\\targets\\\\collections\\\\collections\\\\ansible_collections\\\\testns\\\\content_adj\\\\plugins\\\\inventory\\\\statichost.py'\n",
      "Syntax error in file .\\potentialFunctionDatabaseProjects\\potentialFunctionDatabaseProjects\\ansible\\test\\integration\\targets\\collections\\collections\\ansible_collections\\testns\\content_adj\\plugins\\modules\\contentadjmodule.py: [Errno 2] No such file or directory: '.\\\\potentialFunctionDatabaseProjects\\\\potentialFunctionDatabaseProjects\\\\ansible\\\\test\\\\integration\\\\targets\\\\collections\\\\collections\\\\ansible_collections\\\\testns\\\\content_adj\\\\plugins\\\\modules\\\\contentadjmodule.py'\n",
      "Syntax error in file .\\potentialFunctionDatabaseProjects\\potentialFunctionDatabaseProjects\\ansible\\test\\integration\\targets\\collections\\collections\\ansible_collections\\testns\\content_adj\\plugins\\module_utils\\__init__.py: [Errno 2] No such file or directory: '.\\\\potentialFunctionDatabaseProjects\\\\potentialFunctionDatabaseProjects\\\\ansible\\\\test\\\\integration\\\\targets\\\\collections\\\\collections\\\\ansible_collections\\\\testns\\\\content_adj\\\\plugins\\\\module_utils\\\\__init__.py'\n",
      "Syntax error in file .\\potentialFunctionDatabaseProjects\\potentialFunctionDatabaseProjects\\ansible\\test\\integration\\targets\\collections\\collections\\ansible_collections\\testns\\content_adj\\plugins\\module_utils\\sub1\\foomodule.py: [Errno 2] No such file or directory: '.\\\\potentialFunctionDatabaseProjects\\\\potentialFunctionDatabaseProjects\\\\ansible\\\\test\\\\integration\\\\targets\\\\collections\\\\collections\\\\ansible_collections\\\\testns\\\\content_adj\\\\plugins\\\\module_utils\\\\sub1\\\\foomodule.py'\n",
      "Syntax error in file .\\potentialFunctionDatabaseProjects\\potentialFunctionDatabaseProjects\\ansible\\test\\integration\\targets\\collections\\collections\\ansible_collections\\testns\\content_adj\\plugins\\module_utils\\sub1\\__init__.py: [Errno 2] No such file or directory: '.\\\\potentialFunctionDatabaseProjects\\\\potentialFunctionDatabaseProjects\\\\ansible\\\\test\\\\integration\\\\targets\\\\collections\\\\collections\\\\ansible_collections\\\\testns\\\\content_adj\\\\plugins\\\\module_utils\\\\sub1\\\\__init__.py'\n",
      "Syntax error in file .\\potentialFunctionDatabaseProjects\\potentialFunctionDatabaseProjects\\ansible\\test\\integration\\targets\\collections\\collections\\ansible_collections\\testns\\content_adj\\plugins\\vars\\custom_adj_vars.py: [Errno 2] No such file or directory: '.\\\\potentialFunctionDatabaseProjects\\\\potentialFunctionDatabaseProjects\\\\ansible\\\\test\\\\integration\\\\targets\\\\collections\\\\collections\\\\ansible_collections\\\\testns\\\\content_adj\\\\plugins\\\\vars\\\\custom_adj_vars.py'\n",
      "Syntax error in file .\\potentialFunctionDatabaseProjects\\potentialFunctionDatabaseProjects\\ansible\\test\\integration\\targets\\collections\\collection_root_sys\\ansible_collections\\testns\\coll_in_sys\\plugins\\modules\\systestmodule.py: [Errno 2] No such file or directory: '.\\\\potentialFunctionDatabaseProjects\\\\potentialFunctionDatabaseProjects\\\\ansible\\\\test\\\\integration\\\\targets\\\\collections\\\\collection_root_sys\\\\ansible_collections\\\\testns\\\\coll_in_sys\\\\plugins\\\\modules\\\\systestmodule.py'\n",
      "Syntax error in file .\\potentialFunctionDatabaseProjects\\potentialFunctionDatabaseProjects\\ansible\\test\\integration\\targets\\collections\\collection_root_sys\\ansible_collections\\testns\\testcoll\\plugins\\modules\\maskedmodule.py: [Errno 2] No such file or directory: '.\\\\potentialFunctionDatabaseProjects\\\\potentialFunctionDatabaseProjects\\\\ansible\\\\test\\\\integration\\\\targets\\\\collections\\\\collection_root_sys\\\\ansible_collections\\\\testns\\\\testcoll\\\\plugins\\\\modules\\\\maskedmodule.py'\n",
      "Syntax error in file .\\potentialFunctionDatabaseProjects\\potentialFunctionDatabaseProjects\\ansible\\test\\integration\\targets\\collections\\collection_root_sys\\ansible_collections\\testns\\testcoll\\plugins\\modules\\testmodule.py: [Errno 2] No such file or directory: '.\\\\potentialFunctionDatabaseProjects\\\\potentialFunctionDatabaseProjects\\\\ansible\\\\test\\\\integration\\\\targets\\\\collections\\\\collection_root_sys\\\\ansible_collections\\\\testns\\\\testcoll\\\\plugins\\\\modules\\\\testmodule.py'\n",
      "Syntax error in file .\\potentialFunctionDatabaseProjects\\potentialFunctionDatabaseProjects\\ansible\\test\\integration\\targets\\collections\\collection_root_user\\ansible_collections\\ansible\\bullcoll\\plugins\\modules\\bullmodule.py: [Errno 2] No such file or directory: '.\\\\potentialFunctionDatabaseProjects\\\\potentialFunctionDatabaseProjects\\\\ansible\\\\test\\\\integration\\\\targets\\\\collections\\\\collection_root_user\\\\ansible_collections\\\\ansible\\\\bullcoll\\\\plugins\\\\modules\\\\bullmodule.py'\n",
      "Syntax error in file .\\potentialFunctionDatabaseProjects\\potentialFunctionDatabaseProjects\\ansible\\test\\integration\\targets\\collections\\collection_root_user\\ansible_collections\\testns\\testbroken\\plugins\\filter\\broken_filter.py: [Errno 2] No such file or directory: '.\\\\potentialFunctionDatabaseProjects\\\\potentialFunctionDatabaseProjects\\\\ansible\\\\test\\\\integration\\\\targets\\\\collections\\\\collection_root_user\\\\ansible_collections\\\\testns\\\\testbroken\\\\plugins\\\\filter\\\\broken_filter.py'\n",
      "Syntax error in file .\\potentialFunctionDatabaseProjects\\potentialFunctionDatabaseProjects\\ansible\\test\\integration\\targets\\collections\\collection_root_user\\ansible_collections\\testns\\testcoll\\plugins\\action\\bypass_host_loop.py: [Errno 2] No such file or directory: '.\\\\potentialFunctionDatabaseProjects\\\\potentialFunctionDatabaseProjects\\\\ansible\\\\test\\\\integration\\\\targets\\\\collections\\\\collection_root_user\\\\ansible_collections\\\\testns\\\\testcoll\\\\plugins\\\\action\\\\bypass_host_loop.py'\n",
      "Syntax error in file .\\potentialFunctionDatabaseProjects\\potentialFunctionDatabaseProjects\\ansible\\test\\integration\\targets\\collections\\collection_root_user\\ansible_collections\\testns\\testcoll\\plugins\\action\\plugin_lookup.py: [Errno 2] No such file or directory: '.\\\\potentialFunctionDatabaseProjects\\\\potentialFunctionDatabaseProjects\\\\ansible\\\\test\\\\integration\\\\targets\\\\collections\\\\collection_root_user\\\\ansible_collections\\\\testns\\\\testcoll\\\\plugins\\\\action\\\\plugin_lookup.py'\n",
      "Syntax error in file .\\potentialFunctionDatabaseProjects\\potentialFunctionDatabaseProjects\\ansible\\test\\integration\\targets\\collections\\collection_root_user\\ansible_collections\\testns\\testcoll\\plugins\\action\\subclassed_normal.py: [Errno 2] No such file or directory: '.\\\\potentialFunctionDatabaseProjects\\\\potentialFunctionDatabaseProjects\\\\ansible\\\\test\\\\integration\\\\targets\\\\collections\\\\collection_root_user\\\\ansible_collections\\\\testns\\\\testcoll\\\\plugins\\\\action\\\\subclassed_normal.py'\n",
      "Syntax error in file .\\potentialFunctionDatabaseProjects\\potentialFunctionDatabaseProjects\\ansible\\test\\integration\\targets\\collections\\collection_root_user\\ansible_collections\\testns\\testcoll\\plugins\\action\\uses_redirected_import.py: [Errno 2] No such file or directory: '.\\\\potentialFunctionDatabaseProjects\\\\potentialFunctionDatabaseProjects\\\\ansible\\\\test\\\\integration\\\\targets\\\\collections\\\\collection_root_user\\\\ansible_collections\\\\testns\\\\testcoll\\\\plugins\\\\action\\\\uses_redirected_import.py'\n",
      "Syntax error in file .\\potentialFunctionDatabaseProjects\\potentialFunctionDatabaseProjects\\ansible\\test\\integration\\targets\\collections\\collection_root_user\\ansible_collections\\testns\\testcoll\\plugins\\callback\\usercallback.py: [Errno 2] No such file or directory: '.\\\\potentialFunctionDatabaseProjects\\\\potentialFunctionDatabaseProjects\\\\ansible\\\\test\\\\integration\\\\targets\\\\collections\\\\collection_root_user\\\\ansible_collections\\\\testns\\\\testcoll\\\\plugins\\\\callback\\\\usercallback.py'\n",
      "Syntax error in file .\\potentialFunctionDatabaseProjects\\potentialFunctionDatabaseProjects\\ansible\\test\\integration\\targets\\collections\\collection_root_user\\ansible_collections\\testns\\testcoll\\plugins\\connection\\localconn.py: [Errno 2] No such file or directory: '.\\\\potentialFunctionDatabaseProjects\\\\potentialFunctionDatabaseProjects\\\\ansible\\\\test\\\\integration\\\\targets\\\\collections\\\\collection_root_user\\\\ansible_collections\\\\testns\\\\testcoll\\\\plugins\\\\connection\\\\localconn.py'\n",
      "Syntax error in file .\\potentialFunctionDatabaseProjects\\potentialFunctionDatabaseProjects\\ansible\\test\\integration\\targets\\collections\\collection_root_user\\ansible_collections\\testns\\testcoll\\plugins\\filter\\myfilters.py: [Errno 2] No such file or directory: '.\\\\potentialFunctionDatabaseProjects\\\\potentialFunctionDatabaseProjects\\\\ansible\\\\test\\\\integration\\\\targets\\\\collections\\\\collection_root_user\\\\ansible_collections\\\\testns\\\\testcoll\\\\plugins\\\\filter\\\\myfilters.py'\n",
      "Syntax error in file .\\potentialFunctionDatabaseProjects\\potentialFunctionDatabaseProjects\\ansible\\test\\integration\\targets\\collections\\collection_root_user\\ansible_collections\\testns\\testcoll\\plugins\\filter\\myfilters2.py: [Errno 2] No such file or directory: '.\\\\potentialFunctionDatabaseProjects\\\\potentialFunctionDatabaseProjects\\\\ansible\\\\test\\\\integration\\\\targets\\\\collections\\\\collection_root_user\\\\ansible_collections\\\\testns\\\\testcoll\\\\plugins\\\\filter\\\\myfilters2.py'\n",
      "Syntax error in file .\\potentialFunctionDatabaseProjects\\potentialFunctionDatabaseProjects\\ansible\\test\\integration\\targets\\collections\\collection_root_user\\ansible_collections\\testns\\testcoll\\plugins\\lookup\\mylookup.py: [Errno 2] No such file or directory: '.\\\\potentialFunctionDatabaseProjects\\\\potentialFunctionDatabaseProjects\\\\ansible\\\\test\\\\integration\\\\targets\\\\collections\\\\collection_root_user\\\\ansible_collections\\\\testns\\\\testcoll\\\\plugins\\\\lookup\\\\mylookup.py'\n",
      "Syntax error in file .\\potentialFunctionDatabaseProjects\\potentialFunctionDatabaseProjects\\ansible\\test\\integration\\targets\\collections\\collection_root_user\\ansible_collections\\testns\\testcoll\\plugins\\lookup\\mylookup2.py: [Errno 2] No such file or directory: '.\\\\potentialFunctionDatabaseProjects\\\\potentialFunctionDatabaseProjects\\\\ansible\\\\test\\\\integration\\\\targets\\\\collections\\\\collection_root_user\\\\ansible_collections\\\\testns\\\\testcoll\\\\plugins\\\\lookup\\\\mylookup2.py'\n",
      "Syntax error in file .\\potentialFunctionDatabaseProjects\\potentialFunctionDatabaseProjects\\ansible\\test\\integration\\targets\\collections\\collection_root_user\\ansible_collections\\testns\\testcoll\\plugins\\modules\\deprecated_ping.py: [Errno 2] No such file or directory: '.\\\\potentialFunctionDatabaseProjects\\\\potentialFunctionDatabaseProjects\\\\ansible\\\\test\\\\integration\\\\targets\\\\collections\\\\collection_root_user\\\\ansible_collections\\\\testns\\\\testcoll\\\\plugins\\\\modules\\\\deprecated_ping.py'\n",
      "Syntax error in file .\\potentialFunctionDatabaseProjects\\potentialFunctionDatabaseProjects\\ansible\\test\\integration\\targets\\collections\\collection_root_user\\ansible_collections\\testns\\testcoll\\plugins\\modules\\testmodule.py: [Errno 2] No such file or directory: '.\\\\potentialFunctionDatabaseProjects\\\\potentialFunctionDatabaseProjects\\\\ansible\\\\test\\\\integration\\\\targets\\\\collections\\\\collection_root_user\\\\ansible_collections\\\\testns\\\\testcoll\\\\plugins\\\\modules\\\\testmodule.py'\n",
      "Syntax error in file .\\potentialFunctionDatabaseProjects\\potentialFunctionDatabaseProjects\\ansible\\test\\integration\\targets\\collections\\collection_root_user\\ansible_collections\\testns\\testcoll\\plugins\\modules\\testmodule_bad_docfrags.py: [Errno 2] No such file or directory: '.\\\\potentialFunctionDatabaseProjects\\\\potentialFunctionDatabaseProjects\\\\ansible\\\\test\\\\integration\\\\targets\\\\collections\\\\collection_root_user\\\\ansible_collections\\\\testns\\\\testcoll\\\\plugins\\\\modules\\\\testmodule_bad_docfrags.py'\n",
      "Syntax error in file .\\potentialFunctionDatabaseProjects\\potentialFunctionDatabaseProjects\\ansible\\test\\integration\\targets\\collections\\collection_root_user\\ansible_collections\\testns\\testcoll\\plugins\\modules\\uses_base_mu_granular_nested_import.py: [Errno 2] No such file or directory: '.\\\\potentialFunctionDatabaseProjects\\\\potentialFunctionDatabaseProjects\\\\ansible\\\\test\\\\integration\\\\targets\\\\collections\\\\collection_root_user\\\\ansible_collections\\\\testns\\\\testcoll\\\\plugins\\\\modules\\\\uses_base_mu_granular_nested_import.py'\n",
      "Syntax error in file .\\potentialFunctionDatabaseProjects\\potentialFunctionDatabaseProjects\\ansible\\test\\integration\\targets\\collections\\collection_root_user\\ansible_collections\\testns\\testcoll\\plugins\\modules\\uses_collection_redirected_mu.py: [Errno 2] No such file or directory: '.\\\\potentialFunctionDatabaseProjects\\\\potentialFunctionDatabaseProjects\\\\ansible\\\\test\\\\integration\\\\targets\\\\collections\\\\collection_root_user\\\\ansible_collections\\\\testns\\\\testcoll\\\\plugins\\\\modules\\\\uses_collection_redirected_mu.py'\n",
      "Syntax error in file .\\potentialFunctionDatabaseProjects\\potentialFunctionDatabaseProjects\\ansible\\test\\integration\\targets\\collections\\collection_root_user\\ansible_collections\\testns\\testcoll\\plugins\\modules\\uses_core_redirected_mu.py: [Errno 2] No such file or directory: '.\\\\potentialFunctionDatabaseProjects\\\\potentialFunctionDatabaseProjects\\\\ansible\\\\test\\\\integration\\\\targets\\\\collections\\\\collection_root_user\\\\ansible_collections\\\\testns\\\\testcoll\\\\plugins\\\\modules\\\\uses_core_redirected_mu.py'\n",
      "Syntax error in file .\\potentialFunctionDatabaseProjects\\potentialFunctionDatabaseProjects\\ansible\\test\\integration\\targets\\collections\\collection_root_user\\ansible_collections\\testns\\testcoll\\plugins\\modules\\uses_leaf_mu_flat_import.py: [Errno 2] No such file or directory: '.\\\\potentialFunctionDatabaseProjects\\\\potentialFunctionDatabaseProjects\\\\ansible\\\\test\\\\integration\\\\targets\\\\collections\\\\collection_root_user\\\\ansible_collections\\\\testns\\\\testcoll\\\\plugins\\\\modules\\\\uses_leaf_mu_flat_import.py'\n",
      "Syntax error in file .\\potentialFunctionDatabaseProjects\\potentialFunctionDatabaseProjects\\ansible\\test\\integration\\targets\\collections\\collection_root_user\\ansible_collections\\testns\\testcoll\\plugins\\modules\\uses_leaf_mu_granular_import.py: [Errno 2] No such file or directory: '.\\\\potentialFunctionDatabaseProjects\\\\potentialFunctionDatabaseProjects\\\\ansible\\\\test\\\\integration\\\\targets\\\\collections\\\\collection_root_user\\\\ansible_collections\\\\testns\\\\testcoll\\\\plugins\\\\modules\\\\uses_leaf_mu_granular_import.py'\n",
      "Syntax error in file .\\potentialFunctionDatabaseProjects\\potentialFunctionDatabaseProjects\\ansible\\test\\integration\\targets\\collections\\collection_root_user\\ansible_collections\\testns\\testcoll\\plugins\\modules\\uses_leaf_mu_module_import_from.py: [Errno 2] No such file or directory: '.\\\\potentialFunctionDatabaseProjects\\\\potentialFunctionDatabaseProjects\\\\ansible\\\\test\\\\integration\\\\targets\\\\collections\\\\collection_root_user\\\\ansible_collections\\\\testns\\\\testcoll\\\\plugins\\\\modules\\\\uses_leaf_mu_module_import_from.py'\n",
      "Syntax error in file .\\potentialFunctionDatabaseProjects\\potentialFunctionDatabaseProjects\\ansible\\test\\integration\\targets\\collections\\collection_root_user\\ansible_collections\\testns\\testcoll\\plugins\\modules\\uses_mu_missing.py: [Errno 2] No such file or directory: '.\\\\potentialFunctionDatabaseProjects\\\\potentialFunctionDatabaseProjects\\\\ansible\\\\test\\\\integration\\\\targets\\\\collections\\\\collection_root_user\\\\ansible_collections\\\\testns\\\\testcoll\\\\plugins\\\\modules\\\\uses_mu_missing.py'\n",
      "Syntax error in file .\\potentialFunctionDatabaseProjects\\potentialFunctionDatabaseProjects\\ansible\\test\\integration\\targets\\collections\\collection_root_user\\ansible_collections\\testns\\testcoll\\plugins\\modules\\uses_mu_missing_redirect_collection.py: [Errno 2] No such file or directory: '.\\\\potentialFunctionDatabaseProjects\\\\potentialFunctionDatabaseProjects\\\\ansible\\\\test\\\\integration\\\\targets\\\\collections\\\\collection_root_user\\\\ansible_collections\\\\testns\\\\testcoll\\\\plugins\\\\modules\\\\uses_mu_missing_redirect_collection.py'\n",
      "Syntax error in file .\\potentialFunctionDatabaseProjects\\potentialFunctionDatabaseProjects\\ansible\\test\\integration\\targets\\collections\\collection_root_user\\ansible_collections\\testns\\testcoll\\plugins\\modules\\uses_mu_missing_redirect_module.py: [Errno 2] No such file or directory: '.\\\\potentialFunctionDatabaseProjects\\\\potentialFunctionDatabaseProjects\\\\ansible\\\\test\\\\integration\\\\targets\\\\collections\\\\collection_root_user\\\\ansible_collections\\\\testns\\\\testcoll\\\\plugins\\\\modules\\\\uses_mu_missing_redirect_module.py'\n",
      "Syntax error in file .\\potentialFunctionDatabaseProjects\\potentialFunctionDatabaseProjects\\ansible\\test\\integration\\targets\\collections\\collection_root_user\\ansible_collections\\testns\\testcoll\\plugins\\modules\\uses_nested_same_as_func.py: [Errno 2] No such file or directory: '.\\\\potentialFunctionDatabaseProjects\\\\potentialFunctionDatabaseProjects\\\\ansible\\\\test\\\\integration\\\\targets\\\\collections\\\\collection_root_user\\\\ansible_collections\\\\testns\\\\testcoll\\\\plugins\\\\modules\\\\uses_nested_same_as_func.py'\n",
      "Syntax error in file .\\potentialFunctionDatabaseProjects\\potentialFunctionDatabaseProjects\\ansible\\test\\integration\\targets\\collections\\collection_root_user\\ansible_collections\\testns\\testcoll\\plugins\\modules\\uses_nested_same_as_module.py: [Errno 2] No such file or directory: '.\\\\potentialFunctionDatabaseProjects\\\\potentialFunctionDatabaseProjects\\\\ansible\\\\test\\\\integration\\\\targets\\\\collections\\\\collection_root_user\\\\ansible_collections\\\\testns\\\\testcoll\\\\plugins\\\\modules\\\\uses_nested_same_as_module.py'\n",
      "Syntax error in file .\\potentialFunctionDatabaseProjects\\potentialFunctionDatabaseProjects\\ansible\\test\\integration\\targets\\collections\\collection_root_user\\ansible_collections\\testns\\testcoll\\plugins\\modules\\win_selfcontained.py: [Errno 2] No such file or directory: '.\\\\potentialFunctionDatabaseProjects\\\\potentialFunctionDatabaseProjects\\\\ansible\\\\test\\\\integration\\\\targets\\\\collections\\\\collection_root_user\\\\ansible_collections\\\\testns\\\\testcoll\\\\plugins\\\\modules\\\\win_selfcontained.py'\n",
      "Syntax error in file .\\potentialFunctionDatabaseProjects\\potentialFunctionDatabaseProjects\\ansible\\test\\integration\\targets\\collections\\collection_root_user\\ansible_collections\\testns\\testcoll\\plugins\\test\\mytests2.py: [Errno 2] No such file or directory: '.\\\\potentialFunctionDatabaseProjects\\\\potentialFunctionDatabaseProjects\\\\ansible\\\\test\\\\integration\\\\targets\\\\collections\\\\collection_root_user\\\\ansible_collections\\\\testns\\\\testcoll\\\\plugins\\\\test\\\\mytests2.py'\n",
      "Syntax error in file .\\potentialFunctionDatabaseProjects\\potentialFunctionDatabaseProjects\\ansible\\test\\integration\\targets\\collections\\collection_root_user\\ansible_collections\\testns\\testcoll\\plugins\\vars\\custom_vars.py: [Errno 2] No such file or directory: '.\\\\potentialFunctionDatabaseProjects\\\\potentialFunctionDatabaseProjects\\\\ansible\\\\test\\\\integration\\\\targets\\\\collections\\\\collection_root_user\\\\ansible_collections\\\\testns\\\\testcoll\\\\plugins\\\\vars\\\\custom_vars.py'\n",
      "Syntax error in file .\\potentialFunctionDatabaseProjects\\potentialFunctionDatabaseProjects\\ansible\\test\\integration\\targets\\jinja_plugins\\collections\\ansible_collections\\foo\\bar\\plugins\\filter\\bad_collection_filter.py: [Errno 2] No such file or directory: '.\\\\potentialFunctionDatabaseProjects\\\\potentialFunctionDatabaseProjects\\\\ansible\\\\test\\\\integration\\\\targets\\\\jinja_plugins\\\\collections\\\\ansible_collections\\\\foo\\\\bar\\\\plugins\\\\filter\\\\bad_collection_filter.py'\n",
      "Syntax error in file .\\potentialFunctionDatabaseProjects\\potentialFunctionDatabaseProjects\\ansible\\test\\integration\\targets\\jinja_plugins\\collections\\ansible_collections\\foo\\bar\\plugins\\filter\\bad_collection_filter2.py: [Errno 2] No such file or directory: '.\\\\potentialFunctionDatabaseProjects\\\\potentialFunctionDatabaseProjects\\\\ansible\\\\test\\\\integration\\\\targets\\\\jinja_plugins\\\\collections\\\\ansible_collections\\\\foo\\\\bar\\\\plugins\\\\filter\\\\bad_collection_filter2.py'\n",
      "Syntax error in file .\\potentialFunctionDatabaseProjects\\potentialFunctionDatabaseProjects\\ansible\\test\\integration\\targets\\jinja_plugins\\collections\\ansible_collections\\foo\\bar\\plugins\\filter\\good_collection_filter.py: [Errno 2] No such file or directory: '.\\\\potentialFunctionDatabaseProjects\\\\potentialFunctionDatabaseProjects\\\\ansible\\\\test\\\\integration\\\\targets\\\\jinja_plugins\\\\collections\\\\ansible_collections\\\\foo\\\\bar\\\\plugins\\\\filter\\\\good_collection_filter.py'\n",
      "Syntax error in file .\\potentialFunctionDatabaseProjects\\potentialFunctionDatabaseProjects\\ansible\\test\\integration\\targets\\module_defaults\\collections\\ansible_collections\\testns\\othercoll\\plugins\\action\\other_echoaction.py: [Errno 2] No such file or directory: '.\\\\potentialFunctionDatabaseProjects\\\\potentialFunctionDatabaseProjects\\\\ansible\\\\test\\\\integration\\\\targets\\\\module_defaults\\\\collections\\\\ansible_collections\\\\testns\\\\othercoll\\\\plugins\\\\action\\\\other_echoaction.py'\n",
      "Syntax error in file .\\potentialFunctionDatabaseProjects\\potentialFunctionDatabaseProjects\\ansible\\test\\integration\\targets\\module_defaults\\collections\\ansible_collections\\testns\\othercoll\\plugins\\modules\\other_echo1.py: [Errno 2] No such file or directory: '.\\\\potentialFunctionDatabaseProjects\\\\potentialFunctionDatabaseProjects\\\\ansible\\\\test\\\\integration\\\\targets\\\\module_defaults\\\\collections\\\\ansible_collections\\\\testns\\\\othercoll\\\\plugins\\\\modules\\\\other_echo1.py'\n",
      "Syntax error in file .\\potentialFunctionDatabaseProjects\\potentialFunctionDatabaseProjects\\ansible\\test\\integration\\targets\\module_defaults\\collections\\ansible_collections\\testns\\testcoll\\plugins\\module_utils\\echo_impl.py: [Errno 2] No such file or directory: '.\\\\potentialFunctionDatabaseProjects\\\\potentialFunctionDatabaseProjects\\\\ansible\\\\test\\\\integration\\\\targets\\\\module_defaults\\\\collections\\\\ansible_collections\\\\testns\\\\testcoll\\\\plugins\\\\module_utils\\\\echo_impl.py'\n",
      "Syntax error in file .\\potentialFunctionDatabaseProjects\\potentialFunctionDatabaseProjects\\ansible\\test\\support\\network-integration\\collections\\ansible_collections\\ansible\\netcommon\\plugins\\doc_fragments\\connection_persistent.py: [Errno 2] No such file or directory: '.\\\\potentialFunctionDatabaseProjects\\\\potentialFunctionDatabaseProjects\\\\ansible\\\\test\\\\support\\\\network-integration\\\\collections\\\\ansible_collections\\\\ansible\\\\netcommon\\\\plugins\\\\doc_fragments\\\\connection_persistent.py'\n",
      "Syntax error in file .\\potentialFunctionDatabaseProjects\\potentialFunctionDatabaseProjects\\ansible\\test\\support\\network-integration\\collections\\ansible_collections\\ansible\\netcommon\\plugins\\module_utils\\compat\\ipaddress.py: [Errno 2] No such file or directory: '.\\\\potentialFunctionDatabaseProjects\\\\potentialFunctionDatabaseProjects\\\\ansible\\\\test\\\\support\\\\network-integration\\\\collections\\\\ansible_collections\\\\ansible\\\\netcommon\\\\plugins\\\\module_utils\\\\compat\\\\ipaddress.py'\n",
      "Syntax error in file .\\potentialFunctionDatabaseProjects\\potentialFunctionDatabaseProjects\\ansible\\test\\support\\network-integration\\collections\\ansible_collections\\ansible\\netcommon\\plugins\\plugin_utils\\connection_base.py: [Errno 2] No such file or directory: '.\\\\potentialFunctionDatabaseProjects\\\\potentialFunctionDatabaseProjects\\\\ansible\\\\test\\\\support\\\\network-integration\\\\collections\\\\ansible_collections\\\\ansible\\\\netcommon\\\\plugins\\\\plugin_utils\\\\connection_base.py'\n",
      "Syntax error in file .\\potentialFunctionDatabaseProjects\\potentialFunctionDatabaseProjects\\ansible\\test\\units\\utils\\collection_loader\\fixtures\\collections\\ansible_collections\\ansible\\builtin\\plugins\\modules\\shouldnotload.py: [Errno 2] No such file or directory: '.\\\\potentialFunctionDatabaseProjects\\\\potentialFunctionDatabaseProjects\\\\ansible\\\\test\\\\units\\\\utils\\\\collection_loader\\\\fixtures\\\\collections\\\\ansible_collections\\\\ansible\\\\builtin\\\\plugins\\\\modules\\\\shouldnotload.py'\n",
      "Syntax error in file .\\potentialFunctionDatabaseProjects\\potentialFunctionDatabaseProjects\\ansible\\test\\units\\utils\\collection_loader\\fixtures\\collections\\ansible_collections\\testns\\testcoll\\plugins\\action\\my_action.py: [Errno 2] No such file or directory: '.\\\\potentialFunctionDatabaseProjects\\\\potentialFunctionDatabaseProjects\\\\ansible\\\\test\\\\units\\\\utils\\\\collection_loader\\\\fixtures\\\\collections\\\\ansible_collections\\\\testns\\\\testcoll\\\\plugins\\\\action\\\\my_action.py'\n",
      "Syntax error in file .\\potentialFunctionDatabaseProjects\\potentialFunctionDatabaseProjects\\ansible\\test\\units\\utils\\collection_loader\\fixtures\\collections\\ansible_collections\\testns\\testcoll\\plugins\\modules\\amodule.py: [Errno 2] No such file or directory: '.\\\\potentialFunctionDatabaseProjects\\\\potentialFunctionDatabaseProjects\\\\ansible\\\\test\\\\units\\\\utils\\\\collection_loader\\\\fixtures\\\\collections\\\\ansible_collections\\\\testns\\\\testcoll\\\\plugins\\\\modules\\\\amodule.py'\n",
      "Syntax error in file .\\potentialFunctionDatabaseProjects\\potentialFunctionDatabaseProjects\\ansible\\test\\units\\utils\\collection_loader\\fixtures\\collections\\ansible_collections\\testns\\testcoll\\plugins\\modules\\__init__.py: [Errno 2] No such file or directory: '.\\\\potentialFunctionDatabaseProjects\\\\potentialFunctionDatabaseProjects\\\\ansible\\\\test\\\\units\\\\utils\\\\collection_loader\\\\fixtures\\\\collections\\\\ansible_collections\\\\testns\\\\testcoll\\\\plugins\\\\modules\\\\__init__.py'\n",
      "Syntax error in file .\\potentialFunctionDatabaseProjects\\potentialFunctionDatabaseProjects\\ansible\\test\\units\\utils\\collection_loader\\fixtures\\collections\\ansible_collections\\testns\\testcoll\\plugins\\module_utils\\my_other_util.py: [Errno 2] No such file or directory: '.\\\\potentialFunctionDatabaseProjects\\\\potentialFunctionDatabaseProjects\\\\ansible\\\\test\\\\units\\\\utils\\\\collection_loader\\\\fixtures\\\\collections\\\\ansible_collections\\\\testns\\\\testcoll\\\\plugins\\\\module_utils\\\\my_other_util.py'\n",
      "Syntax error in file .\\potentialFunctionDatabaseProjects\\potentialFunctionDatabaseProjects\\ansible\\test\\units\\utils\\collection_loader\\fixtures\\collections\\ansible_collections\\testns\\testcoll\\plugins\\module_utils\\my_util.py: [Errno 2] No such file or directory: '.\\\\potentialFunctionDatabaseProjects\\\\potentialFunctionDatabaseProjects\\\\ansible\\\\test\\\\units\\\\utils\\\\collection_loader\\\\fixtures\\\\collections\\\\ansible_collections\\\\testns\\\\testcoll\\\\plugins\\\\module_utils\\\\my_util.py'\n",
      "Syntax error in file .\\potentialFunctionDatabaseProjects\\potentialFunctionDatabaseProjects\\ansible\\test\\units\\utils\\collection_loader\\fixtures\\collections\\ansible_collections\\testns\\testcoll\\plugins\\module_utils\\__init__.py: [Errno 2] No such file or directory: '.\\\\potentialFunctionDatabaseProjects\\\\potentialFunctionDatabaseProjects\\\\ansible\\\\test\\\\units\\\\utils\\\\collection_loader\\\\fixtures\\\\collections\\\\ansible_collections\\\\testns\\\\testcoll\\\\plugins\\\\module_utils\\\\__init__.py'\n",
      "Syntax error in file .\\potentialFunctionDatabaseProjects\\potentialFunctionDatabaseProjects\\django\\tests\\test_runner_apps\\tagged\\tests_syntax_error.py: invalid decimal literal (<unknown>, line 11)\n"
     ]
    },
    {
     "ename": "KeyboardInterrupt",
     "evalue": "",
     "output_type": "error",
     "traceback": [
      "\u001b[1;31m---------------------------------------------------------------------------\u001b[0m",
      "\u001b[1;31mKeyboardInterrupt\u001b[0m                         Traceback (most recent call last)",
      "Cell \u001b[1;32mIn[1175], line 1\u001b[0m\n\u001b[1;32m----> 1\u001b[0m db \u001b[38;5;241m=\u001b[39m \u001b[43mFunctionDB\u001b[49m\u001b[43m(\u001b[49m\u001b[38;5;124;43m\"\u001b[39;49m\u001b[38;5;124;43m.\u001b[39;49m\u001b[38;5;124;43m\"\u001b[39;49m\u001b[43m)\u001b[49m\n",
      "Cell \u001b[1;32mIn[1174], line 206\u001b[0m, in \u001b[0;36mFunctionDB.__init__\u001b[1;34m(self, path)\u001b[0m\n\u001b[0;32m    204\u001b[0m flag \u001b[38;5;241m=\u001b[39m \u001b[38;5;28;01mTrue\u001b[39;00m\n\u001b[0;32m    205\u001b[0m \u001b[38;5;28;01mif\u001b[39;00m \u001b[38;5;28mself\u001b[39m\u001b[38;5;241m.\u001b[39mextractor\u001b[38;5;241m.\u001b[39mhas_function_call(function, function_return_types):    \u001b[38;5;66;03m# if function has function call within it\u001b[39;00m\n\u001b[1;32m--> 206\u001b[0m     calls \u001b[38;5;241m=\u001b[39m \u001b[38;5;28;43mself\u001b[39;49m\u001b[38;5;241;43m.\u001b[39;49m\u001b[43mextractor\u001b[49m\u001b[38;5;241;43m.\u001b[39;49m\u001b[43mreturn_function_calls\u001b[49m\u001b[43m(\u001b[49m\u001b[43mfunction\u001b[49m\u001b[43m,\u001b[49m\u001b[43m \u001b[49m\u001b[43mfunction_return_types\u001b[49m\u001b[43m)\u001b[49m\n\u001b[0;32m    207\u001b[0m     \u001b[38;5;28;01mfor\u001b[39;00m call, return_type \u001b[38;5;129;01min\u001b[39;00m calls:\n\u001b[0;32m    208\u001b[0m         \u001b[38;5;28;01mif\u001b[39;00m call \u001b[38;5;129;01mnot\u001b[39;00m \u001b[38;5;129;01min\u001b[39;00m builtins_set:                                \u001b[38;5;66;03m# if the current call in question is not a builtin\u001b[39;00m\n",
      "Cell \u001b[1;32mIn[1174], line 109\u001b[0m, in \u001b[0;36mFunctionExtractor.return_function_calls\u001b[1;34m(self, function_node, function_return_types)\u001b[0m\n\u001b[0;32m    107\u001b[0m \u001b[38;5;28;01mdef\u001b[39;00m \u001b[38;5;21mreturn_function_calls\u001b[39m(\u001b[38;5;28mself\u001b[39m, function_node, function_return_types):  \u001b[38;5;66;03m# returns the function calls within a function\u001b[39;00m\n\u001b[0;32m    108\u001b[0m     checker \u001b[38;5;241m=\u001b[39m FunctionCallChecker(function_return_types)\n\u001b[1;32m--> 109\u001b[0m     \u001b[43mchecker\u001b[49m\u001b[38;5;241;43m.\u001b[39;49m\u001b[43mvisit\u001b[49m\u001b[43m(\u001b[49m\u001b[43mfunction_node\u001b[49m\u001b[43m)\u001b[49m\n\u001b[0;32m    110\u001b[0m     \u001b[38;5;28;01mreturn\u001b[39;00m checker\u001b[38;5;241m.\u001b[39mcalls\n",
      "File \u001b[1;32mC:\\Program Files\\WindowsApps\\PythonSoftwareFoundation.Python.3.11_3.11.2544.0_x64__qbz5n2kfra8p0\\Lib\\ast.py:418\u001b[0m, in \u001b[0;36mNodeVisitor.visit\u001b[1;34m(self, node)\u001b[0m\n\u001b[0;32m    416\u001b[0m method \u001b[38;5;241m=\u001b[39m \u001b[38;5;124m'\u001b[39m\u001b[38;5;124mvisit_\u001b[39m\u001b[38;5;124m'\u001b[39m \u001b[38;5;241m+\u001b[39m node\u001b[38;5;241m.\u001b[39m\u001b[38;5;18m__class__\u001b[39m\u001b[38;5;241m.\u001b[39m\u001b[38;5;18m__name__\u001b[39m\n\u001b[0;32m    417\u001b[0m visitor \u001b[38;5;241m=\u001b[39m \u001b[38;5;28mgetattr\u001b[39m(\u001b[38;5;28mself\u001b[39m, method, \u001b[38;5;28mself\u001b[39m\u001b[38;5;241m.\u001b[39mgeneric_visit)\n\u001b[1;32m--> 418\u001b[0m \u001b[38;5;28;01mreturn\u001b[39;00m \u001b[43mvisitor\u001b[49m\u001b[43m(\u001b[49m\u001b[43mnode\u001b[49m\u001b[43m)\u001b[49m\n",
      "File \u001b[1;32mC:\\Program Files\\WindowsApps\\PythonSoftwareFoundation.Python.3.11_3.11.2544.0_x64__qbz5n2kfra8p0\\Lib\\ast.py:426\u001b[0m, in \u001b[0;36mNodeVisitor.generic_visit\u001b[1;34m(self, node)\u001b[0m\n\u001b[0;32m    424\u001b[0m     \u001b[38;5;28;01mfor\u001b[39;00m item \u001b[38;5;129;01min\u001b[39;00m value:\n\u001b[0;32m    425\u001b[0m         \u001b[38;5;28;01mif\u001b[39;00m \u001b[38;5;28misinstance\u001b[39m(item, AST):\n\u001b[1;32m--> 426\u001b[0m             \u001b[38;5;28;43mself\u001b[39;49m\u001b[38;5;241;43m.\u001b[39;49m\u001b[43mvisit\u001b[49m\u001b[43m(\u001b[49m\u001b[43mitem\u001b[49m\u001b[43m)\u001b[49m\n\u001b[0;32m    427\u001b[0m \u001b[38;5;28;01melif\u001b[39;00m \u001b[38;5;28misinstance\u001b[39m(value, AST):\n\u001b[0;32m    428\u001b[0m     \u001b[38;5;28mself\u001b[39m\u001b[38;5;241m.\u001b[39mvisit(value)\n",
      "File \u001b[1;32mC:\\Program Files\\WindowsApps\\PythonSoftwareFoundation.Python.3.11_3.11.2544.0_x64__qbz5n2kfra8p0\\Lib\\ast.py:418\u001b[0m, in \u001b[0;36mNodeVisitor.visit\u001b[1;34m(self, node)\u001b[0m\n\u001b[0;32m    416\u001b[0m method \u001b[38;5;241m=\u001b[39m \u001b[38;5;124m'\u001b[39m\u001b[38;5;124mvisit_\u001b[39m\u001b[38;5;124m'\u001b[39m \u001b[38;5;241m+\u001b[39m node\u001b[38;5;241m.\u001b[39m\u001b[38;5;18m__class__\u001b[39m\u001b[38;5;241m.\u001b[39m\u001b[38;5;18m__name__\u001b[39m\n\u001b[0;32m    417\u001b[0m visitor \u001b[38;5;241m=\u001b[39m \u001b[38;5;28mgetattr\u001b[39m(\u001b[38;5;28mself\u001b[39m, method, \u001b[38;5;28mself\u001b[39m\u001b[38;5;241m.\u001b[39mgeneric_visit)\n\u001b[1;32m--> 418\u001b[0m \u001b[38;5;28;01mreturn\u001b[39;00m \u001b[43mvisitor\u001b[49m\u001b[43m(\u001b[49m\u001b[43mnode\u001b[49m\u001b[43m)\u001b[49m\n",
      "File \u001b[1;32mC:\\Program Files\\WindowsApps\\PythonSoftwareFoundation.Python.3.11_3.11.2544.0_x64__qbz5n2kfra8p0\\Lib\\ast.py:426\u001b[0m, in \u001b[0;36mNodeVisitor.generic_visit\u001b[1;34m(self, node)\u001b[0m\n\u001b[0;32m    424\u001b[0m     \u001b[38;5;28;01mfor\u001b[39;00m item \u001b[38;5;129;01min\u001b[39;00m value:\n\u001b[0;32m    425\u001b[0m         \u001b[38;5;28;01mif\u001b[39;00m \u001b[38;5;28misinstance\u001b[39m(item, AST):\n\u001b[1;32m--> 426\u001b[0m             \u001b[38;5;28;43mself\u001b[39;49m\u001b[38;5;241;43m.\u001b[39;49m\u001b[43mvisit\u001b[49m\u001b[43m(\u001b[49m\u001b[43mitem\u001b[49m\u001b[43m)\u001b[49m\n\u001b[0;32m    427\u001b[0m \u001b[38;5;28;01melif\u001b[39;00m \u001b[38;5;28misinstance\u001b[39m(value, AST):\n\u001b[0;32m    428\u001b[0m     \u001b[38;5;28mself\u001b[39m\u001b[38;5;241m.\u001b[39mvisit(value)\n",
      "File \u001b[1;32mC:\\Program Files\\WindowsApps\\PythonSoftwareFoundation.Python.3.11_3.11.2544.0_x64__qbz5n2kfra8p0\\Lib\\ast.py:418\u001b[0m, in \u001b[0;36mNodeVisitor.visit\u001b[1;34m(self, node)\u001b[0m\n\u001b[0;32m    416\u001b[0m method \u001b[38;5;241m=\u001b[39m \u001b[38;5;124m'\u001b[39m\u001b[38;5;124mvisit_\u001b[39m\u001b[38;5;124m'\u001b[39m \u001b[38;5;241m+\u001b[39m node\u001b[38;5;241m.\u001b[39m\u001b[38;5;18m__class__\u001b[39m\u001b[38;5;241m.\u001b[39m\u001b[38;5;18m__name__\u001b[39m\n\u001b[0;32m    417\u001b[0m visitor \u001b[38;5;241m=\u001b[39m \u001b[38;5;28mgetattr\u001b[39m(\u001b[38;5;28mself\u001b[39m, method, \u001b[38;5;28mself\u001b[39m\u001b[38;5;241m.\u001b[39mgeneric_visit)\n\u001b[1;32m--> 418\u001b[0m \u001b[38;5;28;01mreturn\u001b[39;00m \u001b[43mvisitor\u001b[49m\u001b[43m(\u001b[49m\u001b[43mnode\u001b[49m\u001b[43m)\u001b[49m\n",
      "File \u001b[1;32mC:\\Program Files\\WindowsApps\\PythonSoftwareFoundation.Python.3.11_3.11.2544.0_x64__qbz5n2kfra8p0\\Lib\\ast.py:428\u001b[0m, in \u001b[0;36mNodeVisitor.generic_visit\u001b[1;34m(self, node)\u001b[0m\n\u001b[0;32m    426\u001b[0m             \u001b[38;5;28mself\u001b[39m\u001b[38;5;241m.\u001b[39mvisit(item)\n\u001b[0;32m    427\u001b[0m \u001b[38;5;28;01melif\u001b[39;00m \u001b[38;5;28misinstance\u001b[39m(value, AST):\n\u001b[1;32m--> 428\u001b[0m     \u001b[38;5;28;43mself\u001b[39;49m\u001b[38;5;241;43m.\u001b[39;49m\u001b[43mvisit\u001b[49m\u001b[43m(\u001b[49m\u001b[43mvalue\u001b[49m\u001b[43m)\u001b[49m\n",
      "File \u001b[1;32mC:\\Program Files\\WindowsApps\\PythonSoftwareFoundation.Python.3.11_3.11.2544.0_x64__qbz5n2kfra8p0\\Lib\\ast.py:418\u001b[0m, in \u001b[0;36mNodeVisitor.visit\u001b[1;34m(self, node)\u001b[0m\n\u001b[0;32m    416\u001b[0m method \u001b[38;5;241m=\u001b[39m \u001b[38;5;124m'\u001b[39m\u001b[38;5;124mvisit_\u001b[39m\u001b[38;5;124m'\u001b[39m \u001b[38;5;241m+\u001b[39m node\u001b[38;5;241m.\u001b[39m\u001b[38;5;18m__class__\u001b[39m\u001b[38;5;241m.\u001b[39m\u001b[38;5;18m__name__\u001b[39m\n\u001b[0;32m    417\u001b[0m visitor \u001b[38;5;241m=\u001b[39m \u001b[38;5;28mgetattr\u001b[39m(\u001b[38;5;28mself\u001b[39m, method, \u001b[38;5;28mself\u001b[39m\u001b[38;5;241m.\u001b[39mgeneric_visit)\n\u001b[1;32m--> 418\u001b[0m \u001b[38;5;28;01mreturn\u001b[39;00m \u001b[43mvisitor\u001b[49m\u001b[43m(\u001b[49m\u001b[43mnode\u001b[49m\u001b[43m)\u001b[49m\n",
      "Cell \u001b[1;32mIn[1174], line 76\u001b[0m, in \u001b[0;36mFunctionCallChecker.visit_Call\u001b[1;34m(self, node)\u001b[0m\n\u001b[0;32m     74\u001b[0m return_type \u001b[38;5;241m=\u001b[39m \u001b[38;5;28mself\u001b[39m\u001b[38;5;241m.\u001b[39mfunction_return_types\u001b[38;5;241m.\u001b[39mget(func_name, \u001b[38;5;124m\"\u001b[39m\u001b[38;5;124mUnknown\u001b[39m\u001b[38;5;124m\"\u001b[39m)\n\u001b[0;32m     75\u001b[0m \u001b[38;5;28mself\u001b[39m\u001b[38;5;241m.\u001b[39mcalls\u001b[38;5;241m.\u001b[39mappend((func_name, return_type))\n\u001b[1;32m---> 76\u001b[0m \u001b[38;5;28;43mself\u001b[39;49m\u001b[38;5;241;43m.\u001b[39;49m\u001b[43mgeneric_visit\u001b[49m\u001b[43m(\u001b[49m\u001b[43mnode\u001b[49m\u001b[43m)\u001b[49m\n",
      "File \u001b[1;32mC:\\Program Files\\WindowsApps\\PythonSoftwareFoundation.Python.3.11_3.11.2544.0_x64__qbz5n2kfra8p0\\Lib\\ast.py:426\u001b[0m, in \u001b[0;36mNodeVisitor.generic_visit\u001b[1;34m(self, node)\u001b[0m\n\u001b[0;32m    424\u001b[0m     \u001b[38;5;28;01mfor\u001b[39;00m item \u001b[38;5;129;01min\u001b[39;00m value:\n\u001b[0;32m    425\u001b[0m         \u001b[38;5;28;01mif\u001b[39;00m \u001b[38;5;28misinstance\u001b[39m(item, AST):\n\u001b[1;32m--> 426\u001b[0m             \u001b[38;5;28;43mself\u001b[39;49m\u001b[38;5;241;43m.\u001b[39;49m\u001b[43mvisit\u001b[49m\u001b[43m(\u001b[49m\u001b[43mitem\u001b[49m\u001b[43m)\u001b[49m\n\u001b[0;32m    427\u001b[0m \u001b[38;5;28;01melif\u001b[39;00m \u001b[38;5;28misinstance\u001b[39m(value, AST):\n\u001b[0;32m    428\u001b[0m     \u001b[38;5;28mself\u001b[39m\u001b[38;5;241m.\u001b[39mvisit(value)\n",
      "File \u001b[1;32mC:\\Program Files\\WindowsApps\\PythonSoftwareFoundation.Python.3.11_3.11.2544.0_x64__qbz5n2kfra8p0\\Lib\\ast.py:418\u001b[0m, in \u001b[0;36mNodeVisitor.visit\u001b[1;34m(self, node)\u001b[0m\n\u001b[0;32m    416\u001b[0m method \u001b[38;5;241m=\u001b[39m \u001b[38;5;124m'\u001b[39m\u001b[38;5;124mvisit_\u001b[39m\u001b[38;5;124m'\u001b[39m \u001b[38;5;241m+\u001b[39m node\u001b[38;5;241m.\u001b[39m\u001b[38;5;18m__class__\u001b[39m\u001b[38;5;241m.\u001b[39m\u001b[38;5;18m__name__\u001b[39m\n\u001b[0;32m    417\u001b[0m visitor \u001b[38;5;241m=\u001b[39m \u001b[38;5;28mgetattr\u001b[39m(\u001b[38;5;28mself\u001b[39m, method, \u001b[38;5;28mself\u001b[39m\u001b[38;5;241m.\u001b[39mgeneric_visit)\n\u001b[1;32m--> 418\u001b[0m \u001b[38;5;28;01mreturn\u001b[39;00m \u001b[43mvisitor\u001b[49m\u001b[43m(\u001b[49m\u001b[43mnode\u001b[49m\u001b[43m)\u001b[49m\n",
      "File \u001b[1;32mC:\\Program Files\\WindowsApps\\PythonSoftwareFoundation.Python.3.11_3.11.2544.0_x64__qbz5n2kfra8p0\\Lib\\ast.py:428\u001b[0m, in \u001b[0;36mNodeVisitor.generic_visit\u001b[1;34m(self, node)\u001b[0m\n\u001b[0;32m    426\u001b[0m             \u001b[38;5;28mself\u001b[39m\u001b[38;5;241m.\u001b[39mvisit(item)\n\u001b[0;32m    427\u001b[0m \u001b[38;5;28;01melif\u001b[39;00m \u001b[38;5;28misinstance\u001b[39m(value, AST):\n\u001b[1;32m--> 428\u001b[0m     \u001b[38;5;28;43mself\u001b[39;49m\u001b[38;5;241;43m.\u001b[39;49m\u001b[43mvisit\u001b[49m\u001b[43m(\u001b[49m\u001b[43mvalue\u001b[49m\u001b[43m)\u001b[49m\n",
      "File \u001b[1;32mC:\\Program Files\\WindowsApps\\PythonSoftwareFoundation.Python.3.11_3.11.2544.0_x64__qbz5n2kfra8p0\\Lib\\ast.py:418\u001b[0m, in \u001b[0;36mNodeVisitor.visit\u001b[1;34m(self, node)\u001b[0m\n\u001b[0;32m    416\u001b[0m method \u001b[38;5;241m=\u001b[39m \u001b[38;5;124m'\u001b[39m\u001b[38;5;124mvisit_\u001b[39m\u001b[38;5;124m'\u001b[39m \u001b[38;5;241m+\u001b[39m node\u001b[38;5;241m.\u001b[39m\u001b[38;5;18m__class__\u001b[39m\u001b[38;5;241m.\u001b[39m\u001b[38;5;18m__name__\u001b[39m\n\u001b[0;32m    417\u001b[0m visitor \u001b[38;5;241m=\u001b[39m \u001b[38;5;28mgetattr\u001b[39m(\u001b[38;5;28mself\u001b[39m, method, \u001b[38;5;28mself\u001b[39m\u001b[38;5;241m.\u001b[39mgeneric_visit)\n\u001b[1;32m--> 418\u001b[0m \u001b[38;5;28;01mreturn\u001b[39;00m \u001b[43mvisitor\u001b[49m\u001b[43m(\u001b[49m\u001b[43mnode\u001b[49m\u001b[43m)\u001b[49m\n",
      "File \u001b[1;32mC:\\Program Files\\WindowsApps\\PythonSoftwareFoundation.Python.3.11_3.11.2544.0_x64__qbz5n2kfra8p0\\Lib\\ast.py:449\u001b[0m, in \u001b[0;36mNodeVisitor.visit_Constant\u001b[1;34m(self, node)\u001b[0m\n\u001b[0;32m    446\u001b[0m         warnings\u001b[38;5;241m.\u001b[39mwarn(\u001b[38;5;124mf\u001b[39m\u001b[38;5;124m\"\u001b[39m\u001b[38;5;132;01m{\u001b[39;00mmethod\u001b[38;5;132;01m}\u001b[39;00m\u001b[38;5;124m is deprecated; add visit_Constant\u001b[39m\u001b[38;5;124m\"\u001b[39m,\n\u001b[0;32m    447\u001b[0m                       \u001b[38;5;167;01mDeprecationWarning\u001b[39;00m, \u001b[38;5;241m2\u001b[39m)\n\u001b[0;32m    448\u001b[0m         \u001b[38;5;28;01mreturn\u001b[39;00m visitor(node)\n\u001b[1;32m--> 449\u001b[0m \u001b[38;5;28;01mreturn\u001b[39;00m \u001b[38;5;28;43mself\u001b[39;49m\u001b[38;5;241;43m.\u001b[39;49m\u001b[43mgeneric_visit\u001b[49m\u001b[43m(\u001b[49m\u001b[43mnode\u001b[49m\u001b[43m)\u001b[49m\n",
      "File \u001b[1;32mC:\\Program Files\\WindowsApps\\PythonSoftwareFoundation.Python.3.11_3.11.2544.0_x64__qbz5n2kfra8p0\\Lib\\ast.py:420\u001b[0m, in \u001b[0;36mNodeVisitor.generic_visit\u001b[1;34m(self, node)\u001b[0m\n\u001b[0;32m    417\u001b[0m     visitor \u001b[38;5;241m=\u001b[39m \u001b[38;5;28mgetattr\u001b[39m(\u001b[38;5;28mself\u001b[39m, method, \u001b[38;5;28mself\u001b[39m\u001b[38;5;241m.\u001b[39mgeneric_visit)\n\u001b[0;32m    418\u001b[0m     \u001b[38;5;28;01mreturn\u001b[39;00m visitor(node)\n\u001b[1;32m--> 420\u001b[0m \u001b[38;5;28;01mdef\u001b[39;00m \u001b[38;5;21mgeneric_visit\u001b[39m(\u001b[38;5;28mself\u001b[39m, node):\n\u001b[0;32m    421\u001b[0m \u001b[38;5;250m    \u001b[39m\u001b[38;5;124;03m\"\"\"Called if no explicit visitor function exists for a node.\"\"\"\u001b[39;00m\n\u001b[0;32m    422\u001b[0m     \u001b[38;5;28;01mfor\u001b[39;00m field, value \u001b[38;5;129;01min\u001b[39;00m iter_fields(node):\n",
      "\u001b[1;31mKeyboardInterrupt\u001b[0m: "
     ]
    }
   ],
   "source": [
    "db = FunctionDB(\".\")"
   ]
  },
  {
   "cell_type": "code",
   "execution_count": null,
   "metadata": {},
   "outputs": [],
   "source": [
    "for i in db.function_list:\n",
    "    print(i[\"params\"])"
   ]
  },
  {
   "cell_type": "code",
   "execution_count": null,
   "metadata": {},
   "outputs": [],
   "source": [
    "print_ast(ast.parse('''\n",
    "def f(d,a,b):   \n",
    "    return a + b + d             \n",
    "f(6,a=1,b=2)'''))"
   ]
  },
  {
   "cell_type": "code",
   "execution_count": null,
   "metadata": {},
   "outputs": [],
   "source": [
    "ast.Expr(value=ast.Call(func=ast.Name(id='name', ctx=ast.Load()), args=[], keywords=[ast.keyword(arg='a', value=ast.Constant(value=1))]))"
   ]
  },
  {
   "cell_type": "code",
   "execution_count": null,
   "metadata": {},
   "outputs": [],
   "source": [
    "print_code(alg_tree)\n",
    "PythonMutator().inject_functions(alg_tree, db)\n",
    "print(\"==POST MUTATION==\")\n",
    "print_code(alg_tree)\n"
   ]
  },
  {
   "cell_type": "code",
   "execution_count": null,
   "metadata": {},
   "outputs": [],
   "source": []
  }
 ],
 "metadata": {
  "kernelspec": {
   "display_name": "Python 3",
   "language": "python",
   "name": "python3"
  },
  "language_info": {
   "codemirror_mode": {
    "name": "ipython",
    "version": 3
   },
   "file_extension": ".py",
   "mimetype": "text/x-python",
   "name": "python",
   "nbconvert_exporter": "python",
   "pygments_lexer": "ipython3",
   "version": "3.11.9"
  }
 },
 "nbformat": 4,
 "nbformat_minor": 2
}
