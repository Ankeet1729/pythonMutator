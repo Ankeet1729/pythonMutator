{
 "cells": [
  {
   "cell_type": "code",
   "execution_count": 938,
   "metadata": {},
   "outputs": [],
   "source": [
    "import ast\n",
    "def print_ast(src):\n",
    "    print(ast.dump(src, indent=4))\n",
    "def print_code(src):\n",
    "    print(ast.unparse(ast.fix_missing_locations(src)))"
   ]
  },
  {
   "cell_type": "code",
   "execution_count": 939,
   "metadata": {},
   "outputs": [],
   "source": [
    "def simple_function(x):\n",
    "    y = 3 * x\n",
    "    print(y)"
   ]
  },
  {
   "cell_type": "code",
   "execution_count": 940,
   "metadata": {},
   "outputs": [],
   "source": [
    "import inspect"
   ]
  },
  {
   "cell_type": "code",
   "execution_count": 941,
   "metadata": {},
   "outputs": [],
   "source": [
    "tree = ast.parse(inspect.getsource(simple_function))"
   ]
  },
  {
   "cell_type": "code",
   "execution_count": 942,
   "metadata": {},
   "outputs": [
    {
     "name": "stdout",
     "output_type": "stream",
     "text": [
      "Module(\n",
      "    body=[\n",
      "        FunctionDef(\n",
      "            name='simple_function',\n",
      "            args=arguments(\n",
      "                posonlyargs=[],\n",
      "                args=[\n",
      "                    arg(arg='x')],\n",
      "                kwonlyargs=[],\n",
      "                kw_defaults=[],\n",
      "                defaults=[]),\n",
      "            body=[\n",
      "                Assign(\n",
      "                    targets=[\n",
      "                        Name(id='y', ctx=Store())],\n",
      "                    value=BinOp(\n",
      "                        left=Constant(value=3),\n",
      "                        op=Mult(),\n",
      "                        right=Name(id='x', ctx=Load()))),\n",
      "                Expr(\n",
      "                    value=Call(\n",
      "                        func=Name(id='print', ctx=Load()),\n",
      "                        args=[\n",
      "                            Name(id='y', ctx=Load())],\n",
      "                        keywords=[]))],\n",
      "            decorator_list=[])],\n",
      "    type_ignores=[])\n"
     ]
    }
   ],
   "source": [
    "print_ast(tree)"
   ]
  },
  {
   "cell_type": "code",
   "execution_count": 943,
   "metadata": {},
   "outputs": [
    {
     "name": "stdout",
     "output_type": "stream",
     "text": [
      "FunctionDef(\n",
      "    name='simple_function',\n",
      "    args=arguments(\n",
      "        posonlyargs=[],\n",
      "        args=[\n",
      "            arg(arg='x')],\n",
      "        kwonlyargs=[],\n",
      "        kw_defaults=[],\n",
      "        defaults=[]),\n",
      "    body=[\n",
      "        Assign(\n",
      "            targets=[\n",
      "                Name(id='y', ctx=Store())],\n",
      "            value=BinOp(\n",
      "                left=Constant(value=3),\n",
      "                op=Mult(),\n",
      "                right=Name(id='x', ctx=Load()))),\n",
      "        Expr(\n",
      "            value=Call(\n",
      "                func=Name(id='print', ctx=Load()),\n",
      "                args=[\n",
      "                    Name(id='y', ctx=Load())],\n",
      "                keywords=[]))],\n",
      "    decorator_list=[])\n"
     ]
    }
   ],
   "source": [
    "print_ast(tree.body[0])"
   ]
  },
  {
   "cell_type": "code",
   "execution_count": 944,
   "metadata": {},
   "outputs": [],
   "source": [
    "import random"
   ]
  },
  {
   "cell_type": "markdown",
   "metadata": {},
   "source": [
    "We create a PythonMutator class that links to other Mutator classes, the PythonMutator class tying all of them together with helper functions to call those class' methods. We can later use it to add probabilities etc. to each mutation."
   ]
  },
  {
   "cell_type": "code",
   "execution_count": 945,
   "metadata": {},
   "outputs": [],
   "source": [
    "class PythonMutator(ast.NodeTransformer):\n",
    "    def __init__(self):\n",
    "        self.reverse = None\n",
    "        self.mutations = []        \n",
    "    \n",
    "    # def visit_Module(self, src):\n",
    "    #     return self.generic_visit(src)\n",
    "    \n",
    "    # def visit_FunctionDef(self, src):\n",
    "    #     return self.generic_visit(src)\n",
    "    \n",
    "    # def visit_BinOp(self, src):\n",
    "    #     return self.generic_visit(src)\n",
    "    \n",
    "    # def visit_Assign(self, src):\n",
    "    #     return self.generic_visit(src)\n",
    "    \n",
    "    # def visit_Call(self, src):\n",
    "    #     return self.generic_visit(src)\n",
    "    \n",
    "    # def visit_Name(self, src):\n",
    "    #     return self.generic_visit(src)\n",
    "    \n",
    "    # def visit_Constant(self, src):\n",
    "    #     return self.generic_visit(src)\n",
    "\n",
    "    def expand_constants(self, src, trials=3):\n",
    "        node = ExprMutator().modify_value(src, trials)\n",
    "        self.mutations.extend(node[1])\n",
    "        return node[0]\n",
    "    \n",
    "    def swap_numbers(self, src):\n",
    "        node = ExprMutator().commute_value(src)\n",
    "        self.mutations.extend(node[1])\n",
    "        return node[0]"
   ]
  },
  {
   "cell_type": "markdown",
   "metadata": {},
   "source": [
    "Now we need to define modify_value that can replace a given constant with an equivalent arithmetic expression, and swap_numbers that will swap the children of a + or * node."
   ]
  },
  {
   "cell_type": "code",
   "execution_count": 946,
   "metadata": {},
   "outputs": [],
   "source": [
    "op_map_int = [(\"+\", ast.Add()), (\"*\", ast.Mult()), (\"//\", ast.FloorDiv()), (\"-\", ast.Sub())]\n",
    "op_map_float = [(\"+\", ast.Add()), (\"*\", ast.Mult()), (\"/\", ast.Div()), (\"-\", ast.Sub())]"
   ]
  },
  {
   "cell_type": "code",
   "execution_count": 947,
   "metadata": {},
   "outputs": [],
   "source": [
    "class ExprMutator(ast.NodeTransformer):\n",
    "    EXPAND = 1\n",
    "    COMMUTE = 2\n",
    "\n",
    "    def __init__(self):\n",
    "        self.transform = False\n",
    "        self.trials = 0\n",
    "        self.mode = self.EXPAND\n",
    "        self.mutations = []\n",
    "\n",
    "    def modify_value(self, src, trials):\n",
    "        self.mode = self.EXPAND\n",
    "        self.trials = trials\n",
    "        node = self._modify_value(src)\n",
    "        return (node, self.mutations)\n",
    "    \n",
    "    def _modify_value(self, src):\n",
    "        if self.trials == 0: return src\n",
    "        self.transform = True\n",
    "        self.visit(random.choice(src.body))\n",
    "        return self._modify_value(src)"
   ]
  },
  {
   "cell_type": "markdown",
   "metadata": {},
   "source": [
    "We need the mode so we can swap between traversing a path and swapping children. Depth allows us to control how many numbers we want to go and replace with expressions."
   ]
  },
  {
   "cell_type": "code",
   "execution_count": 948,
   "metadata": {},
   "outputs": [],
   "source": [
    "class ExprMutator(ExprMutator):    \n",
    "    def commute_value(self, n):\n",
    "        self.mode = self.COMMUTE\n",
    "        return (self.visit(n), self.mutations)"
   ]
  },
  {
   "cell_type": "markdown",
   "metadata": {},
   "source": [
    "Now come the real functions. The visits to Constant or BinOp nodes are what will truly handle the functionality."
   ]
  },
  {
   "cell_type": "code",
   "execution_count": 949,
   "metadata": {},
   "outputs": [],
   "source": [
    "from copy import deepcopy"
   ]
  },
  {
   "cell_type": "code",
   "execution_count": 950,
   "metadata": {},
   "outputs": [],
   "source": [
    "class ExprMutator(ExprMutator):\n",
    "    def visit_Constant(self, src):\n",
    "        if self.transform and self.mode and (isinstance(src.value, int) or isinstance(src.value, float)) == self.EXPAND:\n",
    "            op_map = {}\n",
    "            while True:\n",
    "                try:\n",
    "                    op = random.randint(0, 3)\n",
    "\n",
    "                    if isinstance(src.value, int): \n",
    "                        op_map = op_map_int\n",
    "                        other = random.randint(-10000, 10000)\n",
    "                    else: \n",
    "                        op_map = op_map_float\n",
    "                        other = 500 * random.randint(1, 10) * (random.random() + random.random()) * (1 - 2 * random.randint(0, 1))\n",
    "                    \n",
    "                    assert eval(\"(\" + str(src.value) + op_map[3-op][0] + str(other) + \")\" + op_map[op][0] + str(other)) == src.value\n",
    "                    break\n",
    "                except ZeroDivisionError: continue\n",
    "                except AssertionError: continue\n",
    "            self.trials -= 1\n",
    "            self.transform = False\n",
    "            node = ast.fix_missing_locations(ast.BinOp(left = ast.Constant(value=eval(\"(\" + str(src.value) + op_map[3-op][0] + str(other) + \")\")), op = op_map[op][1], right = ast.Constant(value=other)))\n",
    "            #self.mutations update\n",
    "            self.mutations.append(deepcopy((src, node)))\n",
    "            return node\n",
    "\n",
    "        return src\n",
    "\n",
    "    def visit_BinOp(self, src):\n",
    "        if self.mode == self.EXPAND:\n",
    "            if random.randint(1, 2) == 1:\n",
    "                src.left = self.visit(src.left)\n",
    "            else:\n",
    "                src.right = self.visit(src.right)\n",
    "            return src\n",
    "        \n",
    "        if self.mode == self.COMMUTE:\n",
    "            if isinstance(src.op, ast.Add) or isinstance(src.op, ast.Mult):\n",
    "                #self.mutations update\n",
    "                mut = deepcopy(src)\n",
    "                self.mutations.append((mut, ast.BinOp(left = mut.right, op = mut.op, right = mut.left)))\n",
    "                src.left, src.right = src.right, src.left\n",
    "                \n",
    "            return self.generic_visit(src)"
   ]
  },
  {
   "cell_type": "code",
   "execution_count": 951,
   "metadata": {},
   "outputs": [
    {
     "name": "stdout",
     "output_type": "stream",
     "text": [
      "Module(\n",
      "    body=[\n",
      "        Expr(\n",
      "            value=BinOp(\n",
      "                left=BinOp(\n",
      "                    left=Constant(value=13181),\n",
      "                    op=Add(),\n",
      "                    right=Constant(value=-7229)),\n",
      "                op=FloorDiv(),\n",
      "                right=Constant(value=5952)))])\n"
     ]
    }
   ],
   "source": [
    "print_ast(ExprMutator().modify_value(ast.Module(body=[ast.Expr(value=ast.Constant(value=1))]), trials=2)[0])"
   ]
  },
  {
   "cell_type": "code",
   "execution_count": 952,
   "metadata": {},
   "outputs": [
    {
     "name": "stdout",
     "output_type": "stream",
     "text": [
      "x + (9757 + (-11935 - -5255) - 3076)\n"
     ]
    }
   ],
   "source": [
    "print_code(PythonMutator().expand_constants(ast.parse(\"x+1\")))"
   ]
  },
  {
   "cell_type": "code",
   "execution_count": 953,
   "metadata": {},
   "outputs": [
    {
     "name": "stdout",
     "output_type": "stream",
     "text": [
      "(8885 + 1257 * -5.193317422434368) * 0.00042426813746287653 + x\n"
     ]
    }
   ],
   "source": [
    "print_code(PythonMutator().swap_numbers(ast.parse(\"x + 0.00042426813746287653 * (-5.193317422434368 * 1257 + 8885)\")))"
   ]
  },
  {
   "cell_type": "code",
   "execution_count": 954,
   "metadata": {},
   "outputs": [
    {
     "name": "stdout",
     "output_type": "stream",
     "text": [
      "def simple_function(x):\n",
      "    y = x * ((-2232 - 6384 + 14888866) // (-12962 + 4597 + (4222 - -3708) - (-64438710 // (49963095 // -5733) + -6079)) + 47956828 // 5638)\n",
      "    print(y)\n"
     ]
    }
   ],
   "source": [
    "tree_two = deepcopy(tree)\n",
    "for i in range(5):\n",
    "    if random.randint(1, 5) == 1: PythonMutator().swap_numbers(tree_two)\n",
    "    else: PythonMutator().expand_constants(tree_two)\n",
    "new_code = ast.unparse(tree_two)\n",
    "print(new_code)"
   ]
  },
  {
   "cell_type": "code",
   "execution_count": 955,
   "metadata": {},
   "outputs": [
    {
     "name": "stdout",
     "output_type": "stream",
     "text": [
      "1368\n"
     ]
    }
   ],
   "source": [
    "simple_function(456)"
   ]
  },
  {
   "cell_type": "code",
   "execution_count": 956,
   "metadata": {},
   "outputs": [],
   "source": [
    "exec(new_code)"
   ]
  },
  {
   "cell_type": "code",
   "execution_count": 957,
   "metadata": {},
   "outputs": [
    {
     "name": "stdout",
     "output_type": "stream",
     "text": [
      "1368\n"
     ]
    }
   ],
   "source": [
    "simple_function(456)"
   ]
  },
  {
   "cell_type": "markdown",
   "metadata": {},
   "source": [
    "Clearly the output remains the same inspite of our changes. Next, we look into transforming range-based for loops into while loops."
   ]
  },
  {
   "cell_type": "code",
   "execution_count": 958,
   "metadata": {},
   "outputs": [
    {
     "name": "stdout",
     "output_type": "stream",
     "text": [
      "Module(\n",
      "    body=[\n",
      "        For(\n",
      "            target=Name(id='i', ctx=Store()),\n",
      "            iter=Call(\n",
      "                func=Name(id='range', ctx=Load()),\n",
      "                args=[\n",
      "                    Constant(value=10),\n",
      "                    Constant(value=1),\n",
      "                    UnaryOp(\n",
      "                        op=USub(),\n",
      "                        operand=Constant(value=2))],\n",
      "                keywords=[]),\n",
      "            body=[\n",
      "                Expr(\n",
      "                    value=Call(\n",
      "                        func=Name(id='print', ctx=Load()),\n",
      "                        args=[\n",
      "                            Name(id='i', ctx=Load())],\n",
      "                        keywords=[]))],\n",
      "            orelse=[])],\n",
      "    type_ignores=[])\n"
     ]
    }
   ],
   "source": [
    "for_tree = ast.parse('''for i in range(10, 1, -2):\n",
    "                        print(i)''')\n",
    "print_ast(for_tree)"
   ]
  },
  {
   "cell_type": "code",
   "execution_count": 959,
   "metadata": {},
   "outputs": [
    {
     "name": "stdout",
     "output_type": "stream",
     "text": [
      "Module(\n",
      "    body=[\n",
      "        Assign(\n",
      "            targets=[\n",
      "                Name(id='i', ctx=Store())],\n",
      "            value=Constant(value=10)),\n",
      "        While(\n",
      "            test=Compare(\n",
      "                left=Name(id='i', ctx=Load()),\n",
      "                ops=[\n",
      "                    Gt()],\n",
      "                comparators=[\n",
      "                    Constant(value=1)]),\n",
      "            body=[\n",
      "                Expr(\n",
      "                    value=Call(\n",
      "                        func=Name(id='print', ctx=Load()),\n",
      "                        args=[\n",
      "                            Name(id='i', ctx=Load())],\n",
      "                        keywords=[])),\n",
      "                AugAssign(\n",
      "                    target=Name(id='i', ctx=Store()),\n",
      "                    op=Add(),\n",
      "                    value=UnaryOp(\n",
      "                        op=USub(),\n",
      "                        operand=Constant(value=2)))],\n",
      "            orelse=[])],\n",
      "    type_ignores=[])\n"
     ]
    }
   ],
   "source": [
    "while_tree = ast.parse('''\n",
    "i = 10\n",
    "while i > 1:\n",
    "    print(i)\n",
    "    i += -2''')\n",
    "print_ast(while_tree)"
   ]
  },
  {
   "cell_type": "code",
   "execution_count": 960,
   "metadata": {},
   "outputs": [
    {
     "name": "stdout",
     "output_type": "stream",
     "text": [
      "Assign(\n",
      "    targets=[\n",
      "        Name(id='i', ctx=Store())],\n",
      "    value=Constant(value=10))\n",
      "While(\n",
      "    test=Compare(\n",
      "        left=Name(id='i', ctx=Load()),\n",
      "        ops=[\n",
      "            Gt()],\n",
      "        comparators=[\n",
      "            Constant(value=1)]),\n",
      "    body=[\n",
      "        Expr(\n",
      "            value=Call(\n",
      "                func=Name(id='print', ctx=Load()),\n",
      "                args=[\n",
      "                    Name(id='i', ctx=Load())],\n",
      "                keywords=[])),\n",
      "        AugAssign(\n",
      "            target=Name(id='i', ctx=Store()),\n",
      "            op=Add(),\n",
      "            value=UnaryOp(\n",
      "                op=USub(),\n",
      "                operand=Constant(value=2)))],\n",
      "    orelse=[])\n"
     ]
    }
   ],
   "source": [
    "src = for_tree.body[0]\n",
    "def analyze_for(node):\n",
    "    args = node.iter.args\n",
    "    if len(args) == 1:\n",
    "        return [ast.Constant(value=0), ast.Lt(), args[0], ast.Constant(value=1)]\n",
    "    elif len(args) == 2:\n",
    "        return [args[0], ast.Lt(), args[1], ast.Constant(value=1)]\n",
    "    else:\n",
    "        step = eval(ast.unparse(args[2]))\n",
    "        if step < 0:\n",
    "            return [args[0], ast.Gt(), args[1], args[2]]\n",
    "        else:\n",
    "            return [args[0], ast.Lt(), args[1], args[2]]\n",
    "        \n",
    "while_args = analyze_for(src)\n",
    "print_ast(\n",
    "    ast.Assign(targets=[src.target], value=while_args[0])\n",
    "    ) \n",
    "print_ast(\n",
    "    ast.While(test=ast.Compare(left=ast.Name(id=src.target.id, ctx=ast.Load()), ops=[while_args[1]], comparators=[while_args[2]]), \\\n",
    "              body=src.body + [ast.AugAssign(target=src.target, op=ast.Add(), value=while_args[3])], orelse=src.orelse)\n",
    ")"
   ]
  },
  {
   "cell_type": "code",
   "execution_count": 961,
   "metadata": {},
   "outputs": [],
   "source": [
    "class PythonMutator(PythonMutator):\n",
    "    def transform_for(self, src):\n",
    "        node = ForMutator().transform_for(src)\n",
    "        self.mutations.extend(node[1])\n",
    "        return node[0]"
   ]
  },
  {
   "cell_type": "code",
   "execution_count": 962,
   "metadata": {},
   "outputs": [
    {
     "name": "stdout",
     "output_type": "stream",
     "text": [
      "Module(\n",
      "    body=[\n",
      "        For(\n",
      "            target=Name(id='i', ctx=Store()),\n",
      "            iter=Name(id='delays', ctx=Load()),\n",
      "            body=[\n",
      "                Expr(\n",
      "                    value=Call(\n",
      "                        func=Name(id='print', ctx=Load()),\n",
      "                        args=[\n",
      "                            Name(id='i', ctx=Load())],\n",
      "                        keywords=[]))],\n",
      "            orelse=[])],\n",
      "    type_ignores=[])\n",
      "Module(\n",
      "    body=[\n",
      "        For(\n",
      "            target=Name(id='i', ctx=Store()),\n",
      "            iter=Call(\n",
      "                func=Name(id='range', ctx=Load()),\n",
      "                args=[\n",
      "                    Constant(value=2)],\n",
      "                keywords=[]),\n",
      "            body=[\n",
      "                Expr(\n",
      "                    value=Call(\n",
      "                        func=Name(id='print', ctx=Load()),\n",
      "                        args=[\n",
      "                            Name(id='i', ctx=Load())],\n",
      "                        keywords=[]))],\n",
      "            orelse=[])],\n",
      "    type_ignores=[])\n"
     ]
    }
   ],
   "source": [
    "print_ast(ast.parse(\"for i in delays: print(i)\"))\n",
    "print_ast(ast.parse(\"for i in range(2): print(i)\"))"
   ]
  },
  {
   "cell_type": "code",
   "execution_count": 963,
   "metadata": {},
   "outputs": [],
   "source": [
    "class ForMutator(ast.NodeTransformer):\n",
    "    def __init__(self):\n",
    "        self.mutations = []\n",
    "\n",
    "    def transform_for(self, src):\n",
    "        return (self.visit(src), self.mutations)\n",
    "\n",
    "    def visit_For(self, src):  \n",
    "        try: while_args = analyze_for(src)\n",
    "        except: return src\n",
    "        node = [ast.Assign(targets=[src.target], value=while_args[0]), \\\n",
    "                ast.While(test=ast.Compare(left=ast.Name(id=src.target.id, ctx=ast.Load()), ops=[while_args[1]], comparators=[while_args[2]]), \\\n",
    "                          body=src.body + [ast.AugAssign(target=src.target, op=ast.Add(), value=while_args[3])], orelse=src.orelse)]\n",
    "        #self.mutations update\n",
    "        self.mutations.append((deepcopy(src), deepcopy(node)))\n",
    "        return node"
   ]
  },
  {
   "cell_type": "code",
   "execution_count": 964,
   "metadata": {},
   "outputs": [
    {
     "name": "stdout",
     "output_type": "stream",
     "text": [
      "for i in range(10, 1, -2):\n",
      "    print(i)\n",
      "====\n",
      "i = 10\n",
      "while i > 1:\n",
      "    print(i)\n",
      "    i += -2\n"
     ]
    }
   ],
   "source": [
    "for_tree_two = deepcopy(for_tree)\n",
    "print(ast.unparse(for_tree))\n",
    "print(\"====\")\n",
    "print_code(PythonMutator().transform_for(for_tree_two))"
   ]
  },
  {
   "cell_type": "markdown",
   "metadata": {},
   "source": [
    "That takes care of for-loops based on ranges. <b>What about iterators?</b>"
   ]
  },
  {
   "cell_type": "code",
   "execution_count": 965,
   "metadata": {},
   "outputs": [
    {
     "name": "stdout",
     "output_type": "stream",
     "text": [
      "Module(\n",
      "    body=[\n",
      "        Assign(\n",
      "            targets=[\n",
      "                Name(id='L', ctx=Store())],\n",
      "            value=List(\n",
      "                elts=[\n",
      "                    Constant(value=1),\n",
      "                    Constant(value=4),\n",
      "                    Constant(value='hello')],\n",
      "                ctx=Load())),\n",
      "        For(\n",
      "            target=Name(id='i', ctx=Store()),\n",
      "            iter=ListComp(\n",
      "                elt=Call(\n",
      "                    func=Name(id='len', ctx=Load()),\n",
      "                    args=[\n",
      "                        Call(\n",
      "                            func=Name(id='str', ctx=Load()),\n",
      "                            args=[\n",
      "                                Name(id='x', ctx=Load())],\n",
      "                            keywords=[])],\n",
      "                    keywords=[]),\n",
      "                generators=[\n",
      "                    comprehension(\n",
      "                        target=Name(id='x', ctx=Store()),\n",
      "                        iter=Name(id='L', ctx=Load()),\n",
      "                        ifs=[],\n",
      "                        is_async=0)]),\n",
      "            body=[\n",
      "                Expr(\n",
      "                    value=Call(\n",
      "                        func=Name(id='print', ctx=Load()),\n",
      "                        args=[\n",
      "                            Name(id='i', ctx=Load())],\n",
      "                        keywords=[]))],\n",
      "            orelse=[])],\n",
      "    type_ignores=[])\n"
     ]
    }
   ],
   "source": [
    "print_ast(ast.parse(\n",
    "'''\n",
    "L = [1, 4, \"hello\"]\n",
    "for i in [len(str(x)) for x in L]:\n",
    "    print(i)\n",
    "'''\n",
    "))"
   ]
  },
  {
   "cell_type": "code",
   "execution_count": 966,
   "metadata": {},
   "outputs": [
    {
     "name": "stdout",
     "output_type": "stream",
     "text": [
      "Module(\n",
      "    body=[\n",
      "        Assign(\n",
      "            targets=[\n",
      "                Tuple(\n",
      "                    elts=[\n",
      "                        Name(id='x', ctx=Store()),\n",
      "                        Name(id='y', ctx=Store())],\n",
      "                    ctx=Store())],\n",
      "            value=Tuple(\n",
      "                elts=[\n",
      "                    BinOp(\n",
      "                        left=Constant(value=3),\n",
      "                        op=Add(),\n",
      "                        right=Constant(value=5)),\n",
      "                    BinOp(\n",
      "                        left=Constant(value=3),\n",
      "                        op=Add(),\n",
      "                        right=Constant(value=5))],\n",
      "                ctx=Load()))],\n",
      "    type_ignores=[])\n"
     ]
    }
   ],
   "source": [
    "print_ast(ast.parse('x,y = 3 + 5, 3 + 5'))"
   ]
  },
  {
   "cell_type": "code",
   "execution_count": 967,
   "metadata": {},
   "outputs": [
    {
     "name": "stdout",
     "output_type": "stream",
     "text": [
      "Module(\n",
      "    body=[\n",
      "        Assign(\n",
      "            targets=[\n",
      "                Tuple(\n",
      "                    elts=[\n",
      "                        Name(id='tmp1', ctx=Store()),\n",
      "                        Name(id='tmp2', ctx=Store())],\n",
      "                    ctx=Store())],\n",
      "            value=Tuple(\n",
      "                elts=[\n",
      "                    BinOp(\n",
      "                        left=Constant(value=3),\n",
      "                        op=Add(),\n",
      "                        right=Constant(value=5)),\n",
      "                    BinOp(\n",
      "                        left=Constant(value=3),\n",
      "                        op=Add(),\n",
      "                        right=Constant(value=5))],\n",
      "                ctx=Load())),\n",
      "        Assign(\n",
      "            targets=[\n",
      "                Tuple(\n",
      "                    elts=[\n",
      "                        Name(id='x', ctx=Store()),\n",
      "                        Name(id='y', ctx=Store())],\n",
      "                    ctx=Store())],\n",
      "            value=Tuple(\n",
      "                elts=[\n",
      "                    Name(id='tmp1', ctx=Load()),\n",
      "                    Name(id='tmp2', ctx=Load())],\n",
      "                ctx=Load()))],\n",
      "    type_ignores=[])\n"
     ]
    }
   ],
   "source": [
    "print_ast(ast.parse('''\n",
    "tmp1, tmp2 = 3 + 5, 3 + 5\n",
    "x, y = tmp1, tmp2'''))"
   ]
  },
  {
   "cell_type": "markdown",
   "metadata": {},
   "source": [
    "The naive method is to copy all targets and rename them on a line above. \n",
    "\n",
    "List and Dict subscripts are an issue for this. For example the following AST:\n",
    "\n",
    "Assign(\n",
    "    targets=[\n",
    "        Subscript(\n",
    "            value=Name(id='gates', ctx=Load()),\n",
    "            slice=Subscript(\n",
    "                value=Name(id='inps', ctx=Load()),\n",
    "                slice=Constant(value=0),\n",
    "                ctx=Load()),\n",
    "            ctx=Store())],\n",
    "    value=Call(\n",
    "        func=Name(id='float', ctx=Load()),\n",
    "        args=[\n",
    "            Subscript(\n",
    "                value=Name(id='inps', ctx=Load()),\n",
    "                slice=Constant(value=1),\n",
    "                ctx=Load())],\n",
    "        keywords=[]\n",
    "        )\n",
    ")\n",
    "\n",
    "representing \n",
    "\n",
    "gates[inps[0]] = float(inps[1])\n",
    "\n",
    "gets transformed to\n",
    "\n",
    "xxx[yyy[0]] = float(inps[1])\n",
    "gates[inps[0]] = xxx[yyy[0]]\n",
    "\n",
    "but this is problematic because xxx and yyy aren't declared as lists, which they need to be.\n",
    "\n",
    "To get around this, we need to transform each target to a single variable node.\n",
    "\n",
    "x, y = 5, 3\n",
    "\n",
    "must be transformed to\n",
    "\n",
    "tmp = 5, 3\n",
    "x, y = tmp\n",
    "\n",
    "instead."
   ]
  },
  {
   "cell_type": "code",
   "execution_count": 968,
   "metadata": {},
   "outputs": [],
   "source": [
    "class AssignMutator(ast.NodeTransformer):\n",
    "    def __init__(self, p=100):\n",
    "        self.p = p\n",
    "        self.mutations = []\n",
    "\n",
    "    def transform_assign(self, src):\n",
    "        return (self.visit(src), self.mutations)\n",
    "    \n",
    "    def visit_Assign(self, src):\n",
    "        if random.randint(1, 100) > self.p: return src\n",
    "        new_target = ast.Name(id = '_' + str(random.randint(1087345, 196871238674)), ctx = ast.Store())\n",
    "        node = [ast.Assign(targets = [new_target], value=src.value), ast.Assign(targets=src.targets, value=ast.Name(id=new_target.id, ctx=ast.Load()))]\n",
    "        #self.mutations update\n",
    "        self.mutations.append((deepcopy(src), deepcopy(node)))\n",
    "        return node"
   ]
  },
  {
   "cell_type": "code",
   "execution_count": 969,
   "metadata": {},
   "outputs": [
    {
     "name": "stdout",
     "output_type": "stream",
     "text": [
      "Module(\n",
      "    body=[\n",
      "        Assign(\n",
      "            targets=[\n",
      "                Name(id='x', ctx=Store())],\n",
      "            value=BinOp(\n",
      "                left=BinOp(\n",
      "                    left=Constant(value=2),\n",
      "                    op=Mult(),\n",
      "                    right=Constant(value=3)),\n",
      "                op=Add(),\n",
      "                right=Constant(value=4)))],\n",
      "    type_ignores=[])\n"
     ]
    }
   ],
   "source": [
    "print_ast(ast.parse('x = 2 * 3 + 4'))"
   ]
  },
  {
   "cell_type": "code",
   "execution_count": 970,
   "metadata": {},
   "outputs": [
    {
     "name": "stdout",
     "output_type": "stream",
     "text": [
      "Module(\n",
      "    body=[\n",
      "        Assign(\n",
      "            targets=[\n",
      "                Name(id='_98493937631', ctx=Store())],\n",
      "            value=Tuple(\n",
      "                elts=[\n",
      "                    BinOp(\n",
      "                        left=Constant(value=3),\n",
      "                        op=Add(),\n",
      "                        right=Constant(value=5)),\n",
      "                    BinOp(\n",
      "                        left=Constant(value=5),\n",
      "                        op=Add(),\n",
      "                        right=Constant(value=3))],\n",
      "                ctx=Load())),\n",
      "        Assign(\n",
      "            targets=[\n",
      "                Tuple(\n",
      "                    elts=[\n",
      "                        Name(id='x', ctx=Store()),\n",
      "                        Name(id='y', ctx=Store())],\n",
      "                    ctx=Store())],\n",
      "            value=Name(id='_98493937631', ctx=Load()))],\n",
      "    type_ignores=[])\n"
     ]
    }
   ],
   "source": [
    "print_ast(AssignMutator().visit(ast.parse('x,y = 3 + 5, 5 + 3')))"
   ]
  },
  {
   "cell_type": "code",
   "execution_count": 971,
   "metadata": {},
   "outputs": [
    {
     "name": "stdout",
     "output_type": "stream",
     "text": [
      "Module(\n",
      "    body=[\n",
      "        Assign(\n",
      "            targets=[\n",
      "                Name(id='x', ctx=Store()),\n",
      "                Name(id='y', ctx=Store())],\n",
      "            value=Constant(value=5))],\n",
      "    type_ignores=[])\n"
     ]
    }
   ],
   "source": [
    "print_ast(ast.parse('x=y=5'))"
   ]
  },
  {
   "cell_type": "code",
   "execution_count": 972,
   "metadata": {},
   "outputs": [
    {
     "name": "stdout",
     "output_type": "stream",
     "text": [
      "Module(\n",
      "    body=[\n",
      "        Assign(\n",
      "            targets=[\n",
      "                Name(id='_4718377845', ctx=Store())],\n",
      "            value=Constant(value=5)),\n",
      "        Assign(\n",
      "            targets=[\n",
      "                Name(id='x', ctx=Store()),\n",
      "                Name(id='y', ctx=Store())],\n",
      "            value=Name(id='_4718377845', ctx=Load()))],\n",
      "    type_ignores=[])\n"
     ]
    }
   ],
   "source": [
    "print_ast(AssignMutator().visit(ast.parse('x=y=5')))"
   ]
  },
  {
   "cell_type": "code",
   "execution_count": 973,
   "metadata": {},
   "outputs": [
    {
     "name": "stdout",
     "output_type": "stream",
     "text": [
      "_93783867651 = (3 + 5, 5 + 3)\n",
      "x, y = _93783867651\n"
     ]
    }
   ],
   "source": [
    "print_code(AssignMutator().visit(ast.parse('x,y = 3 + 5, 5 + 3')))"
   ]
  },
  {
   "cell_type": "code",
   "execution_count": 974,
   "metadata": {},
   "outputs": [
    {
     "name": "stdout",
     "output_type": "stream",
     "text": [
      "_4389572250 = 5\n",
      "x = y = _4389572250\n"
     ]
    }
   ],
   "source": [
    "print_code(AssignMutator().visit(ast.parse('x=y=5')))"
   ]
  },
  {
   "cell_type": "code",
   "execution_count": 975,
   "metadata": {},
   "outputs": [],
   "source": [
    "class PythonMutator(PythonMutator):\n",
    "    def transform_assign(self, src):\n",
    "        node = AssignMutator().transform_assign(src)\n",
    "        self.mutations.extend(node[1])\n",
    "        return node[0]"
   ]
  },
  {
   "cell_type": "code",
   "execution_count": 976,
   "metadata": {},
   "outputs": [],
   "source": [
    "tree = ast.parse(r'''\n",
    "with open(\"circuit.txt\", \"r\") as F:\n",
    "    circuit = F.readlines() # read circuit file into a list\n",
    "with open(\"gate_delays.txt\", \"r\") as F:\n",
    "    delays = F.readlines() # read gate delays into a list\n",
    "\n",
    "gates = {-1: 0} # prepare dictionary to allow simpler access of gate delays\n",
    "nodes = {} # prepare dictionary to store node data\n",
    "out_nodes = [] # prepare list to store names of output nodes\n",
    "flag1 = flag2 = flag3 = False # prep for processing circuit later\n",
    "\n",
    "# loop to assign delay value to each kind of gate\n",
    "for i in delays:\n",
    "    x = i.strip() # ignore trailing whitespace\n",
    "    if x[:2] == \"//\": continue # ignoring whitespace followed by //\n",
    "    if len(x) == 0: continue # ignoring blank lines or whitespace-only lines\n",
    "    inps = x.split() # separate line into words\n",
    "    gates[inps[0]] = float(inps[1]) # assign corresponding delay values with key as gate name\n",
    "\n",
    "for i in circuit:\n",
    "    x = i.strip() # ignore trailing whitespace\n",
    "    if x[:2] == \"//\": continue # ignoring whitespace followed by //\n",
    "    if len(x) == 0: continue # ignoring blank lines or whitespace-only lines\n",
    "    inps = x.split() # separate line into words\n",
    "    if inps[0] == \"PRIMARY_INPUTS\": # handling input signal data\n",
    "        for j in inps[1:]:\n",
    "            nodes[j] = [0, [], -1] # initializing data with 0 value of delay, no nodes feeding in, associated with no gate  \n",
    "        flag1 = True # flag to say input signals have been read\n",
    "        continue\n",
    "    if inps[0] == \"INTERNAL_SIGNALS\": # handling internal signal data\n",
    "        for j in inps[1:]:\n",
    "            nodes[j] = [0, [], -1] # initializing data with 0 value of delay, no nodes feeding in, associated with no gate\n",
    "        flag2 = True # flag to say internal signals have been read\n",
    "        continue\n",
    "    if inps[0] == \"PRIMARY_OUTPUTS\": # handling output signal data\n",
    "        for j in inps[1:]:\n",
    "            nodes[j] = [0, [], -1] # initializing data with 0 value of delay, no nodes feeding in, associated with no gate\n",
    "        out_nodes.extend(inps[1:]) # list of output nodes\n",
    "        flag3 = True # flag to say output signals have been read\n",
    "        continue\n",
    "    if flag1 and flag2 and flag3: break # break the loop if all 3 conditions are met before loop termination\n",
    "\n",
    "for i in circuit: # processing the input and setting up input nodes and gates for each node\n",
    "    x = i.strip() # ignore trailing whitespace\n",
    "    if x[:2] == \"//\": continue # ignoring whitespace followed by //\n",
    "    if len(x) == 0: continue # ignoring blank lines or whitespace-only lines\n",
    "    inps = x.split() # separate line into words\n",
    "    if ((inps[0]==\"PRIMARY_INPUTS\") or (inps[0]==\"INTERNAL_SIGNALS\") or (inps[0]==\"PRIMARY_OUTPUTS\")): \n",
    "        continue # ignore signal lines\n",
    "    out = inps[-1]\n",
    "    nodes[out][1].extend(inps[1:-1]) # set up input nodes for each node\n",
    "    nodes[out][2] = inps[0] # set gate delay for relevant nodes\n",
    "\n",
    "def calcVal_A(x): # recursive function to calculate the delay at each node\n",
    "    # print(x, nodes) # debug line\n",
    "    if nodes[x][1] == []: return nodes[x][0] # skip recursive step if node already processed\n",
    "    s = 0\n",
    "    for i in nodes[x][1]: # find max delay time of each input node\n",
    "        nodes[i][0] = calcVal_A(i) # recursive call to function\n",
    "        s = max(nodes[i][0], s) # node delay that controls delay time of output\n",
    "    nodes[x][1] = [] # clear input nodes to indicate node delay is already calculated\n",
    "    return s + gates[nodes[x][2]] # gate delay compensation\n",
    "\n",
    "to_write = [] # initialize array of lines to be written to output\n",
    "\n",
    "for i in out_nodes:\n",
    "    nodes[i][0] = calcVal_A(i) # calculate delay for each output node using the recursive function\n",
    "    if nodes[i][0] == round(nodes[i][0]): nodes[i][0] = round(nodes[i][0])\n",
    "    to_write.append(i + \" \" + str(nodes[i][0]) + \"\\n\") # write delay at each output node to array\n",
    "\n",
    "with open(\"output_delays.txt\", \"w\") as F:\n",
    "    F.writelines(to_write) # write output array to file\n",
    "''')"
   ]
  },
  {
   "cell_type": "code",
   "execution_count": 977,
   "metadata": {},
   "outputs": [
    {
     "name": "stdout",
     "output_type": "stream",
     "text": [
      "with open('circuit.txt', 'r') as F:\n",
      "    _177739950123 = F.readlines()\n",
      "    circuit = _177739950123\n",
      "with open('gate_delays.txt', 'r') as F:\n",
      "    _71766640185 = F.readlines()\n",
      "    delays = _71766640185\n",
      "_107518804893 = {-1: 0}\n",
      "gates = _107518804893\n",
      "_15804163278 = {}\n",
      "nodes = _15804163278\n",
      "_189100437104 = []\n",
      "out_nodes = _189100437104\n",
      "_140333730827 = 0 // -3568\n",
      "flag1 = flag2 = flag3 = _140333730827\n",
      "for i in delays:\n",
      "    _162213427145 = i.strip()\n",
      "    x = _162213427145\n",
      "    if x[:-1933 + -4478 - -6413] == '//':\n",
      "        continue\n",
      "    if len(x) == 0:\n",
      "        continue\n",
      "    _14159639297 = x.split()\n",
      "    inps = _14159639297\n",
      "    _100931786953 = float(inps[1])\n",
      "    gates[inps[0]] = _100931786953\n",
      "for i in circuit:\n",
      "    _26734841478 = i.strip()\n",
      "    x = _26734841478\n",
      "    if x[:2] == '//':\n",
      "        continue\n",
      "    if len(x) == 0:\n",
      "        continue\n",
      "    _178445304548 = x.split()\n",
      "    inps = _178445304548\n",
      "    if inps[0] == 'PRIMARY_INPUTS':\n",
      "        for j in inps[1:]:\n",
      "            _48337278966 = [0, [], -1]\n",
      "            nodes[j] = _48337278966\n",
      "        _378337899 = True\n",
      "        flag1 = _378337899\n",
      "        continue\n",
      "    if inps[0] == 'INTERNAL_SIGNALS':\n",
      "        for j in inps[1:]:\n",
      "            _149348219563 = [0, [], -1]\n",
      "            nodes[j] = _149348219563\n",
      "        _8318988761 = True\n",
      "        flag2 = _8318988761\n",
      "        continue\n",
      "    if inps[0] == 'PRIMARY_OUTPUTS':\n",
      "        for j in inps[1:]:\n",
      "            _57103330782 = [0, [], -1]\n",
      "            nodes[j] = _57103330782\n",
      "        out_nodes.extend(inps[1:])\n",
      "        _87466477841 = True\n",
      "        flag3 = _87466477841\n",
      "        continue\n",
      "    if flag1 and flag2 and flag3:\n",
      "        break\n",
      "for i in circuit:\n",
      "    _1530419373 = i.strip()\n",
      "    x = _1530419373\n",
      "    if x[:2] == '//':\n",
      "        continue\n",
      "    if len(x) == 0:\n",
      "        continue\n",
      "    _64186850634 = x.split()\n",
      "    inps = _64186850634\n",
      "    if inps[0] == 'PRIMARY_INPUTS' or inps[0] == 'INTERNAL_SIGNALS' or inps[0] == 'PRIMARY_OUTPUTS':\n",
      "        continue\n",
      "    _48747795821 = inps[-1]\n",
      "    out = _48747795821\n",
      "    nodes[out][1].extend(inps[1:-1])\n",
      "    _67494138859 = inps[0]\n",
      "    nodes[out][2] = _67494138859\n",
      "\n",
      "def calcVal_A(x):\n",
      "    if nodes[x][1] == []:\n",
      "        return nodes[x][0]\n",
      "    _77480704622 = 0\n",
      "    s = _77480704622\n",
      "    for i in nodes[x][1]:\n",
      "        _67744014976 = calcVal_A(i)\n",
      "        nodes[i][0] = _67744014976\n",
      "        _59071281658 = max(nodes[i][0], s)\n",
      "        s = _59071281658\n",
      "    _171839809223 = []\n",
      "    nodes[x][1] = _171839809223\n",
      "    return s + gates[nodes[x][2]]\n",
      "_144378999908 = []\n",
      "to_write = _144378999908\n",
      "for i in out_nodes:\n",
      "    _75482398643 = calcVal_A(i)\n",
      "    nodes[i][0] = _75482398643\n",
      "    if nodes[i][0] == round(nodes[i][0]):\n",
      "        _114791420613 = round(nodes[i][0])\n",
      "        nodes[i][0] = _114791420613\n",
      "    to_write.append(i + ' ' + str(nodes[i][0]) + '\\n')\n",
      "with open('output_delays.txt', 'w') as F:\n",
      "    F.writelines(to_write)\n"
     ]
    }
   ],
   "source": [
    "print_code(PythonMutator().expand_constants(PythonMutator().transform_assign(tree)))"
   ]
  },
  {
   "cell_type": "code",
   "execution_count": 978,
   "metadata": {},
   "outputs": [],
   "source": [
    "import trace\n",
    "import sys"
   ]
  },
  {
   "cell_type": "code",
   "execution_count": 979,
   "metadata": {},
   "outputs": [],
   "source": [
    "def traceit(frame, event, arg):\n",
    "    \"\"\"Trace program execution. To be passed to sys.settrace().\"\"\"\n",
    "    if event == 'line':\n",
    "        global coverage\n",
    "        function_name = frame.f_code.co_name\n",
    "        lineno = frame.f_lineno\n",
    "        vars = dict(frame.f_locals)\n",
    "        coverage.append([function_name, lineno, vars])\n",
    "    return traceit\n",
    "\n",
    "def tracer(f):\n",
    "    global coverage\n",
    "    coverage = []\n",
    "    sys.settrace(traceit)  # Turn on\n",
    "    f()\n",
    "    sys.settrace(None)    # Turn off"
   ]
  },
  {
   "cell_type": "code",
   "execution_count": 980,
   "metadata": {},
   "outputs": [],
   "source": [
    "def g():\n",
    "    def simple_function(x):\n",
    "        z = 2\n",
    "        y = 3 * x\n",
    "        return y\n",
    "    \n",
    "    a = simple_function(2)\n",
    "    b = 0\n",
    "    for _ in range(6):\n",
    "        b += 2 * a\n",
    "\n",
    "    print(\"The answer is\", b)"
   ]
  },
  {
   "cell_type": "code",
   "execution_count": 981,
   "metadata": {},
   "outputs": [
    {
     "name": "stdout",
     "output_type": "stream",
     "text": [
      "The answer is 72\n"
     ]
    }
   ],
   "source": [
    "tracer(g)"
   ]
  },
  {
   "cell_type": "code",
   "execution_count": 982,
   "metadata": {},
   "outputs": [
    {
     "name": "stdout",
     "output_type": "stream",
     "text": [
      "g 2 {}\n",
      "g 7 {'simple_function': <function g.<locals>.simple_function at 0x0000022EEAA55F80>}\n",
      "simple_function 3 {'x': 2}\n",
      "simple_function 4 {'x': 2, 'z': 2}\n",
      "simple_function 5 {'x': 2, 'z': 2, 'y': 6}\n",
      "g 8 {'simple_function': <function g.<locals>.simple_function at 0x0000022EEAA55F80>, 'a': 6}\n",
      "g 9 {'simple_function': <function g.<locals>.simple_function at 0x0000022EEAA55F80>, 'a': 6, 'b': 0}\n",
      "g 10 {'simple_function': <function g.<locals>.simple_function at 0x0000022EEAA55F80>, 'a': 6, 'b': 0, '_': 0}\n",
      "g 9 {'simple_function': <function g.<locals>.simple_function at 0x0000022EEAA55F80>, 'a': 6, 'b': 12, '_': 0}\n",
      "g 10 {'simple_function': <function g.<locals>.simple_function at 0x0000022EEAA55F80>, 'a': 6, 'b': 12, '_': 1}\n",
      "g 9 {'simple_function': <function g.<locals>.simple_function at 0x0000022EEAA55F80>, 'a': 6, 'b': 24, '_': 1}\n",
      "g 10 {'simple_function': <function g.<locals>.simple_function at 0x0000022EEAA55F80>, 'a': 6, 'b': 24, '_': 2}\n",
      "g 9 {'simple_function': <function g.<locals>.simple_function at 0x0000022EEAA55F80>, 'a': 6, 'b': 36, '_': 2}\n",
      "g 10 {'simple_function': <function g.<locals>.simple_function at 0x0000022EEAA55F80>, 'a': 6, 'b': 36, '_': 3}\n",
      "g 9 {'simple_function': <function g.<locals>.simple_function at 0x0000022EEAA55F80>, 'a': 6, 'b': 48, '_': 3}\n",
      "g 10 {'simple_function': <function g.<locals>.simple_function at 0x0000022EEAA55F80>, 'a': 6, 'b': 48, '_': 4}\n",
      "g 9 {'simple_function': <function g.<locals>.simple_function at 0x0000022EEAA55F80>, 'a': 6, 'b': 60, '_': 4}\n",
      "g 10 {'simple_function': <function g.<locals>.simple_function at 0x0000022EEAA55F80>, 'a': 6, 'b': 60, '_': 5}\n",
      "g 9 {'simple_function': <function g.<locals>.simple_function at 0x0000022EEAA55F80>, 'a': 6, 'b': 72, '_': 5}\n",
      "g 12 {'simple_function': <function g.<locals>.simple_function at 0x0000022EEAA55F80>, 'a': 6, 'b': 72, '_': 5}\n",
      "write 620 {'self': <ipykernel.iostream.OutStream object at 0x0000022EEEDABAF0>, 'string': 'The answer is'}\n",
      "write 624 {'self': <ipykernel.iostream.OutStream object at 0x0000022EEEDABAF0>, 'string': 'The answer is'}\n",
      "write 631 {'self': <ipykernel.iostream.OutStream object at 0x0000022EEEDABAF0>, 'string': 'The answer is'}\n",
      "write 635 {'self': <ipykernel.iostream.OutStream object at 0x0000022EEEDABAF0>, 'string': 'The answer is'}\n",
      "_is_master_process 506 {'self': <ipykernel.iostream.OutStream object at 0x0000022EEEDABAF0>}\n",
      "write 637 {'self': <ipykernel.iostream.OutStream object at 0x0000022EEEDABAF0>, 'string': 'The answer is', 'is_child': False}\n",
      "write 638 {'self': <ipykernel.iostream.OutStream object at 0x0000022EEEDABAF0>, 'string': 'The answer is', 'is_child': False}\n",
      "write 637 {'self': <ipykernel.iostream.OutStream object at 0x0000022EEEDABAF0>, 'string': 'The answer is', 'is_child': False}\n",
      "write 639 {'self': <ipykernel.iostream.OutStream object at 0x0000022EEEDABAF0>, 'string': 'The answer is', 'is_child': False}\n",
      "write 648 {'self': <ipykernel.iostream.OutStream object at 0x0000022EEEDABAF0>, 'string': 'The answer is', 'is_child': False}\n",
      "_schedule_flush 537 {'self': <ipykernel.iostream.OutStream object at 0x0000022EEEDABAF0>}\n",
      "_schedule_flush 539 {'self': <ipykernel.iostream.OutStream object at 0x0000022EEEDABAF0>}\n",
      "_schedule_flush 542 {'self': <ipykernel.iostream.OutStream object at 0x0000022EEEDABAF0>}\n",
      "_schedule_flush 545 {'self': <ipykernel.iostream.OutStream object at 0x0000022EEEDABAF0>, '_schedule_in_thread': <function OutStream._schedule_flush.<locals>._schedule_in_thread at 0x0000022EEAE4CB80>}\n",
      "schedule 248 {'self': <ipykernel.iostream.IOPubThread object at 0x0000022EEEE23E90>, 'f': <function OutStream._schedule_flush.<locals>._schedule_in_thread at 0x0000022EEAE4CB80>}\n",
      "is_alive 1200 {'self': <Thread(IOPub, started daemon 34456)>}\n",
      "is_alive 1201 {'self': <Thread(IOPub, started daemon 34456)>}\n",
      "is_set 577 {'self': <threading.Event at 0x22eee57dd90: set>}\n",
      "is_alive 1203 {'self': <Thread(IOPub, started daemon 34456)>}\n",
      "_wait_for_tstate_lock 1132 {'self': <Thread(IOPub, started daemon 34456)>, 'block': False, 'timeout': -1}\n",
      "_wait_for_tstate_lock 1133 {'self': <Thread(IOPub, started daemon 34456)>, 'block': False, 'timeout': -1, 'lock': <locked _thread.lock object at 0x0000022EEEE44D40>}\n",
      "_wait_for_tstate_lock 1138 {'self': <Thread(IOPub, started daemon 34456)>, 'block': False, 'timeout': -1, 'lock': <locked _thread.lock object at 0x0000022EEEE44D40>}\n",
      "_wait_for_tstate_lock 1139 {'self': <Thread(IOPub, started daemon 34456)>, 'block': False, 'timeout': -1, 'lock': <locked _thread.lock object at 0x0000022EEEE44D40>}\n",
      "is_alive 1204 {'self': <Thread(IOPub, started daemon 34456)>}\n",
      "schedule 249 {'self': <ipykernel.iostream.IOPubThread object at 0x0000022EEEE23E90>, 'f': <function OutStream._schedule_flush.<locals>._schedule_in_thread at 0x0000022EEAE4CB80>}\n",
      "schedule 251 {'self': <ipykernel.iostream.IOPubThread object at 0x0000022EEEE23E90>, 'f': <function OutStream._schedule_flush.<locals>._schedule_in_thread at 0x0000022EEAE4CB80>}\n",
      "_event_pipe 130 {'self': <ipykernel.iostream.IOPubThread object at 0x0000022EEEE23E90>}\n",
      "_event_pipe 131 {'self': <ipykernel.iostream.IOPubThread object at 0x0000022EEEE23E90>}\n",
      "_event_pipe 144 {'self': <ipykernel.iostream.IOPubThread object at 0x0000022EEEE23E90>, 'event_pipe': <zmq.Socket(zmq.PUSH) at 0x22eeee17e00>}\n",
      "send 678 {'self': <zmq.Socket(zmq.PUSH) at 0x22eeee17e00>, 'data': b'', 'flags': 0, 'copy': True, 'track': False, 'routing_id': None, 'group': None, '__class__': <class 'zmq.sugar.socket.Socket'>}\n",
      "send 687 {'self': <zmq.Socket(zmq.PUSH) at 0x22eeee17e00>, 'data': b'', 'flags': 0, 'copy': True, 'track': False, 'routing_id': None, 'group': None, '__class__': <class 'zmq.sugar.socket.Socket'>}\n",
      "send 696 {'self': <zmq.Socket(zmq.PUSH) at 0x22eeee17e00>, 'data': b'', 'flags': 0, 'copy': True, 'track': False, 'routing_id': None, 'group': None, '__class__': <class 'zmq.sugar.socket.Socket'>}\n",
      "write 650 {'self': <ipykernel.iostream.OutStream object at 0x0000022EEEDABAF0>, 'string': 'The answer is', 'is_child': False}\n",
      "write 620 {'self': <ipykernel.iostream.OutStream object at 0x0000022EEEDABAF0>, 'string': ' '}\n",
      "write 624 {'self': <ipykernel.iostream.OutStream object at 0x0000022EEEDABAF0>, 'string': ' '}\n",
      "write 631 {'self': <ipykernel.iostream.OutStream object at 0x0000022EEEDABAF0>, 'string': ' '}\n",
      "write 635 {'self': <ipykernel.iostream.OutStream object at 0x0000022EEEDABAF0>, 'string': ' '}\n",
      "_is_master_process 506 {'self': <ipykernel.iostream.OutStream object at 0x0000022EEEDABAF0>}\n",
      "write 637 {'self': <ipykernel.iostream.OutStream object at 0x0000022EEEDABAF0>, 'string': ' ', 'is_child': False}\n",
      "write 638 {'self': <ipykernel.iostream.OutStream object at 0x0000022EEEDABAF0>, 'string': ' ', 'is_child': False}\n",
      "write 637 {'self': <ipykernel.iostream.OutStream object at 0x0000022EEEDABAF0>, 'string': ' ', 'is_child': False}\n",
      "write 639 {'self': <ipykernel.iostream.OutStream object at 0x0000022EEEDABAF0>, 'string': ' ', 'is_child': False}\n",
      "write 648 {'self': <ipykernel.iostream.OutStream object at 0x0000022EEEDABAF0>, 'string': ' ', 'is_child': False}\n",
      "_schedule_flush 537 {'self': <ipykernel.iostream.OutStream object at 0x0000022EEEDABAF0>}\n",
      "_schedule_flush 538 {'self': <ipykernel.iostream.OutStream object at 0x0000022EEEDABAF0>}\n",
      "write 650 {'self': <ipykernel.iostream.OutStream object at 0x0000022EEEDABAF0>, 'string': ' ', 'is_child': False}\n",
      "write 620 {'self': <ipykernel.iostream.OutStream object at 0x0000022EEEDABAF0>, 'string': '72'}\n",
      "write 624 {'self': <ipykernel.iostream.OutStream object at 0x0000022EEEDABAF0>, 'string': '72'}\n",
      "write 631 {'self': <ipykernel.iostream.OutStream object at 0x0000022EEEDABAF0>, 'string': '72'}\n",
      "write 635 {'self': <ipykernel.iostream.OutStream object at 0x0000022EEEDABAF0>, 'string': '72'}\n",
      "_is_master_process 506 {'self': <ipykernel.iostream.OutStream object at 0x0000022EEEDABAF0>}\n",
      "write 637 {'self': <ipykernel.iostream.OutStream object at 0x0000022EEEDABAF0>, 'string': '72', 'is_child': False}\n",
      "write 638 {'self': <ipykernel.iostream.OutStream object at 0x0000022EEEDABAF0>, 'string': '72', 'is_child': False}\n",
      "write 637 {'self': <ipykernel.iostream.OutStream object at 0x0000022EEEDABAF0>, 'string': '72', 'is_child': False}\n",
      "write 639 {'self': <ipykernel.iostream.OutStream object at 0x0000022EEEDABAF0>, 'string': '72', 'is_child': False}\n",
      "write 648 {'self': <ipykernel.iostream.OutStream object at 0x0000022EEEDABAF0>, 'string': '72', 'is_child': False}\n",
      "_schedule_flush 537 {'self': <ipykernel.iostream.OutStream object at 0x0000022EEEDABAF0>}\n",
      "_schedule_flush 538 {'self': <ipykernel.iostream.OutStream object at 0x0000022EEEDABAF0>}\n",
      "write 650 {'self': <ipykernel.iostream.OutStream object at 0x0000022EEEDABAF0>, 'string': '72', 'is_child': False}\n",
      "write 620 {'self': <ipykernel.iostream.OutStream object at 0x0000022EEEDABAF0>, 'string': '\\n'}\n",
      "write 624 {'self': <ipykernel.iostream.OutStream object at 0x0000022EEEDABAF0>, 'string': '\\n'}\n",
      "write 631 {'self': <ipykernel.iostream.OutStream object at 0x0000022EEEDABAF0>, 'string': '\\n'}\n",
      "write 635 {'self': <ipykernel.iostream.OutStream object at 0x0000022EEEDABAF0>, 'string': '\\n'}\n",
      "_is_master_process 506 {'self': <ipykernel.iostream.OutStream object at 0x0000022EEEDABAF0>}\n",
      "write 637 {'self': <ipykernel.iostream.OutStream object at 0x0000022EEEDABAF0>, 'string': '\\n', 'is_child': False}\n",
      "write 638 {'self': <ipykernel.iostream.OutStream object at 0x0000022EEEDABAF0>, 'string': '\\n', 'is_child': False}\n",
      "write 637 {'self': <ipykernel.iostream.OutStream object at 0x0000022EEEDABAF0>, 'string': '\\n', 'is_child': False}\n",
      "write 639 {'self': <ipykernel.iostream.OutStream object at 0x0000022EEEDABAF0>, 'string': '\\n', 'is_child': False}\n",
      "write 648 {'self': <ipykernel.iostream.OutStream object at 0x0000022EEEDABAF0>, 'string': '\\n', 'is_child': False}\n",
      "_schedule_flush 537 {'self': <ipykernel.iostream.OutStream object at 0x0000022EEEDABAF0>}\n",
      "_schedule_flush 538 {'self': <ipykernel.iostream.OutStream object at 0x0000022EEEDABAF0>}\n",
      "write 650 {'self': <ipykernel.iostream.OutStream object at 0x0000022EEEDABAF0>, 'string': '\\n', 'is_child': False}\n"
     ]
    }
   ],
   "source": [
    "for i in coverage:\n",
    "    print(f\"{i[0]} {i[1]} {i[2]}\")"
   ]
  },
  {
   "cell_type": "code",
   "execution_count": 983,
   "metadata": {},
   "outputs": [
    {
     "name": "stdout",
     "output_type": "stream",
     "text": [
      "FunctionDef(\n",
      "    name='g',\n",
      "    args=arguments(\n",
      "        posonlyargs=[],\n",
      "        args=[],\n",
      "        kwonlyargs=[],\n",
      "        kw_defaults=[],\n",
      "        defaults=[]),\n",
      "    body=[\n",
      "        FunctionDef(\n",
      "            name='simple_function',\n",
      "            args=arguments(\n",
      "                posonlyargs=[],\n",
      "                args=[\n",
      "                    arg(arg='x')],\n",
      "                kwonlyargs=[],\n",
      "                kw_defaults=[],\n",
      "                defaults=[]),\n",
      "            body=[\n",
      "                Assign(\n",
      "                    targets=[\n",
      "                        Name(id='z', ctx=Store())],\n",
      "                    value=Constant(value=2)),\n",
      "                Assign(\n",
      "                    targets=[\n",
      "                        Name(id='y', ctx=Store())],\n",
      "                    value=BinOp(\n",
      "                        left=Constant(value=3),\n",
      "                        op=Mult(),\n",
      "                        right=Name(id='x', ctx=Load()))),\n",
      "                Return(\n",
      "                    value=Name(id='y', ctx=Load()))],\n",
      "            decorator_list=[]),\n",
      "        Assign(\n",
      "            targets=[\n",
      "                Name(id='a', ctx=Store())],\n",
      "            value=Call(\n",
      "                func=Name(id='simple_function', ctx=Load()),\n",
      "                args=[\n",
      "                    Constant(value=2)],\n",
      "                keywords=[])),\n",
      "        Assign(\n",
      "            targets=[\n",
      "                Name(id='b', ctx=Store())],\n",
      "            value=Constant(value=0)),\n",
      "        For(\n",
      "            target=Name(id='_', ctx=Store()),\n",
      "            iter=Call(\n",
      "                func=Name(id='range', ctx=Load()),\n",
      "                args=[\n",
      "                    Constant(value=6)],\n",
      "                keywords=[]),\n",
      "            body=[\n",
      "                AugAssign(\n",
      "                    target=Name(id='b', ctx=Store()),\n",
      "                    op=Add(),\n",
      "                    value=BinOp(\n",
      "                        left=Constant(value=2),\n",
      "                        op=Mult(),\n",
      "                        right=Name(id='a', ctx=Load())))],\n",
      "            orelse=[]),\n",
      "        Expr(\n",
      "            value=Call(\n",
      "                func=Name(id='print', ctx=Load()),\n",
      "                args=[\n",
      "                    Constant(value='The answer is'),\n",
      "                    Name(id='b', ctx=Load())],\n",
      "                keywords=[]))],\n",
      "    decorator_list=[])\n"
     ]
    }
   ],
   "source": [
    "g_tree = ast.parse(inspect.getsource(g)).body[0]\n",
    "print_ast(g_tree)"
   ]
  },
  {
   "cell_type": "code",
   "execution_count": 984,
   "metadata": {},
   "outputs": [
    {
     "name": "stdout",
     "output_type": "stream",
     "text": [
      "Module(\n",
      "    body=[\n",
      "        FunctionDef(\n",
      "            name='f',\n",
      "            args=arguments(\n",
      "                posonlyargs=[],\n",
      "                args=[\n",
      "                    arg(arg='x'),\n",
      "                    arg(arg='y')],\n",
      "                kwonlyargs=[\n",
      "                    arg(arg='z')],\n",
      "                kw_defaults=[\n",
      "                    Constant(value=3)],\n",
      "                defaults=[]),\n",
      "            body=[\n",
      "                Expr(\n",
      "                    value=Call(\n",
      "                        func=Name(id='print', ctx=Load()),\n",
      "                        args=[\n",
      "                            Name(id='x', ctx=Load())],\n",
      "                        keywords=[]))],\n",
      "            decorator_list=[])],\n",
      "    type_ignores=[])\n"
     ]
    }
   ],
   "source": [
    "print_ast(ast.parse('def f(x, y, *, z=3): print(x)'))"
   ]
  },
  {
   "cell_type": "code",
   "execution_count": 985,
   "metadata": {},
   "outputs": [
    {
     "name": "stdout",
     "output_type": "stream",
     "text": [
      "2\n",
      "7\n",
      "8\n",
      "9\n",
      "12\n"
     ]
    }
   ],
   "source": [
    "for node in g_tree.body:\n",
    "    print(node.lineno)"
   ]
  },
  {
   "cell_type": "code",
   "execution_count": 986,
   "metadata": {},
   "outputs": [],
   "source": [
    "def get_trace(src):\n",
    "    for node in src.body:\n",
    "        data = src.name, node.lineno\n",
    "        print(data)\n",
    "        if isinstance(node, ast.FunctionDef):\n",
    "            get_trace(node)"
   ]
  },
  {
   "cell_type": "code",
   "execution_count": 987,
   "metadata": {},
   "outputs": [
    {
     "name": "stdout",
     "output_type": "stream",
     "text": [
      "('g', 2)\n",
      "('simple_function', 3)\n",
      "('simple_function', 4)\n",
      "('simple_function', 5)\n",
      "('g', 7)\n",
      "('g', 8)\n",
      "('g', 9)\n",
      "('g', 12)\n"
     ]
    }
   ],
   "source": [
    "get_trace(g_tree)"
   ]
  },
  {
   "cell_type": "markdown",
   "metadata": {},
   "source": [
    "Now that we can get the line data for each node in the AST, we can get the data of the local variables at a particular AST node and use it for substitutions."
   ]
  },
  {
   "cell_type": "code",
   "execution_count": 988,
   "metadata": {},
   "outputs": [],
   "source": [
    "class VariableInjector(ast.NodeTransformer):  \n",
    "    def __init__(self):\n",
    "        self.mutations = []\n",
    "        self.fn = False\n",
    "        self.local_vars = {}\n",
    "          \n",
    "    def traceit(self, frame, event, arg):\n",
    "        if event == 'line':\n",
    "            function_name = frame.f_code.co_name\n",
    "            lineno = frame.f_lineno\n",
    "            vars = dict(frame.f_locals)\n",
    "            self.coverage.append([function_name, lineno, vars])\n",
    "        return self.traceit\n",
    "\n",
    "    def tracer(self, f):\n",
    "        self.coverage = []\n",
    "        sys.settrace(self.traceit)  # Turn on\n",
    "        f()\n",
    "        sys.settrace(None)    # Turn off\n",
    "\n",
    "    def profile_function(self, f, fn_tree = None):\n",
    "        self.fn = False\n",
    "\n",
    "        self.mutations = []\n",
    "        if fn_tree is None:\n",
    "            fn_tree = ast.parse(inspect.getsource(f)).body[0]\n",
    "        self.tracer(f)\n",
    "\n",
    "        self.seen = set()\n",
    "        self.unstable = set()\n",
    "        self.local_vars = set()\n",
    "        self.browsing = True        \n",
    "        self.visit(fn_tree)\n",
    "        \n",
    "        self.browsing = False\n",
    "        self.visit(fn_tree)\n",
    "            \n",
    "        return (fn_tree, self.mutations)\n",
    "    \n",
    "    def inject_functions(self, src, db):\n",
    "        self.fn = True\n",
    "        self.db = db\n",
    "        self.mutations = []\n",
    "\n",
    "        self.seen = set()\n",
    "        self.browsing = False\n",
    "        self.visit(src)\n",
    "        self.mutations = [(None, x) for x in self.seen] + self.mutations\n",
    "        self.browsing = True\n",
    "        self.visit(src)\n",
    "        \n",
    "        return (src, self.mutations)\n",
    "    \n",
    "                 "
   ]
  },
  {
   "cell_type": "markdown",
   "metadata": {},
   "source": [
    "Currenly our class simply combines our existing methods, and then visits the AST. Now what we have to do is, while visiting the AST, we need to find the in-scope variables and their values at every line of execution. Then, we need to look for constants and check if they can be replaced by some variable or some simple arithmetic expression involving a variable."
   ]
  },
  {
   "cell_type": "code",
   "execution_count": 989,
   "metadata": {},
   "outputs": [],
   "source": [
    "class VariableInjector(VariableInjector):\n",
    "    def visit_Assign(self, src):\n",
    "        if self.browsing:\n",
    "            for v in src.targets:\n",
    "                self.check_seens(v)\n",
    "\n",
    "        return self.generic_visit(src)\n",
    "    \n",
    "    def visit_AugAssign(self, src):\n",
    "        if self.browsing:\n",
    "            v = src.target\n",
    "            self.check_seens(v)\n",
    "\n",
    "        return self.generic_visit(src)\n",
    "    \n",
    "    def visit_For(self, src):\n",
    "        if self.browsing:\n",
    "            v = src.target\n",
    "            self.check_seens(v, True)\n",
    "\n",
    "        return self.generic_visit(src)\n",
    "            \n",
    "    def check_seens(self, v, seen=False):\n",
    "        if isinstance(v, ast.Tuple):\n",
    "            for var in v.elts: self.check_seens(var, seen)\n",
    "        elif isinstance(v, ast.Subscript): self.check_seens(v.value, seen)\n",
    "        else: \n",
    "            if seen: self.seen.add(v.id)\n",
    "            if v.id in self.seen: self.unstable.add(v.id)\n",
    "            else: self.seen.add(v.id)\n",
    "    \n",
    "    def visit_FunctionDef(self, src):\n",
    "        if self.browsing and self.fn and src.name == \"pymutator_profile_function\":\n",
    "            return ast.FunctionDef(name=src.name, body=[*list(self.seen)] + src.body, decorator_list=src.decorator_list, args=src.args)\n",
    "        self.args = [x.arg for x in src.args.args + src.args.kwonlyargs]\n",
    "        for node in src.body:\n",
    "            if not self.browsing: self.get_locals(src.name, node.lineno)\n",
    "            self.visit(node)\n",
    "        return src\n",
    "        "
   ]
  },
  {
   "cell_type": "markdown",
   "metadata": {},
   "source": [
    "Moreover, we want that variables that are assigned lists to be usable by indexing the list. For this, we need to flatten the lists/dicts assigned in our code. This is much of the reason for the visit_Constant function's complexity; if we have a singular value we try substituting that, else we flatten the list and insert tuples of (node, node_value) that will be used for the substitution. "
   ]
  },
  {
   "cell_type": "code",
   "execution_count": 990,
   "metadata": {},
   "outputs": [
    {
     "name": "stdout",
     "output_type": "stream",
     "text": [
      "Module(\n",
      "    body=[\n",
      "        Expr(\n",
      "            value=Subscript(\n",
      "                value=Name(id='L', ctx=Load()),\n",
      "                slice=Constant(value=1),\n",
      "                ctx=Load()))],\n",
      "    type_ignores=[])\n",
      "Module(\n",
      "    body=[\n",
      "        Expr(\n",
      "            value=List(\n",
      "                elts=[\n",
      "                    Constant(value=1),\n",
      "                    Constant(value=2),\n",
      "                    Constant(value=3)],\n",
      "                ctx=Load()))],\n",
      "    type_ignores=[])\n",
      "Module(\n",
      "    body=[\n",
      "        Expr(\n",
      "            value=Subscript(\n",
      "                value=Name(id='D', ctx=Load()),\n",
      "                slice=Constant(value='x'),\n",
      "                ctx=Load()))],\n",
      "    type_ignores=[])\n"
     ]
    }
   ],
   "source": [
    "print_ast(ast.parse(\"L[1]\"))\n",
    "print_ast(ast.parse(\"[1,2,3]\"))\n",
    "print_ast(ast.parse(\"D['x']\"))"
   ]
  },
  {
   "cell_type": "code",
   "execution_count": 991,
   "metadata": {},
   "outputs": [],
   "source": [
    "class VariableInjector(VariableInjector):\n",
    "    def visit_Constant(self, src):\n",
    "        if len(self.local_vars) == 0 or self.browsing: return src\n",
    "\n",
    "        queue = list(self.local_vars.keys()).copy()\n",
    "        random.shuffle(queue)\n",
    "        while len(queue) != 0:\n",
    "            n = len(queue) - 1\n",
    "            if isinstance(queue[n], tuple):\n",
    "                val = queue[n][1]\n",
    "                node = queue[n][0]\n",
    "            else:\n",
    "                val = self.local_vars[queue[n]]\n",
    "                node = queue[n]\n",
    "\n",
    "            queue.pop()\n",
    "            new_node = None\n",
    "\n",
    "            if isinstance(val, list) or isinstance(val, tuple):\n",
    "                rand_val = list(enumerate(val)).copy()\n",
    "                random.shuffle(rand_val)\n",
    "                for i in range(len(rand_val)):\n",
    "                    queue.append((ast.Subscript(value=node, slice=ast.Constant(rand_val[i][0])), rand_val[i][1]))\n",
    "                \n",
    "            elif isinstance(val, dict):\n",
    "                rand_val = list(val.keys()).copy()\n",
    "                random.shuffle(rand_val)\n",
    "                for i in rand_val:\n",
    "                    queue.append((ast.Subscript(value=node, slice=ast.Constant(i)), val[i]))\n",
    "\n",
    "            else: new_node = self.unify_value(src, node, val)\n",
    "            \n",
    "            if new_node is not None: return new_node\n",
    "            \n",
    "        return src"
   ]
  },
  {
   "cell_type": "markdown",
   "metadata": {},
   "source": [
    "Finally, we write the functions to set local_vars and replace basic types with appropriate variable calls.\n",
    "\n",
    "Note that we slightly modify local_vars to support function substitution by changing the local vars set returned by get_locals."
   ]
  },
  {
   "cell_type": "code",
   "execution_count": 992,
   "metadata": {},
   "outputs": [],
   "source": [
    "class VariableInjector(VariableInjector):\n",
    "    def get_locals(self, fn, ln):\n",
    "        self.local_vars = {}\n",
    "\n",
    "        if self.fn:\n",
    "            for i in range(len(self.db.function_list)):\n",
    "                fun = self.db.function_list[i]\n",
    "                types = fun['params']\n",
    "                kw = []\n",
    "                for j in types:\n",
    "                    if j[1] == 'int':\n",
    "                        gen_val = random.randint(-10000, 10000)\n",
    "                    \n",
    "                    if j[1] == 'string':\n",
    "                        gen_val = \"\".join(random.choices(\"abcdefghijklmnopqrstuvwxyz123456789\", k=random.randint(1, 15)))\n",
    "\n",
    "                    if j[1] == 'float':\n",
    "                        gen_val = 500 * random.randint(1, 10) * (random.random() + random.random()) * (1 - 2 * random.randint(0, 1))\n",
    "\n",
    "                    kw.append(ast.keyword(arg=j[0], value=ast.Constant(value=gen_val)))\n",
    "\n",
    "                try:\n",
    "                    self.local_vars[ast.Call(func=ast.Name(id=fun['source'].name, ctx=ast.Load()), args=[], keywords=kw)] = self.db.simulate(i, [], kw)\n",
    "                    self.seen.add(fun['source'])\n",
    "                except Exception as e:\n",
    "                    print(repr(e))\n",
    "                    continue\n",
    "            return\n",
    "        \n",
    "        for i in self.coverage:\n",
    "            if i[0] == fn and i[1] == ln:\n",
    "                self.local_vars = {ast.parse(k).body[0].value: v for k, v in i[2].items() if k not in self.args and k not in self.unstable}\n",
    "                return\n",
    "        \n",
    "    def unify_value(self, src, var, val):\n",
    "        if src.value == val:\n",
    "            return var\n",
    "        elif isinstance(src.value, int) and isinstance(val, int) or isinstance(src.value, float) and (isinstance(val, int) or isinstance(val, float)):\n",
    "            op_map = {}\n",
    "            try:\n",
    "                op = random.randint(0, 3)\n",
    "                if isinstance(src.value, int): op_map = op_map_int\n",
    "                else: op_map = op_map_float\n",
    "                assert eval(\"(\" + str(src.value) + op_map[3-op][0] + str(val) + \")\" + op_map[op][0] + str(val)) == src.value\n",
    "                node = ast.BinOp(left = ast.Constant(value=eval(\"(\" + str(src.value) + op_map[3-op][0] + str(val) + \")\")), op = op_map[op][1], right = var) \n",
    "                #self.mutations update\n",
    "                self.mutations.append((deepcopy(src), deepcopy(node)))\n",
    "                return node\n",
    "            except ZeroDivisionError: return None\n",
    "            except AssertionError: return None\n",
    "        elif isinstance(src.value, str) and isinstance(val, str):\n",
    "            if src.value in val:\n",
    "                ind = val.find(src.value)\n",
    "                node = ast.Subscript(value = var, slice = ast.Slice(lower=ast.Constant(value=ind), upper=ast.Constant(value=ind+len(src.value))))\n",
    "                #self.mutations update\n",
    "                self.mutations.append((deepcopy(src), deepcopy(node)))\n",
    "                return node\n",
    "            elif val in src.value:\n",
    "                ind = src.value.find(val)\n",
    "                node = ast.BinOp(left = ast.BinOp(left = ast.Constant(value = src.value[:ind]), op = ast.Add(), right = var), op = ast.Add(), right = ast.Constant(value = src.value[ind + len(val):]))\n",
    "                #self.mutations update\n",
    "                self.mutations.append((deepcopy(src), deepcopy(node)))\n",
    "                return node\n",
    "        "
   ]
  },
  {
   "cell_type": "markdown",
   "metadata": {},
   "source": [
    "We have written the functions that traverse the tree and make appropriate calls to functions to get our local variables. Since we are running this entire thing on a function, the outermost scope will always be handled, and then similiarly inner scopes will get handled. One thing we should note is, when using get_locals, we should avoid substituting constants with arguments to the function, because it won't be consistent across function calls."
   ]
  },
  {
   "cell_type": "code",
   "execution_count": 993,
   "metadata": {},
   "outputs": [
    {
     "name": "stdout",
     "output_type": "stream",
     "text": [
      "def g():\n",
      "\n",
      "    def simple_function(x):\n",
      "        z = 2\n",
      "        y = 3 * x\n",
      "        return y\n",
      "    a = simple_function(2)\n",
      "    b = 0\n",
      "    for _ in range(6):\n",
      "        b += 2 * a\n",
      "    print('The answer is', b)\n",
      "The answer is 72\n"
     ]
    }
   ],
   "source": [
    "print_code(ast.parse(inspect.getsource(g)))\n",
    "g()"
   ]
  },
  {
   "cell_type": "code",
   "execution_count": 994,
   "metadata": {},
   "outputs": [
    {
     "name": "stdout",
     "output_type": "stream",
     "text": [
      "The answer is 72\n",
      "def g():\n",
      "\n",
      "    def simple_function(x):\n",
      "        z = 2\n",
      "        y = 6 // z * x\n",
      "        return y\n",
      "    a = simple_function(2)\n",
      "    b = 0 // a\n",
      "    for _ in range(a):\n",
      "        b += (8 - a) * a\n",
      "    print('The answer is', b)\n"
     ]
    }
   ],
   "source": [
    "new_g_code = ast.unparse(VariableInjector().profile_function(g)[0])\n",
    "print(new_g_code)"
   ]
  },
  {
   "cell_type": "code",
   "execution_count": 995,
   "metadata": {},
   "outputs": [
    {
     "name": "stdout",
     "output_type": "stream",
     "text": [
      "The answer is 72\n"
     ]
    }
   ],
   "source": [
    "exec(new_g_code)\n",
    "g()"
   ]
  },
  {
   "cell_type": "markdown",
   "metadata": {},
   "source": [
    "Note that using exec to set the value of g currently breaks the VariableInjector because it is unable to find the source code of the function through inspect. Instead, we create a temporary function inside the PythonMutator class and modify that so any code can have variables injected."
   ]
  },
  {
   "cell_type": "code",
   "execution_count": 996,
   "metadata": {},
   "outputs": [],
   "source": [
    "class PythonMutator(PythonMutator):\n",
    "    sample_tree = ast.parse('''\n",
    "def pymutator_profile_function():\n",
    "    pass\n",
    "''')\n",
    "\n",
    "    def inject_variables(self, src):\n",
    "        node = deepcopy(self.sample_tree)\n",
    "        node.body[0].body = src.body\n",
    "        node = ast.fix_missing_locations(node)\n",
    "\n",
    "        current_module = sys.modules[__name__]\n",
    "        code = compile(node, filename=\"<ast>\", mode=\"exec\")\n",
    "        exec(code, current_module.__dict__)\n",
    "\n",
    "        n = VariableInjector().profile_function(pymutator_profile_function, node.body[0])\n",
    "        self.mutations.extend(n[1])\n",
    "        \n",
    "        return src\n",
    "    \n",
    "    def inject_functions(self, src, db):\n",
    "        node = deepcopy(self.sample_tree)\n",
    "        node.body[0].body = src.body\n",
    "        node = ast.fix_missing_locations(node)\n",
    "\n",
    "        current_module = sys.modules[__name__]\n",
    "        code = compile(node, filename=\"<ast>\", mode=\"exec\")\n",
    "        exec(code, current_module.__dict__)\n",
    "\n",
    "        n = VariableInjector().inject_functions(node, db)\n",
    "        self.mutations.extend(n[1])\n",
    "        \n",
    "        \n",
    "        return src        "
   ]
  },
  {
   "cell_type": "code",
   "execution_count": 997,
   "metadata": {},
   "outputs": [
    {
     "name": "stdout",
     "output_type": "stream",
     "text": [
      "hello\n",
      "a = 'hello world'\n",
      "print(a[0:5])\n"
     ]
    }
   ],
   "source": [
    "test_str = ast.parse('''\n",
    "a = \"hello world\"\n",
    "print(\"hello\")                     \n",
    "''')\n",
    "print_code(PythonMutator().inject_variables(test_str))"
   ]
  },
  {
   "cell_type": "code",
   "execution_count": 998,
   "metadata": {},
   "outputs": [
    {
     "name": "stdout",
     "output_type": "stream",
     "text": [
      "[2, 4, 6]\n",
      "[1, 2, 3]\n",
      "L = [1, 2, 3]\n",
      "a = [int(L[1]), int(8 // L[1]), int(6 * L[0])]\n",
      "print(a)\n",
      "print(L)\n"
     ]
    }
   ],
   "source": [
    "test_list = ast.parse('''\n",
    "L = [1,2,3]\n",
    "a=[int(2),int(4),int(6)]\n",
    "print(a)\n",
    "print(L)                    \n",
    "''')\n",
    "\n",
    "PythonMutator().inject_variables(test_list)\n",
    "print_code(test_list)"
   ]
  },
  {
   "cell_type": "code",
   "execution_count": 999,
   "metadata": {},
   "outputs": [
    {
     "name": "stdout",
     "output_type": "stream",
     "text": [
      "def simple_function(x):\n",
      "    z = 2\n",
      "    y = 3 * x\n",
      "    return y\n",
      "s = 'Hello world!'\n",
      "a = simple_function(2)\n",
      "b = 0\n",
      "for _ in range(6):\n",
      "    b += 2 * a\n",
      "print('Hello!')\n",
      "=============\n",
      "Hello!\n",
      "Hello!\n",
      "=============\n",
      "def simple_function(x):\n",
      "    z = 2\n",
      "    y = x * ((8 - z) // z)\n",
      "    return y\n",
      "s = 'Hello world!'\n",
      "a = simple_function(-11982 - -9359 - ((7586185 - -8207) // 2892 - 5251))\n",
      "b = (-55284 // a - a + (a + (a + 3013))) * ((6 - a) // a)\n",
      "_ = 0\n",
      "while _ < a * (-4747 - a * -563) - (-49284 // a - a):\n",
      "    b += a * (12 // a)\n",
      "    _ += 1\n",
      "print('Hello!')\n"
     ]
    }
   ],
   "source": [
    "g_code = ast.parse('''\n",
    "def simple_function(x):\n",
    "    z = 2\n",
    "    y = 3 * x\n",
    "    return y\n",
    "s = \"Hello world!\"\n",
    "a = simple_function(2)\n",
    "b = 0\n",
    "for _ in range(6):\n",
    "    b += 2 * a\n",
    "print(\"Hello!\")\n",
    "''')\n",
    "\n",
    "print_code(g_code)\n",
    "print(\"=============\")\n",
    "PythonMutator().expand_constants(g_code)\n",
    "PythonMutator().expand_constants(g_code)\n",
    "PythonMutator().inject_variables(g_code)\n",
    "PythonMutator().expand_constants(g_code)\n",
    "PythonMutator().inject_variables(g_code)\n",
    "PythonMutator().swap_numbers(g_code)\n",
    "PythonMutator().transform_for(g_code)\n",
    "print(\"=============\")\n",
    "print_code(g_code)"
   ]
  },
  {
   "cell_type": "markdown",
   "metadata": {},
   "source": [
    "Because the equality of python AST nodes is checked by reference address, we need to define a custom function to test equality of two AST nodes. Here it is:"
   ]
  },
  {
   "cell_type": "code",
   "execution_count": 1000,
   "metadata": {},
   "outputs": [],
   "source": [
    "from itertools import zip_longest\n",
    "from typing import Union\n",
    "\n",
    "\n",
    "def compare_ast(node1: Union[ast.expr, list[ast.expr]], node2: Union[ast.expr, list[ast.expr]]) -> bool:\n",
    "    if type(node1) is not type(node2):\n",
    "        return False\n",
    "\n",
    "    if isinstance(node1, ast.AST):\n",
    "        for k, v in vars(node1).items():\n",
    "            if k in {\"lineno\", \"end_lineno\", \"col_offset\", \"end_col_offset\", \"parent\"}:\n",
    "                continue\n",
    "            if not compare_ast(v, getattr(node2, k)):\n",
    "                return False\n",
    "        return True\n",
    "\n",
    "    elif isinstance(node1, list) and isinstance(node2, list):\n",
    "        return all(compare_ast(n1, n2) for n1, n2 in zip_longest(node1, node2))\n",
    "    else:\n",
    "        return node1 == node2"
   ]
  },
  {
   "cell_type": "code",
   "execution_count": 1001,
   "metadata": {},
   "outputs": [],
   "source": [
    "class PythonMutator(PythonMutator):\n",
    "    def reverse_mutation(self, src, log=False):\n",
    "        n = len(self.mutations)\n",
    "        self.reverse = self.mutations[n-1]\n",
    "        if log:\n",
    "            print_code(self.reverse[0])\n",
    "            print(\"<==\")\n",
    "            print_code(self.reverse[1])\n",
    "            print(\"==\")\n",
    "        self.compare = False\n",
    "        self.visit(src)\n",
    "        self.mutations.pop()\n",
    "        \n",
    "    def generic_visit(self, src):\n",
    "        if self.reverse is not None and not self.compare:\n",
    "            self.compare = True\n",
    "            test = compare_ast(src, self.reverse[1])\n",
    "            self.compare = False\n",
    "            if test:\n",
    "                src = self.reverse[0]\n",
    "                self.reverse = None\n",
    "                return src\n",
    "        return super().generic_visit(src)"
   ]
  },
  {
   "cell_type": "code",
   "execution_count": 1002,
   "metadata": {},
   "outputs": [
    {
     "name": "stdout",
     "output_type": "stream",
     "text": [
      "x = 9999 // (8839 + -5506) * (-17576 // -4394)\n"
     ]
    }
   ],
   "source": [
    "pm = PythonMutator()\n",
    "alg_tree = ast.parse(\"x = 3 * 4\")\n",
    "const_one = alg_tree.body[0].value.left\n",
    "print_code(pm.expand_constants(alg_tree))\n",
    "const_two = alg_tree.body[0].value.left"
   ]
  },
  {
   "cell_type": "code",
   "execution_count": 1003,
   "metadata": {},
   "outputs": [
    {
     "name": "stdout",
     "output_type": "stream",
     "text": [
      "Constant(value=3)\n",
      "BinOp(\n",
      "    left=Constant(value=9999),\n",
      "    op=FloorDiv(),\n",
      "    right=BinOp(\n",
      "        left=Constant(value=8839),\n",
      "        op=Add(),\n",
      "        right=Constant(value=-5506)))\n"
     ]
    }
   ],
   "source": [
    "print_ast(const_one)\n",
    "print_ast(const_two)"
   ]
  },
  {
   "cell_type": "code",
   "execution_count": 1004,
   "metadata": {},
   "outputs": [],
   "source": [
    "pm.mutations.append((const_one, const_two))"
   ]
  },
  {
   "cell_type": "code",
   "execution_count": 1005,
   "metadata": {},
   "outputs": [
    {
     "name": "stdout",
     "output_type": "stream",
     "text": [
      "x = 3 * (-17576 // -4394)\n"
     ]
    }
   ],
   "source": [
    "pm.reverse_mutation(alg_tree)\n",
    "print_code(alg_tree)"
   ]
  },
  {
   "cell_type": "markdown",
   "metadata": {},
   "source": [
    "Now that we have found a way to reverse the mutations, all that remains is automatically updating self.mutations, which we have done in the classes."
   ]
  },
  {
   "cell_type": "code",
   "execution_count": 1006,
   "metadata": {},
   "outputs": [
    {
     "name": "stdout",
     "output_type": "stream",
     "text": [
      "x = (13395 + (4164 - -1203)) // 6254 * 4\n",
      "Constant(value=3)\n",
      "==>\n",
      "BinOp(\n",
      "    left=Constant(value=18762),\n",
      "    op=FloorDiv(),\n",
      "    right=Constant(value=6254))\n",
      "==\n",
      "Constant(value=18762)\n",
      "==>\n",
      "BinOp(\n",
      "    left=Constant(value=13395),\n",
      "    op=Add(),\n",
      "    right=Constant(value=5367))\n",
      "==\n",
      "Constant(value=5367)\n",
      "==>\n",
      "BinOp(\n",
      "    left=Constant(value=4164),\n",
      "    op=Sub(),\n",
      "    right=Constant(value=-1203))\n",
      "==\n"
     ]
    }
   ],
   "source": [
    "pm = PythonMutator()\n",
    "alg_tree = ast.parse(\"x = 3 * 4\")\n",
    "pm.expand_constants(alg_tree)\n",
    "print_code(alg_tree)\n",
    "for i in range(len(pm.mutations)):\n",
    "    print_ast(pm.mutations[i][0])\n",
    "    print(\"==>\")\n",
    "    print_ast(pm.mutations[i][1])\n",
    "    print(\"==\")\n"
   ]
  },
  {
   "cell_type": "code",
   "execution_count": 1007,
   "metadata": {},
   "outputs": [
    {
     "name": "stdout",
     "output_type": "stream",
     "text": [
      "x = (13395 + 5367) // 6254 * 4\n",
      "x = 18762 // 6254 * 4\n",
      "x = 3 * 4\n"
     ]
    }
   ],
   "source": [
    "pm.reverse_mutation(alg_tree)\n",
    "print_code(alg_tree)\n",
    "pm.reverse_mutation(alg_tree)\n",
    "print_code(alg_tree)\n",
    "pm.reverse_mutation(alg_tree)\n",
    "print_code(alg_tree)"
   ]
  },
  {
   "cell_type": "code",
   "execution_count": 1008,
   "metadata": {},
   "outputs": [
    {
     "name": "stdout",
     "output_type": "stream",
     "text": [
      "6\n",
      "6\n",
      "===\n",
      "x = (3844 - 5962 + 2121) * (6963 + -6959)\n",
      "y = (x + (39177 + x) - (x + -10629765 // (12780 // x))) // 8195\n",
      "print(y)\n",
      "===\n",
      "1065\n",
      "<==\n",
      "12780 // x\n",
      "==\n",
      "39189\n",
      "<==\n",
      "39177 + x\n",
      "==\n",
      "x = (3844 - 5962 + 2121) * (6963 + -6959)\n",
      "y = (x + 39189 - (x + -10629765 // 1065)) // 8195\n",
      "print(y)\n",
      "===\n",
      "-10629765 // 1065 + x\n",
      "<==\n",
      "x + -10629765 // 1065\n",
      "==\n",
      "39189 + x\n",
      "<==\n",
      "x + 39189\n",
      "==\n",
      "x = (3844 - 5962 + 2121) * (6963 + -6959)\n",
      "y = (39189 + x - (-10629765 // 1065 + x)) // 8195\n",
      "print(y)\n",
      "===\n",
      "-6959 + 6963\n",
      "<==\n",
      "6963 + -6959\n",
      "==\n",
      "2121 + (3844 - 5962)\n",
      "<==\n",
      "3844 - 5962 + 2121\n",
      "==\n",
      "x = (2121 + (3844 - 5962)) * (-6959 + 6963)\n",
      "y = (39189 + x - (-10629765 // 1065 + x)) // 8195\n",
      "print(y)\n",
      "===\n"
     ]
    }
   ],
   "source": [
    "pm = PythonMutator()\n",
    "alg_tree = ast.parse('''\n",
    "x = 3 * 4\n",
    "y = 6            \n",
    "print(y)                \n",
    "''')\n",
    "pm.expand_constants(alg_tree)\n",
    "pm.swap_numbers(alg_tree)\n",
    "pm.inject_variables(alg_tree)\n",
    "pm.expand_constants(alg_tree)\n",
    "pm.swap_numbers(alg_tree)\n",
    "pm.inject_variables(alg_tree)\n",
    "print(\"===\")\n",
    "print_code(alg_tree)\n",
    "print(\"===\")\n",
    "for _ in range(3):\n",
    "    pm.reverse_mutation(alg_tree, True)\n",
    "    pm.reverse_mutation(alg_tree, True)\n",
    "    print_code(alg_tree)\n",
    "    print(\"===\")"
   ]
  },
  {
   "cell_type": "code",
   "execution_count": 1009,
   "metadata": {},
   "outputs": [
    {
     "name": "stdout",
     "output_type": "stream",
     "text": [
      "(-6959 + 6963) * (2121 + (3844 - 5962))\n",
      "<==\n",
      "(2121 + (3844 - 5962)) * (-6959 + 6963)\n",
      "==\n",
      "x = (-6959 + 6963) * (2121 + (3844 - 5962))\n",
      "y = (39189 + x - (-10629765 // 1065 + x)) // 8195\n",
      "print(y)\n",
      "-2118\n",
      "<==\n",
      "3844 - 5962\n",
      "==\n",
      "x = (-6959 + 6963) * (2121 + -2118)\n",
      "y = (39189 + x - (-10629765 // 1065 + x)) // 8195\n",
      "print(y)\n",
      "-9981\n",
      "<==\n",
      "-10629765 // 1065\n",
      "==\n",
      "x = (-6959 + 6963) * (2121 + -2118)\n",
      "y = (39189 + x - (-9981 + x)) // 8195\n",
      "print(y)\n",
      "4\n",
      "<==\n",
      "-6959 + 6963\n",
      "==\n",
      "x = 4 * (2121 + -2118)\n",
      "y = (39189 + x - (-9981 + x)) // 8195\n",
      "print(y)\n",
      "-9969\n",
      "<==\n",
      "-9981 + x\n",
      "==\n",
      "x = 4 * (2121 + -2118)\n",
      "y = (39189 + x - -9969) // 8195\n",
      "print(y)\n",
      "39201\n",
      "<==\n",
      "39189 + x\n",
      "==\n",
      "x = 4 * (2121 + -2118)\n",
      "y = (39201 - -9969) // 8195\n",
      "print(y)\n",
      "-2118 + 2121\n",
      "<==\n",
      "2121 + -2118\n",
      "==\n",
      "x = 4 * (-2118 + 2121)\n",
      "y = (39201 - -9969) // 8195\n",
      "print(y)\n",
      "(-2118 + 2121) * 4\n",
      "<==\n",
      "4 * (-2118 + 2121)\n",
      "==\n",
      "x = (-2118 + 2121) * 4\n",
      "y = (39201 - -9969) // 8195\n",
      "print(y)\n",
      "3\n",
      "<==\n",
      "-2118 + 2121\n",
      "==\n",
      "x = 3 * 4\n",
      "y = (39201 - -9969) // 8195\n",
      "print(y)\n",
      "49170\n",
      "<==\n",
      "39201 - -9969\n",
      "==\n",
      "x = 3 * 4\n",
      "y = 49170 // 8195\n",
      "print(y)\n",
      "6\n",
      "<==\n",
      "49170 // 8195\n",
      "==\n",
      "x = 3 * 4\n",
      "y = 6\n",
      "print(y)\n"
     ]
    }
   ],
   "source": [
    "while len(pm.mutations) > 0:\n",
    "    pm.reverse_mutation(alg_tree, True)\n",
    "    print_code(alg_tree)"
   ]
  },
  {
   "cell_type": "code",
   "execution_count": 1010,
   "metadata": {},
   "outputs": [
    {
     "data": {
      "text/plain": [
       "'\\nDrawbacks:\\n    1. The code currently works correctly only for those functions where the return type of the functions are annotated.\\n    2. If the -e flag is not provided, the parameters of the function also need to be annotated for the program to work correctly.\\n'"
      ]
     },
     "execution_count": 1010,
     "metadata": {},
     "output_type": "execute_result"
    }
   ],
   "source": [
    "import os\n",
    "import ast\n",
    "import random\n",
    "import builtins\n",
    "import datetime\n",
    "import collections\n",
    "import re\n",
    "import pathlib\n",
    "import decimal\n",
    "import fractions\n",
    "import functools\n",
    "\n",
    "sample_values = {\n",
    "    'int': 42,\n",
    "    'float': 3.14,\n",
    "    'str': 'example string',\n",
    "    'bool': True,\n",
    "    'NoneType': None,\n",
    "    'list': [1, 2, 3, 'a', 'b', 'c'],\n",
    "    'dict': {'key1': 'value1', 'key2': 42},\n",
    "    'set': {1, 2, 3, 'a', 'b', 'c'},\n",
    "    'tuple': (1, 2, 3, 'a', 'b', 'c'),\n",
    "    'bytes': b'example bytes',\n",
    "    'bytearray': bytearray(b'example bytearray'),\n",
    "    'range': range(5),\n",
    "    'complex': 1+2j,\n",
    "    'frozenset': frozenset([1, 2, 3, 'a', 'b', 'c']),\n",
    "    'datetime': datetime.datetime.now(),\n",
    "    'date': datetime.date.today(),\n",
    "    'time': datetime.datetime.now().time(),\n",
    "    'timedelta': datetime.timedelta(days=1),\n",
    "    'memoryview': memoryview(b'example memoryview'),\n",
    "    'deque': collections.deque([1, 2, 3, 'a', 'b', 'c']),\n",
    "    'namedtuple': collections.namedtuple('Point', ['x', 'y'])(1, 2),\n",
    "    'defaultdict': collections.defaultdict(int, {'key1': 1, 'key2': 2}),\n",
    "    'Counter': collections.Counter(['a', 'b', 'c', 'a', 'b', 'b']),\n",
    "    'OrderedDict': collections.OrderedDict([('key1', 'value1'), ('key2', 'value2')]),\n",
    "    'types.FunctionType': (lambda x: x + 1),\n",
    "    'types.LambdaType': (lambda x: x + 1),\n",
    "    'types.BuiltinFunctionType': abs,\n",
    "    'pattern': re.compile(r'\\d+'),\n",
    "    'match': re.match(r'\\d+', '123abc'),\n",
    "    'decimal.Decimal': decimal.Decimal('3.14'),\n",
    "    'fractions.Fraction': fractions.Fraction(3, 4),\n",
    "    'functools.partial': functools.partial(int, base=2),\n",
    "    'map': map(str, [1, 2, 3]),\n",
    "    'filter': filter(lambda x: x > 1, [0, 1, 2, 3]),\n",
    "    'zip': zip([1, 2, 3], ['a', 'b', 'c']),\n",
    "    'reversed': reversed([1, 2, 3]),\n",
    "    'enumerate': enumerate(['a', 'b', 'c']),\n",
    "    'generator': (x * x for x in range(10)),\n",
    "}\n",
    "\n",
    "\n",
    "class FunctionCallChecker(ast.NodeVisitor):\n",
    "    def __init__(self, function_return_types):\n",
    "        self.has_function_call = False\n",
    "        self.calls = []\n",
    "        self.imports = set()\n",
    "        self.function_return_types = function_return_types\n",
    "\n",
    "    def visit_Call(self, node):                             # stores the function name and the return type for each Call Node visited\n",
    "        self.has_function_call = True\n",
    "        func_name = None\n",
    "        if isinstance(node.func, ast.Name):\n",
    "            func_name = node.func.id\n",
    "        elif isinstance(node.func, ast.Attribute):\n",
    "            value = node.func.value\n",
    "            if isinstance(value, ast.Name):\n",
    "                func_name = f\"{value.id}.{node.func.attr}\"\n",
    "            else:\n",
    "                func_name = node.func.attr\n",
    "        \n",
    "        return_type = self.function_return_types.get(func_name, \"Unknown\")\n",
    "        self.calls.append((func_name, return_type))\n",
    "        self.generic_visit(node)\n",
    "\n",
    "class FunctionExtractor:\n",
    "    def __init__(self, exclude_integer_parameters=False):\n",
    "        self.exclude_integer_parameters = exclude_integer_parameters\n",
    "\n",
    "    def extract_python_files(self, folder_path):            # extracts python files from directory provided as argument\n",
    "        all_files = []\n",
    "        for root, dirs, files in os.walk(folder_path):\n",
    "            for file in files:\n",
    "                if file.endswith(\".py\"):\n",
    "                    file_path = os.path.join(root, file)\n",
    "                    all_files.append(file_path)\n",
    "        return all_files\n",
    "    \n",
    "    def extract_function_declarations(self, file_path):     # extracts the functions found from the python file and returns their ast node    \n",
    "        with open(file_path, 'r') as f:\n",
    "            code = f.read()\n",
    "        try:\n",
    "            tree = ast.parse(code)\n",
    "        except SyntaxError as e:\n",
    "            print(f\"Syntax error in file {file_path}: {e}\")\n",
    "            return []\n",
    "        self.functions = [node for node in ast.walk(tree) if isinstance(node, ast.FunctionDef)]\n",
    "        return self.functions\n",
    "    \n",
    "    def has_function_call(self, function_node, function_return_types):      # checks if the function has another function call within it\n",
    "        checker = FunctionCallChecker(function_return_types)\n",
    "        checker.visit(function_node)\n",
    "        return checker.has_function_call\n",
    "    \n",
    "    def return_function_calls(self, function_node, function_return_types):  # returns the function calls within a function\n",
    "        checker = FunctionCallChecker(function_return_types)\n",
    "        checker.visit(function_node)\n",
    "        return checker.calls\n",
    "    \n",
    "    def is_integer_function(self, function_node):           # checks if the function has integer arguments and integer return type -> right now works accurately for annotated functions only\n",
    "        flag = False\n",
    "        if not self.exclude_integer_parameters:\n",
    "            for arg in function_node.args.args:\n",
    "                if not arg.annotation:\n",
    "                    return False\n",
    "                \n",
    "        if not function_node.returns:\n",
    "            return False\n",
    "        \n",
    "        if not self.exclude_integer_parameters:\n",
    "            for arg in function_node.args.args:\n",
    "                if arg.annotation:\n",
    "                    if isinstance(arg.annotation, ast.Name) and arg.annotation.id == 'int':\n",
    "                        flag = True\n",
    "\n",
    "        if function_node.returns:\n",
    "            if isinstance(function_node.returns, ast.Name) and function_node.returns.id == 'int':\n",
    "                flag = True\n",
    "        return flag\n",
    "\n",
    "class CallReplacer(ast.NodeTransformer):\n",
    "    def __init__(self, function_return_types):\n",
    "        self.function_return_types = function_return_types\n",
    "\n",
    "    def visit_Call(self, node):                              # visits a Call node and changes the function call itself with a value from the dictionary mapping in sample_values\n",
    "        func_name = None\n",
    "        if isinstance(node.func, ast.Name):\n",
    "            func_name = node.func.id\n",
    "        elif isinstance(node.func, ast.Attribute):\n",
    "            value = node.func.value\n",
    "            if isinstance(value, ast.Name):\n",
    "                func_name = f\"{value.id}.{node.func.attr}\"\n",
    "            else:\n",
    "                func_name = node.func.attr\n",
    "        \n",
    "        return_type = self.function_return_types.get(func_name, \"Unknown\")\n",
    "        if return_type != \"Unknown\" and return_type in sample_values:\n",
    "            value_to_replace = sample_values[return_type]\n",
    "            return ast.copy_location(ast.Constant(value_to_replace), node)\n",
    "        return self.generic_visit(node)\n",
    "\n",
    "def extract_function_return_types(functions):                # returns the return type of the function node passed as an argument. If there is no annotation, then \"Unknown\" is returned\n",
    "    return_types = {}\n",
    "    for function in functions:\n",
    "        if function.returns and isinstance(function.returns, ast.Name):\n",
    "            return_types[function.name] = function.returns.id\n",
    "        else:\n",
    "            return_types[function.name] = \"Unknown\"\n",
    "    return return_types\n",
    "\n",
    "def extract_function_parameters(function_node):\n",
    "    parameters = []\n",
    "    \n",
    "    for arg in function_node.args.args:\n",
    "        param_name = arg.arg\n",
    "        param_type = ast.unparse(arg.annotation) if arg.annotation else None\n",
    "        parameters.append((param_name, param_type))\n",
    "    \n",
    "    if hasattr(function_node.args, 'kwonlyargs'):\n",
    "        for arg in function_node.args.kwonlyargs:\n",
    "            param_name = arg.arg\n",
    "            param_type = ast.unparse(arg.annotation) if arg.annotation else None\n",
    "            parameters.append((param_name, param_type))\n",
    "   \n",
    "    if function_node.args.vararg:\n",
    "        vararg_name = function_node.args.vararg.arg\n",
    "        vararg_type = ast.unparse(function_node.args.vararg.annotation) if function_node.args.vararg.annotation else None\n",
    "        parameters.append((vararg_name, vararg_type))\n",
    "\n",
    "    if function_node.args.kwarg:\n",
    "        kwarg_name = function_node.args.kwarg.arg\n",
    "        kwarg_type = ast.unparse(function_node.args.kwarg.annotation) if function_node.args.kwarg.annotation else None\n",
    "        parameters.append((kwarg_name, kwarg_type))\n",
    "    return parameters\n",
    "\n",
    "class FunctionDB:\n",
    "    def __init__(self, path):\n",
    "        self.extractor = FunctionExtractor(exclude_integer_parameters=False)\n",
    "\n",
    "        files = self.extractor.extract_python_files(path)\n",
    "        self.function_database = []\n",
    "\n",
    "        all_functions = []\n",
    "        for file in files:\n",
    "            functions = self.extractor.extract_function_declarations(file)\n",
    "            all_functions.extend(functions)\n",
    "\n",
    "        function_return_types = extract_function_return_types(all_functions)\n",
    "        builtins_set = set(dir(builtins))\n",
    "\n",
    "        for function in all_functions:\n",
    "            flag = True\n",
    "            if self.extractor.has_function_call(function, function_return_types):    # if function has function call within it\n",
    "                calls = self.extractor.return_function_calls(function, function_return_types)\n",
    "                for call, return_type in calls:\n",
    "                    if call not in builtins_set:                                # if the current call in question is not a builtin\n",
    "                        value_to_be_replaced = None\n",
    "                        if return_type != \"Unknown\":                            # if return type is not unknown then replace the call (if the datatype is in the sample_values dict)\n",
    "                            try:\n",
    "                                value_to_be_replaced = sample_values[return_type]\n",
    "                            except:\n",
    "                                flag = False\n",
    "                            # Replace the function call with the sample value\n",
    "                            replacer = CallReplacer(function_return_types)\n",
    "                            function = replacer.visit(function)\n",
    "                        else:                                                   # if not then this function is not included in the database\n",
    "                            flag = False\n",
    "            if flag:\n",
    "                self.function_database.append(function)\n",
    "\n",
    "        self.function_list = []\n",
    "\n",
    "        for function in self.function_database:\n",
    "            function_node = function\n",
    "            dictionary = dict()\n",
    "            dictionary[\"source\"] = function_node\n",
    "            dictionary[\"params\"] = extract_function_parameters(function_node)\n",
    "            self.function_list.append(dictionary)\n",
    "\n",
    "    def simulate(self, ind, args, keywords):\n",
    "        # index of function in function_list, args and kwargs\n",
    "        src = self.function_list[ind][\"source\"]\n",
    "        name = src.name\n",
    "        exec(ast.unparse(src))\n",
    "        return eval(ast.unparse(ast.Expr(value=ast.Call(func=ast.Name(id=name, ctx=ast.Load()), args=args, keywords=keywords))))\n",
    "        \n",
    "\n",
    "\n",
    "# To access the source of a function --> function_list[<index>][\"source\"]\n",
    "# To access the parameters of a function --> function_list[<index>][\"params\"]\n",
    "\n",
    "\n",
    "\"\"\"\n",
    "Drawbacks:\n",
    "    1. The code currently works correctly only for those functions where the return type of the functions are annotated.\n",
    "    2. If the -e flag is not provided, the parameters of the function also need to be annotated for the program to work correctly.\n",
    "\"\"\""
   ]
  },
  {
   "cell_type": "code",
   "execution_count": 1011,
   "metadata": {},
   "outputs": [
    {
     "ename": "UnicodeDecodeError",
     "evalue": "'charmap' codec can't decode byte 0x81 in position 3968: character maps to <undefined>",
     "output_type": "error",
     "traceback": [
      "\u001b[1;31m---------------------------------------------------------------------------\u001b[0m",
      "\u001b[1;31mUnicodeDecodeError\u001b[0m                        Traceback (most recent call last)",
      "Cell \u001b[1;32mIn[1011], line 1\u001b[0m\n\u001b[1;32m----> 1\u001b[0m db \u001b[38;5;241m=\u001b[39m \u001b[43mFunctionDB\u001b[49m\u001b[43m(\u001b[49m\u001b[38;5;124;43m\"\u001b[39;49m\u001b[38;5;124;43m.\u001b[39;49m\u001b[38;5;124;43m\"\u001b[39;49m\u001b[43m)\u001b[49m\n",
      "Cell \u001b[1;32mIn[1010], line 197\u001b[0m, in \u001b[0;36mFunctionDB.__init__\u001b[1;34m(self, path)\u001b[0m\n\u001b[0;32m    195\u001b[0m all_functions \u001b[38;5;241m=\u001b[39m []\n\u001b[0;32m    196\u001b[0m \u001b[38;5;28;01mfor\u001b[39;00m file \u001b[38;5;129;01min\u001b[39;00m files:\n\u001b[1;32m--> 197\u001b[0m     functions \u001b[38;5;241m=\u001b[39m \u001b[38;5;28;43mself\u001b[39;49m\u001b[38;5;241;43m.\u001b[39;49m\u001b[43mextractor\u001b[49m\u001b[38;5;241;43m.\u001b[39;49m\u001b[43mextract_function_declarations\u001b[49m\u001b[43m(\u001b[49m\u001b[43mfile\u001b[49m\u001b[43m)\u001b[49m\n\u001b[0;32m    198\u001b[0m     all_functions\u001b[38;5;241m.\u001b[39mextend(functions)\n\u001b[0;32m    200\u001b[0m function_return_types \u001b[38;5;241m=\u001b[39m extract_function_return_types(all_functions)\n",
      "Cell \u001b[1;32mIn[1010], line 93\u001b[0m, in \u001b[0;36mFunctionExtractor.extract_function_declarations\u001b[1;34m(self, file_path)\u001b[0m\n\u001b[0;32m     91\u001b[0m \u001b[38;5;28;01mdef\u001b[39;00m \u001b[38;5;21mextract_function_declarations\u001b[39m(\u001b[38;5;28mself\u001b[39m, file_path):     \u001b[38;5;66;03m# extracts the functions found from the python file and returns their ast node    \u001b[39;00m\n\u001b[0;32m     92\u001b[0m     \u001b[38;5;28;01mwith\u001b[39;00m \u001b[38;5;28mopen\u001b[39m(file_path, \u001b[38;5;124m'\u001b[39m\u001b[38;5;124mr\u001b[39m\u001b[38;5;124m'\u001b[39m) \u001b[38;5;28;01mas\u001b[39;00m f:\n\u001b[1;32m---> 93\u001b[0m         code \u001b[38;5;241m=\u001b[39m f\u001b[38;5;241m.\u001b[39mread()\n\u001b[0;32m     94\u001b[0m     \u001b[38;5;28;01mtry\u001b[39;00m:\n\u001b[0;32m     95\u001b[0m         tree \u001b[38;5;241m=\u001b[39m ast\u001b[38;5;241m.\u001b[39mparse(code)\n",
      "File \u001b[1;32mC:\\Program Files\\WindowsApps\\PythonSoftwareFoundation.Python.3.11_3.11.2544.0_x64__qbz5n2kfra8p0\\Lib\\encodings\\cp1252.py:23\u001b[0m, in \u001b[0;36mIncrementalDecoder.decode\u001b[1;34m(self, input, final)\u001b[0m\n\u001b[0;32m     22\u001b[0m \u001b[38;5;28;01mdef\u001b[39;00m \u001b[38;5;21mdecode\u001b[39m(\u001b[38;5;28mself\u001b[39m, \u001b[38;5;28minput\u001b[39m, final\u001b[38;5;241m=\u001b[39m\u001b[38;5;28;01mFalse\u001b[39;00m):\n\u001b[1;32m---> 23\u001b[0m     \u001b[38;5;28;01mreturn\u001b[39;00m codecs\u001b[38;5;241m.\u001b[39mcharmap_decode(\u001b[38;5;28minput\u001b[39m,\u001b[38;5;28mself\u001b[39m\u001b[38;5;241m.\u001b[39merrors,decoding_table)[\u001b[38;5;241m0\u001b[39m]\n",
      "\u001b[1;31mUnicodeDecodeError\u001b[0m: 'charmap' codec can't decode byte 0x81 in position 3968: character maps to <undefined>"
     ]
    }
   ],
   "source": [
    "db = FunctionDB(\".\")"
   ]
  },
  {
   "cell_type": "code",
   "execution_count": null,
   "metadata": {},
   "outputs": [
    {
     "name": "stdout",
     "output_type": "stream",
     "text": [
      "Module(\n",
      "    body=[\n",
      "        FunctionDef(\n",
      "            name='f',\n",
      "            args=arguments(\n",
      "                posonlyargs=[],\n",
      "                args=[\n",
      "                    arg(arg='d'),\n",
      "                    arg(arg='a'),\n",
      "                    arg(arg='b')],\n",
      "                kwonlyargs=[],\n",
      "                kw_defaults=[],\n",
      "                defaults=[]),\n",
      "            body=[\n",
      "                Return(\n",
      "                    value=BinOp(\n",
      "                        left=BinOp(\n",
      "                            left=Name(id='a', ctx=Load()),\n",
      "                            op=Add(),\n",
      "                            right=Name(id='b', ctx=Load())),\n",
      "                        op=Add(),\n",
      "                        right=Name(id='d', ctx=Load())))],\n",
      "            decorator_list=[]),\n",
      "        Expr(\n",
      "            value=Call(\n",
      "                func=Name(id='f', ctx=Load()),\n",
      "                args=[\n",
      "                    Constant(value=6)],\n",
      "                keywords=[\n",
      "                    keyword(\n",
      "                        arg='a',\n",
      "                        value=Constant(value=1)),\n",
      "                    keyword(\n",
      "                        arg='b',\n",
      "                        value=Constant(value=2))]))],\n",
      "    type_ignores=[])\n"
     ]
    }
   ],
   "source": [
    "print_ast(ast.parse('''\n",
    "def f(d,a,b):   \n",
    "    return a + b + d             \n",
    "f(6,a=1,b=2)'''))"
   ]
  },
  {
   "cell_type": "code",
   "execution_count": null,
   "metadata": {},
   "outputs": [
    {
     "data": {
      "text/plain": [
       "<ast.Expr at 0x22eee3da200>"
      ]
     },
     "execution_count": 936,
     "metadata": {},
     "output_type": "execute_result"
    }
   ],
   "source": [
    "ast.Expr(value=ast.Call(func=ast.Name(id='name', ctx=ast.Load()), args=[], keywords=[ast.keyword(arg='a', value=ast.Constant(value=1))]))"
   ]
  },
  {
   "cell_type": "code",
   "execution_count": null,
   "metadata": {},
   "outputs": [
    {
     "name": "stdout",
     "output_type": "stream",
     "text": [
      "x = 3 * 4\n",
      "y = 6\n",
      "print(y)\n",
      "FunctionDef(\n",
      "    name='add',\n",
      "    args=arguments(\n",
      "        posonlyargs=[],\n",
      "        args=[\n",
      "            arg(\n",
      "                arg='a',\n",
      "                annotation=Name(id='int', ctx=Load())),\n",
      "            arg(\n",
      "                arg='b',\n",
      "                annotation=Name(id='int', ctx=Load()))],\n",
      "        kwonlyargs=[],\n",
      "        kw_defaults=[],\n",
      "        defaults=[]),\n",
      "    body=[\n",
      "        Return(\n",
      "            value=BinOp(\n",
      "                left=Name(id='a', ctx=Load()),\n",
      "                op=Add(),\n",
      "                right=Name(id='b', ctx=Load())))],\n",
      "    decorator_list=[],\n",
      "    returns=Name(id='int', ctx=Load()))\n",
      "Assign(\n",
      "    targets=[\n",
      "        Name(id='x', ctx=Store())],\n",
      "    value=BinOp(\n",
      "        left=BinOp(\n",
      "            left=Constant(value=-11421),\n",
      "            op=FloorDiv(),\n",
      "            right=Call(\n",
      "                func=Name(id='add', ctx=Load()),\n",
      "                args=[],\n",
      "                keywords=[\n",
      "                    keyword(\n",
      "                        arg='a',\n",
      "                        value=Constant(value=-7953)),\n",
      "                    keyword(\n",
      "                        arg='b',\n",
      "                        value=Constant(value=4146))])),\n",
      "        op=Mult(),\n",
      "        right=BinOp(\n",
      "            left=Constant(value=-3803),\n",
      "            op=Sub(),\n",
      "            right=Call(\n",
      "                func=Name(id='add', ctx=Load()),\n",
      "                args=[],\n",
      "                keywords=[\n",
      "                    keyword(\n",
      "                        arg='a',\n",
      "                        value=Constant(value=-7953)),\n",
      "                    keyword(\n",
      "                        arg='b',\n",
      "                        value=Constant(value=4146))]))))\n",
      "Assign(\n",
      "    targets=[\n",
      "        Name(id='y', ctx=Store())],\n",
      "    value=BinOp(\n",
      "        left=Constant(value=-17575),\n",
      "        op=Sub(),\n",
      "        right=Call(\n",
      "            func=Name(id='add', ctx=Load()),\n",
      "            args=[],\n",
      "            keywords=[\n",
      "                keyword(\n",
      "                    arg='a',\n",
      "                    value=Constant(value=-9561)),\n",
      "                keyword(\n",
      "                    arg='b',\n",
      "                    value=Constant(value=-8020))])))\n",
      "Expr(\n",
      "    value=Call(\n",
      "        func=Name(id='print', ctx=Load()),\n",
      "        args=[\n",
      "            Name(id='y', ctx=Load())],\n",
      "        keywords=[]))\n",
      "==POST MUTATION==\n",
      "x = -11421 // add(a=-7953, b=4146) * (-3803 - add(a=-7953, b=4146))\n",
      "y = -17575 - add(a=-9561, b=-8020)\n",
      "print(y)\n"
     ]
    }
   ],
   "source": [
    "print_code(alg_tree)\n",
    "PythonMutator().inject_functions(alg_tree, db)\n",
    "print(\"==POST MUTATION==\")\n",
    "print_code(alg_tree)\n"
   ]
  }
 ],
 "metadata": {
  "kernelspec": {
   "display_name": "Python 3",
   "language": "python",
   "name": "python3"
  },
  "language_info": {
   "codemirror_mode": {
    "name": "ipython",
    "version": 3
   },
   "file_extension": ".py",
   "mimetype": "text/x-python",
   "name": "python",
   "nbconvert_exporter": "python",
   "pygments_lexer": "ipython3",
   "version": "3.11.9"
  }
 },
 "nbformat": 4,
 "nbformat_minor": 2
}
