{
 "cells": [
  {
   "cell_type": "code",
   "execution_count": 86,
   "metadata": {},
   "outputs": [],
   "source": [
    "import ast\n",
    "def print_ast(src):\n",
    "    print(ast.dump(src, indent=4))\n",
    "def print_code(src):\n",
    "    print(ast.unparse(ast.fix_missing_locations(src)))"
   ]
  },
  {
   "cell_type": "code",
   "execution_count": 87,
   "metadata": {},
   "outputs": [],
   "source": [
    "def simple_function(x):\n",
    "    y = 3 * x\n",
    "    print(y)"
   ]
  },
  {
   "cell_type": "code",
   "execution_count": 88,
   "metadata": {},
   "outputs": [],
   "source": [
    "import inspect"
   ]
  },
  {
   "cell_type": "code",
   "execution_count": 89,
   "metadata": {},
   "outputs": [],
   "source": [
    "tree = ast.parse(inspect.getsource(simple_function))"
   ]
  },
  {
   "cell_type": "code",
   "execution_count": 90,
   "metadata": {},
   "outputs": [
    {
     "name": "stdout",
     "output_type": "stream",
     "text": [
      "Module(\n",
      "    body=[\n",
      "        FunctionDef(\n",
      "            name='simple_function',\n",
      "            args=arguments(\n",
      "                posonlyargs=[],\n",
      "                args=[\n",
      "                    arg(arg='x')],\n",
      "                kwonlyargs=[],\n",
      "                kw_defaults=[],\n",
      "                defaults=[]),\n",
      "            body=[\n",
      "                Assign(\n",
      "                    targets=[\n",
      "                        Name(id='y', ctx=Store())],\n",
      "                    value=BinOp(\n",
      "                        left=Constant(value=3),\n",
      "                        op=Mult(),\n",
      "                        right=Name(id='x', ctx=Load()))),\n",
      "                Expr(\n",
      "                    value=Call(\n",
      "                        func=Name(id='print', ctx=Load()),\n",
      "                        args=[\n",
      "                            Name(id='y', ctx=Load())],\n",
      "                        keywords=[]))],\n",
      "            decorator_list=[])],\n",
      "    type_ignores=[])\n"
     ]
    }
   ],
   "source": [
    "print_ast(tree)"
   ]
  },
  {
   "cell_type": "code",
   "execution_count": 91,
   "metadata": {},
   "outputs": [
    {
     "name": "stdout",
     "output_type": "stream",
     "text": [
      "FunctionDef(\n",
      "    name='simple_function',\n",
      "    args=arguments(\n",
      "        posonlyargs=[],\n",
      "        args=[\n",
      "            arg(arg='x')],\n",
      "        kwonlyargs=[],\n",
      "        kw_defaults=[],\n",
      "        defaults=[]),\n",
      "    body=[\n",
      "        Assign(\n",
      "            targets=[\n",
      "                Name(id='y', ctx=Store())],\n",
      "            value=BinOp(\n",
      "                left=Constant(value=3),\n",
      "                op=Mult(),\n",
      "                right=Name(id='x', ctx=Load()))),\n",
      "        Expr(\n",
      "            value=Call(\n",
      "                func=Name(id='print', ctx=Load()),\n",
      "                args=[\n",
      "                    Name(id='y', ctx=Load())],\n",
      "                keywords=[]))],\n",
      "    decorator_list=[])\n"
     ]
    }
   ],
   "source": [
    "print_ast(tree.body[0])"
   ]
  },
  {
   "cell_type": "code",
   "execution_count": 92,
   "metadata": {},
   "outputs": [],
   "source": [
    "import random"
   ]
  },
  {
   "cell_type": "markdown",
   "metadata": {},
   "source": [
    "We create a PythonMutator class that links to other Mutator classes, the PythonMutator class tying all of them together with helper functions to call those class' methods. We can later use it to add probabilities etc. to each mutation."
   ]
  },
  {
   "cell_type": "code",
   "execution_count": 93,
   "metadata": {},
   "outputs": [],
   "source": [
    "class PythonMutator:\n",
    "    def visit_Module(self, src):\n",
    "        return self.generic_visit(src)\n",
    "    \n",
    "    def visit_FunctionDef(self, src):\n",
    "        return self.generic_visit(src)\n",
    "    \n",
    "    def visit_BinOp(self, src):\n",
    "        return self.generic_visit(src)\n",
    "    \n",
    "    def visit_Assign(self, src):\n",
    "        return self.generic_visit(src)\n",
    "    \n",
    "    def visit_Call(self, src):\n",
    "        return self.generic_visit(src)\n",
    "    \n",
    "    def visit_Name(self, src):\n",
    "        return self.generic_visit(src)\n",
    "    \n",
    "    def visit_Constant(self, src):\n",
    "        return self.generic_visit(src)\n",
    "\n",
    "    def expand_constants(self, src):\n",
    "        return ExprMutator().modify_value(src)\n",
    "    \n",
    "    def swap_numbers(self, src):\n",
    "        return ExprMutator().commute_value(src)"
   ]
  },
  {
   "cell_type": "markdown",
   "metadata": {},
   "source": [
    "Now we need to define modify_value that can replace a given constant with an equivalent arithmetic expression, and swap_numbers that will swap the children of a + or * node."
   ]
  },
  {
   "cell_type": "code",
   "execution_count": 94,
   "metadata": {},
   "outputs": [],
   "source": [
    "op_map = [(\"+\", ast.Add()), (\"*\", ast.Mult()), (\"/\", ast.Div()), (\"-\", ast.Sub())]"
   ]
  },
  {
   "cell_type": "code",
   "execution_count": 95,
   "metadata": {},
   "outputs": [],
   "source": [
    "class ExprMutator(ast.NodeTransformer):\n",
    "    EXPAND = 1\n",
    "    COMMUTE = 2\n",
    "\n",
    "    def __init__(self):\n",
    "        self.transform = False\n",
    "        self.depth = 0\n",
    "        self.mode = self.EXPAND\n",
    "\n",
    "    def modify_value(self, n, depth=3):\n",
    "        self.mode = self.EXPAND\n",
    "        self.depth = depth\n",
    "        return self._modify_value(n)\n",
    "    \n",
    "    def _modify_value(self, n):\n",
    "        if self.depth == 0: return n\n",
    "        self.transform = True\n",
    "        return self._modify_value(self.visit(n))"
   ]
  },
  {
   "cell_type": "markdown",
   "metadata": {},
   "source": [
    "We need the mode so we can swap between traversing a path and swapping children. Depth allows us to control how many numbers we want to go and replace with expressions."
   ]
  },
  {
   "cell_type": "code",
   "execution_count": 96,
   "metadata": {},
   "outputs": [],
   "source": [
    "class ExprMutator(ExprMutator):    \n",
    "    def commute_value(self, n):\n",
    "        self.mode = self.COMMUTE\n",
    "        return self.visit(n)"
   ]
  },
  {
   "cell_type": "markdown",
   "metadata": {},
   "source": [
    "Now come the real functions. The visits to Constant or BinOp nodes are what will truly handle the functionality."
   ]
  },
  {
   "cell_type": "code",
   "execution_count": 97,
   "metadata": {},
   "outputs": [],
   "source": [
    "class ExprMutator(ExprMutator):\n",
    "    def visit_Constant(self, src):\n",
    "        if isinstance(src.value, int) and self.transform and self.mode == self.EXPAND:\n",
    "            while True:\n",
    "                try:\n",
    "                    op = random.randint(0, 3)\n",
    "                    other = random.randint(-10000, 10000)\n",
    "                    assert eval(\"(\" + str(src.value) + op_map[3-op][0] + str(other) + \")\" + op_map[op][0] + str(other)) == src.value\n",
    "                    break\n",
    "                except ZeroDivisionError: continue\n",
    "                except AssertionError: continue\n",
    "            self.depth -= 1\n",
    "            self.transform = False\n",
    "            return ast.BinOp(left = ast.Constant(value=eval(\"(\" + str(src.value) + op_map[3-op][0] + str(other) + \")\")), op = op_map[op][1], right = ast.Constant(value=other))\n",
    "            \n",
    "        return src\n",
    "\n",
    "    def visit_BinOp(self, src):\n",
    "        if self.mode == self.EXPAND:\n",
    "            if random.randint(1, 2) == 1:\n",
    "                src.left = self.visit(src.left)\n",
    "            else:\n",
    "                src.right = self.visit(src.right)\n",
    "            return src\n",
    "        \n",
    "        if self.mode == self.COMMUTE:\n",
    "            if isinstance(src.op, ast.Add) or isinstance(src.op, ast.Mult):\n",
    "                src.left, src.right = src.right, src.left\n",
    "                \n",
    "            return self.generic_visit(src)"
   ]
  },
  {
   "cell_type": "code",
   "execution_count": 98,
   "metadata": {},
   "outputs": [
    {
     "name": "stdout",
     "output_type": "stream",
     "text": [
      "BinOp(\n",
      "    left=Constant(value=0.0001626280696048138),\n",
      "    op=Mult(),\n",
      "    right=BinOp(\n",
      "        left=Constant(value=11380),\n",
      "        op=Add(),\n",
      "        right=Constant(value=-5231)))\n"
     ]
    }
   ],
   "source": [
    "print_ast(ExprMutator().modify_value(ast.Constant(value=1), depth=2))"
   ]
  },
  {
   "cell_type": "code",
   "execution_count": 99,
   "metadata": {},
   "outputs": [
    {
     "name": "stdout",
     "output_type": "stream",
     "text": [
      "x + (13161763584 / 2624 / 9054 + -553)\n"
     ]
    }
   ],
   "source": [
    "print_code(PythonMutator().expand_constants(ast.parse(\"x+1\")))"
   ]
  },
  {
   "cell_type": "code",
   "execution_count": 100,
   "metadata": {},
   "outputs": [],
   "source": [
    "from copy import deepcopy"
   ]
  },
  {
   "cell_type": "code",
   "execution_count": 101,
   "metadata": {},
   "outputs": [
    {
     "name": "stdout",
     "output_type": "stream",
     "text": [
      "(8885 + 1257 * -5.193317422434368) * 0.00042426813746287653 + x\n"
     ]
    }
   ],
   "source": [
    "print_code(PythonMutator().swap_numbers(ast.parse(\"x + 0.00042426813746287653 * (-5.193317422434368 * 1257 + 8885)\")))"
   ]
  },
  {
   "cell_type": "code",
   "execution_count": 102,
   "metadata": {},
   "outputs": [
    {
     "name": "stdout",
     "output_type": "stream",
     "text": [
      "def simple_function(x):\n",
      "    y = (-0.5963740458015268 * (6773 + -4677) - 1202 + (108256512 / -8736 + (1368 - -8632) + (14462 + -7113)) - (10390968 / (-0.218656887462755 * -4363) + (-4634 + -12150660 / 3235))) * x\n",
      "    print(y)\n"
     ]
    }
   ],
   "source": [
    "tree_two = deepcopy(tree)\n",
    "for i in range(5):\n",
    "    if random.randint(1, 5) == 1: PythonMutator().swap_numbers(tree_two)\n",
    "    else: PythonMutator().expand_constants(tree_two)\n",
    "new_code = ast.unparse(tree_two)\n",
    "print(new_code)"
   ]
  },
  {
   "cell_type": "code",
   "execution_count": 103,
   "metadata": {},
   "outputs": [
    {
     "name": "stdout",
     "output_type": "stream",
     "text": [
      "1368\n"
     ]
    }
   ],
   "source": [
    "simple_function(456)"
   ]
  },
  {
   "cell_type": "code",
   "execution_count": 104,
   "metadata": {},
   "outputs": [],
   "source": [
    "exec(new_code)"
   ]
  },
  {
   "cell_type": "code",
   "execution_count": 105,
   "metadata": {},
   "outputs": [
    {
     "name": "stdout",
     "output_type": "stream",
     "text": [
      "1368.0\n"
     ]
    }
   ],
   "source": [
    "simple_function(456)"
   ]
  },
  {
   "cell_type": "markdown",
   "metadata": {},
   "source": [
    "Clearly the output remains the same inspite of our changes. Next, we look into transforming range-based for loops into while loops."
   ]
  },
  {
   "cell_type": "code",
   "execution_count": 106,
   "metadata": {},
   "outputs": [
    {
     "name": "stdout",
     "output_type": "stream",
     "text": [
      "Module(\n",
      "    body=[\n",
      "        For(\n",
      "            target=Name(id='i', ctx=Store()),\n",
      "            iter=Call(\n",
      "                func=Name(id='range', ctx=Load()),\n",
      "                args=[\n",
      "                    Constant(value=10),\n",
      "                    Constant(value=1),\n",
      "                    UnaryOp(\n",
      "                        op=USub(),\n",
      "                        operand=Constant(value=2))],\n",
      "                keywords=[]),\n",
      "            body=[\n",
      "                Expr(\n",
      "                    value=Call(\n",
      "                        func=Name(id='print', ctx=Load()),\n",
      "                        args=[\n",
      "                            Name(id='i', ctx=Load())],\n",
      "                        keywords=[]))],\n",
      "            orelse=[])],\n",
      "    type_ignores=[])\n"
     ]
    }
   ],
   "source": [
    "for_tree = ast.parse('''for i in range(10, 1, -2):\n",
    "                        print(i)''')\n",
    "print_ast(for_tree)"
   ]
  },
  {
   "cell_type": "code",
   "execution_count": 107,
   "metadata": {},
   "outputs": [
    {
     "name": "stdout",
     "output_type": "stream",
     "text": [
      "Module(\n",
      "    body=[\n",
      "        Assign(\n",
      "            targets=[\n",
      "                Name(id='i', ctx=Store())],\n",
      "            value=Constant(value=10)),\n",
      "        While(\n",
      "            test=Compare(\n",
      "                left=Name(id='i', ctx=Load()),\n",
      "                ops=[\n",
      "                    Gt()],\n",
      "                comparators=[\n",
      "                    Constant(value=1)]),\n",
      "            body=[\n",
      "                Expr(\n",
      "                    value=Call(\n",
      "                        func=Name(id='print', ctx=Load()),\n",
      "                        args=[\n",
      "                            Name(id='i', ctx=Load())],\n",
      "                        keywords=[])),\n",
      "                AugAssign(\n",
      "                    target=Name(id='i', ctx=Store()),\n",
      "                    op=Add(),\n",
      "                    value=UnaryOp(\n",
      "                        op=USub(),\n",
      "                        operand=Constant(value=2)))],\n",
      "            orelse=[])],\n",
      "    type_ignores=[])\n"
     ]
    }
   ],
   "source": [
    "while_tree = ast.parse('''\n",
    "i = 10\n",
    "while i > 1:\n",
    "    print(i)\n",
    "    i += -2''')\n",
    "print_ast(while_tree)"
   ]
  },
  {
   "cell_type": "code",
   "execution_count": 108,
   "metadata": {},
   "outputs": [
    {
     "name": "stdout",
     "output_type": "stream",
     "text": [
      "Assign(\n",
      "    targets=[\n",
      "        Name(id='i', ctx=Store())],\n",
      "    value=Constant(value=10))\n",
      "While(\n",
      "    test=Compare(\n",
      "        left=Name(id='i', ctx=Load()),\n",
      "        ops=[\n",
      "            Gt()],\n",
      "        comparators=[\n",
      "            Constant(value=1)]),\n",
      "    body=[\n",
      "        Expr(\n",
      "            value=Call(\n",
      "                func=Name(id='print', ctx=Load()),\n",
      "                args=[\n",
      "                    Name(id='i', ctx=Load())],\n",
      "                keywords=[])),\n",
      "        AugAssign(\n",
      "            target=Name(id='i', ctx=Store()),\n",
      "            op=Add(),\n",
      "            value=UnaryOp(\n",
      "                op=USub(),\n",
      "                operand=Constant(value=2)))],\n",
      "    orelse=[])\n"
     ]
    }
   ],
   "source": [
    "src = for_tree.body[0]\n",
    "def analyze_for(node):\n",
    "    args = node.iter.args\n",
    "    if len(args) == 1:\n",
    "        return [ast.Constant(value=0), ast.Lt(), args[0], ast.Constant(value=1)]\n",
    "    elif len(args) == 2:\n",
    "        return [args[0], ast.Lt(), args[1], ast.Constant(value=1)]\n",
    "    else:\n",
    "        step = eval(ast.unparse(args[2]))\n",
    "        if step < 0:\n",
    "            return [args[0], ast.Gt(), args[1], args[2]]\n",
    "        else:\n",
    "            return [args[0], ast.Lt(), args[1], args[2]]\n",
    "        \n",
    "while_args = analyze_for(src)\n",
    "print_ast(\n",
    "    ast.Assign(targets=[src.target], value=while_args[0])\n",
    "    ) \n",
    "print_ast(\n",
    "    ast.While(test=ast.Compare(left=ast.Name(id=src.target.id, ctx=ast.Load()), ops=[while_args[1]], comparators=[while_args[2]]), \\\n",
    "              body=src.body + [ast.AugAssign(target=src.target, op=ast.Add(), value=while_args[3])], orelse=src.orelse)\n",
    ")"
   ]
  },
  {
   "cell_type": "code",
   "execution_count": 109,
   "metadata": {},
   "outputs": [],
   "source": [
    "class PythonMutator(PythonMutator):\n",
    "    def transform_for(self, src):\n",
    "        return ForMutator().visit(src)"
   ]
  },
  {
   "cell_type": "code",
   "execution_count": 110,
   "metadata": {},
   "outputs": [],
   "source": [
    "class ForMutator(ast.NodeTransformer):\n",
    "    def visit_For(self, src):  \n",
    "        if isinstance(src.iter, ast.Name): return src\n",
    "        while_args = analyze_for(src)\n",
    "\n",
    "        return [ast.Assign(targets=[src.target], value=while_args[0]), \\\n",
    "                ast.While(test=ast.Compare(left=ast.Name(id=src.target.id, ctx=ast.Load()), ops=[while_args[1]], comparators=[while_args[2]]), \\\n",
    "                          body=src.body + [ast.AugAssign(target=src.target, op=ast.Add(), value=while_args[3])], orelse=src.orelse)]"
   ]
  },
  {
   "cell_type": "code",
   "execution_count": 111,
   "metadata": {},
   "outputs": [
    {
     "name": "stdout",
     "output_type": "stream",
     "text": [
      "for i in range(10, 1, -2):\n",
      "    print(i)\n",
      "====\n",
      "i = 10\n",
      "while i > 1:\n",
      "    print(i)\n",
      "    i += -2\n"
     ]
    }
   ],
   "source": [
    "for_tree_two = deepcopy(for_tree)\n",
    "print(ast.unparse(for_tree))\n",
    "print(\"====\")\n",
    "print_code(PythonMutator().transform_for(for_tree_two))"
   ]
  },
  {
   "cell_type": "markdown",
   "metadata": {},
   "source": [
    "That takes care of for-loops based on ranges. <b>What about iterators?</b>"
   ]
  },
  {
   "cell_type": "code",
   "execution_count": 112,
   "metadata": {},
   "outputs": [
    {
     "name": "stdout",
     "output_type": "stream",
     "text": [
      "Module(\n",
      "    body=[\n",
      "        Assign(\n",
      "            targets=[\n",
      "                Name(id='L', ctx=Store())],\n",
      "            value=List(\n",
      "                elts=[\n",
      "                    Constant(value=1),\n",
      "                    Constant(value=4),\n",
      "                    Constant(value='hello')],\n",
      "                ctx=Load())),\n",
      "        For(\n",
      "            target=Name(id='i', ctx=Store()),\n",
      "            iter=ListComp(\n",
      "                elt=Call(\n",
      "                    func=Name(id='len', ctx=Load()),\n",
      "                    args=[\n",
      "                        Call(\n",
      "                            func=Name(id='str', ctx=Load()),\n",
      "                            args=[\n",
      "                                Name(id='x', ctx=Load())],\n",
      "                            keywords=[])],\n",
      "                    keywords=[]),\n",
      "                generators=[\n",
      "                    comprehension(\n",
      "                        target=Name(id='x', ctx=Store()),\n",
      "                        iter=Name(id='L', ctx=Load()),\n",
      "                        ifs=[],\n",
      "                        is_async=0)]),\n",
      "            body=[\n",
      "                Expr(\n",
      "                    value=Call(\n",
      "                        func=Name(id='print', ctx=Load()),\n",
      "                        args=[\n",
      "                            Name(id='i', ctx=Load())],\n",
      "                        keywords=[]))],\n",
      "            orelse=[])],\n",
      "    type_ignores=[])\n"
     ]
    }
   ],
   "source": [
    "print_ast(ast.parse(\n",
    "'''\n",
    "L = [1, 4, \"hello\"]\n",
    "for i in [len(str(x)) for x in L]:\n",
    "    print(i)\n",
    "'''\n",
    "))"
   ]
  },
  {
   "cell_type": "code",
   "execution_count": 113,
   "metadata": {},
   "outputs": [
    {
     "name": "stdout",
     "output_type": "stream",
     "text": [
      "Module(\n",
      "    body=[\n",
      "        Assign(\n",
      "            targets=[\n",
      "                Tuple(\n",
      "                    elts=[\n",
      "                        Name(id='x', ctx=Store()),\n",
      "                        Name(id='y', ctx=Store())],\n",
      "                    ctx=Store())],\n",
      "            value=Tuple(\n",
      "                elts=[\n",
      "                    BinOp(\n",
      "                        left=Constant(value=3),\n",
      "                        op=Add(),\n",
      "                        right=Constant(value=5)),\n",
      "                    BinOp(\n",
      "                        left=Constant(value=3),\n",
      "                        op=Add(),\n",
      "                        right=Constant(value=5))],\n",
      "                ctx=Load()))],\n",
      "    type_ignores=[])\n"
     ]
    }
   ],
   "source": [
    "print_ast(ast.parse('x,y = 3 + 5, 3 + 5'))"
   ]
  },
  {
   "cell_type": "code",
   "execution_count": 114,
   "metadata": {},
   "outputs": [
    {
     "name": "stdout",
     "output_type": "stream",
     "text": [
      "Module(\n",
      "    body=[\n",
      "        Assign(\n",
      "            targets=[\n",
      "                Tuple(\n",
      "                    elts=[\n",
      "                        Name(id='tmp1', ctx=Store()),\n",
      "                        Name(id='tmp2', ctx=Store())],\n",
      "                    ctx=Store())],\n",
      "            value=Tuple(\n",
      "                elts=[\n",
      "                    BinOp(\n",
      "                        left=Constant(value=3),\n",
      "                        op=Add(),\n",
      "                        right=Constant(value=5)),\n",
      "                    BinOp(\n",
      "                        left=Constant(value=3),\n",
      "                        op=Add(),\n",
      "                        right=Constant(value=5))],\n",
      "                ctx=Load())),\n",
      "        Assign(\n",
      "            targets=[\n",
      "                Tuple(\n",
      "                    elts=[\n",
      "                        Name(id='x', ctx=Store()),\n",
      "                        Name(id='y', ctx=Store())],\n",
      "                    ctx=Store())],\n",
      "            value=Tuple(\n",
      "                elts=[\n",
      "                    Name(id='tmp1', ctx=Load()),\n",
      "                    Name(id='tmp2', ctx=Load())],\n",
      "                ctx=Load()))],\n",
      "    type_ignores=[])\n"
     ]
    }
   ],
   "source": [
    "print_ast(ast.parse('''\n",
    "tmp1, tmp2 = 3 + 5, 3 + 5\n",
    "x, y = tmp1, tmp2'''))"
   ]
  },
  {
   "cell_type": "code",
   "execution_count": 115,
   "metadata": {},
   "outputs": [],
   "source": [
    "class AssignMutator(ast.NodeTransformer):\n",
    "    def __init__(self):\n",
    "        self.in_assign = False\n",
    "\n",
    "    def visit_Name(self, src):\n",
    "        if self.in_assign: return ast.Name(id = '_' + str(random.randint(1087345, 196871238674)), ctx = src.ctx)\n",
    "        return src\n",
    "     \n",
    "    def visit_Assign(self, src):\n",
    "        self.in_assign = True\n",
    "        new_target = self.visit(deepcopy(src.targets[0]))\n",
    "        self.in_assign = False\n",
    "        return [ast.Assign(targets = [new_target], value=src.value), ast.Assign(targets=src.targets, value=NameHandler().get_name(deepcopy(new_target)))]"
   ]
  },
  {
   "cell_type": "markdown",
   "metadata": {},
   "source": [
    "The naive method is to copy all targets and rename them on a line above. \n",
    "\n",
    "List and Dict subscripts are an issue for this. For example the following AST:\n",
    "\n",
    "Assign(\n",
    "    targets=[\n",
    "        Subscript(\n",
    "            value=Name(id='gates', ctx=Load()),\n",
    "            slice=Subscript(\n",
    "                value=Name(id='inps', ctx=Load()),\n",
    "                slice=Constant(value=0),\n",
    "                ctx=Load()),\n",
    "            ctx=Store())],\n",
    "    value=Call(\n",
    "        func=Name(id='float', ctx=Load()),\n",
    "        args=[\n",
    "            Subscript(\n",
    "                value=Name(id='inps', ctx=Load()),\n",
    "                slice=Constant(value=1),\n",
    "                ctx=Load())],\n",
    "        keywords=[]\n",
    "        )\n",
    ")\n",
    "\n",
    "representing \n",
    "\n",
    "gates[inps[0]] = float(inps[1])\n",
    "\n",
    "gets transformed to\n",
    "\n",
    "xxx[yyy[0]] = float(inps[1])\n",
    "gates[inps[0]] = xxx[yyy[0]]\n",
    "\n",
    "but this is problematic because xxx and yyy aren't declared as lists, which they need to be.\n",
    "\n",
    "To get around this, we need to transform each target to a single variable node.\n",
    "\n",
    "x, y = 5, 3\n",
    "\n",
    "must be transformed to\n",
    "\n",
    "tmp = 5, 3\n",
    "x, y = tmp\n",
    "\n",
    "instead."
   ]
  },
  {
   "cell_type": "code",
   "execution_count": 116,
   "metadata": {},
   "outputs": [],
   "source": [
    "class AssignMutator(ast.NodeTransformer):\n",
    "    def visit_Assign(self, src):\n",
    "        new_target = ast.Name(id = '_' + str(random.randint(1087345, 196871238674)), ctx = ast.Store())\n",
    "        return [ast.Assign(targets = [new_target], value=src.value), ast.Assign(targets=src.targets, value=NameHandler().get_name(deepcopy(new_target)))]"
   ]
  },
  {
   "cell_type": "code",
   "execution_count": 117,
   "metadata": {},
   "outputs": [],
   "source": [
    "class NameHandler(ast.NodeTransformer):\n",
    "    def get_name(self, src, mode=\"LOAD\"):\n",
    "        self.mode = mode\n",
    "        return self.visit(src)\n",
    "\n",
    "    def visit_Name(self, src):\n",
    "        if self.mode == \"LOAD\":\n",
    "            return ast.Name(id = src.id, ctx = ast.Load())"
   ]
  },
  {
   "cell_type": "code",
   "execution_count": 118,
   "metadata": {},
   "outputs": [
    {
     "name": "stdout",
     "output_type": "stream",
     "text": [
      "Module(\n",
      "    body=[\n",
      "        Assign(\n",
      "            targets=[\n",
      "                Name(id='_22857466618', ctx=Store())],\n",
      "            value=Tuple(\n",
      "                elts=[\n",
      "                    BinOp(\n",
      "                        left=Constant(value=3),\n",
      "                        op=Add(),\n",
      "                        right=Constant(value=5)),\n",
      "                    BinOp(\n",
      "                        left=Constant(value=5),\n",
      "                        op=Add(),\n",
      "                        right=Constant(value=3))],\n",
      "                ctx=Load())),\n",
      "        Assign(\n",
      "            targets=[\n",
      "                Tuple(\n",
      "                    elts=[\n",
      "                        Name(id='x', ctx=Store()),\n",
      "                        Name(id='y', ctx=Store())],\n",
      "                    ctx=Store())],\n",
      "            value=Name(id='_22857466618', ctx=Load()))],\n",
      "    type_ignores=[])\n"
     ]
    }
   ],
   "source": [
    "print_ast(AssignMutator().visit(ast.parse('x,y = 3 + 5, 5 + 3')))"
   ]
  },
  {
   "cell_type": "code",
   "execution_count": 119,
   "metadata": {},
   "outputs": [
    {
     "name": "stdout",
     "output_type": "stream",
     "text": [
      "Module(\n",
      "    body=[\n",
      "        Assign(\n",
      "            targets=[\n",
      "                Name(id='x', ctx=Store()),\n",
      "                Name(id='y', ctx=Store())],\n",
      "            value=Constant(value=5))],\n",
      "    type_ignores=[])\n"
     ]
    }
   ],
   "source": [
    "print_ast(ast.parse('x=y=5'))"
   ]
  },
  {
   "cell_type": "code",
   "execution_count": 120,
   "metadata": {},
   "outputs": [
    {
     "name": "stdout",
     "output_type": "stream",
     "text": [
      "Module(\n",
      "    body=[\n",
      "        Assign(\n",
      "            targets=[\n",
      "                Name(id='_22601269486', ctx=Store())],\n",
      "            value=Constant(value=5)),\n",
      "        Assign(\n",
      "            targets=[\n",
      "                Name(id='x', ctx=Store()),\n",
      "                Name(id='y', ctx=Store())],\n",
      "            value=Name(id='_22601269486', ctx=Load()))],\n",
      "    type_ignores=[])\n"
     ]
    }
   ],
   "source": [
    "print_ast(AssignMutator().visit(ast.parse('x=y=5')))"
   ]
  },
  {
   "cell_type": "code",
   "execution_count": 121,
   "metadata": {},
   "outputs": [
    {
     "name": "stdout",
     "output_type": "stream",
     "text": [
      "_171641404885 = (3 + 5, 5 + 3)\n",
      "x, y = _171641404885\n"
     ]
    }
   ],
   "source": [
    "print_code(AssignMutator().visit(ast.parse('x,y = 3 + 5, 5 + 3')))"
   ]
  },
  {
   "cell_type": "code",
   "execution_count": 122,
   "metadata": {},
   "outputs": [
    {
     "name": "stdout",
     "output_type": "stream",
     "text": [
      "_179093248703 = 5\n",
      "x = y = _179093248703\n"
     ]
    }
   ],
   "source": [
    "print_code(AssignMutator().visit(ast.parse('x=y=5')))"
   ]
  },
  {
   "cell_type": "code",
   "execution_count": 123,
   "metadata": {},
   "outputs": [],
   "source": [
    "class PythonMutator(PythonMutator):\n",
    "    def transform_assign(self, src):\n",
    "        return AssignMutator().visit(src)"
   ]
  },
  {
   "cell_type": "code",
   "execution_count": 124,
   "metadata": {},
   "outputs": [],
   "source": [
    "tree = ast.parse(r'''\n",
    "with open(\"circuit.txt\", \"r\") as F:\n",
    "    circuit = F.readlines() # read circuit file into a list\n",
    "with open(\"gate_delays.txt\", \"r\") as F:\n",
    "    delays = F.readlines() # read gate delays into a list\n",
    "\n",
    "gates = {-1: 0} # prepare dictionary to allow simpler access of gate delays\n",
    "nodes = {} # prepare dictionary to store node data\n",
    "out_nodes = [] # prepare list to store names of output nodes\n",
    "flag1 = flag2 = flag3 = False # prep for processing circuit later\n",
    "\n",
    "# loop to assign delay value to each kind of gate\n",
    "for i in delays:\n",
    "    x = i.strip() # ignore trailing whitespace\n",
    "    if x[:2] == \"//\": continue # ignoring whitespace followed by //\n",
    "    if len(x) == 0: continue # ignoring blank lines or whitespace-only lines\n",
    "    inps = x.split() # separate line into words\n",
    "    gates[inps[0]] = float(inps[1]) # assign corresponding delay values with key as gate name\n",
    "\n",
    "for i in circuit:\n",
    "    x = i.strip() # ignore trailing whitespace\n",
    "    if x[:2] == \"//\": continue # ignoring whitespace followed by //\n",
    "    if len(x) == 0: continue # ignoring blank lines or whitespace-only lines\n",
    "    inps = x.split() # separate line into words\n",
    "    if inps[0] == \"PRIMARY_INPUTS\": # handling input signal data\n",
    "        for j in inps[1:]:\n",
    "            nodes[j] = [0, [], -1] # initializing data with 0 value of delay, no nodes feeding in, associated with no gate  \n",
    "        flag1 = True # flag to say input signals have been read\n",
    "        continue\n",
    "    if inps[0] == \"INTERNAL_SIGNALS\": # handling internal signal data\n",
    "        for j in inps[1:]:\n",
    "            nodes[j] = [0, [], -1] # initializing data with 0 value of delay, no nodes feeding in, associated with no gate\n",
    "        flag2 = True # flag to say internal signals have been read\n",
    "        continue\n",
    "    if inps[0] == \"PRIMARY_OUTPUTS\": # handling output signal data\n",
    "        for j in inps[1:]:\n",
    "            nodes[j] = [0, [], -1] # initializing data with 0 value of delay, no nodes feeding in, associated with no gate\n",
    "        out_nodes.extend(inps[1:]) # list of output nodes\n",
    "        flag3 = True # flag to say output signals have been read\n",
    "        continue\n",
    "    if flag1 and flag2 and flag3: break # break the loop if all 3 conditions are met before loop termination\n",
    "\n",
    "for i in circuit: # processing the input and setting up input nodes and gates for each node\n",
    "    x = i.strip() # ignore trailing whitespace\n",
    "    if x[:2] == \"//\": continue # ignoring whitespace followed by //\n",
    "    if len(x) == 0: continue # ignoring blank lines or whitespace-only lines\n",
    "    inps = x.split() # separate line into words\n",
    "    if ((inps[0]==\"PRIMARY_INPUTS\") or (inps[0]==\"INTERNAL_SIGNALS\") or (inps[0]==\"PRIMARY_OUTPUTS\")): \n",
    "        continue # ignore signal lines\n",
    "    out = inps[-1]\n",
    "    nodes[out][1].extend(inps[1:-1]) # set up input nodes for each node\n",
    "    nodes[out][2] = inps[0] # set gate delay for relevant nodes\n",
    "\n",
    "def calcVal_A(x): # recursive function to calculate the delay at each node\n",
    "    # print(x, nodes) # debug line\n",
    "    if nodes[x][1] == []: return nodes[x][0] # skip recursive step if node already processed\n",
    "    s = 0\n",
    "    for i in nodes[x][1]: # find max delay time of each input node\n",
    "        nodes[i][0] = calcVal_A(i) # recursive call to function\n",
    "        s = max(nodes[i][0], s) # node delay that controls delay time of output\n",
    "    nodes[x][1] = [] # clear input nodes to indicate node delay is already calculated\n",
    "    return s + gates[nodes[x][2]] # gate delay compensation\n",
    "\n",
    "to_write = [] # initialize array of lines to be written to output\n",
    "\n",
    "for i in out_nodes:\n",
    "    nodes[i][0] = calcVal_A(i) # calculate delay for each output node using the recursive function\n",
    "    if nodes[i][0] == round(nodes[i][0]): nodes[i][0] = round(nodes[i][0])\n",
    "    to_write.append(i + \" \" + str(nodes[i][0]) + \"\\n\") # write delay at each output node to array\n",
    "\n",
    "with open(\"output_delays.txt\", \"w\") as F:\n",
    "    F.writelines(to_write) # write output array to file\n",
    "''')"
   ]
  },
  {
   "cell_type": "code",
   "execution_count": 125,
   "metadata": {},
   "outputs": [
    {
     "name": "stdout",
     "output_type": "stream",
     "text": [
      "with open('circuit.txt', 'r') as F:\n",
      "    _168080109132 = F.readlines()\n",
      "    circuit = _168080109132\n",
      "with open('gate_delays.txt', 'r') as F:\n",
      "    _106319834120 = F.readlines()\n",
      "    delays = _106319834120\n",
      "_112757168092 = {-(2670 - -4908 + (-4927 - 2650)): 0}\n",
      "gates = _112757168092\n",
      "_8378195681 = {}\n",
      "nodes = _8378195681\n",
      "_66074956343 = []\n",
      "out_nodes = _66074956343\n",
      "_46176665993 = False\n",
      "flag1 = flag2 = flag3 = _46176665993\n",
      "for i in delays:\n",
      "    _144743254001 = i.strip()\n",
      "    x = _144743254001\n",
      "    if x[:2] == '//':\n",
      "        continue\n",
      "    if len(x) == 0:\n",
      "        continue\n",
      "    _119634483104 = x.split()\n",
      "    inps = _119634483104\n",
      "    _56520891408 = float(inps[1])\n",
      "    gates[inps[0]] = _56520891408\n",
      "for i in circuit:\n",
      "    _189909093152 = i.strip()\n",
      "    x = _189909093152\n",
      "    if x[:2] == '//':\n",
      "        continue\n",
      "    if len(x) == 0:\n",
      "        continue\n",
      "    _169881696981 = x.split()\n",
      "    inps = _169881696981\n",
      "    if inps[0] == 'PRIMARY_INPUTS':\n",
      "        for j in inps[1:]:\n",
      "            _134344318734 = [0, [], -1]\n",
      "            nodes[j] = _134344318734\n",
      "        _44796612013 = True\n",
      "        flag1 = _44796612013\n",
      "        continue\n",
      "    if inps[0] == 'INTERNAL_SIGNALS':\n",
      "        for j in inps[1:]:\n",
      "            _172862842573 = [0, [], -1]\n",
      "            nodes[j] = _172862842573\n",
      "        _20550261014 = True\n",
      "        flag2 = _20550261014\n",
      "        continue\n",
      "    if inps[0] == 'PRIMARY_OUTPUTS':\n",
      "        for j in inps[1:]:\n",
      "            _102412032723 = [0, [], -1]\n",
      "            nodes[j] = _102412032723\n",
      "        out_nodes.extend(inps[1:])\n",
      "        _127049339681 = True\n",
      "        flag3 = _127049339681\n",
      "        continue\n",
      "    if flag1 and flag2 and flag3:\n",
      "        break\n",
      "for i in circuit:\n",
      "    _53940940907 = i.strip()\n",
      "    x = _53940940907\n",
      "    if x[:2] == '//':\n",
      "        continue\n",
      "    if len(x) == 0:\n",
      "        continue\n",
      "    _176573799026 = x.split()\n",
      "    inps = _176573799026\n",
      "    if inps[0] == 'PRIMARY_INPUTS' or inps[0] == 'INTERNAL_SIGNALS' or inps[0] == 'PRIMARY_OUTPUTS':\n",
      "        continue\n",
      "    _185293055071 = inps[-1]\n",
      "    out = _185293055071\n",
      "    nodes[out][1].extend(inps[1:-1])\n",
      "    _67751532523 = inps[0]\n",
      "    nodes[out][2] = _67751532523\n",
      "\n",
      "def calcVal_A(x):\n",
      "    if nodes[x][1] == []:\n",
      "        return nodes[x][0]\n",
      "    _22273118052 = 0\n",
      "    s = _22273118052\n",
      "    for i in nodes[x][1]:\n",
      "        _98431873105 = calcVal_A(i)\n",
      "        nodes[i][0] = _98431873105\n",
      "        _148625855047 = max(nodes[i][0], s)\n",
      "        s = _148625855047\n",
      "    _145005012032 = []\n",
      "    nodes[x][1] = _145005012032\n",
      "    return s + gates[nodes[x][2]]\n",
      "_151565929215 = []\n",
      "to_write = _151565929215\n",
      "for i in out_nodes:\n",
      "    _20511291667 = calcVal_A(i)\n",
      "    nodes[i][0] = _20511291667\n",
      "    if nodes[i][0] == round(nodes[i][0]):\n",
      "        _195561382913 = round(nodes[i][0])\n",
      "        nodes[i][0] = _195561382913\n",
      "    to_write.append(i + ' ' + str(nodes[i][0]) + '\\n')\n",
      "with open('output_delays.txt', 'w') as F:\n",
      "    F.writelines(to_write)\n"
     ]
    }
   ],
   "source": [
    "print_code(PythonMutator().expand_constants(PythonMutator().transform_assign(tree)))"
   ]
  },
  {
   "cell_type": "code",
   "execution_count": 126,
   "metadata": {},
   "outputs": [],
   "source": [
    "import trace\n",
    "import sys"
   ]
  },
  {
   "cell_type": "code",
   "execution_count": 127,
   "metadata": {},
   "outputs": [],
   "source": [
    "def traceit(frame, event, arg):\n",
    "    \"\"\"Trace program execution. To be passed to sys.settrace().\"\"\"\n",
    "    if event == 'line':\n",
    "        global coverage\n",
    "        function_name = frame.f_code.co_name\n",
    "        lineno = frame.f_lineno\n",
    "        vars = dict(frame.f_locals)\n",
    "        coverage.append([function_name, lineno, vars])\n",
    "    return traceit\n",
    "\n",
    "def tracer(f):\n",
    "    global coverage\n",
    "    coverage = []\n",
    "    sys.settrace(traceit)  # Turn on\n",
    "    f()\n",
    "    sys.settrace(None)    # Turn off"
   ]
  },
  {
   "cell_type": "code",
   "execution_count": 128,
   "metadata": {},
   "outputs": [],
   "source": [
    "def g():\n",
    "    def simple_function(x):\n",
    "        z = int(2)\n",
    "        y = int(3) * x\n",
    "        return y\n",
    "    \n",
    "    a = simple_function(2)\n",
    "    b = 0\n",
    "    for _ in range(int(6)):\n",
    "        b += int(2) * a\n",
    "\n",
    "    print(\"The answer is\", b)"
   ]
  },
  {
   "cell_type": "code",
   "execution_count": 129,
   "metadata": {},
   "outputs": [
    {
     "name": "stdout",
     "output_type": "stream",
     "text": [
      "The answer is 72\n"
     ]
    }
   ],
   "source": [
    "tracer(g)"
   ]
  },
  {
   "cell_type": "code",
   "execution_count": 130,
   "metadata": {},
   "outputs": [
    {
     "name": "stdout",
     "output_type": "stream",
     "text": [
      "g 2 {}\n",
      "g 7 {'simple_function': <function g.<locals>.simple_function at 0x0000023ED2738040>}\n",
      "simple_function 3 {'x': 2}\n",
      "simple_function 4 {'x': 2, 'z': 2}\n",
      "simple_function 5 {'x': 2, 'z': 2, 'y': 6}\n",
      "g 8 {'simple_function': <function g.<locals>.simple_function at 0x0000023ED2738040>, 'a': 6}\n",
      "g 9 {'simple_function': <function g.<locals>.simple_function at 0x0000023ED2738040>, 'a': 6, 'b': 0}\n",
      "g 10 {'simple_function': <function g.<locals>.simple_function at 0x0000023ED2738040>, 'a': 6, 'b': 0, '_': 0}\n",
      "g 9 {'simple_function': <function g.<locals>.simple_function at 0x0000023ED2738040>, 'a': 6, 'b': 12, '_': 0}\n",
      "g 10 {'simple_function': <function g.<locals>.simple_function at 0x0000023ED2738040>, 'a': 6, 'b': 12, '_': 1}\n",
      "g 9 {'simple_function': <function g.<locals>.simple_function at 0x0000023ED2738040>, 'a': 6, 'b': 24, '_': 1}\n",
      "g 10 {'simple_function': <function g.<locals>.simple_function at 0x0000023ED2738040>, 'a': 6, 'b': 24, '_': 2}\n",
      "g 9 {'simple_function': <function g.<locals>.simple_function at 0x0000023ED2738040>, 'a': 6, 'b': 36, '_': 2}\n",
      "g 10 {'simple_function': <function g.<locals>.simple_function at 0x0000023ED2738040>, 'a': 6, 'b': 36, '_': 3}\n",
      "g 9 {'simple_function': <function g.<locals>.simple_function at 0x0000023ED2738040>, 'a': 6, 'b': 48, '_': 3}\n",
      "g 10 {'simple_function': <function g.<locals>.simple_function at 0x0000023ED2738040>, 'a': 6, 'b': 48, '_': 4}\n",
      "g 9 {'simple_function': <function g.<locals>.simple_function at 0x0000023ED2738040>, 'a': 6, 'b': 60, '_': 4}\n",
      "g 10 {'simple_function': <function g.<locals>.simple_function at 0x0000023ED2738040>, 'a': 6, 'b': 60, '_': 5}\n",
      "g 9 {'simple_function': <function g.<locals>.simple_function at 0x0000023ED2738040>, 'a': 6, 'b': 72, '_': 5}\n",
      "g 12 {'simple_function': <function g.<locals>.simple_function at 0x0000023ED2738040>, 'a': 6, 'b': 72, '_': 5}\n",
      "write 620 {'self': <ipykernel.iostream.OutStream object at 0x0000023ED26ABA90>, 'string': 'The answer is'}\n",
      "write 624 {'self': <ipykernel.iostream.OutStream object at 0x0000023ED26ABA90>, 'string': 'The answer is'}\n",
      "write 631 {'self': <ipykernel.iostream.OutStream object at 0x0000023ED26ABA90>, 'string': 'The answer is'}\n",
      "write 635 {'self': <ipykernel.iostream.OutStream object at 0x0000023ED26ABA90>, 'string': 'The answer is'}\n",
      "_is_master_process 506 {'self': <ipykernel.iostream.OutStream object at 0x0000023ED26ABA90>}\n",
      "write 637 {'self': <ipykernel.iostream.OutStream object at 0x0000023ED26ABA90>, 'string': 'The answer is', 'is_child': False}\n",
      "write 638 {'self': <ipykernel.iostream.OutStream object at 0x0000023ED26ABA90>, 'string': 'The answer is', 'is_child': False}\n",
      "write 637 {'self': <ipykernel.iostream.OutStream object at 0x0000023ED26ABA90>, 'string': 'The answer is', 'is_child': False}\n",
      "write 639 {'self': <ipykernel.iostream.OutStream object at 0x0000023ED26ABA90>, 'string': 'The answer is', 'is_child': False}\n",
      "write 648 {'self': <ipykernel.iostream.OutStream object at 0x0000023ED26ABA90>, 'string': 'The answer is', 'is_child': False}\n",
      "_schedule_flush 537 {'self': <ipykernel.iostream.OutStream object at 0x0000023ED26ABA90>}\n",
      "_schedule_flush 539 {'self': <ipykernel.iostream.OutStream object at 0x0000023ED26ABA90>}\n",
      "_schedule_flush 542 {'self': <ipykernel.iostream.OutStream object at 0x0000023ED26ABA90>}\n",
      "_schedule_flush 545 {'self': <ipykernel.iostream.OutStream object at 0x0000023ED26ABA90>, '_schedule_in_thread': <function OutStream._schedule_flush.<locals>._schedule_in_thread at 0x0000023EF20489A0>}\n",
      "schedule 248 {'self': <ipykernel.iostream.IOPubThread object at 0x0000023ED271F690>, 'f': <function OutStream._schedule_flush.<locals>._schedule_in_thread at 0x0000023EF20489A0>}\n",
      "is_alive 1200 {'self': <Thread(IOPub, started daemon 3672)>}\n",
      "is_alive 1201 {'self': <Thread(IOPub, started daemon 3672)>}\n",
      "is_set 577 {'self': <threading.Event at 0x23ed273fc50: set>}\n",
      "is_alive 1203 {'self': <Thread(IOPub, started daemon 3672)>}\n",
      "_wait_for_tstate_lock 1132 {'self': <Thread(IOPub, started daemon 3672)>, 'block': False, 'timeout': -1}\n",
      "_wait_for_tstate_lock 1133 {'self': <Thread(IOPub, started daemon 3672)>, 'block': False, 'timeout': -1, 'lock': <locked _thread.lock object at 0x0000023ED273FA80>}\n",
      "_wait_for_tstate_lock 1138 {'self': <Thread(IOPub, started daemon 3672)>, 'block': False, 'timeout': -1, 'lock': <locked _thread.lock object at 0x0000023ED273FA80>}\n",
      "_wait_for_tstate_lock 1139 {'self': <Thread(IOPub, started daemon 3672)>, 'block': False, 'timeout': -1, 'lock': <locked _thread.lock object at 0x0000023ED273FA80>}\n",
      "is_alive 1204 {'self': <Thread(IOPub, started daemon 3672)>}\n",
      "schedule 249 {'self': <ipykernel.iostream.IOPubThread object at 0x0000023ED271F690>, 'f': <function OutStream._schedule_flush.<locals>._schedule_in_thread at 0x0000023EF20489A0>}\n",
      "schedule 251 {'self': <ipykernel.iostream.IOPubThread object at 0x0000023ED271F690>, 'f': <function OutStream._schedule_flush.<locals>._schedule_in_thread at 0x0000023EF20489A0>}\n",
      "_event_pipe 130 {'self': <ipykernel.iostream.IOPubThread object at 0x0000023ED271F690>}\n",
      "_event_pipe 131 {'self': <ipykernel.iostream.IOPubThread object at 0x0000023ED271F690>}\n",
      "_event_pipe 144 {'self': <ipykernel.iostream.IOPubThread object at 0x0000023ED271F690>, 'event_pipe': <zmq.Socket(zmq.PUSH) at 0x23ed2713d90>}\n",
      "send 678 {'self': <zmq.Socket(zmq.PUSH) at 0x23ed2713d90>, 'data': b'', 'flags': 0, 'copy': True, 'track': False, 'routing_id': None, 'group': None, '__class__': <class 'zmq.sugar.socket.Socket'>}\n",
      "send 687 {'self': <zmq.Socket(zmq.PUSH) at 0x23ed2713d90>, 'data': b'', 'flags': 0, 'copy': True, 'track': False, 'routing_id': None, 'group': None, '__class__': <class 'zmq.sugar.socket.Socket'>}\n",
      "send 696 {'self': <zmq.Socket(zmq.PUSH) at 0x23ed2713d90>, 'data': b'', 'flags': 0, 'copy': True, 'track': False, 'routing_id': None, 'group': None, '__class__': <class 'zmq.sugar.socket.Socket'>}\n",
      "write 650 {'self': <ipykernel.iostream.OutStream object at 0x0000023ED26ABA90>, 'string': 'The answer is', 'is_child': False}\n",
      "write 620 {'self': <ipykernel.iostream.OutStream object at 0x0000023ED26ABA90>, 'string': ' '}\n",
      "write 624 {'self': <ipykernel.iostream.OutStream object at 0x0000023ED26ABA90>, 'string': ' '}\n",
      "write 631 {'self': <ipykernel.iostream.OutStream object at 0x0000023ED26ABA90>, 'string': ' '}\n",
      "write 635 {'self': <ipykernel.iostream.OutStream object at 0x0000023ED26ABA90>, 'string': ' '}\n",
      "_is_master_process 506 {'self': <ipykernel.iostream.OutStream object at 0x0000023ED26ABA90>}\n",
      "write 637 {'self': <ipykernel.iostream.OutStream object at 0x0000023ED26ABA90>, 'string': ' ', 'is_child': False}\n",
      "write 638 {'self': <ipykernel.iostream.OutStream object at 0x0000023ED26ABA90>, 'string': ' ', 'is_child': False}\n",
      "write 637 {'self': <ipykernel.iostream.OutStream object at 0x0000023ED26ABA90>, 'string': ' ', 'is_child': False}\n",
      "write 639 {'self': <ipykernel.iostream.OutStream object at 0x0000023ED26ABA90>, 'string': ' ', 'is_child': False}\n",
      "write 648 {'self': <ipykernel.iostream.OutStream object at 0x0000023ED26ABA90>, 'string': ' ', 'is_child': False}\n",
      "_schedule_flush 537 {'self': <ipykernel.iostream.OutStream object at 0x0000023ED26ABA90>}\n",
      "_schedule_flush 539 {'self': <ipykernel.iostream.OutStream object at 0x0000023ED26ABA90>}\n",
      "_schedule_flush 542 {'self': <ipykernel.iostream.OutStream object at 0x0000023ED26ABA90>}\n",
      "_schedule_flush 545 {'self': <ipykernel.iostream.OutStream object at 0x0000023ED26ABA90>, '_schedule_in_thread': <function OutStream._schedule_flush.<locals>._schedule_in_thread at 0x0000023EF204A340>}\n",
      "schedule 248 {'self': <ipykernel.iostream.IOPubThread object at 0x0000023ED271F690>, 'f': <function OutStream._schedule_flush.<locals>._schedule_in_thread at 0x0000023EF204A340>}\n",
      "is_alive 1200 {'self': <Thread(IOPub, started daemon 3672)>}\n",
      "is_alive 1201 {'self': <Thread(IOPub, started daemon 3672)>}\n",
      "is_set 577 {'self': <threading.Event at 0x23ed273fc50: set>}\n",
      "is_alive 1203 {'self': <Thread(IOPub, started daemon 3672)>}\n",
      "_wait_for_tstate_lock 1132 {'self': <Thread(IOPub, started daemon 3672)>, 'block': False, 'timeout': -1}\n",
      "_wait_for_tstate_lock 1133 {'self': <Thread(IOPub, started daemon 3672)>, 'block': False, 'timeout': -1, 'lock': <locked _thread.lock object at 0x0000023ED273FA80>}\n",
      "_wait_for_tstate_lock 1138 {'self': <Thread(IOPub, started daemon 3672)>, 'block': False, 'timeout': -1, 'lock': <locked _thread.lock object at 0x0000023ED273FA80>}\n",
      "_wait_for_tstate_lock 1139 {'self': <Thread(IOPub, started daemon 3672)>, 'block': False, 'timeout': -1, 'lock': <locked _thread.lock object at 0x0000023ED273FA80>}\n",
      "is_alive 1204 {'self': <Thread(IOPub, started daemon 3672)>}\n",
      "schedule 249 {'self': <ipykernel.iostream.IOPubThread object at 0x0000023ED271F690>, 'f': <function OutStream._schedule_flush.<locals>._schedule_in_thread at 0x0000023EF204A340>}\n",
      "schedule 251 {'self': <ipykernel.iostream.IOPubThread object at 0x0000023ED271F690>, 'f': <function OutStream._schedule_flush.<locals>._schedule_in_thread at 0x0000023EF204A340>}\n",
      "_event_pipe 130 {'self': <ipykernel.iostream.IOPubThread object at 0x0000023ED271F690>}\n",
      "_event_pipe 131 {'self': <ipykernel.iostream.IOPubThread object at 0x0000023ED271F690>}\n",
      "_event_pipe 144 {'self': <ipykernel.iostream.IOPubThread object at 0x0000023ED271F690>, 'event_pipe': <zmq.Socket(zmq.PUSH) at 0x23ed2713d90>}\n",
      "send 678 {'self': <zmq.Socket(zmq.PUSH) at 0x23ed2713d90>, 'data': b'', 'flags': 0, 'copy': True, 'track': False, 'routing_id': None, 'group': None, '__class__': <class 'zmq.sugar.socket.Socket'>}\n",
      "send 687 {'self': <zmq.Socket(zmq.PUSH) at 0x23ed2713d90>, 'data': b'', 'flags': 0, 'copy': True, 'track': False, 'routing_id': None, 'group': None, '__class__': <class 'zmq.sugar.socket.Socket'>}\n",
      "send 696 {'self': <zmq.Socket(zmq.PUSH) at 0x23ed2713d90>, 'data': b'', 'flags': 0, 'copy': True, 'track': False, 'routing_id': None, 'group': None, '__class__': <class 'zmq.sugar.socket.Socket'>}\n",
      "write 650 {'self': <ipykernel.iostream.OutStream object at 0x0000023ED26ABA90>, 'string': ' ', 'is_child': False}\n",
      "write 620 {'self': <ipykernel.iostream.OutStream object at 0x0000023ED26ABA90>, 'string': '72'}\n",
      "write 624 {'self': <ipykernel.iostream.OutStream object at 0x0000023ED26ABA90>, 'string': '72'}\n",
      "write 631 {'self': <ipykernel.iostream.OutStream object at 0x0000023ED26ABA90>, 'string': '72'}\n",
      "write 635 {'self': <ipykernel.iostream.OutStream object at 0x0000023ED26ABA90>, 'string': '72'}\n",
      "_is_master_process 506 {'self': <ipykernel.iostream.OutStream object at 0x0000023ED26ABA90>}\n",
      "write 637 {'self': <ipykernel.iostream.OutStream object at 0x0000023ED26ABA90>, 'string': '72', 'is_child': False}\n",
      "write 638 {'self': <ipykernel.iostream.OutStream object at 0x0000023ED26ABA90>, 'string': '72', 'is_child': False}\n",
      "write 637 {'self': <ipykernel.iostream.OutStream object at 0x0000023ED26ABA90>, 'string': '72', 'is_child': False}\n",
      "write 639 {'self': <ipykernel.iostream.OutStream object at 0x0000023ED26ABA90>, 'string': '72', 'is_child': False}\n",
      "write 648 {'self': <ipykernel.iostream.OutStream object at 0x0000023ED26ABA90>, 'string': '72', 'is_child': False}\n",
      "_schedule_flush 537 {'self': <ipykernel.iostream.OutStream object at 0x0000023ED26ABA90>}\n",
      "_schedule_flush 538 {'self': <ipykernel.iostream.OutStream object at 0x0000023ED26ABA90>}\n",
      "write 650 {'self': <ipykernel.iostream.OutStream object at 0x0000023ED26ABA90>, 'string': '72', 'is_child': False}\n",
      "write 620 {'self': <ipykernel.iostream.OutStream object at 0x0000023ED26ABA90>, 'string': '\\n'}\n",
      "write 624 {'self': <ipykernel.iostream.OutStream object at 0x0000023ED26ABA90>, 'string': '\\n'}\n",
      "write 631 {'self': <ipykernel.iostream.OutStream object at 0x0000023ED26ABA90>, 'string': '\\n'}\n",
      "write 635 {'self': <ipykernel.iostream.OutStream object at 0x0000023ED26ABA90>, 'string': '\\n'}\n",
      "_is_master_process 506 {'self': <ipykernel.iostream.OutStream object at 0x0000023ED26ABA90>}\n",
      "write 637 {'self': <ipykernel.iostream.OutStream object at 0x0000023ED26ABA90>, 'string': '\\n', 'is_child': False}\n",
      "write 638 {'self': <ipykernel.iostream.OutStream object at 0x0000023ED26ABA90>, 'string': '\\n', 'is_child': False}\n",
      "write 637 {'self': <ipykernel.iostream.OutStream object at 0x0000023ED26ABA90>, 'string': '\\n', 'is_child': False}\n",
      "write 639 {'self': <ipykernel.iostream.OutStream object at 0x0000023ED26ABA90>, 'string': '\\n', 'is_child': False}\n",
      "write 648 {'self': <ipykernel.iostream.OutStream object at 0x0000023ED26ABA90>, 'string': '\\n', 'is_child': False}\n",
      "_schedule_flush 537 {'self': <ipykernel.iostream.OutStream object at 0x0000023ED26ABA90>}\n",
      "_schedule_flush 538 {'self': <ipykernel.iostream.OutStream object at 0x0000023ED26ABA90>}\n",
      "write 650 {'self': <ipykernel.iostream.OutStream object at 0x0000023ED26ABA90>, 'string': '\\n', 'is_child': False}\n"
     ]
    }
   ],
   "source": [
    "for i in coverage:\n",
    "    print(f\"{i[0]} {i[1]} {i[2]}\")"
   ]
  },
  {
   "cell_type": "code",
   "execution_count": 131,
   "metadata": {},
   "outputs": [
    {
     "name": "stdout",
     "output_type": "stream",
     "text": [
      "FunctionDef(\n",
      "    name='g',\n",
      "    args=arguments(\n",
      "        posonlyargs=[],\n",
      "        args=[],\n",
      "        kwonlyargs=[],\n",
      "        kw_defaults=[],\n",
      "        defaults=[]),\n",
      "    body=[\n",
      "        FunctionDef(\n",
      "            name='simple_function',\n",
      "            args=arguments(\n",
      "                posonlyargs=[],\n",
      "                args=[\n",
      "                    arg(arg='x')],\n",
      "                kwonlyargs=[],\n",
      "                kw_defaults=[],\n",
      "                defaults=[]),\n",
      "            body=[\n",
      "                Assign(\n",
      "                    targets=[\n",
      "                        Name(id='z', ctx=Store())],\n",
      "                    value=Call(\n",
      "                        func=Name(id='int', ctx=Load()),\n",
      "                        args=[\n",
      "                            Constant(value=2)],\n",
      "                        keywords=[])),\n",
      "                Assign(\n",
      "                    targets=[\n",
      "                        Name(id='y', ctx=Store())],\n",
      "                    value=BinOp(\n",
      "                        left=Call(\n",
      "                            func=Name(id='int', ctx=Load()),\n",
      "                            args=[\n",
      "                                Constant(value=3)],\n",
      "                            keywords=[]),\n",
      "                        op=Mult(),\n",
      "                        right=Name(id='x', ctx=Load()))),\n",
      "                Return(\n",
      "                    value=Name(id='y', ctx=Load()))],\n",
      "            decorator_list=[]),\n",
      "        Assign(\n",
      "            targets=[\n",
      "                Name(id='a', ctx=Store())],\n",
      "            value=Call(\n",
      "                func=Name(id='simple_function', ctx=Load()),\n",
      "                args=[\n",
      "                    Constant(value=2)],\n",
      "                keywords=[])),\n",
      "        Assign(\n",
      "            targets=[\n",
      "                Name(id='b', ctx=Store())],\n",
      "            value=Constant(value=0)),\n",
      "        For(\n",
      "            target=Name(id='_', ctx=Store()),\n",
      "            iter=Call(\n",
      "                func=Name(id='range', ctx=Load()),\n",
      "                args=[\n",
      "                    Call(\n",
      "                        func=Name(id='int', ctx=Load()),\n",
      "                        args=[\n",
      "                            Constant(value=6)],\n",
      "                        keywords=[])],\n",
      "                keywords=[]),\n",
      "            body=[\n",
      "                AugAssign(\n",
      "                    target=Name(id='b', ctx=Store()),\n",
      "                    op=Add(),\n",
      "                    value=BinOp(\n",
      "                        left=Call(\n",
      "                            func=Name(id='int', ctx=Load()),\n",
      "                            args=[\n",
      "                                Constant(value=2)],\n",
      "                            keywords=[]),\n",
      "                        op=Mult(),\n",
      "                        right=Name(id='a', ctx=Load())))],\n",
      "            orelse=[]),\n",
      "        Expr(\n",
      "            value=Call(\n",
      "                func=Name(id='print', ctx=Load()),\n",
      "                args=[\n",
      "                    Constant(value='The answer is'),\n",
      "                    Name(id='b', ctx=Load())],\n",
      "                keywords=[]))],\n",
      "    decorator_list=[])\n"
     ]
    }
   ],
   "source": [
    "g_tree = ast.parse(inspect.getsource(g)).body[0]\n",
    "print_ast(g_tree)"
   ]
  },
  {
   "cell_type": "code",
   "execution_count": 132,
   "metadata": {},
   "outputs": [
    {
     "name": "stdout",
     "output_type": "stream",
     "text": [
      "Module(\n",
      "    body=[\n",
      "        FunctionDef(\n",
      "            name='f',\n",
      "            args=arguments(\n",
      "                posonlyargs=[],\n",
      "                args=[\n",
      "                    arg(arg='x'),\n",
      "                    arg(arg='y')],\n",
      "                kwonlyargs=[\n",
      "                    arg(arg='z')],\n",
      "                kw_defaults=[\n",
      "                    Constant(value=3)],\n",
      "                defaults=[]),\n",
      "            body=[\n",
      "                Expr(\n",
      "                    value=Call(\n",
      "                        func=Name(id='print', ctx=Load()),\n",
      "                        args=[\n",
      "                            Name(id='x', ctx=Load())],\n",
      "                        keywords=[]))],\n",
      "            decorator_list=[])],\n",
      "    type_ignores=[])\n"
     ]
    }
   ],
   "source": [
    "print_ast(ast.parse('def f(x, y, *, z=3): print(x)'))"
   ]
  },
  {
   "cell_type": "code",
   "execution_count": 133,
   "metadata": {},
   "outputs": [
    {
     "name": "stdout",
     "output_type": "stream",
     "text": [
      "2\n",
      "7\n",
      "8\n",
      "9\n",
      "12\n"
     ]
    }
   ],
   "source": [
    "for node in g_tree.body:\n",
    "    print(node.lineno)"
   ]
  },
  {
   "cell_type": "code",
   "execution_count": 134,
   "metadata": {},
   "outputs": [],
   "source": [
    "def get_trace(src):\n",
    "    for node in src.body:\n",
    "        data = src.name, node.lineno\n",
    "        print(data)\n",
    "        if isinstance(node, ast.FunctionDef):\n",
    "            get_trace(node)"
   ]
  },
  {
   "cell_type": "code",
   "execution_count": 135,
   "metadata": {},
   "outputs": [
    {
     "name": "stdout",
     "output_type": "stream",
     "text": [
      "('g', 2)\n",
      "('simple_function', 3)\n",
      "('simple_function', 4)\n",
      "('simple_function', 5)\n",
      "('g', 7)\n",
      "('g', 8)\n",
      "('g', 9)\n",
      "('g', 12)\n"
     ]
    }
   ],
   "source": [
    "get_trace(g_tree)"
   ]
  },
  {
   "cell_type": "markdown",
   "metadata": {},
   "source": [
    "Now that we can get the line data for each node in the AST, we can get the data of the local variables at a particular AST node and use it for substitutions."
   ]
  },
  {
   "cell_type": "code",
   "execution_count": 136,
   "metadata": {},
   "outputs": [],
   "source": [
    "class VariableInjector(ast.NodeTransformer):        \n",
    "    def traceit(self, frame, event, arg):\n",
    "        if event == 'line':\n",
    "            function_name = frame.f_code.co_name\n",
    "            lineno = frame.f_lineno\n",
    "            vars = dict(frame.f_locals)\n",
    "            self.coverage.append([function_name, lineno, vars])\n",
    "        return self.traceit\n",
    "\n",
    "    def tracer(self, f):\n",
    "        self.coverage = []\n",
    "        sys.settrace(self.traceit)  # Turn on\n",
    "        f()\n",
    "        sys.settrace(None)    # Turn off\n",
    "\n",
    "    def profile_function(self, f):\n",
    "        fn_tree = ast.parse(inspect.getsource(f)).body[0]\n",
    "        self.tracer(f)\n",
    "\n",
    "        self.seen = set()\n",
    "        self.unstable = set()\n",
    "        self.local_vars = set()\n",
    "        self.browsing = True\n",
    "        self.visit(fn_tree)\n",
    "        \n",
    "        self.browsing = False\n",
    "        self.visit(fn_tree)\n",
    "        return fn_tree\n",
    "    \n",
    "                 "
   ]
  },
  {
   "cell_type": "markdown",
   "metadata": {},
   "source": [
    "Currenly our class simply combines our existing methods, and then visits the AST. Now what we have to do is, while visiting the AST, we need to find the in-scope variables and their values at every line of execution. Then, we need to look for constants and check if they can be replaced by some variable or some simple arithmetic expression involving a variable."
   ]
  },
  {
   "cell_type": "code",
   "execution_count": 137,
   "metadata": {},
   "outputs": [],
   "source": [
    "import numpy as np"
   ]
  },
  {
   "cell_type": "code",
   "execution_count": 138,
   "metadata": {},
   "outputs": [],
   "source": [
    "class VariableInjector(VariableInjector):\n",
    "    def visit_Assign(self, src):\n",
    "        if self.browsing:\n",
    "            for v in src.targets:\n",
    "                if isinstance(v, ast.Tuple):\n",
    "                    for var in v.elts:\n",
    "                        if var.id in self.seen: self.unstable.add(var.id)\n",
    "                        else: self.seen.add(var.id)\n",
    "                else:\n",
    "                    if v.id in self.seen: self.unstable.add(v.id)\n",
    "                    else: self.seen.add(v.id)\n",
    "\n",
    "        return self.generic_visit(src)\n",
    "    \n",
    "    def visit_AugAssign(self, src):\n",
    "        if self.browsing:\n",
    "            v = src.target\n",
    "            if isinstance(v, ast.Tuple):\n",
    "                for var in v.elts:\n",
    "                    if var.id in self.seen: self.unstable.add(var.id)\n",
    "                    else: self.seen.add(var.id)\n",
    "            else:\n",
    "                if v.id in self.seen: self.unstable.add(v.id)\n",
    "                else: self.seen.add(v.id)\n",
    "\n",
    "        return self.generic_visit(src)\n",
    "    \n",
    "    def visit_FunctionDef(self, src):\n",
    "        self.args = [x.arg for x in src.args.args + src.args.kwonlyargs]\n",
    "        for node in src.body:\n",
    "            if not self.browsing: self.get_locals(src.name, node.lineno)\n",
    "            self.visit(node)\n",
    "                \n",
    "    def visit_Constant(self, src):\n",
    "        if len(self.local_vars) == 0 or self.browsing: return src\n",
    "        for var in np.random.permutation(list(self.local_vars.keys())):\n",
    "            if src.value == self.local_vars[var]:\n",
    "                return ast.Name(id=var, ctx=ast.Load())\n",
    "            elif (isinstance(src.value, int) or isinstance(src.value, float)) and isinstance(self.local_vars[var], int):\n",
    "                try:\n",
    "                    op = random.randint(0, 3)\n",
    "                    other = self.local_vars[var]\n",
    "                    assert eval(\"(\" + str(src.value) + op_map[3-op][0] + str(other) + \")\" + op_map[op][0] + str(other)) == src.value\n",
    "                    return ast.BinOp(left = ast.Constant(value=eval(\"(\" + str(src.value) + op_map[3-op][0] + str(other) + \")\")), op = op_map[op][1], right = ast.Name(id=var, ctx=ast.Load())) \n",
    "                except ZeroDivisionError: continue\n",
    "                except AssertionError: continue\n",
    "            \n",
    "        return src"
   ]
  },
  {
   "cell_type": "markdown",
   "metadata": {},
   "source": [
    "We have written the functions that traverse the tree and make appropriate calls to functions to get our local variables. Since we are running this entire thing on a function, the outermost scope will always be handled, and then similiarly inner scopes will get handled. One thing we should note is, when using get_locals, we should avoid substituting constants with arguments to the function, because it won't be consistent across function calls."
   ]
  },
  {
   "cell_type": "code",
   "execution_count": 139,
   "metadata": {},
   "outputs": [],
   "source": [
    "class VariableInjector(VariableInjector):\n",
    "    def get_locals(self, fn, ln):\n",
    "        self.local_vars = {}\n",
    "        for i in self.coverage:\n",
    "            if i[0] == fn and i[1] == ln:\n",
    "                self.local_vars = {k: v for k, v in i[2].items() if k not in self.args and k not in self.unstable}\n",
    "                return"
   ]
  },
  {
   "cell_type": "code",
   "execution_count": 140,
   "metadata": {},
   "outputs": [
    {
     "name": "stdout",
     "output_type": "stream",
     "text": [
      "def g():\n",
      "\n",
      "    def simple_function(x):\n",
      "        z = int(2)\n",
      "        y = int(3) * x\n",
      "        return y\n",
      "    a = simple_function(2)\n",
      "    b = 0\n",
      "    for _ in range(int(6)):\n",
      "        b += int(2) * a\n",
      "    print('The answer is', b)\n"
     ]
    }
   ],
   "source": [
    "print_code(ast.parse(inspect.getsource(g)))"
   ]
  },
  {
   "cell_type": "code",
   "execution_count": 141,
   "metadata": {},
   "outputs": [
    {
     "name": "stdout",
     "output_type": "stream",
     "text": [
      "The answer is 72\n",
      "def g():\n",
      "\n",
      "    def simple_function(x):\n",
      "        z = int(2)\n",
      "        y = int(5 - z) * x\n",
      "        return y\n",
      "    a = simple_function(2)\n",
      "    b = 6 - a\n",
      "    for _ in range(int(a)):\n",
      "        b += int(12 / a) * a\n",
      "    print('The answer is', b)\n"
     ]
    }
   ],
   "source": [
    "print_code(VariableInjector().profile_function(g))"
   ]
  },
  {
   "cell_type": "code",
   "execution_count": 142,
   "metadata": {},
   "outputs": [
    {
     "name": "stdout",
     "output_type": "stream",
     "text": [
      "The answer is 72\n"
     ]
    }
   ],
   "source": [
    "g()"
   ]
  },
  {
   "cell_type": "code",
   "execution_count": 143,
   "metadata": {},
   "outputs": [],
   "source": [
    "def h():\n",
    "    a = 0\n",
    "    L = [1,2,3]\n",
    "    for i in range(len(L)):\n",
    "        a += L[i]\n",
    "    print(a)"
   ]
  },
  {
   "cell_type": "code",
   "execution_count": 144,
   "metadata": {},
   "outputs": [
    {
     "name": "stdout",
     "output_type": "stream",
     "text": [
      "6\n",
      "def h():\n",
      "    a = 0\n",
      "    L = [1, 2, 3]\n",
      "    for i in range(len(L)):\n",
      "        a += L[i]\n",
      "    print(a)\n"
     ]
    }
   ],
   "source": [
    "print_code(VariableInjector().profile_function(h))"
   ]
  },
  {
   "cell_type": "code",
   "execution_count": 145,
   "metadata": {},
   "outputs": [],
   "source": [
    "def h():\n",
    "    a = 0\n",
    "    L = [1 + a, 2 - a, 3 - a]\n",
    "    for i in range(len(L)):\n",
    "        a += L[i]\n",
    "    print(a)"
   ]
  },
  {
   "cell_type": "code",
   "execution_count": 146,
   "metadata": {},
   "outputs": [
    {
     "name": "stdout",
     "output_type": "stream",
     "text": [
      "def h():\n",
      "    a = -4146 - (-12939 + (3781 + 5012))\n",
      "    L = [1 + a, 2 - a, 3 - a]\n",
      "    for i in range(len(L)):\n",
      "        a += L[i]\n",
      "    print(a)\n"
     ]
    }
   ],
   "source": [
    "print_code(PythonMutator().expand_constants(ast.parse(inspect.getsource(h))))"
   ]
  },
  {
   "cell_type": "code",
   "execution_count": 147,
   "metadata": {},
   "outputs": [],
   "source": [
    "def h():\n",
    "    a = 0.0 * 6556\n",
    "    L = [-0.0003450655624568668 * -2898 + a, 19434 / 9717 - a, 3 - a]\n",
    "    for i in range(len(L)):\n",
    "        a += L[i]\n",
    "    print(a)"
   ]
  },
  {
   "cell_type": "code",
   "execution_count": 148,
   "metadata": {},
   "outputs": [
    {
     "name": "stdout",
     "output_type": "stream",
     "text": [
      "6.0\n",
      "def h():\n",
      "    a = 0.0 * 6556\n",
      "    L = [-0.0003450655624568668 * -2898 + a, 19434 / 9717 - a, 3 - a]\n",
      "    for i in range(len(L)):\n",
      "        a += L[i]\n",
      "    print(a)\n"
     ]
    }
   ],
   "source": [
    "print_code(VariableInjector().profile_function(h))"
   ]
  },
  {
   "cell_type": "code",
   "execution_count": 149,
   "metadata": {},
   "outputs": [],
   "source": [
    "def h():\n",
    "    a = 0.0 * 6556\n",
    "    L = [-0.0003450655624568668 * -2898 + a, 19434 / 9717 - a, 3 - a]\n",
    "    for i in range(len(L)):\n",
    "        a += L[i]\n",
    "    print(a)"
   ]
  }
 ],
 "metadata": {
  "kernelspec": {
   "display_name": "Python 3",
   "language": "python",
   "name": "python3"
  },
  "language_info": {
   "codemirror_mode": {
    "name": "ipython",
    "version": 3
   },
   "file_extension": ".py",
   "mimetype": "text/x-python",
   "name": "python",
   "nbconvert_exporter": "python",
   "pygments_lexer": "ipython3",
   "version": "3.11.9"
  }
 },
 "nbformat": 4,
 "nbformat_minor": 2
}
