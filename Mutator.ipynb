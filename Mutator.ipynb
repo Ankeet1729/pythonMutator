{
 "cells": [
  {
   "cell_type": "code",
   "execution_count": 2009,
   "metadata": {},
   "outputs": [],
   "source": [
    "import ast\n",
    "def print_ast(src):\n",
    "    print(ast.dump(src, indent=4))\n",
    "def print_code(src):\n",
    "    print(ast.unparse(ast.fix_missing_locations(src)))"
   ]
  },
  {
   "cell_type": "code",
   "execution_count": 2010,
   "metadata": {},
   "outputs": [],
   "source": [
    "def simple_function(x):\n",
    "    y = 3 * x\n",
    "    print(y)"
   ]
  },
  {
   "cell_type": "code",
   "execution_count": 2011,
   "metadata": {},
   "outputs": [],
   "source": [
    "import inspect"
   ]
  },
  {
   "cell_type": "code",
   "execution_count": 2012,
   "metadata": {},
   "outputs": [],
   "source": [
    "tree = ast.parse(inspect.getsource(simple_function))"
   ]
  },
  {
   "cell_type": "code",
   "execution_count": 2013,
   "metadata": {},
   "outputs": [
    {
     "name": "stdout",
     "output_type": "stream",
     "text": [
      "Module(\n",
      "    body=[\n",
      "        FunctionDef(\n",
      "            name='simple_function',\n",
      "            args=arguments(\n",
      "                posonlyargs=[],\n",
      "                args=[\n",
      "                    arg(arg='x')],\n",
      "                kwonlyargs=[],\n",
      "                kw_defaults=[],\n",
      "                defaults=[]),\n",
      "            body=[\n",
      "                Assign(\n",
      "                    targets=[\n",
      "                        Name(id='y', ctx=Store())],\n",
      "                    value=BinOp(\n",
      "                        left=Constant(value=3),\n",
      "                        op=Mult(),\n",
      "                        right=Name(id='x', ctx=Load()))),\n",
      "                Expr(\n",
      "                    value=Call(\n",
      "                        func=Name(id='print', ctx=Load()),\n",
      "                        args=[\n",
      "                            Name(id='y', ctx=Load())],\n",
      "                        keywords=[]))],\n",
      "            decorator_list=[])],\n",
      "    type_ignores=[])\n"
     ]
    }
   ],
   "source": [
    "print_ast(tree)"
   ]
  },
  {
   "cell_type": "code",
   "execution_count": 2014,
   "metadata": {},
   "outputs": [
    {
     "name": "stdout",
     "output_type": "stream",
     "text": [
      "FunctionDef(\n",
      "    name='simple_function',\n",
      "    args=arguments(\n",
      "        posonlyargs=[],\n",
      "        args=[\n",
      "            arg(arg='x')],\n",
      "        kwonlyargs=[],\n",
      "        kw_defaults=[],\n",
      "        defaults=[]),\n",
      "    body=[\n",
      "        Assign(\n",
      "            targets=[\n",
      "                Name(id='y', ctx=Store())],\n",
      "            value=BinOp(\n",
      "                left=Constant(value=3),\n",
      "                op=Mult(),\n",
      "                right=Name(id='x', ctx=Load()))),\n",
      "        Expr(\n",
      "            value=Call(\n",
      "                func=Name(id='print', ctx=Load()),\n",
      "                args=[\n",
      "                    Name(id='y', ctx=Load())],\n",
      "                keywords=[]))],\n",
      "    decorator_list=[])\n"
     ]
    }
   ],
   "source": [
    "print_ast(tree.body[0])"
   ]
  },
  {
   "cell_type": "code",
   "execution_count": 2015,
   "metadata": {},
   "outputs": [],
   "source": [
    "import random"
   ]
  },
  {
   "cell_type": "markdown",
   "metadata": {},
   "source": [
    "We create a PythonMutator class that links to other Mutator classes, the PythonMutator class tying all of them together with helper functions to call those class' methods. We can later use it to add probabilities etc. to each mutation."
   ]
  },
  {
   "cell_type": "code",
   "execution_count": 2016,
   "metadata": {},
   "outputs": [],
   "source": [
    "class PythonMutator(ast.NodeTransformer):\n",
    "    def __init__(self):\n",
    "        self.reverse = None\n",
    "        self.mutations = []        \n",
    "    \n",
    "    # def visit_Module(self, src):\n",
    "    #     return self.generic_visit(src)\n",
    "    \n",
    "    # def visit_FunctionDef(self, src):\n",
    "    #     return self.generic_visit(src)\n",
    "    \n",
    "    # def visit_BinOp(self, src):\n",
    "    #     return self.generic_visit(src)\n",
    "    \n",
    "    # def visit_Assign(self, src):\n",
    "    #     return self.generic_visit(src)\n",
    "    \n",
    "    # def visit_Call(self, src):\n",
    "    #     return self.generic_visit(src)\n",
    "    \n",
    "    # def visit_Name(self, src):\n",
    "    #     return self.generic_visit(src)\n",
    "    \n",
    "    # def visit_Constant(self, src):\n",
    "    #     return self.generic_visit(src)\n",
    "\n",
    "    def expand_constants(self, src, trials=3):\n",
    "        node = ExprMutator().modify_value(src, trials)\n",
    "        self.mutations.extend(node[1])\n",
    "        return node[0]\n",
    "    \n",
    "    def swap_numbers(self, src):\n",
    "        node = ExprMutator().commute_value(src)\n",
    "        self.mutations.extend(node[1])\n",
    "        return node[0]"
   ]
  },
  {
   "cell_type": "markdown",
   "metadata": {},
   "source": [
    "Now we need to define modify_value that can replace a given constant with an equivalent arithmetic expression, and swap_numbers that will swap the children of a + or * node."
   ]
  },
  {
   "cell_type": "code",
   "execution_count": 2017,
   "metadata": {},
   "outputs": [],
   "source": [
    "op_map_int = [(\"+\", ast.Add()), (\"*\", ast.Mult()), (\"//\", ast.FloorDiv()), (\"-\", ast.Sub())]\n",
    "op_map_float = [(\"+\", ast.Add()), (\"*\", ast.Mult()), (\"/\", ast.Div()), (\"-\", ast.Sub())]"
   ]
  },
  {
   "cell_type": "code",
   "execution_count": 2018,
   "metadata": {},
   "outputs": [],
   "source": [
    "class ExprMutator(ast.NodeTransformer):\n",
    "    EXPAND = 1\n",
    "    COMMUTE = 2\n",
    "\n",
    "    def __init__(self):\n",
    "        self.transform = False\n",
    "        self.trials = 0\n",
    "        self.mode = self.EXPAND\n",
    "        self.mutations = []\n",
    "\n",
    "    def modify_value(self, src, trials):\n",
    "        self.mode = self.EXPAND\n",
    "        self.trials = trials\n",
    "        node = self._modify_value(src)\n",
    "        return (node, self.mutations)\n",
    "    \n",
    "    def _modify_value(self, src):\n",
    "        if self.trials == 0: return src\n",
    "        self.transform = True\n",
    "        self.visit(random.choice(src.body))\n",
    "        return self._modify_value(src)"
   ]
  },
  {
   "cell_type": "markdown",
   "metadata": {},
   "source": [
    "We need the mode so we can swap between traversing a path and swapping children. Depth allows us to control how many numbers we want to go and replace with expressions."
   ]
  },
  {
   "cell_type": "code",
   "execution_count": 2019,
   "metadata": {},
   "outputs": [],
   "source": [
    "class ExprMutator(ExprMutator):    \n",
    "    def commute_value(self, n):\n",
    "        self.mode = self.COMMUTE\n",
    "        return (self.visit(n), self.mutations)"
   ]
  },
  {
   "cell_type": "markdown",
   "metadata": {},
   "source": [
    "Now come the real functions. The visits to Constant or BinOp nodes are what will truly handle the functionality."
   ]
  },
  {
   "cell_type": "code",
   "execution_count": 2020,
   "metadata": {},
   "outputs": [],
   "source": [
    "from copy import deepcopy"
   ]
  },
  {
   "cell_type": "code",
   "execution_count": 2021,
   "metadata": {},
   "outputs": [],
   "source": [
    "class ExprMutator(ExprMutator):\n",
    "    def visit_Constant(self, src):\n",
    "        if self.transform and self.mode and (isinstance(src.value, int) or isinstance(src.value, float)) == self.EXPAND:\n",
    "            op_map = {}\n",
    "            while True:\n",
    "                try:\n",
    "                    op = random.randint(0, 3)\n",
    "\n",
    "                    if isinstance(src.value, int): \n",
    "                        op_map = op_map_int\n",
    "                        other = random.randint(-10000, 10000)\n",
    "                    else: \n",
    "                        op_map = op_map_float\n",
    "                        other = 500 * random.randint(1, 10) * (random.random() + random.random())\n",
    "                    \n",
    "                    assert eval(\"(\" + str(src.value) + op_map[3-op][0] + str(other) + \")\" + op_map[op][0] + str(other)) == src.value\n",
    "                    break\n",
    "                except ZeroDivisionError: continue\n",
    "                except AssertionError: continue\n",
    "            self.trials -= 1\n",
    "            self.transform = False\n",
    "            node = ast.fix_missing_locations(ast.BinOp(left = ast.Constant(value=eval(\"(\" + str(src.value) + op_map[3-op][0] + str(other) + \")\")), op = op_map[op][1], right = ast.Constant(value=other)))\n",
    "            #self.mutations update\n",
    "            self.mutations.append(deepcopy((src, node)))\n",
    "            return node\n",
    "\n",
    "        return src\n",
    "\n",
    "    def visit_BinOp(self, src):\n",
    "        if self.mode == self.EXPAND:\n",
    "            if random.randint(1, 2) == 1:\n",
    "                src.left = self.visit(src.left)\n",
    "            else:\n",
    "                src.right = self.visit(src.right)\n",
    "            return src\n",
    "        \n",
    "        if self.mode == self.COMMUTE:\n",
    "            if isinstance(src.op, ast.Add) or isinstance(src.op, ast.Mult):\n",
    "                #self.mutations update\n",
    "                mut = deepcopy(src)\n",
    "                self.mutations.append((mut, ast.BinOp(left = mut.right, op = mut.op, right = mut.left)))\n",
    "                src.left, src.right = src.right, src.left\n",
    "                \n",
    "            return self.generic_visit(src)"
   ]
  },
  {
   "cell_type": "code",
   "execution_count": 2022,
   "metadata": {},
   "outputs": [
    {
     "name": "stdout",
     "output_type": "stream",
     "text": [
      "Module(\n",
      "    body=[\n",
      "        Expr(\n",
      "            value=BinOp(\n",
      "                left=Constant(value=-191),\n",
      "                op=Add(),\n",
      "                right=BinOp(\n",
      "                    left=Constant(value=7902),\n",
      "                    op=Sub(),\n",
      "                    right=Constant(value=7710))))])\n"
     ]
    }
   ],
   "source": [
    "print_ast(ExprMutator().modify_value(ast.Module(body=[ast.Expr(value=ast.Constant(value=1))]), trials=2)[0])"
   ]
  },
  {
   "cell_type": "code",
   "execution_count": 2023,
   "metadata": {},
   "outputs": [
    {
     "name": "stdout",
     "output_type": "stream",
     "text": [
      "x + (-475665731856 // 9877 // 8856 - -5439)\n"
     ]
    }
   ],
   "source": [
    "print_code(PythonMutator().expand_constants(ast.parse(\"x+1\")))"
   ]
  },
  {
   "cell_type": "code",
   "execution_count": 2024,
   "metadata": {},
   "outputs": [
    {
     "name": "stdout",
     "output_type": "stream",
     "text": [
      "(8885 + 1257 * -5.193317422434368) * 0.00042426813746287653 + x\n"
     ]
    }
   ],
   "source": [
    "print_code(PythonMutator().swap_numbers(ast.parse(\"x + 0.00042426813746287653 * (-5.193317422434368 * 1257 + 8885)\")))"
   ]
  },
  {
   "cell_type": "code",
   "execution_count": 2025,
   "metadata": {},
   "outputs": [
    {
     "name": "stdout",
     "output_type": "stream",
     "text": [
      "def simple_function(x):\n",
      "    y = (39320 - -4759 + -8834 - 155527426340 // 2066 // (-27327973750 // 470 // -6125)) // (14190 - 48570816 // 8144 - 3881 - -9840 + (5069148 // -1813 + -2284)) * x\n",
      "    print(y)\n"
     ]
    }
   ],
   "source": [
    "tree_two = deepcopy(tree)\n",
    "for i in range(5):\n",
    "    if random.randint(1, 5) == 1: PythonMutator().swap_numbers(tree_two)\n",
    "    else: PythonMutator().expand_constants(tree_two)\n",
    "new_code = ast.unparse(tree_two)\n",
    "print(new_code)"
   ]
  },
  {
   "cell_type": "code",
   "execution_count": 2026,
   "metadata": {},
   "outputs": [
    {
     "name": "stdout",
     "output_type": "stream",
     "text": [
      "1368\n"
     ]
    }
   ],
   "source": [
    "simple_function(456)"
   ]
  },
  {
   "cell_type": "code",
   "execution_count": 2027,
   "metadata": {},
   "outputs": [],
   "source": [
    "exec(new_code)"
   ]
  },
  {
   "cell_type": "code",
   "execution_count": 2028,
   "metadata": {},
   "outputs": [
    {
     "name": "stdout",
     "output_type": "stream",
     "text": [
      "1368\n"
     ]
    }
   ],
   "source": [
    "simple_function(456)"
   ]
  },
  {
   "cell_type": "markdown",
   "metadata": {},
   "source": [
    "Clearly the output remains the same inspite of our changes. Next, we look into transforming range-based for loops into while loops."
   ]
  },
  {
   "cell_type": "code",
   "execution_count": 2029,
   "metadata": {},
   "outputs": [
    {
     "name": "stdout",
     "output_type": "stream",
     "text": [
      "Module(\n",
      "    body=[\n",
      "        For(\n",
      "            target=Name(id='i', ctx=Store()),\n",
      "            iter=Call(\n",
      "                func=Name(id='range', ctx=Load()),\n",
      "                args=[\n",
      "                    Constant(value=10),\n",
      "                    Constant(value=1),\n",
      "                    UnaryOp(\n",
      "                        op=USub(),\n",
      "                        operand=Constant(value=2))],\n",
      "                keywords=[]),\n",
      "            body=[\n",
      "                Expr(\n",
      "                    value=Call(\n",
      "                        func=Name(id='print', ctx=Load()),\n",
      "                        args=[\n",
      "                            Name(id='i', ctx=Load())],\n",
      "                        keywords=[]))],\n",
      "            orelse=[])],\n",
      "    type_ignores=[])\n"
     ]
    }
   ],
   "source": [
    "for_tree = ast.parse('''for i in range(10, 1, -2):\n",
    "                        print(i)''')\n",
    "print_ast(for_tree)"
   ]
  },
  {
   "cell_type": "code",
   "execution_count": 2030,
   "metadata": {},
   "outputs": [
    {
     "name": "stdout",
     "output_type": "stream",
     "text": [
      "Module(\n",
      "    body=[\n",
      "        Assign(\n",
      "            targets=[\n",
      "                Name(id='i', ctx=Store())],\n",
      "            value=Constant(value=10)),\n",
      "        While(\n",
      "            test=Compare(\n",
      "                left=Name(id='i', ctx=Load()),\n",
      "                ops=[\n",
      "                    Gt()],\n",
      "                comparators=[\n",
      "                    Constant(value=1)]),\n",
      "            body=[\n",
      "                Expr(\n",
      "                    value=Call(\n",
      "                        func=Name(id='print', ctx=Load()),\n",
      "                        args=[\n",
      "                            Name(id='i', ctx=Load())],\n",
      "                        keywords=[])),\n",
      "                AugAssign(\n",
      "                    target=Name(id='i', ctx=Store()),\n",
      "                    op=Add(),\n",
      "                    value=UnaryOp(\n",
      "                        op=USub(),\n",
      "                        operand=Constant(value=2)))],\n",
      "            orelse=[])],\n",
      "    type_ignores=[])\n"
     ]
    }
   ],
   "source": [
    "while_tree = ast.parse('''\n",
    "i = 10\n",
    "while i > 1:\n",
    "    print(i)\n",
    "    i += -2''')\n",
    "print_ast(while_tree)"
   ]
  },
  {
   "cell_type": "code",
   "execution_count": 2031,
   "metadata": {},
   "outputs": [
    {
     "name": "stdout",
     "output_type": "stream",
     "text": [
      "Assign(\n",
      "    targets=[\n",
      "        Name(id='i', ctx=Store())],\n",
      "    value=Constant(value=10))\n",
      "While(\n",
      "    test=Compare(\n",
      "        left=Name(id='i', ctx=Load()),\n",
      "        ops=[\n",
      "            Gt()],\n",
      "        comparators=[\n",
      "            Constant(value=1)]),\n",
      "    body=[\n",
      "        Expr(\n",
      "            value=Call(\n",
      "                func=Name(id='print', ctx=Load()),\n",
      "                args=[\n",
      "                    Name(id='i', ctx=Load())],\n",
      "                keywords=[])),\n",
      "        AugAssign(\n",
      "            target=Name(id='i', ctx=Store()),\n",
      "            op=Add(),\n",
      "            value=UnaryOp(\n",
      "                op=USub(),\n",
      "                operand=Constant(value=2)))],\n",
      "    orelse=[])\n"
     ]
    }
   ],
   "source": [
    "src = for_tree.body[0]\n",
    "def analyze_for(node):\n",
    "    args = node.iter.args\n",
    "    if len(args) == 1:\n",
    "        return [ast.Constant(value=0), ast.Lt(), args[0], ast.Constant(value=1)]\n",
    "    elif len(args) == 2:\n",
    "        return [args[0], ast.Lt(), args[1], ast.Constant(value=1)]\n",
    "    else:\n",
    "        step = eval(ast.unparse(args[2]))\n",
    "        if step < 0:\n",
    "            return [args[0], ast.Gt(), args[1], args[2]]\n",
    "        else:\n",
    "            return [args[0], ast.Lt(), args[1], args[2]]\n",
    "        \n",
    "while_args = analyze_for(src)\n",
    "print_ast(\n",
    "    ast.Assign(targets=[src.target], value=while_args[0])\n",
    "    ) \n",
    "print_ast(\n",
    "    ast.While(test=ast.Compare(left=ast.Name(id=src.target.id, ctx=ast.Load()), ops=[while_args[1]], comparators=[while_args[2]]), \\\n",
    "              body=src.body + [ast.AugAssign(target=src.target, op=ast.Add(), value=while_args[3])], orelse=src.orelse)\n",
    ")"
   ]
  },
  {
   "cell_type": "code",
   "execution_count": 2032,
   "metadata": {},
   "outputs": [],
   "source": [
    "class PythonMutator(PythonMutator):\n",
    "    def transform_for(self, src):\n",
    "        node = ForMutator().transform_for(src)\n",
    "        self.mutations.extend(node[1])\n",
    "        return node[0]"
   ]
  },
  {
   "cell_type": "code",
   "execution_count": 2033,
   "metadata": {},
   "outputs": [
    {
     "name": "stdout",
     "output_type": "stream",
     "text": [
      "Module(\n",
      "    body=[\n",
      "        For(\n",
      "            target=Name(id='i', ctx=Store()),\n",
      "            iter=Name(id='delays', ctx=Load()),\n",
      "            body=[\n",
      "                Expr(\n",
      "                    value=Call(\n",
      "                        func=Name(id='print', ctx=Load()),\n",
      "                        args=[\n",
      "                            Name(id='i', ctx=Load())],\n",
      "                        keywords=[]))],\n",
      "            orelse=[])],\n",
      "    type_ignores=[])\n",
      "Module(\n",
      "    body=[\n",
      "        For(\n",
      "            target=Name(id='i', ctx=Store()),\n",
      "            iter=Call(\n",
      "                func=Name(id='range', ctx=Load()),\n",
      "                args=[\n",
      "                    Constant(value=2)],\n",
      "                keywords=[]),\n",
      "            body=[\n",
      "                Expr(\n",
      "                    value=Call(\n",
      "                        func=Name(id='print', ctx=Load()),\n",
      "                        args=[\n",
      "                            Name(id='i', ctx=Load())],\n",
      "                        keywords=[]))],\n",
      "            orelse=[])],\n",
      "    type_ignores=[])\n"
     ]
    }
   ],
   "source": [
    "print_ast(ast.parse(\"for i in delays: print(i)\"))\n",
    "print_ast(ast.parse(\"for i in range(2): print(i)\"))"
   ]
  },
  {
   "cell_type": "code",
   "execution_count": 2034,
   "metadata": {},
   "outputs": [],
   "source": [
    "class ForMutator(ast.NodeTransformer):\n",
    "    def __init__(self):\n",
    "        self.mutations = []\n",
    "\n",
    "    def transform_for(self, src):\n",
    "        return (self.visit(src), self.mutations)\n",
    "\n",
    "    def visit_For(self, src):  \n",
    "        try: while_args = analyze_for(src)\n",
    "        except: return src\n",
    "        node = [ast.Assign(targets=[src.target], value=while_args[0]), \\\n",
    "                ast.While(test=ast.Compare(left=ast.Name(id=src.target.id, ctx=ast.Load()), ops=[while_args[1]], comparators=[while_args[2]]), \\\n",
    "                          body=src.body + [ast.AugAssign(target=src.target, op=ast.Add(), value=while_args[3])], orelse=src.orelse)]\n",
    "        #self.mutations update\n",
    "        self.mutations.append((deepcopy(src), deepcopy(node)))\n",
    "        return node"
   ]
  },
  {
   "cell_type": "code",
   "execution_count": 2035,
   "metadata": {},
   "outputs": [
    {
     "name": "stdout",
     "output_type": "stream",
     "text": [
      "for i in range(10, 1, -2):\n",
      "    print(i)\n",
      "====\n",
      "i = 10\n",
      "while i > 1:\n",
      "    print(i)\n",
      "    i += -2\n"
     ]
    }
   ],
   "source": [
    "for_tree_two = deepcopy(for_tree)\n",
    "print(ast.unparse(for_tree))\n",
    "print(\"====\")\n",
    "print_code(PythonMutator().transform_for(for_tree_two))"
   ]
  },
  {
   "cell_type": "markdown",
   "metadata": {},
   "source": [
    "That takes care of for-loops based on ranges. <b>What about iterators?</b>"
   ]
  },
  {
   "cell_type": "code",
   "execution_count": 2036,
   "metadata": {},
   "outputs": [
    {
     "name": "stdout",
     "output_type": "stream",
     "text": [
      "Module(\n",
      "    body=[\n",
      "        Assign(\n",
      "            targets=[\n",
      "                Name(id='L', ctx=Store())],\n",
      "            value=List(\n",
      "                elts=[\n",
      "                    Constant(value=1),\n",
      "                    Constant(value=4),\n",
      "                    Constant(value='hello')],\n",
      "                ctx=Load())),\n",
      "        For(\n",
      "            target=Name(id='i', ctx=Store()),\n",
      "            iter=ListComp(\n",
      "                elt=Call(\n",
      "                    func=Name(id='len', ctx=Load()),\n",
      "                    args=[\n",
      "                        Call(\n",
      "                            func=Name(id='str', ctx=Load()),\n",
      "                            args=[\n",
      "                                Name(id='x', ctx=Load())],\n",
      "                            keywords=[])],\n",
      "                    keywords=[]),\n",
      "                generators=[\n",
      "                    comprehension(\n",
      "                        target=Name(id='x', ctx=Store()),\n",
      "                        iter=Name(id='L', ctx=Load()),\n",
      "                        ifs=[],\n",
      "                        is_async=0)]),\n",
      "            body=[\n",
      "                Expr(\n",
      "                    value=Call(\n",
      "                        func=Name(id='print', ctx=Load()),\n",
      "                        args=[\n",
      "                            Name(id='i', ctx=Load())],\n",
      "                        keywords=[]))],\n",
      "            orelse=[])],\n",
      "    type_ignores=[])\n"
     ]
    }
   ],
   "source": [
    "print_ast(ast.parse(\n",
    "'''\n",
    "L = [1, 4, \"hello\"]\n",
    "for i in [len(str(x)) for x in L]:\n",
    "    print(i)\n",
    "'''\n",
    "))"
   ]
  },
  {
   "cell_type": "code",
   "execution_count": 2037,
   "metadata": {},
   "outputs": [
    {
     "name": "stdout",
     "output_type": "stream",
     "text": [
      "Module(\n",
      "    body=[\n",
      "        Assign(\n",
      "            targets=[\n",
      "                Tuple(\n",
      "                    elts=[\n",
      "                        Name(id='x', ctx=Store()),\n",
      "                        Name(id='y', ctx=Store())],\n",
      "                    ctx=Store())],\n",
      "            value=Tuple(\n",
      "                elts=[\n",
      "                    BinOp(\n",
      "                        left=Constant(value=3),\n",
      "                        op=Add(),\n",
      "                        right=Constant(value=5)),\n",
      "                    BinOp(\n",
      "                        left=Constant(value=3),\n",
      "                        op=Add(),\n",
      "                        right=Constant(value=5))],\n",
      "                ctx=Load()))],\n",
      "    type_ignores=[])\n"
     ]
    }
   ],
   "source": [
    "print_ast(ast.parse('x,y = 3 + 5, 3 + 5'))"
   ]
  },
  {
   "cell_type": "code",
   "execution_count": 2038,
   "metadata": {},
   "outputs": [
    {
     "name": "stdout",
     "output_type": "stream",
     "text": [
      "Module(\n",
      "    body=[\n",
      "        Assign(\n",
      "            targets=[\n",
      "                Tuple(\n",
      "                    elts=[\n",
      "                        Name(id='tmp1', ctx=Store()),\n",
      "                        Name(id='tmp2', ctx=Store())],\n",
      "                    ctx=Store())],\n",
      "            value=Tuple(\n",
      "                elts=[\n",
      "                    BinOp(\n",
      "                        left=Constant(value=3),\n",
      "                        op=Add(),\n",
      "                        right=Constant(value=5)),\n",
      "                    BinOp(\n",
      "                        left=Constant(value=3),\n",
      "                        op=Add(),\n",
      "                        right=Constant(value=5))],\n",
      "                ctx=Load())),\n",
      "        Assign(\n",
      "            targets=[\n",
      "                Tuple(\n",
      "                    elts=[\n",
      "                        Name(id='x', ctx=Store()),\n",
      "                        Name(id='y', ctx=Store())],\n",
      "                    ctx=Store())],\n",
      "            value=Tuple(\n",
      "                elts=[\n",
      "                    Name(id='tmp1', ctx=Load()),\n",
      "                    Name(id='tmp2', ctx=Load())],\n",
      "                ctx=Load()))],\n",
      "    type_ignores=[])\n"
     ]
    }
   ],
   "source": [
    "print_ast(ast.parse('''\n",
    "tmp1, tmp2 = 3 + 5, 3 + 5\n",
    "x, y = tmp1, tmp2'''))"
   ]
  },
  {
   "cell_type": "markdown",
   "metadata": {},
   "source": [
    "The naive method is to copy all targets and rename them on a line above. \n",
    "\n",
    "List and Dict subscripts are an issue for this. For example the following AST:\n",
    "\n",
    "Assign(\n",
    "    targets=[\n",
    "        Subscript(\n",
    "            value=Name(id='gates', ctx=Load()),\n",
    "            slice=Subscript(\n",
    "                value=Name(id='inps', ctx=Load()),\n",
    "                slice=Constant(value=0),\n",
    "                ctx=Load()),\n",
    "            ctx=Store())],\n",
    "    value=Call(\n",
    "        func=Name(id='float', ctx=Load()),\n",
    "        args=[\n",
    "            Subscript(\n",
    "                value=Name(id='inps', ctx=Load()),\n",
    "                slice=Constant(value=1),\n",
    "                ctx=Load())],\n",
    "        keywords=[]\n",
    "        )\n",
    ")\n",
    "\n",
    "representing \n",
    "\n",
    "gates[inps[0]] = float(inps[1])\n",
    "\n",
    "gets transformed to\n",
    "\n",
    "xxx[yyy[0]] = float(inps[1])\n",
    "gates[inps[0]] = xxx[yyy[0]]\n",
    "\n",
    "but this is problematic because xxx and yyy aren't declared as lists, which they need to be.\n",
    "\n",
    "To get around this, we need to transform each target to a single variable node.\n",
    "\n",
    "x, y = 5, 3\n",
    "\n",
    "must be transformed to\n",
    "\n",
    "tmp = 5, 3\n",
    "x, y = tmp\n",
    "\n",
    "instead."
   ]
  },
  {
   "cell_type": "code",
   "execution_count": 2039,
   "metadata": {},
   "outputs": [],
   "source": [
    "class AssignMutator(ast.NodeTransformer):\n",
    "    def __init__(self, p=100):\n",
    "        self.p = p\n",
    "        self.mutations = []\n",
    "\n",
    "    def transform_assign(self, src):\n",
    "        return (self.visit(src), self.mutations)\n",
    "    \n",
    "    def visit_Assign(self, src):\n",
    "        if random.randint(1, 100) > self.p: return src\n",
    "        new_target = ast.Name(id = '_' + str(random.randint(1087345, 196871238674)), ctx = ast.Store())\n",
    "        node = [ast.Assign(targets = [new_target], value=src.value), ast.Assign(targets=src.targets, value=ast.Name(id=new_target.id, ctx=ast.Load()))]\n",
    "        #self.mutations update\n",
    "        self.mutations.append((deepcopy(src), deepcopy(node)))\n",
    "        return node"
   ]
  },
  {
   "cell_type": "code",
   "execution_count": 2040,
   "metadata": {},
   "outputs": [
    {
     "name": "stdout",
     "output_type": "stream",
     "text": [
      "Module(\n",
      "    body=[\n",
      "        Assign(\n",
      "            targets=[\n",
      "                Name(id='_65531242307', ctx=Store())],\n",
      "            value=Tuple(\n",
      "                elts=[\n",
      "                    BinOp(\n",
      "                        left=Constant(value=3),\n",
      "                        op=Add(),\n",
      "                        right=Constant(value=5)),\n",
      "                    BinOp(\n",
      "                        left=Constant(value=5),\n",
      "                        op=Add(),\n",
      "                        right=Constant(value=3))],\n",
      "                ctx=Load())),\n",
      "        Assign(\n",
      "            targets=[\n",
      "                Tuple(\n",
      "                    elts=[\n",
      "                        Name(id='x', ctx=Store()),\n",
      "                        Name(id='y', ctx=Store())],\n",
      "                    ctx=Store())],\n",
      "            value=Name(id='_65531242307', ctx=Load()))],\n",
      "    type_ignores=[])\n"
     ]
    }
   ],
   "source": [
    "print_ast(AssignMutator().visit(ast.parse('x,y = 3 + 5, 5 + 3')))"
   ]
  },
  {
   "cell_type": "code",
   "execution_count": 2041,
   "metadata": {},
   "outputs": [
    {
     "name": "stdout",
     "output_type": "stream",
     "text": [
      "Module(\n",
      "    body=[\n",
      "        Assign(\n",
      "            targets=[\n",
      "                Name(id='x', ctx=Store()),\n",
      "                Name(id='y', ctx=Store())],\n",
      "            value=Constant(value=5))],\n",
      "    type_ignores=[])\n"
     ]
    }
   ],
   "source": [
    "print_ast(ast.parse('x=y=5'))"
   ]
  },
  {
   "cell_type": "code",
   "execution_count": 2042,
   "metadata": {},
   "outputs": [
    {
     "name": "stdout",
     "output_type": "stream",
     "text": [
      "Module(\n",
      "    body=[\n",
      "        Assign(\n",
      "            targets=[\n",
      "                Name(id='_181505614132', ctx=Store())],\n",
      "            value=Constant(value=5)),\n",
      "        Assign(\n",
      "            targets=[\n",
      "                Name(id='x', ctx=Store()),\n",
      "                Name(id='y', ctx=Store())],\n",
      "            value=Name(id='_181505614132', ctx=Load()))],\n",
      "    type_ignores=[])\n"
     ]
    }
   ],
   "source": [
    "print_ast(AssignMutator().visit(ast.parse('x=y=5')))"
   ]
  },
  {
   "cell_type": "code",
   "execution_count": 2043,
   "metadata": {},
   "outputs": [
    {
     "name": "stdout",
     "output_type": "stream",
     "text": [
      "_58372559588 = (3 + 5, 5 + 3)\n",
      "x, y = _58372559588\n"
     ]
    }
   ],
   "source": [
    "print_code(AssignMutator().visit(ast.parse('x,y = 3 + 5, 5 + 3')))"
   ]
  },
  {
   "cell_type": "code",
   "execution_count": 2044,
   "metadata": {},
   "outputs": [
    {
     "name": "stdout",
     "output_type": "stream",
     "text": [
      "_186473517892 = 5\n",
      "x = y = _186473517892\n"
     ]
    }
   ],
   "source": [
    "print_code(AssignMutator().visit(ast.parse('x=y=5')))"
   ]
  },
  {
   "cell_type": "code",
   "execution_count": 2045,
   "metadata": {},
   "outputs": [],
   "source": [
    "class PythonMutator(PythonMutator):\n",
    "    def transform_assign(self, src):\n",
    "        node = AssignMutator().transform_assign(src)\n",
    "        self.mutations.extend(node[1])\n",
    "        return node[0]"
   ]
  },
  {
   "cell_type": "code",
   "execution_count": 2046,
   "metadata": {},
   "outputs": [],
   "source": [
    "tree = ast.parse(r'''\n",
    "with open(\"circuit.txt\", \"r\") as F:\n",
    "    circuit = F.readlines() # read circuit file into a list\n",
    "with open(\"gate_delays.txt\", \"r\") as F:\n",
    "    delays = F.readlines() # read gate delays into a list\n",
    "\n",
    "gates = {-1: 0} # prepare dictionary to allow simpler access of gate delays\n",
    "nodes = {} # prepare dictionary to store node data\n",
    "out_nodes = [] # prepare list to store names of output nodes\n",
    "flag1 = flag2 = flag3 = False # prep for processing circuit later\n",
    "\n",
    "# loop to assign delay value to each kind of gate\n",
    "for i in delays:\n",
    "    x = i.strip() # ignore trailing whitespace\n",
    "    if x[:2] == \"//\": continue # ignoring whitespace followed by //\n",
    "    if len(x) == 0: continue # ignoring blank lines or whitespace-only lines\n",
    "    inps = x.split() # separate line into words\n",
    "    gates[inps[0]] = float(inps[1]) # assign corresponding delay values with key as gate name\n",
    "\n",
    "for i in circuit:\n",
    "    x = i.strip() # ignore trailing whitespace\n",
    "    if x[:2] == \"//\": continue # ignoring whitespace followed by //\n",
    "    if len(x) == 0: continue # ignoring blank lines or whitespace-only lines\n",
    "    inps = x.split() # separate line into words\n",
    "    if inps[0] == \"PRIMARY_INPUTS\": # handling input signal data\n",
    "        for j in inps[1:]:\n",
    "            nodes[j] = [0, [], -1] # initializing data with 0 value of delay, no nodes feeding in, associated with no gate  \n",
    "        flag1 = True # flag to say input signals have been read\n",
    "        continue\n",
    "    if inps[0] == \"INTERNAL_SIGNALS\": # handling internal signal data\n",
    "        for j in inps[1:]:\n",
    "            nodes[j] = [0, [], -1] # initializing data with 0 value of delay, no nodes feeding in, associated with no gate\n",
    "        flag2 = True # flag to say internal signals have been read\n",
    "        continue\n",
    "    if inps[0] == \"PRIMARY_OUTPUTS\": # handling output signal data\n",
    "        for j in inps[1:]:\n",
    "            nodes[j] = [0, [], -1] # initializing data with 0 value of delay, no nodes feeding in, associated with no gate\n",
    "        out_nodes.extend(inps[1:]) # list of output nodes\n",
    "        flag3 = True # flag to say output signals have been read\n",
    "        continue\n",
    "    if flag1 and flag2 and flag3: break # break the loop if all 3 conditions are met before loop termination\n",
    "\n",
    "for i in circuit: # processing the input and setting up input nodes and gates for each node\n",
    "    x = i.strip() # ignore trailing whitespace\n",
    "    if x[:2] == \"//\": continue # ignoring whitespace followed by //\n",
    "    if len(x) == 0: continue # ignoring blank lines or whitespace-only lines\n",
    "    inps = x.split() # separate line into words\n",
    "    if ((inps[0]==\"PRIMARY_INPUTS\") or (inps[0]==\"INTERNAL_SIGNALS\") or (inps[0]==\"PRIMARY_OUTPUTS\")): \n",
    "        continue # ignore signal lines\n",
    "    out = inps[-1]\n",
    "    nodes[out][1].extend(inps[1:-1]) # set up input nodes for each node\n",
    "    nodes[out][2] = inps[0] # set gate delay for relevant nodes\n",
    "\n",
    "def calcVal_A(x): # recursive function to calculate the delay at each node\n",
    "    # print(x, nodes) # debug line\n",
    "    if nodes[x][1] == []: return nodes[x][0] # skip recursive step if node already processed\n",
    "    s = 0\n",
    "    for i in nodes[x][1]: # find max delay time of each input node\n",
    "        nodes[i][0] = calcVal_A(i) # recursive call to function\n",
    "        s = max(nodes[i][0], s) # node delay that controls delay time of output\n",
    "    nodes[x][1] = [] # clear input nodes to indicate node delay is already calculated\n",
    "    return s + gates[nodes[x][2]] # gate delay compensation\n",
    "\n",
    "to_write = [] # initialize array of lines to be written to output\n",
    "\n",
    "for i in out_nodes:\n",
    "    nodes[i][0] = calcVal_A(i) # calculate delay for each output node using the recursive function\n",
    "    if nodes[i][0] == round(nodes[i][0]): nodes[i][0] = round(nodes[i][0])\n",
    "    to_write.append(i + \" \" + str(nodes[i][0]) + \"\\n\") # write delay at each output node to array\n",
    "\n",
    "with open(\"output_delays.txt\", \"w\") as F:\n",
    "    F.writelines(to_write) # write output array to file\n",
    "''')"
   ]
  },
  {
   "cell_type": "code",
   "execution_count": 2047,
   "metadata": {},
   "outputs": [
    {
     "name": "stdout",
     "output_type": "stream",
     "text": [
      "with open('circuit.txt', 'r') as F:\n",
      "    _125383563852 = F.readlines()\n",
      "    circuit = _125383563852\n",
      "with open('gate_delays.txt', 'r') as F:\n",
      "    _187540574859 = F.readlines()\n",
      "    delays = _187540574859\n",
      "_152147260537 = {-(572 - 571): 0}\n",
      "gates = _152147260537\n",
      "_134254654968 = {}\n",
      "nodes = _134254654968\n",
      "_2447854350 = []\n",
      "out_nodes = _2447854350\n",
      "_130901645683 = False\n",
      "flag1 = flag2 = flag3 = _130901645683\n",
      "for i in delays:\n",
      "    _106043083333 = i.strip()\n",
      "    x = _106043083333\n",
      "    if x[:2] == '//':\n",
      "        continue\n",
      "    if len(x) == 0:\n",
      "        continue\n",
      "    _142191580891 = x.split()\n",
      "    inps = _142191580891\n",
      "    _126756504489 = float(inps[1])\n",
      "    gates[inps[0]] = _126756504489\n",
      "for i in circuit:\n",
      "    _72418067235 = i.strip()\n",
      "    x = _72418067235\n",
      "    if x[:8297 - 8295] == '//':\n",
      "        continue\n",
      "    if len(x) == 0:\n",
      "        continue\n",
      "    _2460976115 = x.split()\n",
      "    inps = _2460976115\n",
      "    if inps[0] == 'PRIMARY_INPUTS':\n",
      "        for j in inps[1:]:\n",
      "            _77082043675 = [0, [], -1]\n",
      "            nodes[j] = _77082043675\n",
      "        _155200643057 = True\n",
      "        flag1 = _155200643057\n",
      "        continue\n",
      "    if inps[0] == 'INTERNAL_SIGNALS':\n",
      "        for j in inps[1:]:\n",
      "            _74250103371 = [0, [], -1]\n",
      "            nodes[j] = _74250103371\n",
      "        _78618013342 = True\n",
      "        flag2 = _78618013342\n",
      "        continue\n",
      "    if inps[0] == 'PRIMARY_OUTPUTS':\n",
      "        for j in inps[1:]:\n",
      "            _61932182614 = [0, [], -1]\n",
      "            nodes[j] = _61932182614\n",
      "        out_nodes.extend(inps[1:])\n",
      "        _12544861458 = True\n",
      "        flag3 = _12544861458\n",
      "        continue\n",
      "    if flag1 and flag2 and flag3:\n",
      "        break\n",
      "for i in circuit:\n",
      "    _79862946630 = i.strip()\n",
      "    x = _79862946630\n",
      "    if x[:-2069 - -2071] == '//':\n",
      "        continue\n",
      "    if len(x) == 0:\n",
      "        continue\n",
      "    _44872039527 = x.split()\n",
      "    inps = _44872039527\n",
      "    if inps[0] == 'PRIMARY_INPUTS' or inps[0] == 'INTERNAL_SIGNALS' or inps[0] == 'PRIMARY_OUTPUTS':\n",
      "        continue\n",
      "    _13215996308 = inps[-1]\n",
      "    out = _13215996308\n",
      "    nodes[out][1].extend(inps[1:-1])\n",
      "    _107612288412 = inps[0]\n",
      "    nodes[out][2] = _107612288412\n",
      "\n",
      "def calcVal_A(x):\n",
      "    if nodes[x][1] == []:\n",
      "        return nodes[x][0]\n",
      "    _3511061717 = 0\n",
      "    s = _3511061717\n",
      "    for i in nodes[x][1]:\n",
      "        _133040536663 = calcVal_A(i)\n",
      "        nodes[i][0] = _133040536663\n",
      "        _41733818240 = max(nodes[i][0], s)\n",
      "        s = _41733818240\n",
      "    _171400754522 = []\n",
      "    nodes[x][1] = _171400754522\n",
      "    return s + gates[nodes[x][2]]\n",
      "_110904971807 = []\n",
      "to_write = _110904971807\n",
      "for i in out_nodes:\n",
      "    _133869608511 = calcVal_A(i)\n",
      "    nodes[i][0] = _133869608511\n",
      "    if nodes[i][0] == round(nodes[i][0]):\n",
      "        _140585289190 = round(nodes[i][0])\n",
      "        nodes[i][0] = _140585289190\n",
      "    to_write.append(i + ' ' + str(nodes[i][0]) + '\\n')\n",
      "with open('output_delays.txt', 'w') as F:\n",
      "    F.writelines(to_write)\n"
     ]
    }
   ],
   "source": [
    "print_code(PythonMutator().expand_constants(PythonMutator().transform_assign(tree)))"
   ]
  },
  {
   "cell_type": "code",
   "execution_count": 2048,
   "metadata": {},
   "outputs": [],
   "source": [
    "import trace\n",
    "import sys"
   ]
  },
  {
   "cell_type": "code",
   "execution_count": 2049,
   "metadata": {},
   "outputs": [],
   "source": [
    "def traceit(frame, event, arg):\n",
    "    \"\"\"Trace program execution. To be passed to sys.settrace().\"\"\"\n",
    "    if event == 'line':\n",
    "        global coverage\n",
    "        function_name = frame.f_code.co_name\n",
    "        lineno = frame.f_lineno\n",
    "        vars = dict(frame.f_locals)\n",
    "        coverage.append([function_name, lineno, vars])\n",
    "    return traceit\n",
    "\n",
    "def tracer(f):\n",
    "    global coverage\n",
    "    coverage = []\n",
    "    sys.settrace(traceit)  # Turn on\n",
    "    f()\n",
    "    sys.settrace(None)    # Turn off"
   ]
  },
  {
   "cell_type": "code",
   "execution_count": 2050,
   "metadata": {},
   "outputs": [],
   "source": [
    "def g():\n",
    "    def simple_function(x):\n",
    "        z = 2\n",
    "        y = 3 * x\n",
    "        return y\n",
    "    \n",
    "    a = simple_function(2)\n",
    "    b = 0\n",
    "    for _ in range(6):\n",
    "        b += 2 * a\n",
    "\n",
    "    print(\"The answer is\", b)"
   ]
  },
  {
   "cell_type": "code",
   "execution_count": 2051,
   "metadata": {},
   "outputs": [
    {
     "name": "stdout",
     "output_type": "stream",
     "text": [
      "The answer is 72\n"
     ]
    }
   ],
   "source": [
    "tracer(g)"
   ]
  },
  {
   "cell_type": "code",
   "execution_count": 2052,
   "metadata": {},
   "outputs": [
    {
     "name": "stdout",
     "output_type": "stream",
     "text": [
      "g 2 {}\n",
      "g 7 {'simple_function': <function g.<locals>.simple_function at 0x000002849D8591C0>}\n",
      "simple_function 3 {'x': 2}\n",
      "simple_function 4 {'x': 2, 'z': 2}\n",
      "simple_function 5 {'x': 2, 'z': 2, 'y': 6}\n",
      "g 8 {'simple_function': <function g.<locals>.simple_function at 0x000002849D8591C0>, 'a': 6}\n",
      "g 9 {'simple_function': <function g.<locals>.simple_function at 0x000002849D8591C0>, 'a': 6, 'b': 0}\n",
      "g 10 {'simple_function': <function g.<locals>.simple_function at 0x000002849D8591C0>, 'a': 6, 'b': 0, '_': 0}\n",
      "g 9 {'simple_function': <function g.<locals>.simple_function at 0x000002849D8591C0>, 'a': 6, 'b': 12, '_': 0}\n",
      "g 10 {'simple_function': <function g.<locals>.simple_function at 0x000002849D8591C0>, 'a': 6, 'b': 12, '_': 1}\n",
      "g 9 {'simple_function': <function g.<locals>.simple_function at 0x000002849D8591C0>, 'a': 6, 'b': 24, '_': 1}\n",
      "g 10 {'simple_function': <function g.<locals>.simple_function at 0x000002849D8591C0>, 'a': 6, 'b': 24, '_': 2}\n",
      "g 9 {'simple_function': <function g.<locals>.simple_function at 0x000002849D8591C0>, 'a': 6, 'b': 36, '_': 2}\n",
      "g 10 {'simple_function': <function g.<locals>.simple_function at 0x000002849D8591C0>, 'a': 6, 'b': 36, '_': 3}\n",
      "g 9 {'simple_function': <function g.<locals>.simple_function at 0x000002849D8591C0>, 'a': 6, 'b': 48, '_': 3}\n",
      "g 10 {'simple_function': <function g.<locals>.simple_function at 0x000002849D8591C0>, 'a': 6, 'b': 48, '_': 4}\n",
      "g 9 {'simple_function': <function g.<locals>.simple_function at 0x000002849D8591C0>, 'a': 6, 'b': 60, '_': 4}\n",
      "g 10 {'simple_function': <function g.<locals>.simple_function at 0x000002849D8591C0>, 'a': 6, 'b': 60, '_': 5}\n",
      "g 9 {'simple_function': <function g.<locals>.simple_function at 0x000002849D8591C0>, 'a': 6, 'b': 72, '_': 5}\n",
      "g 12 {'simple_function': <function g.<locals>.simple_function at 0x000002849D8591C0>, 'a': 6, 'b': 72, '_': 5}\n",
      "write 620 {'self': <ipykernel.iostream.OutStream object at 0x000002849E2ABAC0>, 'string': 'The answer is'}\n",
      "write 624 {'self': <ipykernel.iostream.OutStream object at 0x000002849E2ABAC0>, 'string': 'The answer is'}\n",
      "write 631 {'self': <ipykernel.iostream.OutStream object at 0x000002849E2ABAC0>, 'string': 'The answer is'}\n",
      "write 635 {'self': <ipykernel.iostream.OutStream object at 0x000002849E2ABAC0>, 'string': 'The answer is'}\n",
      "_is_master_process 506 {'self': <ipykernel.iostream.OutStream object at 0x000002849E2ABAC0>}\n",
      "write 637 {'self': <ipykernel.iostream.OutStream object at 0x000002849E2ABAC0>, 'string': 'The answer is', 'is_child': False}\n",
      "write 638 {'self': <ipykernel.iostream.OutStream object at 0x000002849E2ABAC0>, 'string': 'The answer is', 'is_child': False}\n",
      "write 637 {'self': <ipykernel.iostream.OutStream object at 0x000002849E2ABAC0>, 'string': 'The answer is', 'is_child': False}\n",
      "write 639 {'self': <ipykernel.iostream.OutStream object at 0x000002849E2ABAC0>, 'string': 'The answer is', 'is_child': False}\n",
      "write 648 {'self': <ipykernel.iostream.OutStream object at 0x000002849E2ABAC0>, 'string': 'The answer is', 'is_child': False}\n",
      "_schedule_flush 537 {'self': <ipykernel.iostream.OutStream object at 0x000002849E2ABAC0>}\n",
      "_schedule_flush 539 {'self': <ipykernel.iostream.OutStream object at 0x000002849E2ABAC0>}\n",
      "_schedule_flush 542 {'self': <ipykernel.iostream.OutStream object at 0x000002849E2ABAC0>}\n",
      "_schedule_flush 545 {'self': <ipykernel.iostream.OutStream object at 0x000002849E2ABAC0>, '_schedule_in_thread': <function OutStream._schedule_flush.<locals>._schedule_in_thread at 0x000002849E6960C0>}\n",
      "schedule 248 {'self': <ipykernel.iostream.IOPubThread object at 0x000002849E32C5D0>, 'f': <function OutStream._schedule_flush.<locals>._schedule_in_thread at 0x000002849E6960C0>}\n",
      "is_alive 1200 {'self': <Thread(IOPub, started daemon 7596)>}\n",
      "is_alive 1201 {'self': <Thread(IOPub, started daemon 7596)>}\n",
      "is_set 577 {'self': <threading.Event at 0x2849d9b5f10: set>}\n",
      "is_alive 1203 {'self': <Thread(IOPub, started daemon 7596)>}\n",
      "_wait_for_tstate_lock 1132 {'self': <Thread(IOPub, started daemon 7596)>, 'block': False, 'timeout': -1}\n",
      "_wait_for_tstate_lock 1133 {'self': <Thread(IOPub, started daemon 7596)>, 'block': False, 'timeout': -1, 'lock': <locked _thread.lock object at 0x000002849E345300>}\n",
      "_wait_for_tstate_lock 1138 {'self': <Thread(IOPub, started daemon 7596)>, 'block': False, 'timeout': -1, 'lock': <locked _thread.lock object at 0x000002849E345300>}\n",
      "_wait_for_tstate_lock 1139 {'self': <Thread(IOPub, started daemon 7596)>, 'block': False, 'timeout': -1, 'lock': <locked _thread.lock object at 0x000002849E345300>}\n",
      "is_alive 1204 {'self': <Thread(IOPub, started daemon 7596)>}\n",
      "schedule 249 {'self': <ipykernel.iostream.IOPubThread object at 0x000002849E32C5D0>, 'f': <function OutStream._schedule_flush.<locals>._schedule_in_thread at 0x000002849E6960C0>}\n",
      "schedule 251 {'self': <ipykernel.iostream.IOPubThread object at 0x000002849E32C5D0>, 'f': <function OutStream._schedule_flush.<locals>._schedule_in_thread at 0x000002849E6960C0>}\n",
      "_event_pipe 130 {'self': <ipykernel.iostream.IOPubThread object at 0x000002849E32C5D0>}\n",
      "_event_pipe 131 {'self': <ipykernel.iostream.IOPubThread object at 0x000002849E32C5D0>}\n",
      "_event_pipe 144 {'self': <ipykernel.iostream.IOPubThread object at 0x000002849E32C5D0>, 'event_pipe': <zmq.Socket(zmq.PUSH) at 0x2849e317e70>}\n",
      "send 678 {'self': <zmq.Socket(zmq.PUSH) at 0x2849e317e70>, 'data': b'', 'flags': 0, 'copy': True, 'track': False, 'routing_id': None, 'group': None, '__class__': <class 'zmq.sugar.socket.Socket'>}\n",
      "send 687 {'self': <zmq.Socket(zmq.PUSH) at 0x2849e317e70>, 'data': b'', 'flags': 0, 'copy': True, 'track': False, 'routing_id': None, 'group': None, '__class__': <class 'zmq.sugar.socket.Socket'>}\n",
      "send 696 {'self': <zmq.Socket(zmq.PUSH) at 0x2849e317e70>, 'data': b'', 'flags': 0, 'copy': True, 'track': False, 'routing_id': None, 'group': None, '__class__': <class 'zmq.sugar.socket.Socket'>}\n",
      "write 650 {'self': <ipykernel.iostream.OutStream object at 0x000002849E2ABAC0>, 'string': 'The answer is', 'is_child': False}\n",
      "write 620 {'self': <ipykernel.iostream.OutStream object at 0x000002849E2ABAC0>, 'string': ' '}\n",
      "write 624 {'self': <ipykernel.iostream.OutStream object at 0x000002849E2ABAC0>, 'string': ' '}\n",
      "write 631 {'self': <ipykernel.iostream.OutStream object at 0x000002849E2ABAC0>, 'string': ' '}\n",
      "write 635 {'self': <ipykernel.iostream.OutStream object at 0x000002849E2ABAC0>, 'string': ' '}\n",
      "_is_master_process 506 {'self': <ipykernel.iostream.OutStream object at 0x000002849E2ABAC0>}\n",
      "write 637 {'self': <ipykernel.iostream.OutStream object at 0x000002849E2ABAC0>, 'string': ' ', 'is_child': False}\n",
      "write 638 {'self': <ipykernel.iostream.OutStream object at 0x000002849E2ABAC0>, 'string': ' ', 'is_child': False}\n",
      "write 637 {'self': <ipykernel.iostream.OutStream object at 0x000002849E2ABAC0>, 'string': ' ', 'is_child': False}\n",
      "write 639 {'self': <ipykernel.iostream.OutStream object at 0x000002849E2ABAC0>, 'string': ' ', 'is_child': False}\n",
      "write 648 {'self': <ipykernel.iostream.OutStream object at 0x000002849E2ABAC0>, 'string': ' ', 'is_child': False}\n",
      "_schedule_flush 537 {'self': <ipykernel.iostream.OutStream object at 0x000002849E2ABAC0>}\n",
      "_schedule_flush 538 {'self': <ipykernel.iostream.OutStream object at 0x000002849E2ABAC0>}\n",
      "write 650 {'self': <ipykernel.iostream.OutStream object at 0x000002849E2ABAC0>, 'string': ' ', 'is_child': False}\n",
      "write 620 {'self': <ipykernel.iostream.OutStream object at 0x000002849E2ABAC0>, 'string': '72'}\n",
      "write 624 {'self': <ipykernel.iostream.OutStream object at 0x000002849E2ABAC0>, 'string': '72'}\n",
      "write 631 {'self': <ipykernel.iostream.OutStream object at 0x000002849E2ABAC0>, 'string': '72'}\n",
      "write 635 {'self': <ipykernel.iostream.OutStream object at 0x000002849E2ABAC0>, 'string': '72'}\n",
      "_is_master_process 506 {'self': <ipykernel.iostream.OutStream object at 0x000002849E2ABAC0>}\n",
      "write 637 {'self': <ipykernel.iostream.OutStream object at 0x000002849E2ABAC0>, 'string': '72', 'is_child': False}\n",
      "write 638 {'self': <ipykernel.iostream.OutStream object at 0x000002849E2ABAC0>, 'string': '72', 'is_child': False}\n",
      "write 637 {'self': <ipykernel.iostream.OutStream object at 0x000002849E2ABAC0>, 'string': '72', 'is_child': False}\n",
      "write 639 {'self': <ipykernel.iostream.OutStream object at 0x000002849E2ABAC0>, 'string': '72', 'is_child': False}\n",
      "write 648 {'self': <ipykernel.iostream.OutStream object at 0x000002849E2ABAC0>, 'string': '72', 'is_child': False}\n",
      "_schedule_flush 537 {'self': <ipykernel.iostream.OutStream object at 0x000002849E2ABAC0>}\n",
      "_schedule_flush 538 {'self': <ipykernel.iostream.OutStream object at 0x000002849E2ABAC0>}\n",
      "write 650 {'self': <ipykernel.iostream.OutStream object at 0x000002849E2ABAC0>, 'string': '72', 'is_child': False}\n",
      "write 620 {'self': <ipykernel.iostream.OutStream object at 0x000002849E2ABAC0>, 'string': '\\n'}\n",
      "write 624 {'self': <ipykernel.iostream.OutStream object at 0x000002849E2ABAC0>, 'string': '\\n'}\n",
      "write 631 {'self': <ipykernel.iostream.OutStream object at 0x000002849E2ABAC0>, 'string': '\\n'}\n",
      "write 635 {'self': <ipykernel.iostream.OutStream object at 0x000002849E2ABAC0>, 'string': '\\n'}\n",
      "_is_master_process 506 {'self': <ipykernel.iostream.OutStream object at 0x000002849E2ABAC0>}\n",
      "write 637 {'self': <ipykernel.iostream.OutStream object at 0x000002849E2ABAC0>, 'string': '\\n', 'is_child': False}\n",
      "write 638 {'self': <ipykernel.iostream.OutStream object at 0x000002849E2ABAC0>, 'string': '\\n', 'is_child': False}\n",
      "write 637 {'self': <ipykernel.iostream.OutStream object at 0x000002849E2ABAC0>, 'string': '\\n', 'is_child': False}\n",
      "write 639 {'self': <ipykernel.iostream.OutStream object at 0x000002849E2ABAC0>, 'string': '\\n', 'is_child': False}\n",
      "write 648 {'self': <ipykernel.iostream.OutStream object at 0x000002849E2ABAC0>, 'string': '\\n', 'is_child': False}\n",
      "_schedule_flush 537 {'self': <ipykernel.iostream.OutStream object at 0x000002849E2ABAC0>}\n",
      "_schedule_flush 538 {'self': <ipykernel.iostream.OutStream object at 0x000002849E2ABAC0>}\n",
      "write 650 {'self': <ipykernel.iostream.OutStream object at 0x000002849E2ABAC0>, 'string': '\\n', 'is_child': False}\n"
     ]
    }
   ],
   "source": [
    "for i in coverage:\n",
    "    print(f\"{i[0]} {i[1]} {i[2]}\")"
   ]
  },
  {
   "cell_type": "code",
   "execution_count": 2053,
   "metadata": {},
   "outputs": [
    {
     "name": "stdout",
     "output_type": "stream",
     "text": [
      "FunctionDef(\n",
      "    name='g',\n",
      "    args=arguments(\n",
      "        posonlyargs=[],\n",
      "        args=[],\n",
      "        kwonlyargs=[],\n",
      "        kw_defaults=[],\n",
      "        defaults=[]),\n",
      "    body=[\n",
      "        FunctionDef(\n",
      "            name='simple_function',\n",
      "            args=arguments(\n",
      "                posonlyargs=[],\n",
      "                args=[\n",
      "                    arg(arg='x')],\n",
      "                kwonlyargs=[],\n",
      "                kw_defaults=[],\n",
      "                defaults=[]),\n",
      "            body=[\n",
      "                Assign(\n",
      "                    targets=[\n",
      "                        Name(id='z', ctx=Store())],\n",
      "                    value=Constant(value=2)),\n",
      "                Assign(\n",
      "                    targets=[\n",
      "                        Name(id='y', ctx=Store())],\n",
      "                    value=BinOp(\n",
      "                        left=Constant(value=3),\n",
      "                        op=Mult(),\n",
      "                        right=Name(id='x', ctx=Load()))),\n",
      "                Return(\n",
      "                    value=Name(id='y', ctx=Load()))],\n",
      "            decorator_list=[]),\n",
      "        Assign(\n",
      "            targets=[\n",
      "                Name(id='a', ctx=Store())],\n",
      "            value=Call(\n",
      "                func=Name(id='simple_function', ctx=Load()),\n",
      "                args=[\n",
      "                    Constant(value=2)],\n",
      "                keywords=[])),\n",
      "        Assign(\n",
      "            targets=[\n",
      "                Name(id='b', ctx=Store())],\n",
      "            value=Constant(value=0)),\n",
      "        For(\n",
      "            target=Name(id='_', ctx=Store()),\n",
      "            iter=Call(\n",
      "                func=Name(id='range', ctx=Load()),\n",
      "                args=[\n",
      "                    Constant(value=6)],\n",
      "                keywords=[]),\n",
      "            body=[\n",
      "                AugAssign(\n",
      "                    target=Name(id='b', ctx=Store()),\n",
      "                    op=Add(),\n",
      "                    value=BinOp(\n",
      "                        left=Constant(value=2),\n",
      "                        op=Mult(),\n",
      "                        right=Name(id='a', ctx=Load())))],\n",
      "            orelse=[]),\n",
      "        Expr(\n",
      "            value=Call(\n",
      "                func=Name(id='print', ctx=Load()),\n",
      "                args=[\n",
      "                    Constant(value='The answer is'),\n",
      "                    Name(id='b', ctx=Load())],\n",
      "                keywords=[]))],\n",
      "    decorator_list=[])\n"
     ]
    }
   ],
   "source": [
    "g_tree = ast.parse(inspect.getsource(g)).body[0]\n",
    "print_ast(g_tree)"
   ]
  },
  {
   "cell_type": "code",
   "execution_count": 2054,
   "metadata": {},
   "outputs": [
    {
     "name": "stdout",
     "output_type": "stream",
     "text": [
      "Module(\n",
      "    body=[\n",
      "        FunctionDef(\n",
      "            name='f',\n",
      "            args=arguments(\n",
      "                posonlyargs=[],\n",
      "                args=[\n",
      "                    arg(arg='x'),\n",
      "                    arg(arg='y')],\n",
      "                kwonlyargs=[\n",
      "                    arg(arg='z')],\n",
      "                kw_defaults=[\n",
      "                    Constant(value=3)],\n",
      "                defaults=[]),\n",
      "            body=[\n",
      "                Expr(\n",
      "                    value=Call(\n",
      "                        func=Name(id='print', ctx=Load()),\n",
      "                        args=[\n",
      "                            Name(id='x', ctx=Load())],\n",
      "                        keywords=[]))],\n",
      "            decorator_list=[])],\n",
      "    type_ignores=[])\n"
     ]
    }
   ],
   "source": [
    "print_ast(ast.parse('def f(x, y, *, z=3): print(x)'))"
   ]
  },
  {
   "cell_type": "code",
   "execution_count": 2055,
   "metadata": {},
   "outputs": [
    {
     "name": "stdout",
     "output_type": "stream",
     "text": [
      "2\n",
      "7\n",
      "8\n",
      "9\n",
      "12\n"
     ]
    }
   ],
   "source": [
    "for node in g_tree.body:\n",
    "    print(node.lineno)"
   ]
  },
  {
   "cell_type": "code",
   "execution_count": 2056,
   "metadata": {},
   "outputs": [],
   "source": [
    "def get_trace(src):\n",
    "    for node in src.body:\n",
    "        data = src.name, node.lineno\n",
    "        print(data)\n",
    "        if isinstance(node, ast.FunctionDef):\n",
    "            get_trace(node)"
   ]
  },
  {
   "cell_type": "code",
   "execution_count": 2057,
   "metadata": {},
   "outputs": [
    {
     "name": "stdout",
     "output_type": "stream",
     "text": [
      "('g', 2)\n",
      "('simple_function', 3)\n",
      "('simple_function', 4)\n",
      "('simple_function', 5)\n",
      "('g', 7)\n",
      "('g', 8)\n",
      "('g', 9)\n",
      "('g', 12)\n"
     ]
    }
   ],
   "source": [
    "get_trace(g_tree)"
   ]
  },
  {
   "cell_type": "markdown",
   "metadata": {},
   "source": [
    "Now that we can get the line data for each node in the AST, we can get the data of the local variables at a particular AST node and use it for substitutions."
   ]
  },
  {
   "cell_type": "code",
   "execution_count": 2058,
   "metadata": {},
   "outputs": [],
   "source": [
    "class VariableInjector(ast.NodeTransformer):  \n",
    "    def __init__(self):\n",
    "        self.mutations = []\n",
    "          \n",
    "    def traceit(self, frame, event, arg):\n",
    "        if event == 'line':\n",
    "            function_name = frame.f_code.co_name\n",
    "            lineno = frame.f_lineno\n",
    "            vars = dict(frame.f_locals)\n",
    "            self.coverage.append([function_name, lineno, vars])\n",
    "        return self.traceit\n",
    "\n",
    "    def tracer(self, f):\n",
    "        self.coverage = []\n",
    "        sys.settrace(self.traceit)  # Turn on\n",
    "        f()\n",
    "        sys.settrace(None)    # Turn off\n",
    "\n",
    "    def profile_function(self, f, fn_tree = None):\n",
    "        if fn_tree is None:\n",
    "            fn_tree = ast.parse(inspect.getsource(f)).body[0]\n",
    "        self.tracer(f)\n",
    "\n",
    "        self.seen = set()\n",
    "        self.unstable = set()\n",
    "        self.local_vars = set()\n",
    "        self.browsing = True        \n",
    "        self.visit(fn_tree)\n",
    "        \n",
    "        self.browsing = False\n",
    "        self.visit(fn_tree)\n",
    "            \n",
    "        return (fn_tree, self.mutations)\n",
    "    \n",
    "                 "
   ]
  },
  {
   "cell_type": "markdown",
   "metadata": {},
   "source": [
    "Currenly our class simply combines our existing methods, and then visits the AST. Now what we have to do is, while visiting the AST, we need to find the in-scope variables and their values at every line of execution. Then, we need to look for constants and check if they can be replaced by some variable or some simple arithmetic expression involving a variable."
   ]
  },
  {
   "cell_type": "code",
   "execution_count": 2059,
   "metadata": {},
   "outputs": [],
   "source": [
    "class VariableInjector(VariableInjector):\n",
    "    def visit_Assign(self, src):\n",
    "        if self.browsing:\n",
    "            for v in src.targets:\n",
    "                self.check_seens(v)\n",
    "\n",
    "        return self.generic_visit(src)\n",
    "    \n",
    "    def visit_AugAssign(self, src):\n",
    "        if self.browsing:\n",
    "            v = src.target\n",
    "            self.check_seens(v)\n",
    "\n",
    "        return self.generic_visit(src)\n",
    "    \n",
    "    def visit_For(self, src):\n",
    "        if self.browsing:\n",
    "            v = src.target\n",
    "            self.check_seens(v, True)\n",
    "\n",
    "        return self.generic_visit(src)\n",
    "            \n",
    "    def check_seens(self, v, seen=False):\n",
    "        if isinstance(v, ast.Tuple):\n",
    "            for var in v.elts: self.check_seens(var, seen)\n",
    "        elif isinstance(v, ast.Subscript): self.check_seens(v.value, seen)\n",
    "        else: \n",
    "            if seen: self.seen.add(v.id)\n",
    "            if v.id in self.seen: self.unstable.add(v.id)\n",
    "            else: self.seen.add(v.id)\n",
    "    \n",
    "    def visit_FunctionDef(self, src):\n",
    "        self.args = [x.arg for x in src.args.args + src.args.kwonlyargs]\n",
    "        for node in src.body:\n",
    "            if not self.browsing: self.get_locals(src.name, node.lineno)\n",
    "            self.visit(node)\n",
    "        "
   ]
  },
  {
   "cell_type": "markdown",
   "metadata": {},
   "source": [
    "Moreover, we want that variables that are assigned lists to be usable by indexing the list. For this, we need to flatten the lists/dicts assigned in our code. This is much of the reason for the visit_Constant function's complexity; if we have a singular value we try substituting that, else we flatten the list and insert tuples of (node, node_value) that will be used for the substitution. "
   ]
  },
  {
   "cell_type": "code",
   "execution_count": 2060,
   "metadata": {},
   "outputs": [
    {
     "name": "stdout",
     "output_type": "stream",
     "text": [
      "Module(\n",
      "    body=[\n",
      "        Expr(\n",
      "            value=Subscript(\n",
      "                value=Name(id='L', ctx=Load()),\n",
      "                slice=Constant(value=1),\n",
      "                ctx=Load()))],\n",
      "    type_ignores=[])\n",
      "Module(\n",
      "    body=[\n",
      "        Expr(\n",
      "            value=List(\n",
      "                elts=[\n",
      "                    Constant(value=1),\n",
      "                    Constant(value=2),\n",
      "                    Constant(value=3)],\n",
      "                ctx=Load()))],\n",
      "    type_ignores=[])\n",
      "Module(\n",
      "    body=[\n",
      "        Expr(\n",
      "            value=Subscript(\n",
      "                value=Name(id='D', ctx=Load()),\n",
      "                slice=Constant(value='x'),\n",
      "                ctx=Load()))],\n",
      "    type_ignores=[])\n"
     ]
    }
   ],
   "source": [
    "print_ast(ast.parse(\"L[1]\"))\n",
    "print_ast(ast.parse(\"[1,2,3]\"))\n",
    "print_ast(ast.parse(\"D['x']\"))"
   ]
  },
  {
   "cell_type": "code",
   "execution_count": 2061,
   "metadata": {},
   "outputs": [],
   "source": [
    "class VariableInjector(VariableInjector):\n",
    "    def visit_Constant(self, src):\n",
    "        if len(self.local_vars) == 0 or self.browsing: return src\n",
    "\n",
    "        queue = list(self.local_vars.keys()).copy()\n",
    "        random.shuffle(queue)\n",
    "        while len(queue) != 0:\n",
    "            n = len(queue) - 1\n",
    "            if isinstance(queue[n], tuple):\n",
    "                val = queue[n][1]\n",
    "                node = queue[n][0]\n",
    "            else:\n",
    "                val = self.local_vars[queue[n]]\n",
    "                node = queue[n]\n",
    "\n",
    "            queue.pop()\n",
    "            new_node = None\n",
    "\n",
    "            if isinstance(val, list) or isinstance(val, tuple):\n",
    "                rand_val = list(enumerate(val)).copy()\n",
    "                random.shuffle(rand_val)\n",
    "                for i in range(len(rand_val)):\n",
    "                    queue.append((ast.Subscript(value=node, slice=ast.Constant(rand_val[i][0])), rand_val[i][1]))\n",
    "                \n",
    "            elif isinstance(val, dict):\n",
    "                rand_val = list(val.keys()).copy()\n",
    "                random.shuffle(rand_val)\n",
    "                for i in rand_val:\n",
    "                    queue.append((ast.Subscript(value=node, slice=ast.Constant(i)), val[i]))\n",
    "\n",
    "            else: new_node = self.unify_value(src, node, val)\n",
    "            \n",
    "            if new_node is not None: return new_node\n",
    "            \n",
    "        return src"
   ]
  },
  {
   "cell_type": "markdown",
   "metadata": {},
   "source": [
    "Finally, we write the functions to set local_vars and replace basic types with appropriate variable calls."
   ]
  },
  {
   "cell_type": "code",
   "execution_count": 2062,
   "metadata": {},
   "outputs": [],
   "source": [
    "class VariableInjector(VariableInjector):\n",
    "    def get_locals(self, fn, ln):\n",
    "        self.local_vars = {}\n",
    "        for i in self.coverage:\n",
    "            if i[0] == fn and i[1] == ln:\n",
    "                self.local_vars = {ast.parse(k).body[0].value: v for k, v in i[2].items() if k not in self.args and k not in self.unstable}\n",
    "                return\n",
    "        \n",
    "    def unify_value(self, src, var, val):\n",
    "        if src.value == val:\n",
    "            return var\n",
    "        elif isinstance(src.value, int) and isinstance(val, int) or isinstance(src.value, float) and (isinstance(val, int) or isinstance(val, float)):\n",
    "            op_map = {}\n",
    "            try:\n",
    "                op = random.randint(0, 3)\n",
    "                if isinstance(src.value, int): op_map = op_map_int\n",
    "                else: op_map = op_map_float\n",
    "                assert eval(\"(\" + str(src.value) + op_map[3-op][0] + str(val) + \")\" + op_map[op][0] + str(val)) == src.value\n",
    "                node = ast.BinOp(left = ast.Constant(value=eval(\"(\" + str(src.value) + op_map[3-op][0] + str(val) + \")\")), op = op_map[op][1], right = var) \n",
    "                #self.mutations update\n",
    "                self.mutations.append((deepcopy(src), deepcopy(node)))\n",
    "                return node\n",
    "            except ZeroDivisionError: return None\n",
    "            except AssertionError: return None\n",
    "        elif isinstance(src.value, str) and isinstance(val, str):\n",
    "            if src.value in val:\n",
    "                ind = val.find(src.value)\n",
    "                node = ast.Subscript(value = var, slice = ast.Slice(lower=ast.Constant(value=ind), upper=ast.Constant(value=ind+len(src.value))))\n",
    "                #self.mutations update\n",
    "                self.mutations.append((deepcopy(src), deepcopy(node)))\n",
    "                return node\n",
    "            elif val in src.value:\n",
    "                ind = src.value.find(val)\n",
    "                node = ast.BinOp(left = ast.BinOp(left = ast.Constant(value = src.value[:ind]), op = ast.Add(), right = var), op = ast.Add(), right = ast.Constant(value = src.value[ind + len(val):]))\n",
    "                #self.mutations update\n",
    "                self.mutations.append((deepcopy(src), deepcopy(node)))\n",
    "                return node\n",
    "        "
   ]
  },
  {
   "cell_type": "markdown",
   "metadata": {},
   "source": [
    "We have written the functions that traverse the tree and make appropriate calls to functions to get our local variables. Since we are running this entire thing on a function, the outermost scope will always be handled, and then similiarly inner scopes will get handled. One thing we should note is, when using get_locals, we should avoid substituting constants with arguments to the function, because it won't be consistent across function calls."
   ]
  },
  {
   "cell_type": "code",
   "execution_count": 2063,
   "metadata": {},
   "outputs": [
    {
     "name": "stdout",
     "output_type": "stream",
     "text": [
      "def g():\n",
      "\n",
      "    def simple_function(x):\n",
      "        z = 2\n",
      "        y = 3 * x\n",
      "        return y\n",
      "    a = simple_function(2)\n",
      "    b = 0\n",
      "    for _ in range(6):\n",
      "        b += 2 * a\n",
      "    print('The answer is', b)\n",
      "The answer is 72\n"
     ]
    }
   ],
   "source": [
    "print_code(ast.parse(inspect.getsource(g)))\n",
    "g()"
   ]
  },
  {
   "cell_type": "code",
   "execution_count": 2064,
   "metadata": {},
   "outputs": [
    {
     "name": "stdout",
     "output_type": "stream",
     "text": [
      "The answer is 72\n",
      "def g():\n",
      "\n",
      "    def simple_function(x):\n",
      "        z = 2\n",
      "        y = (5 - z) * x\n",
      "        return y\n",
      "    a = simple_function(2)\n",
      "    b = -6 + a\n",
      "    for _ in range(a):\n",
      "        b += 2 * a\n",
      "    print('The answer is', b)\n"
     ]
    }
   ],
   "source": [
    "new_g_code = ast.unparse(VariableInjector().profile_function(g)[0])\n",
    "print(new_g_code)"
   ]
  },
  {
   "cell_type": "code",
   "execution_count": 2065,
   "metadata": {},
   "outputs": [
    {
     "name": "stdout",
     "output_type": "stream",
     "text": [
      "The answer is 72\n"
     ]
    }
   ],
   "source": [
    "exec(new_g_code)\n",
    "g()"
   ]
  },
  {
   "cell_type": "markdown",
   "metadata": {},
   "source": [
    "Note that using exec to set the value of g currently breaks the VariableInjector because it is unable to find the source code of the function through inspect. Instead, we create a temporary function inside the PythonMutator class and modify that so any code can have variables injected."
   ]
  },
  {
   "cell_type": "code",
   "execution_count": 2066,
   "metadata": {},
   "outputs": [],
   "source": [
    "class PythonMutator(PythonMutator):\n",
    "    sample_tree = ast.parse('''\n",
    "def pymutator_profile_function():\n",
    "    pass\n",
    "''')\n",
    "\n",
    "    def inject_variables(self, src):\n",
    "        node = deepcopy(self.sample_tree)\n",
    "        node.body[0].body = src.body\n",
    "        node = ast.fix_missing_locations(node)\n",
    "\n",
    "        current_module = sys.modules[__name__]\n",
    "        code = compile(node, filename=\"<ast>\", mode=\"exec\")\n",
    "        exec(code, current_module.__dict__)\n",
    "\n",
    "        n = VariableInjector().profile_function(pymutator_profile_function, node.body[0])\n",
    "        self.mutations.extend(n[1])\n",
    "        \n",
    "        return ast.Module(body=src.body, type_ignores=src.type_ignores)"
   ]
  },
  {
   "cell_type": "code",
   "execution_count": 2067,
   "metadata": {},
   "outputs": [
    {
     "name": "stdout",
     "output_type": "stream",
     "text": [
      "hello\n",
      "a = 'hello world'\n",
      "print(a[0:5])\n"
     ]
    }
   ],
   "source": [
    "test_str = ast.parse('''\n",
    "a = \"hello world\"\n",
    "print(\"hello\")                     \n",
    "''')\n",
    "print_code(PythonMutator().inject_variables(test_str))"
   ]
  },
  {
   "cell_type": "code",
   "execution_count": 2068,
   "metadata": {},
   "outputs": [
    {
     "name": "stdout",
     "output_type": "stream",
     "text": [
      "[2, 4, 6]\n",
      "[1, 2, 3]\n",
      "L = [1, 2, 3]\n",
      "a = [int(-1 + L[2]), int(8 // L[1]), int(8 - L[1])]\n",
      "print(a)\n",
      "print(L)\n"
     ]
    }
   ],
   "source": [
    "test_list = ast.parse('''\n",
    "L = [1,2,3]\n",
    "a=[int(2),int(4),int(6)]\n",
    "print(a)\n",
    "print(L)                    \n",
    "''')\n",
    "\n",
    "PythonMutator().inject_variables(test_list)\n",
    "print_code(test_list)"
   ]
  },
  {
   "cell_type": "code",
   "execution_count": 2069,
   "metadata": {},
   "outputs": [
    {
     "name": "stdout",
     "output_type": "stream",
     "text": [
      "def simple_function(x):\n",
      "    z = 2\n",
      "    y = 3 * x\n",
      "    return y\n",
      "s = 'Hello world!'\n",
      "a = simple_function(2)\n",
      "b = 0\n",
      "for _ in range(6):\n",
      "    b += 2 * a\n",
      "print('Hello!')\n",
      "=============\n",
      "Hello!\n",
      "Hello!\n",
      "def simple_function(x):\n",
      "    z = -76 // -38\n",
      "    y = 3 * x\n",
      "    return y\n",
      "s = 'Hello world!'\n",
      "a = simple_function(-12634 // -6317)\n",
      "b = (-1710 + a) // (-2 - a) - (219 - a)\n",
      "for _ in range(-72414 // a + (20502900 // -4275 + a) - -48006 // a - -8864):\n",
      "    b += (-1355 + 1357) * a\n",
      "print('Hello!')\n",
      "=============\n",
      "def simple_function(x):\n",
      "    z = -76 // -38\n",
      "    y = x * (5 - z)\n",
      "    return y\n",
      "s = 'Hello world!'\n",
      "a = simple_function(-12634 // -6317)\n",
      "b = (a + -(10260 // a)) // (-(12 // a) - a) - (a + 213 - a)\n",
      "_ = 0\n",
      "while _ < a + (20502906 - a) // -(a + 4269) + -(a * 12069) // a - -(a * 8001) // a - -(8870 - a):\n",
      "    b += a * (a + 1351 + -(8130 // a))\n",
      "    _ += 1\n",
      "print('Hello!')\n"
     ]
    }
   ],
   "source": [
    "g_code = ast.parse('''\n",
    "def simple_function(x):\n",
    "    z = 2\n",
    "    y = 3 * x\n",
    "    return y\n",
    "s = \"Hello world!\"\n",
    "a = simple_function(2)\n",
    "b = 0\n",
    "for _ in range(6):\n",
    "    b += 2 * a\n",
    "print(\"Hello!\")\n",
    "''')\n",
    "\n",
    "print_code(g_code)\n",
    "print(\"=============\")\n",
    "PythonMutator().expand_constants(g_code)\n",
    "PythonMutator().expand_constants(g_code)\n",
    "PythonMutator().inject_variables(g_code)\n",
    "PythonMutator().expand_constants(g_code)\n",
    "new_g_code = ast.parse(ast.unparse(g_code))\n",
    "PythonMutator().inject_variables(new_g_code)\n",
    "PythonMutator().swap_numbers(new_g_code)\n",
    "PythonMutator().transform_for(new_g_code)\n",
    "print_code(g_code)\n",
    "print(\"=============\")\n",
    "print_code(new_g_code)"
   ]
  },
  {
   "cell_type": "markdown",
   "metadata": {},
   "source": [
    "Because the equality of python AST nodes is checked by reference address, we need to define a custom function to test equality of two AST nodes. Here it is:"
   ]
  },
  {
   "cell_type": "code",
   "execution_count": 2070,
   "metadata": {},
   "outputs": [],
   "source": [
    "from itertools import zip_longest\n",
    "from typing import Union\n",
    "\n",
    "\n",
    "def compare_ast(node1: Union[ast.expr, list[ast.expr]], node2: Union[ast.expr, list[ast.expr]]) -> bool:\n",
    "    if type(node1) is not type(node2):\n",
    "        return False\n",
    "\n",
    "    if isinstance(node1, ast.AST):\n",
    "        for k, v in vars(node1).items():\n",
    "            if k in {\"lineno\", \"end_lineno\", \"col_offset\", \"end_col_offset\", \"parent\"}:\n",
    "                continue\n",
    "            if not compare_ast(v, getattr(node2, k)):\n",
    "                return False\n",
    "        return True\n",
    "\n",
    "    elif isinstance(node1, list) and isinstance(node2, list):\n",
    "        return all(compare_ast(n1, n2) for n1, n2 in zip_longest(node1, node2))\n",
    "    else:\n",
    "        return node1 == node2"
   ]
  },
  {
   "cell_type": "code",
   "execution_count": 2071,
   "metadata": {},
   "outputs": [],
   "source": [
    "class PythonMutator(PythonMutator):\n",
    "    def reverse_mutation(self, src, log=False):\n",
    "        n = len(self.mutations)\n",
    "        self.reverse = self.mutations[n-1]\n",
    "        if log:\n",
    "            print_code(self.reverse[0])\n",
    "            print(\"<==\")\n",
    "            print_code(self.reverse[1])\n",
    "            print(\"==\")\n",
    "        self.compare = False\n",
    "        self.visit(src)\n",
    "        self.mutations.pop()\n",
    "        \n",
    "    def generic_visit(self, src):\n",
    "        if self.reverse is not None and not self.compare:\n",
    "            self.compare = True\n",
    "            test = compare_ast(src, self.reverse[1])\n",
    "            self.compare = False\n",
    "            if test:\n",
    "                src = self.reverse[0]\n",
    "                self.reverse = None\n",
    "                return src\n",
    "        return super().generic_visit(src)"
   ]
  },
  {
   "cell_type": "code",
   "execution_count": 2072,
   "metadata": {},
   "outputs": [
    {
     "name": "stdout",
     "output_type": "stream",
     "text": [
      "x = 3 * (34460232 // -7988 + 33464500 // 7750)\n"
     ]
    }
   ],
   "source": [
    "pm = PythonMutator()\n",
    "alg_tree = ast.parse(\"x = 3 * 4\")\n",
    "const_one = alg_tree.body[0].value.left\n",
    "print_code(pm.expand_constants(alg_tree))\n",
    "const_two = alg_tree.body[0].value.left"
   ]
  },
  {
   "cell_type": "code",
   "execution_count": 2073,
   "metadata": {},
   "outputs": [
    {
     "name": "stdout",
     "output_type": "stream",
     "text": [
      "Constant(value=3)\n",
      "Constant(value=3)\n"
     ]
    }
   ],
   "source": [
    "print_ast(const_one)\n",
    "print_ast(const_two)"
   ]
  },
  {
   "cell_type": "code",
   "execution_count": 2074,
   "metadata": {},
   "outputs": [],
   "source": [
    "pm.mutations.append((const_one, const_two))"
   ]
  },
  {
   "cell_type": "code",
   "execution_count": 2075,
   "metadata": {},
   "outputs": [
    {
     "name": "stdout",
     "output_type": "stream",
     "text": [
      "x = 3 * (34460232 // -7988 + 33464500 // 7750)\n"
     ]
    }
   ],
   "source": [
    "pm.reverse_mutation(alg_tree)\n",
    "print_code(alg_tree)"
   ]
  },
  {
   "cell_type": "markdown",
   "metadata": {},
   "source": [
    "Now that we have found a way to reverse the mutations, all that remains is automatically updating self.mutations, which we have done in the classes."
   ]
  },
  {
   "cell_type": "code",
   "execution_count": 2076,
   "metadata": {},
   "outputs": [
    {
     "name": "stdout",
     "output_type": "stream",
     "text": [
      "x = -18996 // -6332 * (-16765511 // -6157 - 2719)\n",
      "Constant(value=4)\n",
      "==>\n",
      "BinOp(\n",
      "    left=Constant(value=2723),\n",
      "    op=Sub(),\n",
      "    right=Constant(value=2719))\n",
      "==\n",
      "Constant(value=2723)\n",
      "==>\n",
      "BinOp(\n",
      "    left=Constant(value=-16765511),\n",
      "    op=FloorDiv(),\n",
      "    right=Constant(value=-6157))\n",
      "==\n",
      "Constant(value=3)\n",
      "==>\n",
      "BinOp(\n",
      "    left=Constant(value=-18996),\n",
      "    op=FloorDiv(),\n",
      "    right=Constant(value=-6332))\n",
      "==\n"
     ]
    }
   ],
   "source": [
    "pm = PythonMutator()\n",
    "alg_tree = ast.parse(\"x = 3 * 4\")\n",
    "pm.expand_constants(alg_tree)\n",
    "print_code(alg_tree)\n",
    "for i in range(len(pm.mutations)):\n",
    "    print_ast(pm.mutations[i][0])\n",
    "    print(\"==>\")\n",
    "    print_ast(pm.mutations[i][1])\n",
    "    print(\"==\")\n"
   ]
  },
  {
   "cell_type": "code",
   "execution_count": 2077,
   "metadata": {},
   "outputs": [
    {
     "name": "stdout",
     "output_type": "stream",
     "text": [
      "x = 3 * (-16765511 // -6157 - 2719)\n",
      "x = 3 * (2723 - 2719)\n",
      "x = 3 * 4\n"
     ]
    }
   ],
   "source": [
    "pm.reverse_mutation(alg_tree)\n",
    "print_code(alg_tree)\n",
    "pm.reverse_mutation(alg_tree)\n",
    "print_code(alg_tree)\n",
    "pm.reverse_mutation(alg_tree)\n",
    "print_code(alg_tree)"
   ]
  },
  {
   "cell_type": "code",
   "execution_count": 2078,
   "metadata": {},
   "outputs": [
    {
     "name": "stdout",
     "output_type": "stream",
     "text": [
      "6\n",
      "6\n",
      "===\n",
      "x = (-5877 - (-5968 - -88)) * 4\n",
      "y = (x + (-9425584 + x)) // (-1340 + x - x) + (-3468 // x + (-9129 - x) + -898872 // x) // x\n",
      "print(y)\n",
      "===\n",
      "-74906\n",
      "<==\n",
      "-898872 // x\n",
      "==\n",
      "-9141\n",
      "<==\n",
      "-9129 - x\n",
      "==\n",
      "x = (-5877 - (-5968 - -88)) * 4\n",
      "y = (x + (-9425584 + x)) // (-1340 + x - x) + (-3468 // x + -9141 + -74906) // x\n",
      "print(y)\n",
      "===\n",
      "-289\n",
      "<==\n",
      "-3468 // x\n",
      "==\n",
      "-1328\n",
      "<==\n",
      "-1340 + x\n",
      "==\n",
      "x = (-5877 - (-5968 - -88)) * 4\n",
      "y = (x + (-9425584 + x)) // (-1328 - x) + (-289 + -9141 + -74906) // x\n",
      "print(y)\n",
      "===\n",
      "-9425572\n",
      "<==\n",
      "-9425584 + x\n",
      "==\n",
      "-9141 + -289\n",
      "<==\n",
      "-289 + -9141\n",
      "==\n",
      "x = (-5877 - (-5968 - -88)) * 4\n",
      "y = (x + -9425572) // (-1328 - x) + (-9141 + -289 + -74906) // x\n",
      "print(y)\n",
      "===\n"
     ]
    }
   ],
   "source": [
    "pm = PythonMutator()\n",
    "alg_tree = ast.parse('''\n",
    "x = 3 * 4\n",
    "y = 6            \n",
    "print(y)                \n",
    "''')\n",
    "pm.expand_constants(alg_tree)\n",
    "pm.swap_numbers(alg_tree)\n",
    "pm.inject_variables(alg_tree)\n",
    "pm.expand_constants(alg_tree)\n",
    "pm.swap_numbers(alg_tree)\n",
    "pm.inject_variables(alg_tree)\n",
    "print(\"===\")\n",
    "print_code(alg_tree)\n",
    "print(\"===\")\n",
    "for _ in range(3):\n",
    "    pm.reverse_mutation(alg_tree, True)\n",
    "    pm.reverse_mutation(alg_tree, True)\n",
    "    print_code(alg_tree)\n",
    "    print(\"===\")"
   ]
  },
  {
   "cell_type": "code",
   "execution_count": 2079,
   "metadata": {},
   "outputs": [
    {
     "name": "stdout",
     "output_type": "stream",
     "text": [
      "-74906 + (-9141 + -289)\n",
      "<==\n",
      "-9141 + -289 + -74906\n",
      "==\n",
      "x = (-5877 - (-5968 - -88)) * 4\n",
      "y = (x + -9425572) // (-1328 - x) + (-74906 + (-9141 + -289)) // x\n",
      "print(y)\n",
      "-9425572 + x\n",
      "<==\n",
      "x + -9425572\n",
      "==\n",
      "x = (-5877 - (-5968 - -88)) * 4\n",
      "y = (-9425572 + x) // (-1328 - x) + (-74906 + (-9141 + -289)) // x\n",
      "print(y)\n",
      "(-74906 + (-9141 + -289)) // x + (-9425572 + x) // (-1328 - x)\n",
      "<==\n",
      "(-9425572 + x) // (-1328 - x) + (-74906 + (-9141 + -289)) // x\n",
      "==\n",
      "x = (-5877 - (-5968 - -88)) * 4\n",
      "y = (-74906 + (-9141 + -289)) // x + (-9425572 + x) // (-1328 - x)\n",
      "print(y)\n",
      "4 * (-5877 - (-5968 - -88))\n",
      "<==\n",
      "(-5877 - (-5968 - -88)) * 4\n",
      "==\n",
      "x = 4 * (-5877 - (-5968 - -88))\n",
      "y = (-74906 + (-9141 + -289)) // x + (-9425572 + x) // (-1328 - x)\n",
      "print(y)\n",
      "-9430\n",
      "<==\n",
      "-9141 + -289\n",
      "==\n",
      "x = 4 * (-5877 - (-5968 - -88))\n",
      "y = (-74906 + -9430) // x + (-9425572 + x) // (-1328 - x)\n",
      "print(y)\n",
      "-5880\n",
      "<==\n",
      "-5968 - -88\n",
      "==\n",
      "x = 4 * (-5877 - -5880)\n",
      "y = (-74906 + -9430) // x + (-9425572 + x) // (-1328 - x)\n",
      "print(y)\n",
      "-84336\n",
      "<==\n",
      "-74906 + -9430\n",
      "==\n",
      "x = 4 * (-5877 - -5880)\n",
      "y = -84336 // x + (-9425572 + x) // (-1328 - x)\n",
      "print(y)\n",
      "-1340\n",
      "<==\n",
      "-1328 - x\n",
      "==\n",
      "x = 4 * (-5877 - -5880)\n",
      "y = -84336 // x + (-9425572 + x) // -1340\n",
      "print(y)\n",
      "-9425560\n",
      "<==\n",
      "-9425572 + x\n",
      "==\n",
      "x = 4 * (-5877 - -5880)\n",
      "y = -84336 // x + -9425560 // -1340\n",
      "print(y)\n",
      "-7028\n",
      "<==\n",
      "-84336 // x\n",
      "==\n",
      "x = 4 * (-5877 - -5880)\n",
      "y = -7028 + -9425560 // -1340\n",
      "print(y)\n",
      "-9425560 // -1340 + -7028\n",
      "<==\n",
      "-7028 + -9425560 // -1340\n",
      "==\n",
      "x = 4 * (-5877 - -5880)\n",
      "y = -9425560 // -1340 + -7028\n",
      "print(y)\n",
      "(-5877 - -5880) * 4\n",
      "<==\n",
      "4 * (-5877 - -5880)\n",
      "==\n",
      "x = (-5877 - -5880) * 4\n",
      "y = -9425560 // -1340 + -7028\n",
      "print(y)\n",
      "7034\n",
      "<==\n",
      "-9425560 // -1340\n",
      "==\n",
      "x = (-5877 - -5880) * 4\n",
      "y = 7034 + -7028\n",
      "print(y)\n",
      "6\n",
      "<==\n",
      "7034 + -7028\n",
      "==\n",
      "x = (-5877 - -5880) * 4\n",
      "y = 6\n",
      "print(y)\n",
      "3\n",
      "<==\n",
      "-5877 - -5880\n",
      "==\n",
      "x = 3 * 4\n",
      "y = 6\n",
      "print(y)\n"
     ]
    }
   ],
   "source": [
    "while len(pm.mutations) > 0:\n",
    "    pm.reverse_mutation(alg_tree, True)\n",
    "    print_code(alg_tree)"
   ]
  }
 ],
 "metadata": {
  "kernelspec": {
   "display_name": "Python 3",
   "language": "python",
   "name": "python3"
  },
  "language_info": {
   "codemirror_mode": {
    "name": "ipython",
    "version": 3
   },
   "file_extension": ".py",
   "mimetype": "text/x-python",
   "name": "python",
   "nbconvert_exporter": "python",
   "pygments_lexer": "ipython3",
   "version": "3.11.9"
  }
 },
 "nbformat": 4,
 "nbformat_minor": 2
}
