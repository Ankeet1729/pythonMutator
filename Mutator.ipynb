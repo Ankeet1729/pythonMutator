{
 "cells": [
  {
   "cell_type": "code",
   "execution_count": 697,
   "metadata": {},
   "outputs": [],
   "source": [
    "import ast\n",
    "def print_ast(src):\n",
    "    print(ast.dump(src, indent=4))"
   ]
  },
  {
   "cell_type": "code",
   "execution_count": 698,
   "metadata": {},
   "outputs": [],
   "source": [
    "def simple_function(x):\n",
    "    y = 3 * x\n",
    "    print(y)"
   ]
  },
  {
   "cell_type": "code",
   "execution_count": 699,
   "metadata": {},
   "outputs": [],
   "source": [
    "import inspect"
   ]
  },
  {
   "cell_type": "code",
   "execution_count": 700,
   "metadata": {},
   "outputs": [],
   "source": [
    "tree = ast.parse(inspect.getsource(simple_function))"
   ]
  },
  {
   "cell_type": "code",
   "execution_count": null,
   "metadata": {},
   "outputs": [],
   "source": [
    "print_ast(tree)"
   ]
  },
  {
   "cell_type": "code",
   "execution_count": null,
   "metadata": {},
   "outputs": [],
   "source": [
    "print_ast(tree.body[0])"
   ]
  },
  {
   "cell_type": "code",
   "execution_count": 701,
   "metadata": {},
   "outputs": [],
   "source": [
    "import random"
   ]
  },
  {
   "cell_type": "markdown",
   "metadata": {},
   "source": [
    "We create a PythonMutator class that links to other Mutator classes, the PythonMutator class tying all of them together with helper functions to call those class' methods. We can later use it to add probabilities etc. to each mutation."
   ]
  },
  {
   "cell_type": "code",
   "execution_count": null,
   "metadata": {},
   "outputs": [],
   "source": [
    "class PythonMutator:\n",
    "    def visit_Module(self, src):\n",
    "        return self.generic_visit(src)\n",
    "    \n",
    "    def visit_FunctionDef(self, src):\n",
    "        return self.generic_visit(src)\n",
    "    \n",
    "    def visit_BinOp(self, src):\n",
    "        return self.generic_visit(src)\n",
    "    \n",
    "    def visit_Assign(self, src):\n",
    "        return self.generic_visit(src)\n",
    "    \n",
    "    def visit_Call(self, src):\n",
    "        return self.generic_visit(src)\n",
    "    \n",
    "    def visit_Name(self, src):\n",
    "        return self.generic_visit(src)\n",
    "    \n",
    "    def visit_Constant(self, src):\n",
    "        return self.generic_visit(src)\n",
    "\n",
    "    def expand_constants(self, src):\n",
    "        return ExprMutator().modify_value(src)\n",
    "    \n",
    "    def swap_numbers(self, src):\n",
    "        return ExprMutator().commute_value(src)"
   ]
  },
  {
   "cell_type": "markdown",
   "metadata": {},
   "source": [
    "Now we need to define modify_value that can replace a given constant with an equivalent arithmetic expression, and swap_numbers that will swap the children of a + or * node."
   ]
  },
  {
   "cell_type": "code",
   "execution_count": 702,
   "metadata": {},
   "outputs": [],
   "source": [
    "class ExprMutator(ast.NodeTransformer):\n",
    "    MAP = [(\"+\", ast.Add()), (\"*\", ast.Mult()), (\"/\", ast.Div()), (\"-\", ast.Sub())]\n",
    "    EXPAND = 1\n",
    "    COMMUTE = 2\n",
    "\n",
    "    def __init__(self):\n",
    "        self.transform = False\n",
    "        self.depth = 0\n",
    "        self.mode = self.EXPAND\n",
    "\n",
    "    def modify_value(self, n, depth=3):\n",
    "        self.mode = self.EXPAND\n",
    "        self.depth = depth\n",
    "        return self._modify_value(n)\n",
    "    \n",
    "    def _modify_value(self, n):\n",
    "        if self.depth == 0: return n\n",
    "        self.transform = True\n",
    "        return self._modify_value(self.visit(n))"
   ]
  },
  {
   "cell_type": "markdown",
   "metadata": {},
   "source": [
    "We need the mode so we can swap between traversing a path and swapping children. Depth allows us to control how many numbers we want to go and replace with expressions."
   ]
  },
  {
   "cell_type": "code",
   "execution_count": 703,
   "metadata": {},
   "outputs": [],
   "source": [
    "class ExprMutator(ExprMutator):    \n",
    "    def commute_value(self, n):\n",
    "        self.mode = self.COMMUTE\n",
    "        return self.visit(n)"
   ]
  },
  {
   "cell_type": "markdown",
   "metadata": {},
   "source": [
    "Now come the real functions. The visits to Constant or BinOp nodes are what will truly handle the functionality."
   ]
  },
  {
   "cell_type": "code",
   "execution_count": 734,
   "metadata": {},
   "outputs": [],
   "source": [
    "class ExprMutator(ExprMutator):\n",
    "    def visit_Constant(self, src):\n",
    "        if isinstance(src.value, int) and self.transform and self.mode == self.EXPAND:\n",
    "            while True:\n",
    "                try:\n",
    "                    op = random.randint(0, 3)\n",
    "                    other = random.randint(-10000, 10000)\n",
    "                    assert eval(\"(\" + str(src.value) + self.MAP[3-op][0] + str(other) + \")\" + self.MAP[op][0] + str(other)) == src.value\n",
    "                    break\n",
    "                except ZeroDivisionError: continue\n",
    "                except AssertionError: continue\n",
    "            self.depth -= 1\n",
    "            self.transform = False\n",
    "            return ast.BinOp(left = ast.Constant(value=eval(\"(\" + str(src.value) + self.MAP[3-op][0] + str(other) + \")\")), op = self.MAP[op][1], right = ast.Constant(value=other))\n",
    "            \n",
    "        return src\n",
    "\n",
    "    def visit_BinOp(self, src):\n",
    "        if self.mode == self.EXPAND:\n",
    "            if random.randint(1, 2) == 1:\n",
    "                src.left = self.visit(src.left)\n",
    "            else:\n",
    "                src.right = self.visit(src.right)\n",
    "            return src\n",
    "        \n",
    "        if self.mode == self.COMMUTE:\n",
    "            if isinstance(src.op, ast.Add) or isinstance(src.op, ast.Mult):\n",
    "                src.left, src.right = src.right, src.left\n",
    "                \n",
    "            return self.generic_visit(src)"
   ]
  },
  {
   "cell_type": "code",
   "execution_count": null,
   "metadata": {},
   "outputs": [],
   "source": [
    "print_ast(ExprMutator().modify_value(ast.Constant(value=1), depth=2))"
   ]
  },
  {
   "cell_type": "code",
   "execution_count": 786,
   "metadata": {},
   "outputs": [
    {
     "data": {
      "text/plain": [
       "'x + 0.00042426813746287653 * (-5.193317422434368 * 1257 + 8885)'"
      ]
     },
     "execution_count": 786,
     "metadata": {},
     "output_type": "execute_result"
    }
   ],
   "source": [
    "ast.unparse(ast.fix_missing_locations(PythonMutator().expand_constants(ast.parse(\"x+1\"))))"
   ]
  },
  {
   "cell_type": "code",
   "execution_count": null,
   "metadata": {},
   "outputs": [],
   "source": [
    "from copy import deepcopy"
   ]
  },
  {
   "cell_type": "code",
   "execution_count": 790,
   "metadata": {},
   "outputs": [
    {
     "data": {
      "text/plain": [
       "'(8885 + 1257 * -5.193317422434368) * 0.00042426813746287653 + x'"
      ]
     },
     "execution_count": 790,
     "metadata": {},
     "output_type": "execute_result"
    }
   ],
   "source": [
    "ast.unparse(ast.fix_missing_locations(PythonMutator().swap_numbers(ast.parse(\"x + 0.00042426813746287653 * (-5.193317422434368 * 1257 + 8885)\"))))"
   ]
  },
  {
   "cell_type": "code",
   "execution_count": 792,
   "metadata": {},
   "outputs": [
    {
     "name": "stdout",
     "output_type": "stream",
     "text": [
      "def simple_function(x):\n",
      "    y = (-0.7600483529767301 * ((-22985682170 - 4597 + 9459) / (-1693 - 1666) / (0.2830550232685464 * -3653)) + -12.443069306930694 * (0.07876779099239618 * (-3461 + (14508 + -9182) - (-0.08678071539657854 * 9645 - 2427)))) * x\n",
      "    print(y)\n"
     ]
    }
   ],
   "source": [
    "tree_two = deepcopy(tree)\n",
    "for i in range(5):\n",
    "    if random.randint(1, 5) == 1: PythonMutator().swap_numbers(tree_two)\n",
    "    else: PythonMutator().expand_constants(tree_two)\n",
    "new_code = ast.unparse(tree_two)\n",
    "print(new_code)"
   ]
  },
  {
   "cell_type": "code",
   "execution_count": 793,
   "metadata": {},
   "outputs": [
    {
     "name": "stdout",
     "output_type": "stream",
     "text": [
      "1368.0\n"
     ]
    }
   ],
   "source": [
    "simple_function(456)"
   ]
  },
  {
   "cell_type": "code",
   "execution_count": 794,
   "metadata": {},
   "outputs": [],
   "source": [
    "exec(new_code)"
   ]
  },
  {
   "cell_type": "code",
   "execution_count": 795,
   "metadata": {},
   "outputs": [
    {
     "name": "stdout",
     "output_type": "stream",
     "text": [
      "1368.0\n"
     ]
    }
   ],
   "source": [
    "simple_function(456)"
   ]
  },
  {
   "cell_type": "markdown",
   "metadata": {},
   "source": [
    "Clearly the output remains the same inspite of our changes. Next, we look into transforming range-based for loops into while loops."
   ]
  },
  {
   "cell_type": "code",
   "execution_count": null,
   "metadata": {},
   "outputs": [],
   "source": [
    "for_tree = ast.parse('''for i in range(10, 1, -2):\n",
    "                        print(i)''')\n",
    "print_ast(for_tree)"
   ]
  },
  {
   "cell_type": "code",
   "execution_count": null,
   "metadata": {},
   "outputs": [],
   "source": [
    "while_tree = ast.parse('''\n",
    "i = 10\n",
    "while i > 1:\n",
    "    print(i)\n",
    "    i += -2''')\n",
    "print_ast(while_tree)"
   ]
  },
  {
   "cell_type": "code",
   "execution_count": null,
   "metadata": {},
   "outputs": [],
   "source": [
    "src = for_tree.body[0]\n",
    "def analyze_for(node):\n",
    "    args = node.iter.args\n",
    "    if len(args) == 1:\n",
    "        return [ast.Constant(value=0), ast.Lt(), args[0], ast.Constant(value=1)]\n",
    "    elif len(args) == 2:\n",
    "        return [args[0], ast.Lt(), args[1], ast.Constant(value=1)]\n",
    "    else:\n",
    "        step = eval(ast.unparse(args[2]))\n",
    "        if step < 0:\n",
    "            return [args[0], ast.Gt(), args[1], args[2]]\n",
    "        else:\n",
    "            return [args[0], ast.Lt(), args[1], args[2]]\n",
    "        \n",
    "while_args = analyze_for(src)\n",
    "print_ast(\n",
    "    ast.Assign(targets=[src.target], value=while_args[0])\n",
    "    ) \n",
    "print_ast(\n",
    "    ast.While(test=ast.Compare(left=ast.Name(id=src.target.id, ctx=ast.Load()), ops=[while_args[1]], comparators=[while_args[2]]), \\\n",
    "              body=src.body + [ast.AugAssign(target=src.target, op=ast.Add(), value=while_args[3])], orelse=src.orelse)\n",
    ")"
   ]
  },
  {
   "cell_type": "code",
   "execution_count": null,
   "metadata": {},
   "outputs": [],
   "source": [
    "class PythonMutator(PythonMutator):\n",
    "    def transform_for(self, src):\n",
    "        return ForMutator().visit(src)"
   ]
  },
  {
   "cell_type": "code",
   "execution_count": null,
   "metadata": {},
   "outputs": [],
   "source": [
    "class ForMutator(ast.NodeTransformer):\n",
    "    def visit_For(self, src):  \n",
    "        if isinstance(src.iter, ast.Name): return src\n",
    "        while_args = analyze_for(src)\n",
    "\n",
    "        return [ast.Assign(targets=[src.target], value=while_args[0]), \\\n",
    "                ast.While(test=ast.Compare(left=ast.Name(id=src.target.id, ctx=ast.Load()), ops=[while_args[1]], comparators=[while_args[2]]), \\\n",
    "                          body=src.body + [ast.AugAssign(target=src.target, op=ast.Add(), value=while_args[3])], orelse=src.orelse)]"
   ]
  },
  {
   "cell_type": "code",
   "execution_count": 705,
   "metadata": {},
   "outputs": [
    {
     "name": "stdout",
     "output_type": "stream",
     "text": [
      "for i in range(10, 1, -2):\n",
      "    print(i)\n",
      "====\n",
      "i = 10\n",
      "while i > 1:\n",
      "    print(i)\n",
      "    i += -2\n"
     ]
    }
   ],
   "source": [
    "for_tree_two = deepcopy(for_tree)\n",
    "print(ast.unparse(for_tree))\n",
    "print(\"====\")\n",
    "print(ast.unparse(ast.fix_missing_locations(PythonMutator().transform_for(for_tree_two))))"
   ]
  },
  {
   "cell_type": "markdown",
   "metadata": {},
   "source": [
    "That takes care of for-loops based on ranges. <b>What about iterators?</b>"
   ]
  },
  {
   "cell_type": "code",
   "execution_count": null,
   "metadata": {},
   "outputs": [],
   "source": [
    "print_ast(ast.parse(\n",
    "'''\n",
    "L = [1, 4, \"hello\"]\n",
    "for i in [len(str(x)) for x in L]:\n",
    "    print(i)\n",
    "'''\n",
    "))"
   ]
  }
 ],
 "metadata": {
  "kernelspec": {
   "display_name": "Python 3",
   "language": "python",
   "name": "python3"
  },
  "language_info": {
   "codemirror_mode": {
    "name": "ipython",
    "version": 3
   },
   "file_extension": ".py",
   "mimetype": "text/x-python",
   "name": "python",
   "nbconvert_exporter": "python",
   "pygments_lexer": "ipython3",
   "version": "3.11.9"
  }
 },
 "nbformat": 4,
 "nbformat_minor": 2
}
